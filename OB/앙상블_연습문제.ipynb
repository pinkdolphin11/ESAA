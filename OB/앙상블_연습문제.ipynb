{
  "nbformat": 4,
  "nbformat_minor": 0,
  "metadata": {
    "colab": {
      "provenance": [],
      "collapsed_sections": [],
      "include_colab_link": true
    },
    "kernelspec": {
      "name": "python3",
      "display_name": "Python 3"
    },
    "language_info": {
      "name": "python"
    }
  },
  "cells": [
    {
      "cell_type": "markdown",
      "metadata": {
        "id": "view-in-github",
        "colab_type": "text"
      },
      "source": [
        "<a href=\"https://colab.research.google.com/github/pinkdolphin11/ESAA/blob/main/%EC%95%99%EC%83%81%EB%B8%94_%EC%97%B0%EC%8A%B5%EB%AC%B8%EC%A0%9C.ipynb\" target=\"_parent\"><img src=\"https://colab.research.google.com/assets/colab-badge.svg\" alt=\"Open In Colab\"/></a>"
      ]
    },
    {
      "cell_type": "markdown",
      "source": [
        "## **| 앙상블 학습과 랜덤 포레스트 연습 문제**\n",
        "___\n",
        "- 출처 : 핸즈온 머신러닝 Ch07 앙상블 학습과 랜덤 포레스트 연습문제 2, 7, 8, 9번\n",
        "- 이론적 지식을 묻는 문제의 경우 텍스트 셀을 추가하여 정답을 적어주세요."
      ],
      "metadata": {
        "id": "zCu72vDHGMHo"
      }
    },
    {
      "cell_type": "code",
      "source": [
        "# import libraries\n",
        "import numpy as np"
      ],
      "metadata": {
        "id": "hQLO-M61qSVA"
      },
      "execution_count": 1,
      "outputs": []
    },
    {
      "cell_type": "markdown",
      "source": [
        "### **1. 직접 투표와 간접 투표 분류기 사이의 차이점은 무엇일까요?**\n",
        "___\n"
      ],
      "metadata": {
        "id": "7ifUj-jvi5NE"
      }
    },
    {
      "cell_type": "markdown",
      "source": [
        "직접 투표 분류기는 각 분류기의 예측을 모아서 가장 많이 선택된 클래스를 다수결 투표로 정하는 분류기이다. 반면 간접 투표 분류기는 개별 분류기 예측들의 평균을 구해서 확률이 가장 높은 클래스를 예측하는 것이다."
      ],
      "metadata": {
        "id": "nxOE-_qaJFjg"
      }
    },
    {
      "cell_type": "markdown",
      "source": [
        "### **2. 그레디언트 부스팅 앙상블이 훈련 데이터에 과대 적합되었다면 학습률을 어떻게 해야 할까요?**\n",
        "___"
      ],
      "metadata": {
        "id": "JK-WcK3ujU0E"
      }
    },
    {
      "cell_type": "markdown",
      "source": [
        "학습률을 높여야 한다."
      ],
      "metadata": {
        "id": "T4DMlpY9JkJ3"
      }
    },
    {
      "cell_type": "markdown",
      "source": [
        "### **3. [실습] 다음 지시에 따라 투표 기반 분류 모델을 만들어 보세요**\n",
        "___"
      ],
      "metadata": {
        "id": "j3g-_Dq9GiuT"
      }
    },
    {
      "cell_type": "markdown",
      "source": [
        "#### **STEP 1. MNIST 데이터를 불러들이고, 훈련, 검증, 테스트 데이터로 나누세요.**"
      ],
      "metadata": {
        "id": "7aLghZCVj34L"
      }
    },
    {
      "cell_type": "code",
      "execution_count": 2,
      "metadata": {
        "id": "188lZyYEGJZ7"
      },
      "outputs": [],
      "source": [
        "# import MNIST dataset\n",
        "from sklearn.datasets import fetch_openml\n",
        "\n",
        "mnist = fetch_openml('mnist_784', version=1, as_frame = False)\n",
        "X, y = mnist[\"data\"], mnist[\"target\"]"
      ]
    },
    {
      "cell_type": "code",
      "source": [
        "from sklearn.model_selection import train_test_split\n",
        "\n",
        "X_train, X_rem, y_train, y_rem = train_test_split(X,y)\n",
        "X_valid, X_test, y_valid, y_test = train_test_split(X_rem,y_rem)"
      ],
      "metadata": {
        "id": "K_1bl_ySL5tU"
      },
      "execution_count": 3,
      "outputs": []
    },
    {
      "cell_type": "markdown",
      "source": [
        "####  **STEP 2. 랜덤 포레스트 분류기, 엑스트라 트리 분류기, SVM 분류기, MLP 분류기를 훈련시키세요.**\n",
        "- 모델 파라미터는 `n_estimators=100`, `random_state=42`로 설정합니다. "
      ],
      "metadata": {
        "id": "mHOTxVK3kjnM"
      }
    },
    {
      "cell_type": "code",
      "source": [
        "# import package\n",
        "from sklearn.ensemble import RandomForestClassifier, ExtraTreesClassifier\n",
        "from sklearn.svm import LinearSVC\n",
        "from sklearn.neural_network import MLPClassifier"
      ],
      "metadata": {
        "id": "udX8yKD4k9DE"
      },
      "execution_count": 4,
      "outputs": []
    },
    {
      "cell_type": "code",
      "source": [
        "# model fitting - RandomForest\n",
        "\n",
        "rf_clf = RandomForestClassifier(n_estimators=100,random_state=42)\n",
        "ex_clf = ExtraTreesClassifier(n_estimators=100,random_state=42)\n",
        "lsvc_clf = LinearSVC(random_state=42)\n",
        "mlp_clf = MLPClassifier(random_state=42)"
      ],
      "metadata": {
        "id": "iEG8FFJ1lBw4"
      },
      "execution_count": 5,
      "outputs": []
    },
    {
      "cell_type": "markdown",
      "source": [
        "####  **STEP 3-1. 앞에서 훈련시킨 각 모델을 직접 투표 방법을 사용해 앙상블로 연결하고 훈련시킨 후, `score()`메서드를 이용하여 검증 데이터셋에서의 성능을 평가해보세요.**"
      ],
      "metadata": {
        "id": "lB4OagE2lglK"
      }
    },
    {
      "cell_type": "code",
      "source": [
        "from sklearn.ensemble import VotingClassifier\n",
        "\n",
        "voting_clf = VotingClassifier(estimators=[('rf',rf_clf),('ex',ex_clf),('lsvc',lsvc_clf),('mlp',mlp_clf)],voting='hard')"
      ],
      "metadata": {
        "id": "6gGlXpJrlqzz"
      },
      "execution_count": 6,
      "outputs": []
    },
    {
      "cell_type": "code",
      "source": [
        "# model fitting\n",
        "\n",
        "voting_clf.fit(X_train, y_train)"
      ],
      "metadata": {
        "id": "LTnt0h4Hmitr",
        "colab": {
          "base_uri": "https://localhost:8080/"
        },
        "outputId": "d178286b-e225-4d9e-b010-84976a50ce21"
      },
      "execution_count": 7,
      "outputs": [
        {
          "output_type": "stream",
          "name": "stderr",
          "text": [
            "/usr/local/lib/python3.7/dist-packages/sklearn/svm/_base.py:1208: ConvergenceWarning: Liblinear failed to converge, increase the number of iterations.\n",
            "  ConvergenceWarning,\n"
          ]
        },
        {
          "output_type": "execute_result",
          "data": {
            "text/plain": [
              "VotingClassifier(estimators=[('rf', RandomForestClassifier(random_state=42)),\n",
              "                             ('ex', ExtraTreesClassifier(random_state=42)),\n",
              "                             ('lsvc', LinearSVC(random_state=42)),\n",
              "                             ('mlp', MLPClassifier(random_state=42))])"
            ]
          },
          "metadata": {},
          "execution_count": 7
        }
      ]
    },
    {
      "cell_type": "code",
      "source": [
        "# model test\n",
        "\n",
        "voting_clf.score(X_valid,y_valid)"
      ],
      "metadata": {
        "id": "6M8p66FHmt0U",
        "colab": {
          "base_uri": "https://localhost:8080/"
        },
        "outputId": "c79f419b-acd7-45f8-b193-b3aebf189e31"
      },
      "execution_count": 8,
      "outputs": [
        {
          "output_type": "execute_result",
          "data": {
            "text/plain": [
              "0.9702857142857143"
            ]
          },
          "metadata": {},
          "execution_count": 8
        }
      ]
    },
    {
      "cell_type": "markdown",
      "source": [
        "####  **STEP 3-2. 검증 데이터셋에서 각 분류 모델의 성능을 `score()` 메서드를 이용하여 확인해보고, 가장 성능이 낮은 모델을 제거하여 그 결과를 비교해보세요.**\n",
        "- Hint : 가장 성능이 낮은 모델을 제거할 때 `set_params`를 활용해보세요"
      ],
      "metadata": {
        "id": "tgmsaye3oLYQ"
      }
    },
    {
      "cell_type": "code",
      "source": [
        "# 각 분류 모델 학습\n",
        "\n",
        "rf_clf.fit(X_train,y_train)\n",
        "ex_clf.fit(X_train,y_train)\n",
        "lsvc_clf.fit(X_train,y_train)\n",
        "mlp_clf.fit(X_train,y_train)"
      ],
      "metadata": {
        "id": "-Ykw6-_4rV9S",
        "colab": {
          "base_uri": "https://localhost:8080/"
        },
        "outputId": "8e12926f-2717-4b61-9e59-c5f46d79f9bb"
      },
      "execution_count": 9,
      "outputs": [
        {
          "output_type": "stream",
          "name": "stderr",
          "text": [
            "/usr/local/lib/python3.7/dist-packages/sklearn/svm/_base.py:1208: ConvergenceWarning: Liblinear failed to converge, increase the number of iterations.\n",
            "  ConvergenceWarning,\n"
          ]
        },
        {
          "output_type": "execute_result",
          "data": {
            "text/plain": [
              "MLPClassifier(random_state=42)"
            ]
          },
          "metadata": {},
          "execution_count": 9
        }
      ]
    },
    {
      "cell_type": "code",
      "source": [
        "# 각 분류 모델의 성능 확인\n",
        "\n",
        "print(rf_clf.score(X_valid,y_valid))\n",
        "print(ex_clf.score(X_valid,y_valid))\n",
        "print(lsvc_clf.score(X_valid,y_valid))\n",
        "print(mlp_clf.score(X_valid,y_valid))"
      ],
      "metadata": {
        "id": "ghPFb287om1Z",
        "colab": {
          "base_uri": "https://localhost:8080/"
        },
        "outputId": "54e9d165-9b82-4097-e079-71052f79a5de"
      },
      "execution_count": 10,
      "outputs": [
        {
          "output_type": "stream",
          "name": "stdout",
          "text": [
            "0.9677714285714286\n",
            "0.9705904761904762\n",
            "0.8332190476190476\n",
            "0.9588571428571429\n"
          ]
        }
      ]
    },
    {
      "cell_type": "markdown",
      "source": [
        "- Q. 어떤 모델의 성능이 가장 낮나요?\n",
        "- A. linear svc model"
      ],
      "metadata": {
        "id": "GN-HIeWhosGs"
      }
    },
    {
      "cell_type": "code",
      "source": [
        "# 가장 성능이 낮은 모델 제거\n",
        "\n",
        "del voting_clf.estimators_[2]"
      ],
      "metadata": {
        "id": "shHFXdWcoqf6"
      },
      "execution_count": 11,
      "outputs": []
    },
    {
      "cell_type": "code",
      "source": [
        "# model fitting\n",
        "from sklearn.ensemble import VotingClassifier\n",
        "voting_clf_new = VotingClassifier(estimators=[('rf', rf_clf), ('ex', ex_clf), ('mlp', mlp_clf)],voting='hard')\n",
        "voting_clf_new.fit(X_train, y_train)"
      ],
      "metadata": {
        "id": "PpV5S__I2U3F",
        "colab": {
          "base_uri": "https://localhost:8080/"
        },
        "outputId": "9a3ff2c1-e41f-4daa-eca1-dabc15dc3924"
      },
      "execution_count": 12,
      "outputs": [
        {
          "output_type": "execute_result",
          "data": {
            "text/plain": [
              "VotingClassifier(estimators=[('rf', RandomForestClassifier(random_state=42)),\n",
              "                             ('ex', ExtraTreesClassifier(random_state=42)),\n",
              "                             ('mlp', MLPClassifier(random_state=42))])"
            ]
          },
          "metadata": {},
          "execution_count": 12
        }
      ]
    },
    {
      "cell_type": "code",
      "source": [
        "# 모델 제거 후 성능 확인\n",
        "voting_clf_new.score(X_valid, y_valid)"
      ],
      "metadata": {
        "id": "BMTkSkbNpRQi",
        "colab": {
          "base_uri": "https://localhost:8080/"
        },
        "outputId": "3b3fe079-63d4-47d2-b77e-4acc5248b82c"
      },
      "execution_count": 13,
      "outputs": [
        {
          "output_type": "execute_result",
          "data": {
            "text/plain": [
              "0.9724190476190476"
            ]
          },
          "metadata": {},
          "execution_count": 13
        }
      ]
    },
    {
      "cell_type": "markdown",
      "source": [
        "### **4. 다음 단계를 따라 앞에서 훈련시킨 분류 모델들을 이용하여 스태킹 앙상블을 구성해보자.**\n",
        "___"
      ],
      "metadata": {
        "id": "-pDjW5XcHPOt"
      }
    },
    {
      "cell_type": "markdown",
      "source": [
        "#### **STEP 1. 3번 문제의 각 분류 모델을 실행해서 검증 세트에서 예측을 만들고, 그 결과로 훈련 세트를 만들어 보세요.**"
      ],
      "metadata": {
        "id": "_xhEB_KtH47q"
      }
    },
    {
      "cell_type": "code",
      "source": [
        "y_pred_rf = rf_clf.predict(X_valid)\n",
        "y_pred_ex = ex_clf.predict(X_valid)\n",
        "y_pred_lsvc = lsvc_clf.predict(X_valid)\n",
        "y_pred_mlp = mlp_clf.predict(X_valid)\n",
        "\n",
        "predictions = np.column_stack([y_pred_rf, y_pred_ex, y_pred_lsvc, y_pred_mlp])"
      ],
      "metadata": {
        "id": "3CLxYCROIAk6"
      },
      "execution_count": 15,
      "outputs": []
    },
    {
      "cell_type": "markdown",
      "source": [
        "####  **STEP 2. 새로운 훈련 세트를 이용하여 랜덤 포레스트 분류 모델을 학습시켜 보세요.**"
      ],
      "metadata": {
        "id": "AHgSqi-zIBCd"
      }
    },
    {
      "cell_type": "code",
      "source": [
        "rf_clf.fit(predictions,y_valid)"
      ],
      "metadata": {
        "id": "SsBT_d0MIH-V",
        "colab": {
          "base_uri": "https://localhost:8080/"
        },
        "outputId": "4e31bdbf-8a3a-461d-a6c8-e360b3ab52e7"
      },
      "execution_count": 16,
      "outputs": [
        {
          "output_type": "execute_result",
          "data": {
            "text/plain": [
              "RandomForestClassifier(random_state=42)"
            ]
          },
          "metadata": {},
          "execution_count": 16
        }
      ]
    },
    {
      "cell_type": "markdown",
      "source": [
        "- 이 랜덤 포레스트 분류 모델이 바로 블렌더에 해당합니다. "
      ],
      "metadata": {
        "id": "43MJatnzquTH"
      }
    },
    {
      "cell_type": "markdown",
      "source": [
        "####  **STEP 3. 이제 테스트셋에서 스태킹 앙상블 모델을 평가해보세요.**\n",
        "- 성능 평가 지표로 **정확도**를 이용하세요."
      ],
      "metadata": {
        "id": "zWozt0n2IJZL"
      }
    },
    {
      "cell_type": "code",
      "source": [
        "# 각 분류 모델의 예측을 만들어 새로운 데이터셋 생성\n",
        "rf_pred = rf_clf.predict(X_test)\n",
        "ex_pred = ex_clf.predict(X_test)\n",
        "lsvc_pred = lsvc_clf.predict(X_test)\n",
        "mlp_pred = mlp_clf.predict(X_test)\n",
        "\n",
        "preds = np.array([rf_pred, ex_pred, lsvc_pred, mlp_pred])\n",
        "preds = np.transpose(preds)"
      ],
      "metadata": {
        "id": "770PvRudNF67"
      },
      "execution_count": null,
      "outputs": []
    },
    {
      "cell_type": "code",
      "source": [
        "# 새로운 데이터셋을 이용하여 블렌더로 예측\n",
        "y_pred = rf_clf.predict(preds)"
      ],
      "metadata": {
        "id": "fVdwwmSYKDmF"
      },
      "execution_count": null,
      "outputs": []
    },
    {
      "cell_type": "code",
      "source": [
        "# model test\n",
        "from sklearn.metrics import accuracy_score\n",
        "accuracy_score(y_test, y_pred)"
      ],
      "metadata": {
        "id": "ijlm1VbOKFSN"
      },
      "execution_count": null,
      "outputs": []
    }
  ]
}
