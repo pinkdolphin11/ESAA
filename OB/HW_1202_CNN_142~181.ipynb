{
  "nbformat": 4,
  "nbformat_minor": 0,
  "metadata": {
    "colab": {
      "provenance": [],
      "authorship_tag": "ABX9TyOpGu6lPlVYurnxpJux0vGI",
      "include_colab_link": true
    },
    "kernelspec": {
      "name": "python3",
      "display_name": "Python 3"
    },
    "language_info": {
      "name": "python"
    }
  },
  "cells": [
    {
      "cell_type": "markdown",
      "metadata": {
        "id": "view-in-github",
        "colab_type": "text"
      },
      "source": [
        "<a href=\"https://colab.research.google.com/github/pinkdolphin11/ESAA/blob/main/HW_1202_CNN_142~.ipynb\" target=\"_parent\"><img src=\"https://colab.research.google.com/assets/colab-badge.svg\" alt=\"Open In Colab\"/></a>"
      ]
    },
    {
      "cell_type": "markdown",
      "source": [
        "# Part 4. 합성곱 신경망(CNN)"
      ],
      "metadata": {
        "id": "Kh9QqkknKMw5"
      }
    },
    {
      "cell_type": "markdown",
      "source": [
        "## 01. 합성곱 신경망"
      ],
      "metadata": {
        "id": "mJn_6rsiKQZz"
      }
    },
    {
      "cell_type": "markdown",
      "source": [
        "* CNN(Convolutional Neural Network) : 데이터가 가진 특징들의 패턴을 학습하는 알고리즘으로, 컴퓨터 비전 분야에서 많이 사용됨\n",
        "\n",
        "  * 이미지 분류 : 모델이 이미지를 인식할 수 있는 능력을 갖춤\n",
        "\n",
        "  * 객체 탐지 : 이미지에서 특정한 객체를 인식하고 위치 파악. 인식한 객체가 어떤 클래스에 속하는지 분류 확률과 예측을 함께 알려줌. 객체의 위치는 이미지의 좌표 값으로 나타내므로, 회귀분석으로 bounding box(객체 위치에 표시된 실선)를 찾음\n",
        "  \n",
        "  * 스타일 전이 : 콘텐츠 이미지와 스타일 참조 이미지를 이용해 콘텐츠의 기본 형태를 유지하고 스타일을 입혀서 새로운 이미지 생성"
      ],
      "metadata": {
        "id": "WFhywMWXKSWX"
      }
    },
    {
      "cell_type": "markdown",
      "source": [
        "### 1-1. 이미지 표현"
      ],
      "metadata": {
        "id": "Lty9AL3_LMeV"
      }
    },
    {
      "cell_type": "markdown",
      "source": [
        "* 이미지를 컴퓨터가 이해하려면 숫자 데이터로 기록해야 함\n",
        "\n",
        "  * 흑백 손글씨 이미지 : 픽셀의 화소 값을 나타냄(0~255), 숫자가 클수록 더 강한 특성\n",
        "\n",
        "  * 컬러 이미지 :  RGB 채널로 구성된 3장의 이미지를 겹쳐서 표현(0~255)"
      ],
      "metadata": {
        "id": "DoIrAVrFLP2h"
      }
    },
    {
      "cell_type": "markdown",
      "source": [
        "### 1-2. 합성곱(Convolution)"
      ],
      "metadata": {
        "id": "zerjrlFHLmin"
      }
    },
    {
      "cell_type": "markdown",
      "source": [
        "* 합성곱 연산 : 입력 이미지에 대해 일반적으로 정방형 크기를 가지는 커널(kernel, 필터)을 사용하여 입력 이미지에 대한 특성 추출\n",
        "\n",
        "* 특성맵(feature map) : 합성곱 연산을 통해서 추출된 이미지. 딥러닝 모델 학습에 사용 시 더 좋은 성능을 보임\n",
        "\n",
        "* 합성곱 연산 과정\n",
        "\n",
        "<img src = \"https://drive.google.com/uc?id=14tzSpDwwYJkiC-w26z4vsxq-nGk2Kp_J\" height = 300 width = 600>\n",
        "\n",
        "\n",
        "\n",
        "  * 입력 이미지의 크기는 (세로, 가로) 순으로 shape이 출력됨\n",
        "\n",
        "  * 입력 이미지 좌측 상단부터 커널과 같은 크기를 갖도록 입력 이미지의 일부분에 커널이 겹치도록 투영\n",
        "\n",
        "  * element-wise 곱셈 연산을 수행 후 모두 더한 값으로 단일 스칼라 값 얻음\n",
        "\n",
        "  * 이 값이 추출된 이미지인 feature map의 좌측 상단의 첫 번째 값이 됨\n",
        "\n",
        "* 커널 사이즈가 aXa인 경우 총 a^2개의 가중치(weight)를 가지며 오차 역전파(back propagation) 시 커널의 가중치를 업데이트함\n",
        "\n",
        "* 커널의 공유 가중치(shared weights) 때문에 합성곱 신경망은 이미지 특성 추출에 효율적임\n",
        "\n",
        "* 오차 역전파 시 커널의 그래디언트를 계산할 때 a^2개에 대해서만 업데이트하면 되므로 완전 연결층을 사용할 때보다 연산량이 훨씬 적음"
      ],
      "metadata": {
        "id": "XWdvbvcgLqY2"
      }
    },
    {
      "cell_type": "markdown",
      "source": [
        "### 1-3. 채널(Channel)"
      ],
      "metadata": {
        "id": "QxGZfY6QbWGP"
      }
    },
    {
      "cell_type": "markdown",
      "source": [
        "* 채녈 : 입력 이미지를 구성하는 2차원 배열의 개수\n",
        "\n",
        "* ex. 앞의 컬러 이미지는 세로 5픽셀, 가로 5픽셀, 3개 채널 = (5,5,3)\n",
        "\n",
        "* 입력 이미지가 여러 개의 채널을 갖는 경우 특성맵의 생성 과정\n",
        "\n",
        "  * 입력 이미지의 채널 개수만큼 커널이 생성됨\n",
        "\n",
        "  * 각 채널마다 하나씩 커널을 적용하여 합성곱 연산 수행\n",
        "\n",
        "  * 입력 이미지의 채널 개수만큼 합성곱 연산된 결과 셍성\n",
        "\n",
        "  * element-wise 덧셈 연산으로 모두 더해서 최종 특성맵 생성\n",
        "\n",
        "* ex. 합성곱 레이어에 출력 필터의 개수를 20개로 설정\n",
        "\n",
        "  * 생성되는 커널 개수 = 입력 이미지의 채널 개수 X 출력 필터 개수 = 3 X 20 = 60\n",
        "\n",
        "  * 업데이트할 가중치의 그래디언트 개수 = 1개 커널 사이즈 X 입력 채널 수 X 출력 필터 수 = 3 X 3 X 3 X 20 = 540\n",
        "\n",
        "  * bias : 출력 필터 개수만큼 추가됨(20개)\n",
        "\n",
        "  * 최종적으로 업데이트될 파라미터 개수 = 540 + 20 = 560"
      ],
      "metadata": {
        "id": "3F_ogbe6bZB9"
      }
    },
    {
      "cell_type": "markdown",
      "source": [
        "### 1-4. 스트라이드(stride)"
      ],
      "metadata": {
        "id": "azIWQ4vGctOU"
      }
    },
    {
      "cell_type": "markdown",
      "source": [
        "* 스트라이드 : 합성곱 연산 시 커널의 이동 간격(주로 1 or 2)\n",
        "\n",
        "<img src = \"https://drive.google.com/uc?id=1CWi-mQeZJ6KnJvqFWa_1bJPpHILZAYPw\" height = 300 width = 600>\n",
        "\n"
      ],
      "metadata": {
        "id": "QljhLutXcvk8"
      }
    },
    {
      "cell_type": "markdown",
      "source": [
        "### 1-5. 패딩(padding)"
      ],
      "metadata": {
        "id": "_XPgLmi-dPOb"
      }
    },
    {
      "cell_type": "markdown",
      "source": [
        "* 추출된 특성맵의 크기가 입력 이미지 대비 줄어들지 않도록 패딩을 설정\n",
        "\n",
        "* 일반적으로 zero-padding 사용 : 입력 이미지의 가장자리에 0으로 페딩 값을 채워서 추출"
      ],
      "metadata": {
        "id": "DUFm3IF4dVO4"
      }
    },
    {
      "cell_type": "markdown",
      "source": [
        "### 1-6. 특성맵(feature map) 사이즈"
      ],
      "metadata": {
        "id": "vWfJKhkedlBJ"
      }
    },
    {
      "cell_type": "markdown",
      "source": [
        "* (Output Height, Output Weight) = ((Image Height + 2P - Kernel Height) / s + 1, (Image Width + 2P - Kernel Weight) / s + 1)\n",
        "\n",
        "  * Image Height/Width : 입력 크기(input size)\n",
        "\n",
        "  * Kernel Height/Width : 필터 크기(kernel size)\n",
        "\n",
        "  * S : 스트라이드\n",
        "\n",
        "  * P : 패딩\n",
        "\n",
        "  * Output Height/Weight : 출력 크기(output size)"
      ],
      "metadata": {
        "id": "wYEnnIyuduMQ"
      }
    },
    {
      "cell_type": "markdown",
      "source": [
        "### 1-7. 풀링(pooling)"
      ],
      "metadata": {
        "id": "AC9UlavCeUbB"
      }
    },
    {
      "cell_type": "markdown",
      "source": [
        "* 풀링 레이어 : 추출된 특성맵에 다운 샘플링하여 이미지의 크기를 축소하는 레이어\n",
        "\n",
        "* 연산량 감소, 과대적합 방지\n",
        "\n",
        "<img src = \"https://drive.google.com/uc?id=1UCdJNsa2dPgDI3YjgMRL1SQ5vLpCjlbE\" height = 300 width = 300>\n",
        "\n",
        "\n",
        "\n",
        "* max pooling(최대 풀링) : 특징의 값이 큰 값이 다른 특징들을 대표한다는 개념, 합성곱 신경망과 주로 같이 사용됨\n",
        "\n",
        "* average pooling(평균 풀링)\n",
        "\n",
        "* 스트라이드 값을 가질 수 있음\n"
      ],
      "metadata": {
        "id": "pRt7UzUHeXKc"
      }
    },
    {
      "cell_type": "markdown",
      "source": [
        "## 02. 간단한 모델 생성"
      ],
      "metadata": {
        "id": "8hW8Q7dHfS-I"
      }
    },
    {
      "cell_type": "markdown",
      "source": [
        "### 2-1. 데이터 로드 및 전처리"
      ],
      "metadata": {
        "id": "AQwgTniEfVar"
      }
    },
    {
      "cell_type": "code",
      "execution_count": 1,
      "metadata": {
        "id": "fyO5Uk0hKJv4",
        "colab": {
          "base_uri": "https://localhost:8080/"
        },
        "outputId": "c7b53497-e126-4608-9db9-8812f526ef5b"
      },
      "outputs": [
        {
          "output_type": "stream",
          "name": "stdout",
          "text": [
            "Downloading data from https://storage.googleapis.com/tensorflow/tf-keras-datasets/mnist.npz\n",
            "11490434/11490434 [==============================] - 1s 0us/step\n",
            "(60000, 28, 28) (60000,)\n",
            "(10000, 28, 28) (10000,)\n"
          ]
        }
      ],
      "source": [
        "import tensorflow as tf\n",
        "\n",
        "mnist = tf.keras.datasets.mnist\n",
        "(x_train, y_train), (x_valid, y_valid) = mnist.load_data()\n",
        "\n",
        "print(x_train.shape, y_train.shape)\n",
        "print(x_valid.shape, y_valid.shape)"
      ]
    },
    {
      "cell_type": "code",
      "source": [
        "import matplotlib.pyplot as plt\n",
        "\n",
        "def plot_image(data,idx):\n",
        "  plt.figure(figsize=(5,5))\n",
        "  plt.imshow(data[idx],cmap='gray')\n",
        "  plt.axis('off')\n",
        "  plt.show()\n",
        "\n",
        "plot_image(x_train,0)"
      ],
      "metadata": {
        "colab": {
          "base_uri": "https://localhost:8080/",
          "height": 303
        },
        "id": "lY42GNoxfroD",
        "outputId": "c431284f-240b-44d6-bb4c-6f87a7a17018"
      },
      "execution_count": 2,
      "outputs": [
        {
          "output_type": "display_data",
          "data": {
            "text/plain": [
              "<Figure size 360x360 with 1 Axes>"
            ],
            "image/png": "[encoded data removed]"
          },
          "metadata": {
            "needs_background": "light"
          }
        }
      ]
    },
    {
      "cell_type": "code",
      "source": [
        "print(x_train.min(),x_train.max())\n",
        "print(x_valid.min(),x_valid.max())"
      ],
      "metadata": {
        "colab": {
          "base_uri": "https://localhost:8080/"
        },
        "id": "znVju9mZf8R6",
        "outputId": "422a299d-ace1-4fbf-8121-3c24f64cb030"
      },
      "execution_count": 3,
      "outputs": [
        {
          "output_type": "stream",
          "name": "stdout",
          "text": [
            "0 255\n",
            "0 255\n"
          ]
        }
      ]
    },
    {
      "cell_type": "code",
      "source": [
        "# 입력 이미지 픽셀 값 정규화\n",
        "x_train = x_train/255.0\n",
        "x_valid = x_valid/255.0\n",
        "\n",
        "print(x_train.min(),x_train.max())\n",
        "print(x_valid.min(),x_valid.max())"
      ],
      "metadata": {
        "colab": {
          "base_uri": "https://localhost:8080/"
        },
        "id": "AMX_mzCOgF6-",
        "outputId": "49e61e3d-3662-4257-8455-b1650a14ed04"
      },
      "execution_count": 4,
      "outputs": [
        {
          "output_type": "stream",
          "name": "stdout",
          "text": [
            "0.0 1.0\n",
            "0.0 1.0\n"
          ]
        }
      ]
    },
    {
      "cell_type": "code",
      "source": [
        "# mnist 데이터셋에 색상을 나타내는 채널 추가\n",
        "\n",
        "print(x_train.shape,x_valid.shape)\n",
        "\n",
        "x_train_in = x_train[...,tf.newaxis] # 채널을 추가하고자 하는 위치에 tf.newaxis\n",
        "x_valid_in = x_valid[...,tf.newaxis] # 마지막 축에 채널 추가\n",
        "\n",
        "print(x_train_in.shape,x_valid_in.shape)"
      ],
      "metadata": {
        "colab": {
          "base_uri": "https://localhost:8080/"
        },
        "id": "RjH-_uyLgSMf",
        "outputId": "f1956135-3bd3-4569-d6cb-7973997d151b"
      },
      "execution_count": 6,
      "outputs": [
        {
          "output_type": "stream",
          "name": "stdout",
          "text": [
            "(60000, 28, 28) (10000, 28, 28)\n",
            "(60000, 28, 28, 1) (10000, 28, 28, 1)\n"
          ]
        }
      ]
    },
    {
      "cell_type": "markdown",
      "source": [
        "### 2-2. Sequential API로 모델 생성 및 학습"
      ],
      "metadata": {
        "id": "jpVmEiTmg5q4"
      }
    },
    {
      "cell_type": "markdown",
      "source": [
        "<img src = \"https://drive.google.com/uc?id=1Ao4wKbUB2L7sUMYLG_Pw2Dfj4KpnLt_o\" height = 300 width = 600>\n",
        "\n"
      ],
      "metadata": {
        "id": "K11YDs9MhsYS"
      }
    },
    {
      "cell_type": "code",
      "source": [
        "model = tf.keras.Sequential([\n",
        "    # Convolution 적용(32 filters)\n",
        "    tf.keras.layers.Conv2D(32,(3,3),activation='relu',input_shape=(28,28,1),name='conv'),\n",
        "    # Max Pooling 적용\n",
        "    tf.keras.layers.MaxPooling2D((2,2),name='pool'),\n",
        "    # Classifier 출력층\n",
        "    tf.keras.layers.Flatten(),\n",
        "    tf.keras.layers.Dense(10,activation='softmax')])"
      ],
      "metadata": {
        "id": "RXoTc3VEhEZD"
      },
      "execution_count": 8,
      "outputs": []
    },
    {
      "cell_type": "code",
      "source": [
        "model.compile(optimizer='adam',loss='sparse_categorical_crossentropy',metrics=['accuracy'])\n",
        "\n",
        "history = model.fit(x_train_in, y_train, validation_data=(x_valid_in,y_valid),epochs=10)"
      ],
      "metadata": {
        "colab": {
          "base_uri": "https://localhost:8080/"
        },
        "id": "isacdNXeh_A_",
        "outputId": "0ea3b6ef-fd93-4c58-f9e6-61fe0d9fdf4d"
      },
      "execution_count": 9,
      "outputs": [
        {
          "output_type": "stream",
          "name": "stdout",
          "text": [
            "Epoch 1/10\n",
            "1875/1875 [==============================] - 42s 22ms/step - loss: 0.2121 - accuracy: 0.9401 - val_loss: 0.0854 - val_accuracy: 0.9750\n",
            "Epoch 2/10\n",
            "1875/1875 [==============================] - 42s 23ms/step - loss: 0.0762 - accuracy: 0.9780 - val_loss: 0.0635 - val_accuracy: 0.9800\n",
            "Epoch 3/10\n",
            "1875/1875 [==============================] - 37s 20ms/step - loss: 0.0583 - accuracy: 0.9830 - val_loss: 0.0586 - val_accuracy: 0.9804\n",
            "Epoch 4/10\n",
            "1875/1875 [==============================] - 39s 21ms/step - loss: 0.0480 - accuracy: 0.9855 - val_loss: 0.0544 - val_accuracy: 0.9821\n",
            "Epoch 5/10\n",
            "1875/1875 [==============================] - 35s 19ms/step - loss: 0.0399 - accuracy: 0.9880 - val_loss: 0.0511 - val_accuracy: 0.9851\n",
            "Epoch 6/10\n",
            "1875/1875 [==============================] - 41s 22ms/step - loss: 0.0343 - accuracy: 0.9894 - val_loss: 0.0557 - val_accuracy: 0.9827\n",
            "Epoch 7/10\n",
            "1875/1875 [==============================] - 41s 22ms/step - loss: 0.0300 - accuracy: 0.9909 - val_loss: 0.0516 - val_accuracy: 0.9842\n",
            "Epoch 8/10\n",
            "1875/1875 [==============================] - 39s 21ms/step - loss: 0.0254 - accuracy: 0.9919 - val_loss: 0.0565 - val_accuracy: 0.9834\n",
            "Epoch 9/10\n",
            "1875/1875 [==============================] - 40s 21ms/step - loss: 0.0219 - accuracy: 0.9934 - val_loss: 0.0517 - val_accuracy: 0.9851\n",
            "Epoch 10/10\n",
            "1875/1875 [==============================] - 40s 22ms/step - loss: 0.0188 - accuracy: 0.9946 - val_loss: 0.0583 - val_accuracy: 0.9834\n"
          ]
        }
      ]
    },
    {
      "cell_type": "markdown",
      "source": [
        "두 번째 epoch만 마쳐도 훈련 셋, 검증 셋 모두 97%에 가까운 정확도를 보인다."
      ],
      "metadata": {
        "id": "l0LUoOWJiZtm"
      }
    },
    {
      "cell_type": "code",
      "source": [
        "model.evaluate(x_valid_in, y_valid)"
      ],
      "metadata": {
        "colab": {
          "base_uri": "https://localhost:8080/"
        },
        "id": "pymYfJlYiTiL",
        "outputId": "700bf672-5776-4b3e-977b-cd6225628c5b"
      },
      "execution_count": 11,
      "outputs": [
        {
          "output_type": "stream",
          "name": "stdout",
          "text": [
            "313/313 [==============================] - 2s 7ms/step - loss: 0.0583 - accuracy: 0.9834\n"
          ]
        },
        {
          "output_type": "execute_result",
          "data": {
            "text/plain": [
              "[0.05825130641460419, 0.9833999872207642]"
            ]
          },
          "metadata": {},
          "execution_count": 11
        }
      ]
    },
    {
      "cell_type": "markdown",
      "source": [
        "검증 셋에 대해 약 98%의 정확도를 나타낸다."
      ],
      "metadata": {
        "id": "FX8pwc7LifZD"
      }
    },
    {
      "cell_type": "code",
      "source": [
        "# 10 epoch 동안 모델의 예측 오차와 정확도를 그래프로 그리는 함수 정의\n",
        "\n",
        "def plot_loss_acc(history, epoch):\n",
        "    loss, val_loss = history.history['loss'], history.history['val_loss']\n",
        "    acc, val_acc = history.history['accuracy'], history.history['val_accuracy']\n",
        "    \n",
        "    fig, axes = plt.subplots(1,2,figsize=(12,4))\n",
        "    \n",
        "    axes[0].plot(range(1, epoch+1), loss, label = 'Training')\n",
        "    axes[0].plot(range(1, epoch+1), val_loss, label = \"Validation\")\n",
        "    axes[0].legend(loc='best')\n",
        "    axes[0].set_title('Loss')\n",
        "\n",
        "    axes[1].plot(range(1, epoch+1), acc, label = 'Training')\n",
        "    axes[1].plot(range(1, epoch+1), val_acc, label = \"Validation\")\n",
        "    axes[1].legend(loc='best')\n",
        "    axes[1].set_title('Accuracy')\n",
        "    \n",
        "    plt.show()\n",
        "    \n",
        "plot_loss_acc(history, 10)"
      ],
      "metadata": {
        "colab": {
          "base_uri": "https://localhost:8080/",
          "height": 281
        },
        "id": "158aVj9Qii4n",
        "outputId": "29a04100-a82c-4fe9-b8f1-9e74de487032"
      },
      "execution_count": 10,
      "outputs": [
        {
          "output_type": "display_data",
          "data": {
            "text/plain": [
              "<Figure size 864x288 with 2 Axes>"
            ],
            "image/png": "[encoded data removed]"
          },
          "metadata": {
            "needs_background": "light"
          }
        }
      ]
    },
    {
      "cell_type": "markdown",
      "source": [
        "validation loss가 낮아지지 않는 4 epoch 이후부터는 모델이 과대적합됨."
      ],
      "metadata": {
        "id": "-L6lu6DqixEf"
      }
    },
    {
      "cell_type": "markdown",
      "source": [
        "### 2-3. 모델 구조 파악"
      ],
      "metadata": {
        "id": "R_YXquJXi2LL"
      }
    },
    {
      "cell_type": "code",
      "source": [
        "model.summary()"
      ],
      "metadata": {
        "colab": {
          "base_uri": "https://localhost:8080/"
        },
        "id": "xRsZx35Ni9Q9",
        "outputId": "985726ab-56c1-44b6-be86-9ed4a38879df"
      },
      "execution_count": 12,
      "outputs": [
        {
          "output_type": "stream",
          "name": "stdout",
          "text": [
            "Model: \"sequential\"\n",
            "_________________________________________________________________\n",
            " Layer (type)                Output Shape              Param #   \n",
            "=================================================================\n",
            " conv (Conv2D)               (None, 26, 26, 32)        320       \n",
            "                                                                 \n",
            " pool (MaxPooling2D)         (None, 13, 13, 32)        0         \n",
            "                                                                 \n",
            " flatten (Flatten)           (None, 5408)              0         \n",
            "                                                                 \n",
            " dense (Dense)               (None, 10)                54090     \n",
            "                                                                 \n",
            "=================================================================\n",
            "Total params: 54,410\n",
            "Trainable params: 54,410\n",
            "Non-trainable params: 0\n",
            "_________________________________________________________________\n"
          ]
        }
      ]
    },
    {
      "cell_type": "markdown",
      "source": [
        "* Conv2D : 입력 텐서 (28,28,1) -> (26,26,32), (3,3) 크기의 합성곱 필터를 사용하여 이미지 가로, 세로가 2씩 줄어듦, 서로 다른 32개의 필터를 적용하여 (26,26,32)\n",
        "\n",
        "* 풀링 레이어 : (26,26,32) -> (13,13,32), (2,2) 크기의 풀링 레이어 적용\n",
        "\n",
        "* Flatten : 13 X 13 X 32 = 5408개 원소를 갖는 1차원 벡터가 됨"
      ],
      "metadata": {
        "id": "OkwPD-w2jCu7"
      }
    },
    {
      "cell_type": "code",
      "source": [
        "# 입력 텐서 형태\n",
        "model.input"
      ],
      "metadata": {
        "colab": {
          "base_uri": "https://localhost:8080/"
        },
        "id": "iM5-Ne28jo01",
        "outputId": "d6637dd1-9c84-4408-b4a4-bd7f150432a4"
      },
      "execution_count": 13,
      "outputs": [
        {
          "output_type": "execute_result",
          "data": {
            "text/plain": [
              "<KerasTensor: shape=(None, 28, 28, 1) dtype=float32 (created by layer 'conv_input')>"
            ]
          },
          "metadata": {},
          "execution_count": 13
        }
      ]
    },
    {
      "cell_type": "markdown",
      "source": [
        "None : 배치 크기가 들어오는 위치(어떤 값이든 가능)"
      ],
      "metadata": {
        "id": "mkgHgC3ojt0o"
      }
    },
    {
      "cell_type": "code",
      "source": [
        "# 출력 텐서 형태\n",
        "model.output"
      ],
      "metadata": {
        "colab": {
          "base_uri": "https://localhost:8080/"
        },
        "id": "Gw2WYG_pj37P",
        "outputId": "5e6ec093-1e45-463b-d896-5835426de726"
      },
      "execution_count": 14,
      "outputs": [
        {
          "output_type": "execute_result",
          "data": {
            "text/plain": [
              "<KerasTensor: shape=(None, 10) dtype=float32 (created by layer 'dense')>"
            ]
          },
          "metadata": {},
          "execution_count": 14
        }
      ]
    },
    {
      "cell_type": "code",
      "source": [
        "# 레이어\n",
        "model.layers"
      ],
      "metadata": {
        "colab": {
          "base_uri": "https://localhost:8080/"
        },
        "id": "59LLXsK0j7dS",
        "outputId": "4c2c84b8-19fb-482a-b418-7ff7a7b3652f"
      },
      "execution_count": 15,
      "outputs": [
        {
          "output_type": "execute_result",
          "data": {
            "text/plain": [
              "[<keras.layers.convolutional.conv2d.Conv2D at 0x7f7b94ff5940>,\n",
              " <keras.layers.pooling.max_pooling2d.MaxPooling2D at 0x7f7b94ff50a0>,\n",
              " <keras.layers.reshaping.flatten.Flatten at 0x7f7b94ff5df0>,\n",
              " <keras.layers.core.dense.Dense at 0x7f7b94fbbee0>]"
            ]
          },
          "metadata": {},
          "execution_count": 15
        }
      ]
    },
    {
      "cell_type": "code",
      "source": [
        "# 첫 번째 레이어 선택\n",
        "model.layers[0]"
      ],
      "metadata": {
        "colab": {
          "base_uri": "https://localhost:8080/"
        },
        "id": "MxmdvwOFj-FO",
        "outputId": "a3f03123-fce4-4af4-87d2-ac35360c008e"
      },
      "execution_count": 16,
      "outputs": [
        {
          "output_type": "execute_result",
          "data": {
            "text/plain": [
              "<keras.layers.convolutional.conv2d.Conv2D at 0x7f7b94ff5940>"
            ]
          },
          "metadata": {},
          "execution_count": 16
        }
      ]
    },
    {
      "cell_type": "code",
      "source": [
        "# 첫 번째 레이어 입력\n",
        "model.layers[0].input"
      ],
      "metadata": {
        "colab": {
          "base_uri": "https://localhost:8080/"
        },
        "id": "1j2DG_CJkB0G",
        "outputId": "4b08d535-6833-4f3e-aca2-75997be014a2"
      },
      "execution_count": 17,
      "outputs": [
        {
          "output_type": "execute_result",
          "data": {
            "text/plain": [
              "<KerasTensor: shape=(None, 28, 28, 1) dtype=float32 (created by layer 'conv_input')>"
            ]
          },
          "metadata": {},
          "execution_count": 17
        }
      ]
    },
    {
      "cell_type": "code",
      "source": [
        "# 첫 번째 레이어 출력\n",
        "model.layers[0].output"
      ],
      "metadata": {
        "colab": {
          "base_uri": "https://localhost:8080/"
        },
        "id": "MezWC2xHkGN1",
        "outputId": "1d151cd9-f0ea-4e11-cde9-1deb72dd8faf"
      },
      "execution_count": 18,
      "outputs": [
        {
          "output_type": "execute_result",
          "data": {
            "text/plain": [
              "<KerasTensor: shape=(None, 26, 26, 32) dtype=float32 (created by layer 'conv')>"
            ]
          },
          "metadata": {},
          "execution_count": 18
        }
      ]
    },
    {
      "cell_type": "code",
      "source": [
        "# 첫 번째 레이어 가중치\n",
        "model.layers[0].weights"
      ],
      "metadata": {
        "colab": {
          "base_uri": "https://localhost:8080/"
        },
        "id": "BSUGUQB_kK9k",
        "outputId": "3d1fb01f-58eb-4a39-c131-e505fbb46987"
      },
      "execution_count": 19,
      "outputs": [
        {
          "output_type": "execute_result",
          "data": {
            "text/plain": [
              "[<tf.Variable 'conv/kernel:0' shape=(3, 3, 1, 32) dtype=float32, numpy=\n",
              " array([[[[ 3.07420284e-01,  2.73873746e-01, -9.00000453e-01,\n",
              "            1.85637563e-01, -4.48477298e-01, -9.93193865e-01,\n",
              "           -4.22096252e-01,  6.18492067e-01, -9.75001752e-01,\n",
              "           -3.60123485e-01,  1.34858815e-02,  3.78745109e-01,\n",
              "           -9.91552949e-01,  1.92878917e-01,  1.07293177e+00,\n",
              "            2.67333150e-01, -2.88151950e-01, -3.84634852e-01,\n",
              "            3.05228353e-01,  2.63993174e-01,  3.25941861e-01,\n",
              "           -2.62336195e-01, -1.13064252e-01,  1.58220455e-01,\n",
              "            1.29078016e-01, -6.32371902e-02,  1.05933741e-01,\n",
              "            4.30973321e-01, -3.63702998e-02,  2.67556757e-01,\n",
              "           -4.71979380e-01, -2.42031440e-01]],\n",
              " \n",
              "         [[-1.37615567e-02,  7.42438212e-02, -6.11001968e-01,\n",
              "            6.62914887e-02,  8.08539987e-03, -1.91797033e-01,\n",
              "            3.43245447e-01,  2.07778171e-01, -1.09972467e-03,\n",
              "           -3.93971428e-02,  6.59930885e-01,  4.26048249e-01,\n",
              "            5.01753509e-01,  5.35732865e-01, -2.22948775e-01,\n",
              "            2.54904449e-01, -1.99329838e-01, -7.96582997e-01,\n",
              "            2.88262814e-01,  4.38707210e-02, -1.24327518e-01,\n",
              "            3.56918395e-01,  4.03003693e-01,  3.44297171e-01,\n",
              "            3.39228690e-01,  1.00641355e-01,  1.51633695e-01,\n",
              "           -2.86391705e-01,  1.36998937e-01,  2.12199375e-01,\n",
              "           -1.81302484e-02, -8.54144931e-01]],\n",
              " \n",
              "         [[-6.34253085e-01, -2.12235034e-01, -2.79513031e-01,\n",
              "            2.87848413e-01,  5.96351802e-01,  1.48319423e-01,\n",
              "            2.07610428e-01, -1.01173484e+00,  3.38696808e-01,\n",
              "            1.77900136e-01,  7.97324359e-01,  4.83193308e-01,\n",
              "            2.69849807e-01,  2.71974444e-01, -8.88887823e-01,\n",
              "           -4.04985577e-01,  5.37472777e-02, -7.46047318e-01,\n",
              "           -3.38585824e-01, -5.77460587e-01, -3.69791776e-01,\n",
              "            1.49465337e-01, -3.32056195e-03, -2.22626939e-01,\n",
              "            2.79364198e-01,  8.35669339e-02, -2.28468522e-01,\n",
              "           -4.92468804e-01,  1.18447512e-01, -3.51691335e-01,\n",
              "            2.88245469e-01, -1.02748998e-01]]],\n",
              " \n",
              " \n",
              "        [[[ 2.78112620e-01,  4.38147895e-02, -3.28190506e-01,\n",
              "            8.01184922e-02, -9.31990385e-01, -7.22435415e-01,\n",
              "            1.60677493e-01,  7.16892600e-01,  1.44075722e-01,\n",
              "           -6.20559696e-03, -1.01187539e+00, -4.32472914e-01,\n",
              "           -7.45014846e-01, -1.31256357e-01, -1.74001962e-01,\n",
              "           -8.59359279e-02,  3.79346043e-01,  5.42258561e-01,\n",
              "           -3.24212998e-01,  5.10975905e-02,  4.96685147e-01,\n",
              "           -5.48552155e-01, -2.42457762e-02, -6.27190396e-02,\n",
              "            3.06387216e-01, -2.28694513e-01, -3.71325493e-01,\n",
              "            5.16781211e-01,  1.74042761e-01, -1.65725276e-01,\n",
              "            3.56276557e-02,  5.36535263e-01]],\n",
              " \n",
              "         [[ 2.30666086e-01,  4.81931195e-02,  3.25479835e-01,\n",
              "           -3.21468294e-01, -3.32396686e-01,  3.63145888e-01,\n",
              "            2.35030174e-01,  2.06497893e-01,  2.52741873e-01,\n",
              "            1.92583144e-01, -2.81112157e-02, -2.74746060e-01,\n",
              "            3.65098178e-01,  5.35714924e-01, -1.39055979e+00,\n",
              "            2.35044003e-01,  2.36936703e-01, -2.92710308e-02,\n",
              "            1.13258108e-01,  2.59118944e-01, -3.31639469e-01,\n",
              "            2.96392888e-01,  2.54074663e-01, -2.61425301e-02,\n",
              "            2.73667514e-01,  9.40745026e-02,  2.61611700e-01,\n",
              "           -4.76110214e-03,  4.45448697e-01, -8.58596992e-04,\n",
              "            4.23540920e-01, -1.40476748e-01]],\n",
              " \n",
              "         [[-4.57822293e-01,  2.52912223e-01,  5.03805757e-01,\n",
              "           -9.14114714e-02,  7.56742895e-01,  4.47486669e-01,\n",
              "           -3.53388608e-01, -9.11003828e-01, -1.08194903e-01,\n",
              "            1.12663731e-01,  3.17883104e-01, -4.97727036e-01,\n",
              "            1.30382478e-01, -1.08401544e-01,  1.06044695e-01,\n",
              "           -3.69407274e-02,  1.83811620e-01, -3.98493975e-01,\n",
              "            1.03967600e-01,  1.53505400e-01, -3.31469357e-01,\n",
              "           -5.75293414e-02, -5.09464920e-01, -2.11596638e-01,\n",
              "            2.18505234e-01,  1.95761584e-02,  1.65082917e-01,\n",
              "           -4.33688462e-01,  5.25245726e-01, -4.18036073e-01,\n",
              "           -7.62465447e-02, -4.21264172e-01]]],\n",
              " \n",
              " \n",
              "        [[[ 1.42429158e-01, -2.08194837e-01,  3.44630331e-01,\n",
              "           -7.15561584e-02, -5.48644483e-01, -2.27454782e-01,\n",
              "            2.53812194e-01,  1.82165116e-01,  5.09755969e-01,\n",
              "            2.46242166e-01, -1.09652936e+00, -2.72936910e-01,\n",
              "           -7.83624649e-01, -1.34359086e+00, -7.26061523e-01,\n",
              "           -3.49451244e-01,  2.75798496e-02,  6.33790314e-01,\n",
              "           -1.48452997e-01, -4.96156752e-01,  3.88383150e-01,\n",
              "           -2.76853815e-02,  1.60062220e-02, -2.53426045e-01,\n",
              "           -5.51348984e-01,  2.21164703e-01,  5.84799796e-02,\n",
              "            4.54977602e-02, -6.21588349e-01, -1.07118495e-01,\n",
              "            1.48990780e-01,  3.35814536e-01]],\n",
              " \n",
              "         [[ 2.84468263e-01, -1.81223273e-01,  3.21569204e-01,\n",
              "           -1.36772260e-01, -3.23212445e-01,  4.03134376e-01,\n",
              "           -2.50321925e-01, -6.41565263e-01, -3.40915360e-02,\n",
              "           -4.30620275e-02, -1.00136089e+00, -6.01600528e-01,\n",
              "           -1.35409862e-01, -9.43438649e-01,  3.04698378e-01,\n",
              "            1.80258844e-02, -3.96127224e-01,  6.32986784e-01,\n",
              "            8.89338106e-02,  2.85460740e-01, -1.33907467e-01,\n",
              "            2.62305558e-01,  4.39817220e-01,  1.26958087e-01,\n",
              "           -7.24211812e-01,  2.12083105e-02, -1.49916708e-01,\n",
              "            3.41830522e-01, -6.62182987e-01,  3.95565927e-01,\n",
              "            1.67422310e-01,  3.10759246e-01]],\n",
              " \n",
              "         [[-1.00563236e-01,  2.58028805e-01, -5.80178108e-03,\n",
              "            3.23836148e-01,  4.75717634e-01,  1.69139683e-01,\n",
              "            2.80093458e-02, -1.44274914e+00, -7.27967799e-01,\n",
              "           -1.78589821e-01, -8.60476315e-01, -1.02035737e+00,\n",
              "           -6.47440180e-02, -1.52853501e+00,  9.10413742e-01,\n",
              "            3.91932636e-01,  1.24363517e-02,  3.57260182e-03,\n",
              "            2.42602259e-01,  1.22110777e-01,  2.05986619e-01,\n",
              "           -1.33081386e-02, -3.93782288e-01,  3.68549585e-01,\n",
              "           -4.52290773e-01, -4.48726229e-02,  6.23755939e-02,\n",
              "            2.06709653e-01, -2.73062527e-01,  3.67649496e-01,\n",
              "           -4.51754063e-01,  3.05100024e-01]]]], dtype=float32)>,\n",
              " <tf.Variable 'conv/bias:0' shape=(32,) dtype=float32, numpy=\n",
              " array([-0.28559294, -0.31399885, -0.14641023, -0.2700943 , -0.09332314,\n",
              "        -0.08717757, -0.22094922,  0.0345789 ,  0.00067012, -0.23798604,\n",
              "        -0.02284987, -0.02499668,  0.10575819,  0.15651794, -0.00398857,\n",
              "        -0.29814923, -0.17054561, -0.01614953, -0.2609797 , -0.21081929,\n",
              "        -0.28089982, -0.2592687 , -0.19874893, -0.20345676, -0.05113345,\n",
              "        -0.2403579 , -0.13780631, -0.38149   , -0.05011002, -0.21574515,\n",
              "        -0.22242635, -0.1485757 ], dtype=float32)>]"
            ]
          },
          "metadata": {},
          "execution_count": 19
        }
      ]
    },
    {
      "cell_type": "markdown",
      "source": [
        "* 첫 번째 변수 : 커널 행렬의 가중치\n",
        "  (3,3,1,32) : (3,3)은 필터 크기, 1은 입력층 채널 개수, 32는 출력층 채널 개수이므로 업데이트 가능한 파라미터 = 3 x 3 x 1 x 32 = 288개\n",
        "\n",
        "* 두 번째 변수 : 각 커널의 상수항(bias)\n",
        "  (32,) : 출력층의 채널 수\n",
        "\n",
        "* 총 학습 가능 파라미터 = 288 + 32 = 320개"
      ],
      "metadata": {
        "id": "_y60JP6MkUiV"
      }
    },
    {
      "cell_type": "code",
      "source": [
        "# 첫 번째 레이어 커널 가중치\n",
        "model.layers[0].kernel"
      ],
      "metadata": {
        "colab": {
          "base_uri": "https://localhost:8080/"
        },
        "id": "w6PS1TylkyjP",
        "outputId": "d3fbc0a3-c29a-453a-a006-3023193c38cd"
      },
      "execution_count": 20,
      "outputs": [
        {
          "output_type": "execute_result",
          "data": {
            "text/plain": [
              "<tf.Variable 'conv/kernel:0' shape=(3, 3, 1, 32) dtype=float32, numpy=\n",
              "array([[[[ 3.07420284e-01,  2.73873746e-01, -9.00000453e-01,\n",
              "           1.85637563e-01, -4.48477298e-01, -9.93193865e-01,\n",
              "          -4.22096252e-01,  6.18492067e-01, -9.75001752e-01,\n",
              "          -3.60123485e-01,  1.34858815e-02,  3.78745109e-01,\n",
              "          -9.91552949e-01,  1.92878917e-01,  1.07293177e+00,\n",
              "           2.67333150e-01, -2.88151950e-01, -3.84634852e-01,\n",
              "           3.05228353e-01,  2.63993174e-01,  3.25941861e-01,\n",
              "          -2.62336195e-01, -1.13064252e-01,  1.58220455e-01,\n",
              "           1.29078016e-01, -6.32371902e-02,  1.05933741e-01,\n",
              "           4.30973321e-01, -3.63702998e-02,  2.67556757e-01,\n",
              "          -4.71979380e-01, -2.42031440e-01]],\n",
              "\n",
              "        [[-1.37615567e-02,  7.42438212e-02, -6.11001968e-01,\n",
              "           6.62914887e-02,  8.08539987e-03, -1.91797033e-01,\n",
              "           3.43245447e-01,  2.07778171e-01, -1.09972467e-03,\n",
              "          -3.93971428e-02,  6.59930885e-01,  4.26048249e-01,\n",
              "           5.01753509e-01,  5.35732865e-01, -2.22948775e-01,\n",
              "           2.54904449e-01, -1.99329838e-01, -7.96582997e-01,\n",
              "           2.88262814e-01,  4.38707210e-02, -1.24327518e-01,\n",
              "           3.56918395e-01,  4.03003693e-01,  3.44297171e-01,\n",
              "           3.39228690e-01,  1.00641355e-01,  1.51633695e-01,\n",
              "          -2.86391705e-01,  1.36998937e-01,  2.12199375e-01,\n",
              "          -1.81302484e-02, -8.54144931e-01]],\n",
              "\n",
              "        [[-6.34253085e-01, -2.12235034e-01, -2.79513031e-01,\n",
              "           2.87848413e-01,  5.96351802e-01,  1.48319423e-01,\n",
              "           2.07610428e-01, -1.01173484e+00,  3.38696808e-01,\n",
              "           1.77900136e-01,  7.97324359e-01,  4.83193308e-01,\n",
              "           2.69849807e-01,  2.71974444e-01, -8.88887823e-01,\n",
              "          -4.04985577e-01,  5.37472777e-02, -7.46047318e-01,\n",
              "          -3.38585824e-01, -5.77460587e-01, -3.69791776e-01,\n",
              "           1.49465337e-01, -3.32056195e-03, -2.22626939e-01,\n",
              "           2.79364198e-01,  8.35669339e-02, -2.28468522e-01,\n",
              "          -4.92468804e-01,  1.18447512e-01, -3.51691335e-01,\n",
              "           2.88245469e-01, -1.02748998e-01]]],\n",
              "\n",
              "\n",
              "       [[[ 2.78112620e-01,  4.38147895e-02, -3.28190506e-01,\n",
              "           8.01184922e-02, -9.31990385e-01, -7.22435415e-01,\n",
              "           1.60677493e-01,  7.16892600e-01,  1.44075722e-01,\n",
              "          -6.20559696e-03, -1.01187539e+00, -4.32472914e-01,\n",
              "          -7.45014846e-01, -1.31256357e-01, -1.74001962e-01,\n",
              "          -8.59359279e-02,  3.79346043e-01,  5.42258561e-01,\n",
              "          -3.24212998e-01,  5.10975905e-02,  4.96685147e-01,\n",
              "          -5.48552155e-01, -2.42457762e-02, -6.27190396e-02,\n",
              "           3.06387216e-01, -2.28694513e-01, -3.71325493e-01,\n",
              "           5.16781211e-01,  1.74042761e-01, -1.65725276e-01,\n",
              "           3.56276557e-02,  5.36535263e-01]],\n",
              "\n",
              "        [[ 2.30666086e-01,  4.81931195e-02,  3.25479835e-01,\n",
              "          -3.21468294e-01, -3.32396686e-01,  3.63145888e-01,\n",
              "           2.35030174e-01,  2.06497893e-01,  2.52741873e-01,\n",
              "           1.92583144e-01, -2.81112157e-02, -2.74746060e-01,\n",
              "           3.65098178e-01,  5.35714924e-01, -1.39055979e+00,\n",
              "           2.35044003e-01,  2.36936703e-01, -2.92710308e-02,\n",
              "           1.13258108e-01,  2.59118944e-01, -3.31639469e-01,\n",
              "           2.96392888e-01,  2.54074663e-01, -2.61425301e-02,\n",
              "           2.73667514e-01,  9.40745026e-02,  2.61611700e-01,\n",
              "          -4.76110214e-03,  4.45448697e-01, -8.58596992e-04,\n",
              "           4.23540920e-01, -1.40476748e-01]],\n",
              "\n",
              "        [[-4.57822293e-01,  2.52912223e-01,  5.03805757e-01,\n",
              "          -9.14114714e-02,  7.56742895e-01,  4.47486669e-01,\n",
              "          -3.53388608e-01, -9.11003828e-01, -1.08194903e-01,\n",
              "           1.12663731e-01,  3.17883104e-01, -4.97727036e-01,\n",
              "           1.30382478e-01, -1.08401544e-01,  1.06044695e-01,\n",
              "          -3.69407274e-02,  1.83811620e-01, -3.98493975e-01,\n",
              "           1.03967600e-01,  1.53505400e-01, -3.31469357e-01,\n",
              "          -5.75293414e-02, -5.09464920e-01, -2.11596638e-01,\n",
              "           2.18505234e-01,  1.95761584e-02,  1.65082917e-01,\n",
              "          -4.33688462e-01,  5.25245726e-01, -4.18036073e-01,\n",
              "          -7.62465447e-02, -4.21264172e-01]]],\n",
              "\n",
              "\n",
              "       [[[ 1.42429158e-01, -2.08194837e-01,  3.44630331e-01,\n",
              "          -7.15561584e-02, -5.48644483e-01, -2.27454782e-01,\n",
              "           2.53812194e-01,  1.82165116e-01,  5.09755969e-01,\n",
              "           2.46242166e-01, -1.09652936e+00, -2.72936910e-01,\n",
              "          -7.83624649e-01, -1.34359086e+00, -7.26061523e-01,\n",
              "          -3.49451244e-01,  2.75798496e-02,  6.33790314e-01,\n",
              "          -1.48452997e-01, -4.96156752e-01,  3.88383150e-01,\n",
              "          -2.76853815e-02,  1.60062220e-02, -2.53426045e-01,\n",
              "          -5.51348984e-01,  2.21164703e-01,  5.84799796e-02,\n",
              "           4.54977602e-02, -6.21588349e-01, -1.07118495e-01,\n",
              "           1.48990780e-01,  3.35814536e-01]],\n",
              "\n",
              "        [[ 2.84468263e-01, -1.81223273e-01,  3.21569204e-01,\n",
              "          -1.36772260e-01, -3.23212445e-01,  4.03134376e-01,\n",
              "          -2.50321925e-01, -6.41565263e-01, -3.40915360e-02,\n",
              "          -4.30620275e-02, -1.00136089e+00, -6.01600528e-01,\n",
              "          -1.35409862e-01, -9.43438649e-01,  3.04698378e-01,\n",
              "           1.80258844e-02, -3.96127224e-01,  6.32986784e-01,\n",
              "           8.89338106e-02,  2.85460740e-01, -1.33907467e-01,\n",
              "           2.62305558e-01,  4.39817220e-01,  1.26958087e-01,\n",
              "          -7.24211812e-01,  2.12083105e-02, -1.49916708e-01,\n",
              "           3.41830522e-01, -6.62182987e-01,  3.95565927e-01,\n",
              "           1.67422310e-01,  3.10759246e-01]],\n",
              "\n",
              "        [[-1.00563236e-01,  2.58028805e-01, -5.80178108e-03,\n",
              "           3.23836148e-01,  4.75717634e-01,  1.69139683e-01,\n",
              "           2.80093458e-02, -1.44274914e+00, -7.27967799e-01,\n",
              "          -1.78589821e-01, -8.60476315e-01, -1.02035737e+00,\n",
              "          -6.47440180e-02, -1.52853501e+00,  9.10413742e-01,\n",
              "           3.91932636e-01,  1.24363517e-02,  3.57260182e-03,\n",
              "           2.42602259e-01,  1.22110777e-01,  2.05986619e-01,\n",
              "          -1.33081386e-02, -3.93782288e-01,  3.68549585e-01,\n",
              "          -4.52290773e-01, -4.48726229e-02,  6.23755939e-02,\n",
              "           2.06709653e-01, -2.73062527e-01,  3.67649496e-01,\n",
              "          -4.51754063e-01,  3.05100024e-01]]]], dtype=float32)>"
            ]
          },
          "metadata": {},
          "execution_count": 20
        }
      ]
    },
    {
      "cell_type": "code",
      "source": [
        "# 첫 번째 레이어 bias 가중치\n",
        "model.layers[0].bias"
      ],
      "metadata": {
        "colab": {
          "base_uri": "https://localhost:8080/"
        },
        "id": "p0qrqHnGk4_v",
        "outputId": "a3c34ece-376b-4dce-b57e-68e2f9efe749"
      },
      "execution_count": 21,
      "outputs": [
        {
          "output_type": "execute_result",
          "data": {
            "text/plain": [
              "<tf.Variable 'conv/bias:0' shape=(32,) dtype=float32, numpy=\n",
              "array([-0.28559294, -0.31399885, -0.14641023, -0.2700943 , -0.09332314,\n",
              "       -0.08717757, -0.22094922,  0.0345789 ,  0.00067012, -0.23798604,\n",
              "       -0.02284987, -0.02499668,  0.10575819,  0.15651794, -0.00398857,\n",
              "       -0.29814923, -0.17054561, -0.01614953, -0.2609797 , -0.21081929,\n",
              "       -0.28089982, -0.2592687 , -0.19874893, -0.20345676, -0.05113345,\n",
              "       -0.2403579 , -0.13780631, -0.38149   , -0.05011002, -0.21574515,\n",
              "       -0.22242635, -0.1485757 ], dtype=float32)>"
            ]
          },
          "metadata": {},
          "execution_count": 21
        }
      ]
    },
    {
      "cell_type": "code",
      "source": [
        "# 레이어 이름 사용하여 레이어 선택\n",
        "model.get_layer('conv')"
      ],
      "metadata": {
        "colab": {
          "base_uri": "https://localhost:8080/"
        },
        "id": "rcaUYnw-k7ke",
        "outputId": "44ef67e8-cac0-4f64-c26d-b2d109650618"
      },
      "execution_count": 22,
      "outputs": [
        {
          "output_type": "execute_result",
          "data": {
            "text/plain": [
              "<keras.layers.convolutional.conv2d.Conv2D at 0x7f7b94ff5940>"
            ]
          },
          "metadata": {},
          "execution_count": 22
        }
      ]
    },
    {
      "cell_type": "code",
      "source": [
        "# 샘플 이미지의 레이어별 출력을 리스트에 추가(1, 2번째 레이어)\n",
        "\n",
        "# 모델에 입력 데이터를 넣어주고, 모델의 1, 2번째 레이어의 출력을 최종 출력으로 갖는 activator 모델 정의\n",
        "activator = tf.keras.Model(inputs=model.input, outputs=[layer.output for layer in model.layers[:2]])\n",
        "activations = activator.predict(x_train_in[0][tf.newaxis,...])\n",
        "len(activations)"
      ],
      "metadata": {
        "colab": {
          "base_uri": "https://localhost:8080/"
        },
        "id": "rENFry17lA5b",
        "outputId": "ef134e8b-ccfb-4c1f-9a62-6efd68d403aa"
      },
      "execution_count": 23,
      "outputs": [
        {
          "output_type": "stream",
          "name": "stdout",
          "text": [
            "1/1 [==============================] - 0s 77ms/step\n"
          ]
        },
        {
          "output_type": "execute_result",
          "data": {
            "text/plain": [
              "2"
            ]
          },
          "metadata": {},
          "execution_count": 23
        }
      ]
    },
    {
      "cell_type": "code",
      "source": [
        "# 첫번째 레이어(conv) 출력층\n",
        "conv_activation = activations[0]\n",
        "conv_activation.shape"
      ],
      "metadata": {
        "colab": {
          "base_uri": "https://localhost:8080/"
        },
        "id": "SYG5otxblU74",
        "outputId": "01c21bad-8cc3-45de-bfe0-4e05ff428953"
      },
      "execution_count": 24,
      "outputs": [
        {
          "output_type": "execute_result",
          "data": {
            "text/plain": [
              "(1, 26, 26, 32)"
            ]
          },
          "metadata": {},
          "execution_count": 24
        }
      ]
    },
    {
      "cell_type": "markdown",
      "source": [
        "* 1 : 입력 이미지의 개수(샘플이 1개)"
      ],
      "metadata": {
        "id": "C4FellsjlW46"
      }
    },
    {
      "cell_type": "code",
      "source": [
        "# 첫 번째 레이어에서 출력되는 특성맵 이미지를 32개 커널별로 구분하여 시각화\n",
        "fig, axes = plt.subplots(4,8)\n",
        "fig.set_size_inches(10,5)\n",
        "\n",
        "for i in range(32):\n",
        "    axes[i//8, i%8].matshow(conv_activation[0,:,:,i], cmap='viridis')\n",
        "    axes[i//8, i%8].set_title('kernel %s'%str(i), fontsize=10)\n",
        "    plt.setp(axes[i//8, i%8].get_xticklabels(), visible = False)\n",
        "    plt.setp(axes[i//8, i%8].get_yticklabels(), visible = False)\n",
        "    \n",
        "plt.tight_layout()\n",
        "plt.show()"
      ],
      "metadata": {
        "colab": {
          "base_uri": "https://localhost:8080/",
          "height": 369
        },
        "id": "tq-fYKhulajP",
        "outputId": "ad6ef0cc-a9c6-402e-821c-0b451885d8ac"
      },
      "execution_count": 25,
      "outputs": [
        {
          "output_type": "display_data",
          "data": {
            "text/plain": [
              "<Figure size 720x360 with 32 Axes>"
            ],
            "image/png": "[encoded data removed]"
          },
          "metadata": {}
        }
      ]
    },
    {
      "cell_type": "code",
      "source": [
        "# 두번째 레이어 출력층\n",
        "pooling_activation = activations[1]\n",
        "print(pooling_activation.shape)"
      ],
      "metadata": {
        "colab": {
          "base_uri": "https://localhost:8080/"
        },
        "id": "LJo5lsIEljFG",
        "outputId": "8ddbe870-cfcc-49d8-e1a7-d5274a5a1e7c"
      },
      "execution_count": 26,
      "outputs": [
        {
          "output_type": "stream",
          "name": "stdout",
          "text": [
            "(1, 13, 13, 32)\n"
          ]
        }
      ]
    },
    {
      "cell_type": "code",
      "source": [
        "# 시각화\n",
        "fig, axes = plt.subplots(4,8)\n",
        "fig.set_size_inches(10,5)\n",
        "\n",
        "for i in range(32):\n",
        "    axes[i//8, i%8].matshow(pooling_activation[0,:,:,i], cmap='viridis')\n",
        "    axes[i//8, i%8].set_title('kernel %s'%str(i), fontsize=10)\n",
        "    plt.setp(axes[i//8, i%8].get_xticklabels(), visible = False)\n",
        "    plt.setp(axes[i//8, i%8].get_yticklabels(), visible = False)\n",
        "    \n",
        "plt.tight_layout()\n",
        "plt.show()"
      ],
      "metadata": {
        "colab": {
          "base_uri": "https://localhost:8080/",
          "height": 369
        },
        "id": "e6FgXBDDlm28",
        "outputId": "dd605b22-d6d0-457e-a23d-4871e8858049"
      },
      "execution_count": 27,
      "outputs": [
        {
          "output_type": "display_data",
          "data": {
            "text/plain": [
              "<Figure size 720x360 with 32 Axes>"
            ],
            "image/png": "[encoded data removed]"
          },
          "metadata": {}
        }
      ]
    },
    {
      "cell_type": "markdown",
      "source": [
        "* conv 출력 이미지에 비해 화소 크기가 굵어짐\n",
        "\n",
        "* 최대 풀링은 인근 픽셀들을 모아서 최대값으로 고정하기 때문에 픽셀 수는 줄이면서 특징을 더욱 강하게 드러냄"
      ],
      "metadata": {
        "id": "QWD96KK_lrRb"
      }
    },
    {
      "cell_type": "markdown",
      "source": [
        "## 03. 복잡한 모델 생성\n",
        "\n",
        "\n",
        "\n"
      ],
      "metadata": {
        "id": "ddDVSuF_l1w4"
      }
    },
    {
      "cell_type": "markdown",
      "source": [
        "### 3-1. 데이터셋 준비"
      ],
      "metadata": {
        "id": "KvQvzhwil5v_"
      }
    },
    {
      "cell_type": "code",
      "source": [
        "import tensorflow as tf\n",
        "\n",
        "mnist = tf.keras.datasets.mnist\n",
        "(x_train, y_train), (x_valid, y_valid) = mnist.load_data()\n",
        "\n",
        "print(x_train.shape, y_train.shape) \n",
        "print(x_valid.shape, y_valid.shape)"
      ],
      "metadata": {
        "colab": {
          "base_uri": "https://localhost:8080/"
        },
        "id": "-ocXJomul8FA",
        "outputId": "9e87d4f9-3fe8-4798-f22d-6d61e121d55b"
      },
      "execution_count": 28,
      "outputs": [
        {
          "output_type": "stream",
          "name": "stdout",
          "text": [
            "(60000, 28, 28) (60000,)\n",
            "(10000, 28, 28) (10000,)\n"
          ]
        }
      ]
    },
    {
      "cell_type": "code",
      "source": [
        "# 새로운 출력 값 배열 생성(홀수 : 1, 짝수 : 0)\n",
        "\n",
        "import numpy as np\n",
        "\n",
        "y_train_odd = []\n",
        "for y in y_train:\n",
        "  if y % 2 == 0:\n",
        "    y_train_odd.append(0)\n",
        "  else:\n",
        "    y_train_odd.append(1)\n",
        "y_train_odd = np.array(y_train_odd)\n",
        "y_train_odd.shape"
      ],
      "metadata": {
        "colab": {
          "base_uri": "https://localhost:8080/"
        },
        "id": "-jRJddAymGvE",
        "outputId": "f5ccb2e7-2816-4776-f0de-72aa961ff4e8"
      },
      "execution_count": 30,
      "outputs": [
        {
          "output_type": "execute_result",
          "data": {
            "text/plain": [
              "(60000,)"
            ]
          },
          "metadata": {},
          "execution_count": 30
        }
      ]
    },
    {
      "cell_type": "code",
      "source": [
        "print(y_train[:10])\n",
        "print(y_train_odd[:10])"
      ],
      "metadata": {
        "colab": {
          "base_uri": "https://localhost:8080/"
        },
        "id": "lp_FHrrRmfNd",
        "outputId": "1c684b10-8ca5-4fb6-f4d6-e6b5ab732e46"
      },
      "execution_count": 31,
      "outputs": [
        {
          "output_type": "stream",
          "name": "stdout",
          "text": [
            "[5 0 4 1 9 2 1 3 1 4]\n",
            "[1 0 0 1 1 0 1 1 1 0]\n"
          ]
        }
      ]
    },
    {
      "cell_type": "code",
      "source": [
        "# validation 데이터셋 처리\n",
        "y_valid_odd=[]\n",
        "for y in y_valid:\n",
        "  if y%2==0:\n",
        "    y_valid_odd.append(0)\n",
        "  else:\n",
        "    y_valid_odd.append(1)\n",
        "\n",
        "y_valid_odd = np.array(y_valid_odd)\n",
        "y_valid_odd.shape"
      ],
      "metadata": {
        "colab": {
          "base_uri": "https://localhost:8080/"
        },
        "id": "X_iyzDZzmjfY",
        "outputId": "024bc20e-0b28-42e6-8b9f-8a0aef59c8e2"
      },
      "execution_count": 32,
      "outputs": [
        {
          "output_type": "execute_result",
          "data": {
            "text/plain": [
              "(10000,)"
            ]
          },
          "metadata": {},
          "execution_count": 32
        }
      ]
    },
    {
      "cell_type": "code",
      "source": [
        "# 정규화\n",
        "x_train = x_train/255.0\n",
        "x_valid = x_valid/255.0\n",
        "\n",
        "# 채널 추가\n",
        "x_train_in = tf.expand_dims(x_train, -1)\n",
        "x_valid_in = tf.expand_dims(x_valid, -1)\n",
        "\n",
        "print(x_train_in.shape, x_valid_in.shape)"
      ],
      "metadata": {
        "colab": {
          "base_uri": "https://localhost:8080/"
        },
        "id": "DiDA2tEBmo92",
        "outputId": "a2a05155-96e1-4467-8bf3-3d690f2b59a3"
      },
      "execution_count": 33,
      "outputs": [
        {
          "output_type": "stream",
          "name": "stdout",
          "text": [
            "(60000, 28, 28, 1) (10000, 28, 28, 1)\n"
          ]
        }
      ]
    },
    {
      "cell_type": "markdown",
      "source": [
        "### 3-2. Functional API로 다중 입력, 출력 레이어 생성"
      ],
      "metadata": {
        "id": "XaqdTtBemqmN"
      }
    },
    {
      "cell_type": "code",
      "source": [
        "# Functional API를 이용하여 모델 생성\n",
        "inputs = tf.keras.layers.Input(shape=(28,28,1))\n",
        "\n",
        "conv = tf.keras.layers.Conv2D(32, (3,3), activation='relu')(inputs)\n",
        "pool = tf.keras.layers.MaxPooling2D((2,2))(conv)\n",
        "flat = tf.keras.layers.Flatten()(pool)\n",
        "\n",
        "flat_inputs = tf.keras.layers.Flatten()(inputs)\n",
        "concat = tf.keras.layers.Concatenate()([flat, flat_inputs])\n",
        "outputs = tf.keras.layers.Dense(10, activation='softmax')(concat)\n",
        "\n",
        "model = tf.keras.models.Model(inputs=inputs, outputs=outputs)\n",
        "model.summary()"
      ],
      "metadata": {
        "colab": {
          "base_uri": "https://localhost:8080/"
        },
        "id": "TlJXTdA9mv62",
        "outputId": "5c5602be-60e9-4446-8478-99ff8791ae0d"
      },
      "execution_count": 34,
      "outputs": [
        {
          "output_type": "stream",
          "name": "stdout",
          "text": [
            "Model: \"model_1\"\n",
            "__________________________________________________________________________________________________\n",
            " Layer (type)                   Output Shape         Param #     Connected to                     \n",
            "==================================================================================================\n",
            " input_1 (InputLayer)           [(None, 28, 28, 1)]  0           []                               \n",
            "                                                                                                  \n",
            " conv2d (Conv2D)                (None, 26, 26, 32)   320         ['input_1[0][0]']                \n",
            "                                                                                                  \n",
            " max_pooling2d (MaxPooling2D)   (None, 13, 13, 32)   0           ['conv2d[0][0]']                 \n",
            "                                                                                                  \n",
            " flatten_1 (Flatten)            (None, 5408)         0           ['max_pooling2d[0][0]']          \n",
            "                                                                                                  \n",
            " flatten_2 (Flatten)            (None, 784)          0           ['input_1[0][0]']                \n",
            "                                                                                                  \n",
            " concatenate (Concatenate)      (None, 6192)         0           ['flatten_1[0][0]',              \n",
            "                                                                  'flatten_2[0][0]']              \n",
            "                                                                                                  \n",
            " dense_1 (Dense)                (None, 10)           61930       ['concatenate[0][0]']            \n",
            "                                                                                                  \n",
            "==================================================================================================\n",
            "Total params: 62,250\n",
            "Trainable params: 62,250\n",
            "Non-trainable params: 0\n",
            "__________________________________________________________________________________________________\n"
          ]
        }
      ]
    },
    {
      "cell_type": "code",
      "source": [
        "# 모델 구조 출력 및 이미지 파일로 저장\n",
        "from tensorflow.keras.utils import plot_model\n",
        "\n",
        "plot_model(model, show_shapes=True, show_layer_names=True, to_file='functional_cnn.png')"
      ],
      "metadata": {
        "colab": {
          "base_uri": "https://localhost:8080/",
          "height": 644
        },
        "id": "VInEE_bjmzhp",
        "outputId": "38a555c3-95fd-4635-e0a6-216ecae99054"
      },
      "execution_count": 35,
      "outputs": [
        {
          "output_type": "execute_result",
          "data": {
            "image/png": "[encoded data removed]",
            "text/plain": [
              "<IPython.core.display.Image object>"
            ]
          },
          "metadata": {},
          "execution_count": 35
        }
      ]
    },
    {
      "cell_type": "code",
      "source": [
        "# 모델 컴파일\n",
        "model.compile(optimizer='adam', loss='sparse_categorical_crossentropy', metrics=['accuracy'])\n",
        "\n",
        "# 모델 훈련\n",
        "history = model.fit(x_train_in, y_train, validation_data = (x_valid_in, y_valid),\n",
        "                    epochs=10)\n",
        "\n",
        "# 모델 성능\n",
        "val_loss, val_acc = model.evaluate(x_valid_in, y_valid)\n",
        "print(val_loss, val_acc)"
      ],
      "metadata": {
        "colab": {
          "base_uri": "https://localhost:8080/"
        },
        "id": "3oniWW67m4_R",
        "outputId": "3c7a146b-d61c-4202-cb9a-793e79bf4f2f"
      },
      "execution_count": 36,
      "outputs": [
        {
          "output_type": "stream",
          "name": "stdout",
          "text": [
            "Epoch 1/10\n",
            "1875/1875 [==============================] - 40s 21ms/step - loss: 0.1979 - accuracy: 0.9444 - val_loss: 0.0843 - val_accuracy: 0.9749\n",
            "Epoch 2/10\n",
            "1875/1875 [==============================] - 40s 21ms/step - loss: 0.0767 - accuracy: 0.9779 - val_loss: 0.0626 - val_accuracy: 0.9794\n",
            "Epoch 3/10\n",
            "1875/1875 [==============================] - 40s 21ms/step - loss: 0.0595 - accuracy: 0.9815 - val_loss: 0.0564 - val_accuracy: 0.9817\n",
            "Epoch 4/10\n",
            "1875/1875 [==============================] - 45s 24ms/step - loss: 0.0484 - accuracy: 0.9852 - val_loss: 0.0569 - val_accuracy: 0.9809\n",
            "Epoch 5/10\n",
            "1875/1875 [==============================] - 42s 22ms/step - loss: 0.0403 - accuracy: 0.9880 - val_loss: 0.0606 - val_accuracy: 0.9814\n",
            "Epoch 6/10\n",
            "1875/1875 [==============================] - 38s 20ms/step - loss: 0.0348 - accuracy: 0.9893 - val_loss: 0.0542 - val_accuracy: 0.9832\n",
            "Epoch 7/10\n",
            "1875/1875 [==============================] - 41s 22ms/step - loss: 0.0284 - accuracy: 0.9912 - val_loss: 0.0581 - val_accuracy: 0.9832\n",
            "Epoch 8/10\n",
            "1875/1875 [==============================] - 55s 30ms/step - loss: 0.0250 - accuracy: 0.9921 - val_loss: 0.0539 - val_accuracy: 0.9835\n",
            "Epoch 9/10\n",
            "1875/1875 [==============================] - 48s 26ms/step - loss: 0.0216 - accuracy: 0.9931 - val_loss: 0.0597 - val_accuracy: 0.9830\n",
            "Epoch 10/10\n",
            "1875/1875 [==============================] - 42s 22ms/step - loss: 0.0174 - accuracy: 0.9948 - val_loss: 0.0531 - val_accuracy: 0.9843\n",
            "313/313 [==============================] - 3s 10ms/step - loss: 0.0531 - accuracy: 0.9843\n",
            "0.0531361922621727 0.9843000173568726\n"
          ]
        }
      ]
    },
    {
      "cell_type": "markdown",
      "source": [
        "### 3-3. 다중 출력 분류 모델"
      ],
      "metadata": {
        "id": "XsGON-dTm7xS"
      }
    },
    {
      "cell_type": "markdown",
      "source": [
        "* 2가지 서로 다른 분류 문제를 예측하는 다중 출력 모델 만들기\n",
        "\n",
        "* 각기 다른 문제에 맞도록 최종 분류기의 출력 레이어를 2개 만들어야 함"
      ],
      "metadata": {
        "id": "6xwXhojGnCH4"
      }
    },
    {
      "cell_type": "code",
      "source": [
        "# Functional API를 이용하여 모델 생성\n",
        "inputs = tf.keras.layers.Input(shape=(28,28,1), name='inputs')\n",
        "\n",
        "conv = tf.keras.layers.Conv2D(32, (3,3), activation='relu', name='conv2d_layer')(inputs)\n",
        "pool = tf.keras.layers.MaxPooling2D((2,2), name='maxpool_layer')(conv)\n",
        "flat = tf.keras.layers.Flatten(name='flaten_layer')(pool)\n",
        "\n",
        "flat_inputs = tf.keras.layers.Flatten()(inputs)\n",
        "concat = tf.keras.layers.Concatenate()([flat, flat_inputs])\n",
        "digit_outputs = tf.keras.layers.Dense(10, activation='softmax', name='digit_dense')(concat)\n",
        "odd_outputs = tf.keras.layers.Dense(1, activation='sigmoid', name='odd_dense')(flat_inputs)\n",
        "\n",
        "model = tf.keras.models.Model(inputs=inputs, outputs=[digit_outputs, odd_outputs])\n",
        "model.summary()"
      ],
      "metadata": {
        "colab": {
          "base_uri": "https://localhost:8080/"
        },
        "id": "Rm-TTIJPnKyl",
        "outputId": "2a70f92b-0e80-4978-e048-fefc4aa25c74"
      },
      "execution_count": 37,
      "outputs": [
        {
          "output_type": "stream",
          "name": "stdout",
          "text": [
            "Model: \"model_2\"\n",
            "__________________________________________________________________________________________________\n",
            " Layer (type)                   Output Shape         Param #     Connected to                     \n",
            "==================================================================================================\n",
            " inputs (InputLayer)            [(None, 28, 28, 1)]  0           []                               \n",
            "                                                                                                  \n",
            " conv2d_layer (Conv2D)          (None, 26, 26, 32)   320         ['inputs[0][0]']                 \n",
            "                                                                                                  \n",
            " maxpool_layer (MaxPooling2D)   (None, 13, 13, 32)   0           ['conv2d_layer[0][0]']           \n",
            "                                                                                                  \n",
            " flaten_layer (Flatten)         (None, 5408)         0           ['maxpool_layer[0][0]']          \n",
            "                                                                                                  \n",
            " flatten_3 (Flatten)            (None, 784)          0           ['inputs[0][0]']                 \n",
            "                                                                                                  \n",
            " concatenate_1 (Concatenate)    (None, 6192)         0           ['flaten_layer[0][0]',           \n",
            "                                                                  'flatten_3[0][0]']              \n",
            "                                                                                                  \n",
            " digit_dense (Dense)            (None, 10)           61930       ['concatenate_1[0][0]']          \n",
            "                                                                                                  \n",
            " odd_dense (Dense)              (None, 1)            785         ['flatten_3[0][0]']              \n",
            "                                                                                                  \n",
            "==================================================================================================\n",
            "Total params: 63,035\n",
            "Trainable params: 63,035\n",
            "Non-trainable params: 0\n",
            "__________________________________________________________________________________________________\n"
          ]
        }
      ]
    },
    {
      "cell_type": "code",
      "source": [
        "# 모델의 입력과 출력을 나타내는 텐서\n",
        "print(model.input)\n",
        "print(model.output)"
      ],
      "metadata": {
        "colab": {
          "base_uri": "https://localhost:8080/"
        },
        "id": "9B8Kv2sTnO6a",
        "outputId": "1734b68d-56ad-46b8-b1db-0b92baa01235"
      },
      "execution_count": 38,
      "outputs": [
        {
          "output_type": "stream",
          "name": "stdout",
          "text": [
            "KerasTensor(type_spec=TensorSpec(shape=(None, 28, 28, 1), dtype=tf.float32, name='inputs'), name='inputs', description=\"created by layer 'inputs'\")\n",
            "[<KerasTensor: shape=(None, 10) dtype=float32 (created by layer 'digit_dense')>, <KerasTensor: shape=(None, 1) dtype=float32 (created by layer 'odd_dense')>]\n"
          ]
        }
      ]
    },
    {
      "cell_type": "code",
      "source": [
        "# 모델 구조\n",
        "plot_model(model, show_shapes=True, show_layer_names=True, to_file='multi_output_cnn.png')"
      ],
      "metadata": {
        "colab": {
          "base_uri": "https://localhost:8080/",
          "height": 644
        },
        "id": "hGZMM6H5nRPA",
        "outputId": "1059819c-c2ee-4e9b-9fe0-b0a171022053"
      },
      "execution_count": 39,
      "outputs": [
        {
          "output_type": "execute_result",
          "data": {
            "image/png": "[encoded data removed]",
            "text/plain": [
              "<IPython.core.display.Image object>"
            ]
          },
          "metadata": {},
          "execution_count": 39
        }
      ]
    },
    {
      "cell_type": "markdown",
      "source": [
        "* 컴파일 시, 모델을 정의할 때 출력 Dense 레이어에 name 속성으로 지정한 이름을 key로 하고, 해당 key에 해당하는 레이어에 적용할 손실함수와 가중치를 딕셔너리 형태로 지정\n",
        "\n",
        "* fit 수행 시, 출력값을 2개 지정하고 레이어 이름 속성을 key로 하는 딕셔너리 형태로 각각의 출력에 맞는 정답 배열을 입력해야 함"
      ],
      "metadata": {
        "id": "tTKWaa2nnYi_"
      }
    },
    {
      "cell_type": "code",
      "source": [
        "# 모델 컴파일\n",
        "model.compile(optimizer='adam', loss={'digit_dense':'sparse_categorical_crossentropy',\n",
        "                                      'odd_dense':'binary_crossentropy'},\n",
        "              loss_weights={'digit_dense':1, 'odd_dense':0.5},\n",
        "              # loss = 1.0*sparse_categorical_crossentropy + 0.5*binary_crossentropy\n",
        "              metrics=['accuracy'])\n",
        "\n",
        "# 모델 훈련\n",
        "history = model.fit({'inputs':x_train_in},{'digit_dense':y_train, 'odd_dense':y_train_odd},\n",
        "                    validation_data = ({'inputs':x_valid_in}, {'digit_dense':y_valid,'odd_dense':y_valid_odd}),\n",
        "                    epochs=10)"
      ],
      "metadata": {
        "colab": {
          "base_uri": "https://localhost:8080/"
        },
        "id": "ftRFcEidnWQn",
        "outputId": "af73656c-459d-4318-c6e5-f18eda8a0bf7"
      },
      "execution_count": 40,
      "outputs": [
        {
          "output_type": "stream",
          "name": "stdout",
          "text": [
            "Epoch 1/10\n",
            "1875/1875 [==============================] - 49s 26ms/step - loss: 0.3592 - digit_dense_loss: 0.1982 - odd_dense_loss: 0.3219 - digit_dense_accuracy: 0.9433 - odd_dense_accuracy: 0.8655 - val_loss: 0.2354 - val_digit_dense_loss: 0.0978 - val_odd_dense_loss: 0.2753 - val_digit_dense_accuracy: 0.9696 - val_odd_dense_accuracy: 0.8891\n",
            "Epoch 2/10\n",
            "1875/1875 [==============================] - 53s 28ms/step - loss: 0.2170 - digit_dense_loss: 0.0814 - odd_dense_loss: 0.2712 - digit_dense_accuracy: 0.9754 - odd_dense_accuracy: 0.8918 - val_loss: 0.2083 - val_digit_dense_loss: 0.0739 - val_odd_dense_loss: 0.2688 - val_digit_dense_accuracy: 0.9772 - val_odd_dense_accuracy: 0.8945\n",
            "Epoch 3/10\n",
            "1875/1875 [==============================] - 44s 23ms/step - loss: 0.1927 - digit_dense_loss: 0.0615 - odd_dense_loss: 0.2624 - digit_dense_accuracy: 0.9811 - odd_dense_accuracy: 0.8956 - val_loss: 0.1976 - val_digit_dense_loss: 0.0669 - val_odd_dense_loss: 0.2613 - val_digit_dense_accuracy: 0.9779 - val_odd_dense_accuracy: 0.8989\n",
            "Epoch 4/10\n",
            "1875/1875 [==============================] - 43s 23ms/step - loss: 0.1803 - digit_dense_loss: 0.0510 - odd_dense_loss: 0.2587 - digit_dense_accuracy: 0.9842 - odd_dense_accuracy: 0.8981 - val_loss: 0.1882 - val_digit_dense_loss: 0.0591 - val_odd_dense_loss: 0.2580 - val_digit_dense_accuracy: 0.9809 - val_odd_dense_accuracy: 0.9015\n",
            "Epoch 5/10\n",
            "1875/1875 [==============================] - 57s 30ms/step - loss: 0.1712 - digit_dense_loss: 0.0428 - odd_dense_loss: 0.2568 - digit_dense_accuracy: 0.9868 - odd_dense_accuracy: 0.8993 - val_loss: 0.1836 - val_digit_dense_loss: 0.0555 - val_odd_dense_loss: 0.2562 - val_digit_dense_accuracy: 0.9838 - val_odd_dense_accuracy: 0.9008\n",
            "Epoch 6/10\n",
            "1875/1875 [==============================] - 41s 22ms/step - loss: 0.1629 - digit_dense_loss: 0.0351 - odd_dense_loss: 0.2556 - digit_dense_accuracy: 0.9890 - odd_dense_accuracy: 0.8995 - val_loss: 0.1843 - val_digit_dense_loss: 0.0562 - val_odd_dense_loss: 0.2561 - val_digit_dense_accuracy: 0.9822 - val_odd_dense_accuracy: 0.9021\n",
            "Epoch 7/10\n",
            "1875/1875 [==============================] - 45s 24ms/step - loss: 0.1582 - digit_dense_loss: 0.0308 - odd_dense_loss: 0.2548 - digit_dense_accuracy: 0.9902 - odd_dense_accuracy: 0.9005 - val_loss: 0.1849 - val_digit_dense_loss: 0.0565 - val_odd_dense_loss: 0.2569 - val_digit_dense_accuracy: 0.9823 - val_odd_dense_accuracy: 0.9020\n",
            "Epoch 8/10\n",
            "1875/1875 [==============================] - 44s 23ms/step - loss: 0.1525 - digit_dense_loss: 0.0253 - odd_dense_loss: 0.2542 - digit_dense_accuracy: 0.9921 - odd_dense_accuracy: 0.9011 - val_loss: 0.1894 - val_digit_dense_loss: 0.0607 - val_odd_dense_loss: 0.2573 - val_digit_dense_accuracy: 0.9828 - val_odd_dense_accuracy: 0.9000\n",
            "Epoch 9/10\n",
            "1875/1875 [==============================] - 36s 19ms/step - loss: 0.1484 - digit_dense_loss: 0.0216 - odd_dense_loss: 0.2535 - digit_dense_accuracy: 0.9932 - odd_dense_accuracy: 0.9015 - val_loss: 0.1834 - val_digit_dense_loss: 0.0558 - val_odd_dense_loss: 0.2553 - val_digit_dense_accuracy: 0.9835 - val_odd_dense_accuracy: 0.9012\n",
            "Epoch 10/10\n",
            "1875/1875 [==============================] - 35s 19ms/step - loss: 0.1455 - digit_dense_loss: 0.0189 - odd_dense_loss: 0.2532 - digit_dense_accuracy: 0.9941 - odd_dense_accuracy: 0.9012 - val_loss: 0.1976 - val_digit_dense_loss: 0.0703 - val_odd_dense_loss: 0.2546 - val_digit_dense_accuracy: 0.9803 - val_odd_dense_accuracy: 0.9020\n"
          ]
        }
      ]
    },
    {
      "cell_type": "code",
      "source": [
        "# 모델 성능\n",
        "model.evaluate({'inputs':x_train_in},{'digit_dense':y_train, 'odd_dense':y_train_odd})"
      ],
      "metadata": {
        "colab": {
          "base_uri": "https://localhost:8080/"
        },
        "id": "SIEgfovRnxA_",
        "outputId": "43f78eec-c1c1-4ce5-c200-443c4fadb87f"
      },
      "execution_count": 41,
      "outputs": [
        {
          "output_type": "stream",
          "name": "stdout",
          "text": [
            "1875/1875 [==============================] - 16s 9ms/step - loss: 0.1450 - digit_dense_loss: 0.0193 - odd_dense_loss: 0.2514 - digit_dense_accuracy: 0.9936 - odd_dense_accuracy: 0.9022\n"
          ]
        },
        {
          "output_type": "execute_result",
          "data": {
            "text/plain": [
              "[0.1450330913066864,\n",
              " 0.019327683374285698,\n",
              " 0.25141090154647827,\n",
              " 0.9936333298683167,\n",
              " 0.9022166728973389]"
            ]
          },
          "metadata": {},
          "execution_count": 41
        }
      ]
    },
    {
      "cell_type": "code",
      "source": [
        "# 샘플 이미지 출력\n",
        "import matplotlib.pyplot as plt\n",
        "\n",
        "def plot_image(data, idx):\n",
        "  plt.figure(figsize=(5,5))\n",
        "  plt.imshow(data[idx])\n",
        "  plt.axis('off')\n",
        "  plt.show()\n",
        "\n",
        "plot_image(x_valid, 0)"
      ],
      "metadata": {
        "colab": {
          "base_uri": "https://localhost:8080/",
          "height": 303
        },
        "id": "R1aj7QYDn2ZZ",
        "outputId": "396c73d6-56df-4e77-e251-84c219bf840e"
      },
      "execution_count": 42,
      "outputs": [
        {
          "output_type": "display_data",
          "data": {
            "text/plain": [
              "<Figure size 360x360 with 1 Axes>"
            ],
            "image/png": "[encoded data removed]"
          },
          "metadata": {
            "needs_background": "light"
          }
        }
      ]
    },
    {
      "cell_type": "code",
      "source": [
        "# 검증 데이터셋의 모든 이미지 데이터를 입력해서 2개의 분류 문제에 대한 예측 확률 구하기\n",
        "digit_preds, odd_preds = model.predict(x_valid_in)\n",
        "print(digit_preds[0])\n",
        "print(odd_preds[0])"
      ],
      "metadata": {
        "colab": {
          "base_uri": "https://localhost:8080/"
        },
        "id": "c1cNpFBAn6cB",
        "outputId": "28d54c01-431e-4266-c79f-5ce699554c20"
      },
      "execution_count": 43,
      "outputs": [
        {
          "output_type": "stream",
          "name": "stdout",
          "text": [
            "313/313 [==============================] - 4s 12ms/step\n",
            "[1.8523837e-12 1.2556936e-10 4.8613806e-09 9.9123426e-06 2.8308814e-11\n",
            " 1.8588254e-12 2.7526499e-21 9.9999005e-01 3.5385906e-08 1.4311295e-09]\n",
            "[0.9996275]\n"
          ]
        }
      ]
    },
    {
      "cell_type": "code",
      "source": [
        "# argmax로 예측 확률을 실제 정답 레이블로 변환\n",
        "digit_labels = np.argmax(digit_preds,axis=1)\n",
        "digit_labels[0:10]"
      ],
      "metadata": {
        "colab": {
          "base_uri": "https://localhost:8080/"
        },
        "id": "-aehIZvSn5Cu",
        "outputId": "b7a97ed9-e8a8-493e-ac78-556a3936615f"
      },
      "execution_count": 44,
      "outputs": [
        {
          "output_type": "execute_result",
          "data": {
            "text/plain": [
              "array([7, 2, 1, 0, 4, 1, 4, 9, 5, 9])"
            ]
          },
          "metadata": {},
          "execution_count": 44
        }
      ]
    },
    {
      "cell_type": "code",
      "source": [
        "# 홀수, 짝수 여부에 대한 예측 레이블 출력\n",
        "odd_labels = (odd_preds > 0.5).astype(np.int).reshape(1,-1)[0] # 임계값 0.5\n",
        "odd_labels[0:10]"
      ],
      "metadata": {
        "colab": {
          "base_uri": "https://localhost:8080/"
        },
        "id": "O1oNz79DoO_w",
        "outputId": "591cf558-617b-482d-fca4-e82477e73a7c"
      },
      "execution_count": 45,
      "outputs": [
        {
          "output_type": "stream",
          "name": "stderr",
          "text": [
            "<ipython-input-45-b781d64fe21f>:2: DeprecationWarning: `np.int` is a deprecated alias for the builtin `int`. To silence this warning, use `int` by itself. Doing this will not modify any behavior and is safe. When replacing `np.int`, you may wish to use e.g. `np.int64` or `np.int32` to specify the precision. If you wish to review your current use, check the release note link for additional information.\n",
            "Deprecated in NumPy 1.20; for more details and guidance: https://numpy.org/devdocs/release/1.20.0-notes.html#deprecations\n",
            "  odd_labels = (odd_preds > 0.5).astype(np.int).reshape(1,-1)[0] # 임계값 0.5\n"
          ]
        },
        {
          "output_type": "execute_result",
          "data": {
            "text/plain": [
              "array([1, 0, 1, 0, 0, 1, 0, 1, 1, 1])"
            ]
          },
          "metadata": {},
          "execution_count": 45
        }
      ]
    },
    {
      "cell_type": "markdown",
      "source": [
        "### 3-4. 전이 학습(transfer learning)"
      ],
      "metadata": {
        "id": "hG1K1aVlogUP"
      }
    },
    {
      "cell_type": "markdown",
      "source": [
        "* 기존에 학습된 모델을 활용해 새로운 모델을 만들어 냄"
      ],
      "metadata": {
        "id": "0o7A-uU1ol3s"
      }
    },
    {
      "cell_type": "code",
      "source": [
        "# 앞의 모델에서 flatten_layer 출력을 추출\n",
        "base_model_output = model.get_layer('flaten_layer').output\n",
        "\n",
        "# 앞의 출력을 출력으로 하는 모델 정의\n",
        "base_model = tf.keras.models.Model(inputs=model.input,outputs=base_model_output,name='base')\n",
        "base_model.summary()"
      ],
      "metadata": {
        "colab": {
          "base_uri": "https://localhost:8080/"
        },
        "id": "bYjNFxE8ozEn",
        "outputId": "65362be0-8acf-49c1-a218-020bcb8a8803"
      },
      "execution_count": 48,
      "outputs": [
        {
          "output_type": "stream",
          "name": "stdout",
          "text": [
            "Model: \"base\"\n",
            "_________________________________________________________________\n",
            " Layer (type)                Output Shape              Param #   \n",
            "=================================================================\n",
            " inputs (InputLayer)         [(None, 28, 28, 1)]       0         \n",
            "                                                                 \n",
            " conv2d_layer (Conv2D)       (None, 26, 26, 32)        320       \n",
            "                                                                 \n",
            " maxpool_layer (MaxPooling2D  (None, 13, 13, 32)       0         \n",
            " )                                                               \n",
            "                                                                 \n",
            " flaten_layer (Flatten)      (None, 5408)              0         \n",
            "                                                                 \n",
            "=================================================================\n",
            "Total params: 320\n",
            "Trainable params: 320\n",
            "Non-trainable params: 0\n",
            "_________________________________________________________________\n"
          ]
        }
      ]
    },
    {
      "cell_type": "code",
      "source": [
        "# 모델 구조\n",
        "plot_model(base_model, show_shapes=True, show_layer_names=True, to_file='base_model.png')"
      ],
      "metadata": {
        "colab": {
          "base_uri": "https://localhost:8080/",
          "height": 422
        },
        "id": "a-46b_ljpHzE",
        "outputId": "dcf01c85-97a4-455e-b731-b08a8b7b3b16"
      },
      "execution_count": 49,
      "outputs": [
        {
          "output_type": "execute_result",
          "data": {
            "image/png": "[encoded data removed]",
            "text/plain": [
              "<IPython.core.display.Image object>"
            ]
          },
          "metadata": {},
          "execution_count": 49
        }
      ]
    },
    {
      "cell_type": "code",
      "source": [
        "# Sequential API 적용\n",
        "digit_model = tf.keras.Sequential([\n",
        "    base_model, # 앞서 정의한 base_model 레이어로 추가\n",
        "    tf.keras.layers.Dense(10, activation='softmax'), # 최종 분류기 역할의 Dense 레이어 추가\n",
        "])\n",
        "\n",
        "digit_model.summary()"
      ],
      "metadata": {
        "colab": {
          "base_uri": "https://localhost:8080/"
        },
        "id": "pZnkLWx-pLl8",
        "outputId": "72d04db7-e7bd-4331-ecac-a2b7b3ee7171"
      },
      "execution_count": 50,
      "outputs": [
        {
          "output_type": "stream",
          "name": "stdout",
          "text": [
            "Model: \"sequential_1\"\n",
            "_________________________________________________________________\n",
            " Layer (type)                Output Shape              Param #   \n",
            "=================================================================\n",
            " base (Functional)           (None, 5408)              320       \n",
            "                                                                 \n",
            " dense_2 (Dense)             (None, 10)                54090     \n",
            "                                                                 \n",
            "=================================================================\n",
            "Total params: 54,410\n",
            "Trainable params: 54,410\n",
            "Non-trainable params: 0\n",
            "_________________________________________________________________\n"
          ]
        }
      ]
    },
    {
      "cell_type": "code",
      "source": [
        "plot_model(digit_model, show_shapes=True, show_layer_names=True, to_file='digit_model.png')"
      ],
      "metadata": {
        "colab": {
          "base_uri": "https://localhost:8080/",
          "height": 312
        },
        "id": "8KtZniWqpTmx",
        "outputId": "2077da4a-4614-41ea-cddd-56c0ea490cf7"
      },
      "execution_count": 51,
      "outputs": [
        {
          "output_type": "execute_result",
          "data": {
            "image/png": "[encoded data removed]",
            "text/plain": [
              "<IPython.core.display.Image object>"
            ]
          },
          "metadata": {},
          "execution_count": 51
        }
      ]
    },
    {
      "cell_type": "markdown",
      "source": [
        "최종적으로 노드 10개를 가진 분류기 역할을 하는 Dense 레이어가 추가됨"
      ],
      "metadata": {
        "id": "slnVFnnLpLav"
      }
    },
    {
      "cell_type": "code",
      "source": [
        "# 모델 컴파일\n",
        "digit_model.compile(optimizer='adam', loss='sparse_categorical_crossentropy',\n",
        "               metrics=['accuracy'])\n",
        "\n",
        "# 모델 훈련\n",
        "history = digit_model.fit(x_train_in, y_train,\n",
        "                    validation_data = (x_valid_in, y_valid),\n",
        "                    epochs=10)"
      ],
      "metadata": {
        "colab": {
          "base_uri": "https://localhost:8080/"
        },
        "id": "sjZPWrygpcp0",
        "outputId": "88520f4e-117a-49c5-824d-52587a49f6aa"
      },
      "execution_count": 52,
      "outputs": [
        {
          "output_type": "stream",
          "name": "stdout",
          "text": [
            "Epoch 1/10\n",
            "1875/1875 [==============================] - 34s 18ms/step - loss: 0.1285 - accuracy: 0.9639 - val_loss: 0.0713 - val_accuracy: 0.9767\n",
            "Epoch 2/10\n",
            "1875/1875 [==============================] - 32s 17ms/step - loss: 0.0592 - accuracy: 0.9819 - val_loss: 0.0526 - val_accuracy: 0.9830\n",
            "Epoch 3/10\n",
            "1875/1875 [==============================] - 33s 18ms/step - loss: 0.0449 - accuracy: 0.9862 - val_loss: 0.0574 - val_accuracy: 0.9820\n",
            "Epoch 4/10\n",
            "1875/1875 [==============================] - 32s 17ms/step - loss: 0.0363 - accuracy: 0.9887 - val_loss: 0.0510 - val_accuracy: 0.9841\n",
            "Epoch 5/10\n",
            "1875/1875 [==============================] - 32s 17ms/step - loss: 0.0302 - accuracy: 0.9904 - val_loss: 0.0614 - val_accuracy: 0.9814\n",
            "Epoch 6/10\n",
            "1875/1875 [==============================] - 32s 17ms/step - loss: 0.0241 - accuracy: 0.9925 - val_loss: 0.0558 - val_accuracy: 0.9822\n",
            "Epoch 7/10\n",
            "1875/1875 [==============================] - 32s 17ms/step - loss: 0.0210 - accuracy: 0.9934 - val_loss: 0.0536 - val_accuracy: 0.9839\n",
            "Epoch 8/10\n",
            "1875/1875 [==============================] - 33s 18ms/step - loss: 0.0176 - accuracy: 0.9948 - val_loss: 0.0663 - val_accuracy: 0.9803\n",
            "Epoch 9/10\n",
            "1875/1875 [==============================] - 32s 17ms/step - loss: 0.0146 - accuracy: 0.9950 - val_loss: 0.0589 - val_accuracy: 0.9838\n",
            "Epoch 10/10\n",
            "1875/1875 [==============================] - 32s 17ms/step - loss: 0.0124 - accuracy: 0.9962 - val_loss: 0.0549 - val_accuracy: 0.9831\n"
          ]
        }
      ]
    },
    {
      "cell_type": "code",
      "source": [
        "# 베이스 모델의 가중치 고정(Freeze Model)\n",
        "base_model_frozen = tf.keras.models.Model(inputs=model.input,outputs=base_model_output,name='base_frozen')\n",
        "base_model_frozen.trainable = False # 모델의 파라미터 값 고정\n",
        "base_model_frozen.summary"
      ],
      "metadata": {
        "colab": {
          "base_uri": "https://localhost:8080/"
        },
        "id": "DF6LPnqzpdrU",
        "outputId": "5008ad0c-518b-4a5e-9353-a9b29198120c"
      },
      "execution_count": 53,
      "outputs": [
        {
          "output_type": "execute_result",
          "data": {
            "text/plain": [
              "<bound method Model.summary of <keras.engine.functional.Functional object at 0x7f7b8d257b20>>"
            ]
          },
          "metadata": {},
          "execution_count": 53
        }
      ]
    },
    {
      "cell_type": "code",
      "source": [
        "# Functional API 적용\n",
        "dense_output = tf.keras.layers.Dense(10, activation='softmax')(base_model_frozen.output)\n",
        "digit_model_frozen = tf.keras.models.Model(inputs = base_model_frozen.input,\n",
        "                                           outputs=dense_output)\n",
        "digit_model_frozen.summary()"
      ],
      "metadata": {
        "colab": {
          "base_uri": "https://localhost:8080/"
        },
        "id": "ixue6Iiwpy4r",
        "outputId": "a0defccc-23e1-4c5b-b378-b937761898c6"
      },
      "execution_count": 54,
      "outputs": [
        {
          "output_type": "stream",
          "name": "stdout",
          "text": [
            "Model: \"model_3\"\n",
            "_________________________________________________________________\n",
            " Layer (type)                Output Shape              Param #   \n",
            "=================================================================\n",
            " inputs (InputLayer)         [(None, 28, 28, 1)]       0         \n",
            "                                                                 \n",
            " conv2d_layer (Conv2D)       (None, 26, 26, 32)        320       \n",
            "                                                                 \n",
            " maxpool_layer (MaxPooling2D  (None, 13, 13, 32)       0         \n",
            " )                                                               \n",
            "                                                                 \n",
            " flaten_layer (Flatten)      (None, 5408)              0         \n",
            "                                                                 \n",
            " dense_3 (Dense)             (None, 10)                54090     \n",
            "                                                                 \n",
            "=================================================================\n",
            "Total params: 54,410\n",
            "Trainable params: 54,090\n",
            "Non-trainable params: 320\n",
            "_________________________________________________________________\n"
          ]
        }
      ]
    },
    {
      "cell_type": "code",
      "source": [
        "# 모델 컴파일\n",
        "digit_model_frozen.compile(optimizer='adam', loss='sparse_categorical_crossentropy',\n",
        "               metrics=['accuracy'])\n",
        "\n",
        "# 모델 훈련\n",
        "history = digit_model_frozen.fit(x_train_in, y_train,\n",
        "                                 validation_data = (x_valid_in, y_valid),\n",
        "                                  epochs=10)"
      ],
      "metadata": {
        "colab": {
          "base_uri": "https://localhost:8080/"
        },
        "id": "T4acAmpvp3mo",
        "outputId": "7b46c84c-81fc-4b72-8053-ae4a1481e6f8"
      },
      "execution_count": 55,
      "outputs": [
        {
          "output_type": "stream",
          "name": "stdout",
          "text": [
            "Epoch 1/10\n",
            "1875/1875 [==============================] - 18s 9ms/step - loss: 0.1172 - accuracy: 0.9681 - val_loss: 0.0606 - val_accuracy: 0.9813\n",
            "Epoch 2/10\n",
            "1875/1875 [==============================] - 18s 9ms/step - loss: 0.0495 - accuracy: 0.9853 - val_loss: 0.0494 - val_accuracy: 0.9831\n",
            "Epoch 3/10\n",
            "1875/1875 [==============================] - 18s 9ms/step - loss: 0.0362 - accuracy: 0.9887 - val_loss: 0.0509 - val_accuracy: 0.9837\n",
            "Epoch 4/10\n",
            "1875/1875 [==============================] - 18s 10ms/step - loss: 0.0282 - accuracy: 0.9919 - val_loss: 0.0513 - val_accuracy: 0.9846\n",
            "Epoch 5/10\n",
            "1875/1875 [==============================] - 18s 10ms/step - loss: 0.0229 - accuracy: 0.9930 - val_loss: 0.0500 - val_accuracy: 0.9841\n",
            "Epoch 6/10\n",
            "1875/1875 [==============================] - 19s 10ms/step - loss: 0.0186 - accuracy: 0.9944 - val_loss: 0.0509 - val_accuracy: 0.9845\n",
            "Epoch 7/10\n",
            "1875/1875 [==============================] - 18s 9ms/step - loss: 0.0155 - accuracy: 0.9953 - val_loss: 0.0525 - val_accuracy: 0.9839\n",
            "Epoch 8/10\n",
            "1875/1875 [==============================] - 18s 10ms/step - loss: 0.0132 - accuracy: 0.9961 - val_loss: 0.0554 - val_accuracy: 0.9840\n",
            "Epoch 9/10\n",
            "1875/1875 [==============================] - 18s 10ms/step - loss: 0.0102 - accuracy: 0.9973 - val_loss: 0.0558 - val_accuracy: 0.9846\n",
            "Epoch 10/10\n",
            "1875/1875 [==============================] - 18s 9ms/step - loss: 0.0097 - accuracy: 0.9972 - val_loss: 0.0575 - val_accuracy: 0.9830\n"
          ]
        }
      ]
    },
    {
      "cell_type": "code",
      "source": [
        "# 베이스 모델의 Conv2D 레이어의 가중치만 고정(Freeze Layer)\n",
        "base_model_frozen2 = tf.keras.models.Model(inputs = model.input,\n",
        "                                           outputs=base_model.output,\n",
        "                                           name='base_frozen')\n",
        "base_model_frozen2.get_layer('conv2d_layer').trainable=False\n",
        "base_model_frozen2.summary()"
      ],
      "metadata": {
        "colab": {
          "base_uri": "https://localhost:8080/"
        },
        "id": "RfZts37yp4nF",
        "outputId": "28b61a3b-0a6f-4414-c41a-429761391b5d"
      },
      "execution_count": 56,
      "outputs": [
        {
          "output_type": "stream",
          "name": "stdout",
          "text": [
            "Model: \"base_frozen\"\n",
            "_________________________________________________________________\n",
            " Layer (type)                Output Shape              Param #   \n",
            "=================================================================\n",
            " inputs (InputLayer)         [(None, 28, 28, 1)]       0         \n",
            "                                                                 \n",
            " conv2d_layer (Conv2D)       (None, 26, 26, 32)        320       \n",
            "                                                                 \n",
            " maxpool_layer (MaxPooling2D  (None, 13, 13, 32)       0         \n",
            " )                                                               \n",
            "                                                                 \n",
            " flaten_layer (Flatten)      (None, 5408)              0         \n",
            "                                                                 \n",
            "=================================================================\n",
            "Total params: 320\n",
            "Trainable params: 0\n",
            "Non-trainable params: 320\n",
            "_________________________________________________________________\n"
          ]
        }
      ]
    },
    {
      "cell_type": "code",
      "source": [
        "# 앞서 고정한 모델에 새로운 분류기 역할을 하는 Dense 레이어 연결하여 모델 구성\n",
        "dense_output2 = tf.keras.layers.Dense(10, activation='softmax')(base_model_frozen2.output)\n",
        "digit_model_frozen2 = tf.keras.models.Model(inputs = base_model_frozen2.input,\n",
        "                                           outputs=dense_output2)\n",
        "digit_model_frozen2.summary()"
      ],
      "metadata": {
        "colab": {
          "base_uri": "https://localhost:8080/"
        },
        "id": "tN7GZhvPqA0V",
        "outputId": "7fd96247-b561-49d0-a949-2e3cbbe93dbb"
      },
      "execution_count": 57,
      "outputs": [
        {
          "output_type": "stream",
          "name": "stdout",
          "text": [
            "Model: \"model_4\"\n",
            "_________________________________________________________________\n",
            " Layer (type)                Output Shape              Param #   \n",
            "=================================================================\n",
            " inputs (InputLayer)         [(None, 28, 28, 1)]       0         \n",
            "                                                                 \n",
            " conv2d_layer (Conv2D)       (None, 26, 26, 32)        320       \n",
            "                                                                 \n",
            " maxpool_layer (MaxPooling2D  (None, 13, 13, 32)       0         \n",
            " )                                                               \n",
            "                                                                 \n",
            " flaten_layer (Flatten)      (None, 5408)              0         \n",
            "                                                                 \n",
            " dense_4 (Dense)             (None, 10)                54090     \n",
            "                                                                 \n",
            "=================================================================\n",
            "Total params: 54,410\n",
            "Trainable params: 54,090\n",
            "Non-trainable params: 320\n",
            "_________________________________________________________________\n"
          ]
        }
      ]
    },
    {
      "cell_type": "code",
      "source": [
        "# 모델 컴파일\n",
        "digit_model_frozen2.compile(optimizer='adam', loss='sparse_categorical_crossentropy',\n",
        "               metrics=['accuracy'])\n",
        "\n",
        "# 모델 훈련\n",
        "history = digit_model_frozen2.fit(x_train_in, y_train,\n",
        "                                 validation_data = (x_valid_in, y_valid),\n",
        "                                  epochs=10)     "
      ],
      "metadata": {
        "colab": {
          "base_uri": "https://localhost:8080/"
        },
        "id": "YmRQnlBZqKeU",
        "outputId": "c83102c1-eb15-4b95-b562-afba5e3dab2d"
      },
      "execution_count": 58,
      "outputs": [
        {
          "output_type": "stream",
          "name": "stdout",
          "text": [
            "Epoch 1/10\n",
            "1875/1875 [==============================] - 18s 9ms/step - loss: 0.1170 - accuracy: 0.9675 - val_loss: 0.0605 - val_accuracy: 0.9818\n",
            "Epoch 2/10\n",
            "1875/1875 [==============================] - 18s 9ms/step - loss: 0.0498 - accuracy: 0.9850 - val_loss: 0.0517 - val_accuracy: 0.9832\n",
            "Epoch 3/10\n",
            "1875/1875 [==============================] - 18s 9ms/step - loss: 0.0364 - accuracy: 0.9890 - val_loss: 0.0495 - val_accuracy: 0.9833\n",
            "Epoch 4/10\n",
            "1875/1875 [==============================] - 17s 9ms/step - loss: 0.0285 - accuracy: 0.9911 - val_loss: 0.0547 - val_accuracy: 0.9833\n",
            "Epoch 5/10\n",
            "1875/1875 [==============================] - 18s 9ms/step - loss: 0.0235 - accuracy: 0.9926 - val_loss: 0.0507 - val_accuracy: 0.9842\n",
            "Epoch 6/10\n",
            "1875/1875 [==============================] - 18s 9ms/step - loss: 0.0183 - accuracy: 0.9943 - val_loss: 0.0563 - val_accuracy: 0.9839\n",
            "Epoch 7/10\n",
            "1875/1875 [==============================] - 18s 9ms/step - loss: 0.0154 - accuracy: 0.9950 - val_loss: 0.0576 - val_accuracy: 0.9822\n",
            "Epoch 8/10\n",
            "1875/1875 [==============================] - 17s 9ms/step - loss: 0.0125 - accuracy: 0.9964 - val_loss: 0.0602 - val_accuracy: 0.9845\n",
            "Epoch 9/10\n",
            "1875/1875 [==============================] - 18s 9ms/step - loss: 0.0104 - accuracy: 0.9974 - val_loss: 0.0580 - val_accuracy: 0.9841\n",
            "Epoch 10/10\n",
            "1875/1875 [==============================] - 17s 9ms/step - loss: 0.0092 - accuracy: 0.9973 - val_loss: 0.0569 - val_accuracy: 0.9843\n"
          ]
        }
      ]
    }
  ]
}
