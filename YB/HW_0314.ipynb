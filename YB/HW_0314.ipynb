{
  "nbformat": 4,
  "nbformat_minor": 0,
  "metadata": {
    "colab": {
      "name": "3/14 HW",
      "provenance": [],
      "authorship_tag": "ABX9TyNaIFuZtLYbl7+gVN8lDl11",
      "include_colab_link": true
    },
    "kernelspec": {
      "name": "python3",
      "display_name": "Python 3"
    },
    "language_info": {
      "name": "python"
    }
  },
  "cells": [
    {
      "cell_type": "markdown",
      "metadata": {
        "id": "view-in-github",
        "colab_type": "text"
      },
      "source": [
        "<a href=\"https://colab.research.google.com/github/pinkdolphin11/ESAA/blob/main/3_14_HW.ipynb\" target=\"_parent\"><img src=\"https://colab.research.google.com/assets/colab-badge.svg\" alt=\"Open In Colab\"/></a>"
      ]
    },
    {
      "cell_type": "markdown",
      "source": [
        "**Chap 1. 파이썬 기반의 머신러닝과 생태계 이해**\n",
        "\n",
        "1. 머신러닝의 개념\n",
        "\n",
        "  머신러닝 : 애플리케이션을 수정하지 않고도 데이터를 기반으로 패턴을 학습하고 결과를 예측하는 알고리즘 기법\n",
        "\n",
        "  머신러닝은 데이터를 기반으로 숨겨진 패턴을 인지한다. 데이터 분석 영역은 재빠르게 머신러닝 기반의 예측 분석으로 재편되고 있다.\n",
        "\n",
        "  [머신러닝의 분류]\n",
        "\n",
        "  1) 지도학습(Supervised Learning)\n",
        "  *   분류(Classification)\n",
        "  *   회귀(Regression)\n",
        "  *   추천 시스템\n",
        "  *   시각/음성 감지/인지\n",
        "  *   텍스트 분석, NLP\n",
        "\n",
        "  2) 비지도학습(Un-supervised Learning)\n",
        "\n",
        "  *   클러스터링\n",
        "  *   차원 축소\n",
        "  *   강화학습(Reinforcement Learning)\n",
        "\n",
        "  [데이터 전쟁]\n",
        "\n",
        "  머신러닝 기술이 발전함에 따라 데이터의 중요성이 강조되고 있다. 좋은 품질의 데이터를 갖추지 못하면 머신러닝의 수행 결과도 좋을 수 없다.(Garbage in, garbage out.)\n",
        "\n",
        "\n",
        "2. 파이썬 머신러닝 생태계를 구성하는 주요 패키지\n",
        "\n",
        "  * 머신러닝 패키지 : 사이킷런(Scikit-Learn)\n",
        "  * 행렬/선형대수/통계 패키지 : 넘파이(NumPy), 사이파이(SciPy)\n",
        "  * 데이터 핸들링 : 판다스\n",
        "  * 시각화 : 맷플롯립(MatPlotlib), 시본(Seaborn)\n",
        "\n",
        "\n",
        "\n",
        "\n",
        "\n",
        "\n",
        "\n",
        "\n",
        "\n",
        "\n",
        "\n",
        "\n",
        "\n",
        "\n",
        "\n"
      ],
      "metadata": {
        "id": "TkWV6xl16_7k"
      }
    },
    {
      "cell_type": "markdown",
      "source": [
        "> [파이썬 머신러닝을 위한 S/W 설치]\n",
        "\n",
        "\n",
        "\n",
        "\n",
        "\n"
      ],
      "metadata": {
        "id": "v7Di5d9cHxUy"
      }
    },
    {
      "cell_type": "code",
      "source": [
        "import numpy\n",
        "import pandas\n",
        "import matplotlib.pyplot\n",
        "import seaborn\n",
        "from sklearn.model_selection import train_test_split"
      ],
      "metadata": {
        "id": "G8wHnyKQHsm7"
      },
      "execution_count": null,
      "outputs": []
    },
    {
      "cell_type": "markdown",
      "source": [
        "3. 넘파이\n",
        "\n",
        "  넘파이(NumPy, Numerical Python) : 파이썬에서 선형대수 기반의 프로그램을 쉽게 만들 수 있도록 지원하는 패키지. 배열 기반의 연산은 물론이고 다양한 데이터 핸들링 기능을 제공한다."
      ],
      "metadata": {
        "id": "_wRcQ_bdJwOB"
      }
    },
    {
      "cell_type": "markdown",
      "source": [
        "\n",
        "\n",
        "> [넘파이 ndarray 개요]\n",
        "\n"
      ],
      "metadata": {
        "id": "DI7kQu9SKbxC"
      }
    },
    {
      "cell_type": "code",
      "source": [
        "import numpy as np"
      ],
      "metadata": {
        "id": "OxoSIkhqK7gW"
      },
      "execution_count": null,
      "outputs": []
    },
    {
      "cell_type": "markdown",
      "source": [
        "  넘파이 array() 함수는 리스트와 같은 다양한 인자를 입력받아서 ndarray로 변환한다. 생성된 ndarray 배열의 shape 변수는 ndarray의 크기, 즉 행과 열의 수를 튜플 형태로 가지고 있다."
      ],
      "metadata": {
        "id": "XtBApdid8lK8"
      }
    },
    {
      "cell_type": "code",
      "source": [
        "array1=np.array([1,2,3])\n",
        "print(\"array1 type:\", type(array1))\n",
        "print(\"array1 array 형태:\", array1.shape)\n",
        "\n",
        "array2=np.array([[1,2,3],[2,3,4]])\n",
        "print(\"array2 type:\", type(array2))\n",
        "print(\"array2 array 형태:\", array2.shape)\n",
        "\n",
        "array3=np.array([[1,2,3]])\n",
        "print(\"array3 type:\", type(array3))\n",
        "print(\"array3 array 형태:\", array3.shape)\n",
        "\n",
        "print(\"array1: {:0}차원, array2: {:1}차원, array3: {:2}차원\".format(array1.ndim, array2.ndim, array3.ndim))"
      ],
      "metadata": {
        "colab": {
          "base_uri": "https://localhost:8080/"
        },
        "id": "_FjNpyCdQFfE",
        "outputId": "33dcad95-f685-4fa7-e2a0-0dcf0934afe7"
      },
      "execution_count": null,
      "outputs": [
        {
          "output_type": "stream",
          "name": "stdout",
          "text": [
            "array1 type: <class 'numpy.ndarray'>\n",
            "array1 array 형태: (3,)\n",
            "array2 type: <class 'numpy.ndarray'>\n",
            "array2 array 형태: (2, 3)\n",
            "array3 type: <class 'numpy.ndarray'>\n",
            "array3 array 형태: (1, 3)\n",
            "array1: 1차원, array2: 2차원, array3:  2차원\n"
          ]
        }
      ]
    },
    {
      "cell_type": "markdown",
      "source": [
        "\n",
        "\n",
        "> [ndarray의 데이터 타입]\n",
        "\n"
      ],
      "metadata": {
        "id": "FFXClVkISFQa"
      }
    },
    {
      "cell_type": "markdown",
      "source": [
        "ndarray 내의 데이터 값은 숫자, 문자열, 불 값 등이 모두 가능하다. ndarray 내의 데이터 타입은 연산의 특성상 같은 데이터 타입만 가능하다. ndarray 내의 데이터 타입은 dtype 속성으로 확인할 수 있다. 다른 데이터 유형이 섞여 있는 리스트를 ndarray로 변경하면 데이터 크기가 더 큰 데이터 타입으로 형 변환을 일괄 적용한다."
      ],
      "metadata": {
        "id": "wXRlHNDY9Zbe"
      }
    },
    {
      "cell_type": "code",
      "source": [
        "list1=[1,2,3]\n",
        "print(type(list1))\n",
        "array1=np.array(list1)\n",
        "print(type(array1))\n",
        "print(array1,array1.dtype)\n",
        "\n",
        "list2=[1,2,\"test\"]\n",
        "array2=np.array(list2)\n",
        "print(array2, array2.dtype)\n",
        "\n",
        "list3=[1,2,3.0]\n",
        "array3=np.array(list3)\n",
        "print(array3, array3.dtype)"
      ],
      "metadata": {
        "id": "ikG0bqXeSK4l",
        "colab": {
          "base_uri": "https://localhost:8080/"
        },
        "outputId": "063f6863-2dba-4996-93b3-441dcf17c271"
      },
      "execution_count": null,
      "outputs": [
        {
          "output_type": "stream",
          "name": "stdout",
          "text": [
            "<class 'list'>\n",
            "<class 'numpy.ndarray'>\n",
            "[1 2 3] int64\n",
            "['1' '2' 'test'] <U21\n",
            "[1. 2. 3.] float64\n"
          ]
        }
      ]
    },
    {
      "cell_type": "markdown",
      "source": [
        "astype() 메서드를 이용해 ndarray 내 데이터값의 타입을 변경할 수 있다. astype()에 인자로 원하는 타입을 문자열로 지정하면 된다."
      ],
      "metadata": {
        "id": "PxUapGLM-PiC"
      }
    },
    {
      "cell_type": "code",
      "source": [
        "array_int=np.array([1,2,3])\n",
        "array_float=array_int.astype(\"float64\")\n",
        "print(array_float, array_float.dtype)\n",
        "\n",
        "array_int1=array_float.astype(\"int32\")\n",
        "print(array_int1, array_int1.dtype)\n",
        "\n",
        "array_float1=np.array([1.1, 2.1, 3.1])\n",
        "array_int2=array_float1.astype(\"int32\")\n",
        "print(array_int2, array_int2.dtype)"
      ],
      "metadata": {
        "colab": {
          "base_uri": "https://localhost:8080/"
        },
        "id": "SIF61xD--ZEM",
        "outputId": "586e6b68-53a2-4444-d63a-be9d04c8de74"
      },
      "execution_count": null,
      "outputs": [
        {
          "output_type": "stream",
          "name": "stdout",
          "text": [
            "[1. 2. 3.] float64\n",
            "[1 2 3] int32\n",
            "[1 2 3] int32\n"
          ]
        }
      ]
    },
    {
      "cell_type": "markdown",
      "source": [
        "\n",
        "\n",
        "> [ndarray를 편리하게 생성하기 - arange, zeros, ones]\n",
        "\n"
      ],
      "metadata": {
        "id": "jUIjpKsF-92k"
      }
    },
    {
      "cell_type": "markdown",
      "source": [
        "특정 크기와 차원을 가진 ndarray를 연속값이나 0 또는 1로 초기화해 쉽게 생성해야 할 경우 arange(), zeros(), ones() 이용\n",
        "\n",
        "1) arange\n",
        "\n",
        "  default 함수 인자는 stop 값이며, 0부터 stop 값인 10에서 -1을 더한 9까지의 연속 숫자 값으로 구성된 1차원 ndarray를 만든다.\n"
      ],
      "metadata": {
        "id": "xaPzKLkZ_JNc"
      }
    },
    {
      "cell_type": "code",
      "source": [
        "sequence_array=np.arange(10)\n",
        "print(sequence_array)\n",
        "print(sequence_array.dtype, sequence_array.shape)"
      ],
      "metadata": {
        "colab": {
          "base_uri": "https://localhost:8080/"
        },
        "id": "86oFnBg0_XkT",
        "outputId": "ac90d5fb-82a3-4218-f8da-bdc0647bd18b"
      },
      "execution_count": null,
      "outputs": [
        {
          "output_type": "stream",
          "name": "stdout",
          "text": [
            "[0 1 2 3 4 5 6 7 8 9]\n",
            "int64 (10,)\n"
          ]
        }
      ]
    },
    {
      "cell_type": "markdown",
      "source": [
        "2) zeros, ones\n",
        "\n",
        "튜플 형태의 shape 값을 입력하면 모든 값을 0/1으로 채운 해당 shape를 가진 ndarray 반환"
      ],
      "metadata": {
        "id": "nXYq_e96AL9_"
      }
    },
    {
      "cell_type": "code",
      "source": [
        "zero_array=np.zeros((3,2),dtype=\"int32\")\n",
        "print(zero_array)\n",
        "print(zero_array.dtype, zero_array.shape)\n",
        "\n",
        "one_array=np.ones((3,2))\n",
        "print(one_array)\n",
        "print(one_array.dtype, one_array.shape)"
      ],
      "metadata": {
        "colab": {
          "base_uri": "https://localhost:8080/"
        },
        "id": "BjCYgu4YAjn2",
        "outputId": "dfce3730-bf44-490d-ea78-33defd0b6e38"
      },
      "execution_count": null,
      "outputs": [
        {
          "output_type": "stream",
          "name": "stdout",
          "text": [
            "[[0 0]\n",
            " [0 0]\n",
            " [0 0]]\n",
            "int32 (3, 2)\n",
            "[[1. 1.]\n",
            " [1. 1.]\n",
            " [1. 1.]]\n",
            "float64 (3, 2)\n"
          ]
        }
      ]
    },
    {
      "cell_type": "markdown",
      "source": [
        "\n",
        "\n",
        "> [ndarray의 차원과 크기를 변경하는 reshape()]\n",
        "\n"
      ],
      "metadata": {
        "id": "1gyz5xZgA5AE"
      }
    },
    {
      "cell_type": "code",
      "source": [
        "array1=np.arange(10)\n",
        "print(\"array1:\\n\",array1)\n",
        "\n",
        "array2=array1.reshape(2,5)\n",
        "print(\"array2:\\n\",array2)\n",
        "\n",
        "array3=array1.reshape(5,2)\n",
        "print(\"array3:\\n\",array3)"
      ],
      "metadata": {
        "colab": {
          "base_uri": "https://localhost:8080/"
        },
        "id": "e6IZ7__rBBd5",
        "outputId": "f553c86b-1b92-435d-8cd5-530456b98bc3"
      },
      "execution_count": null,
      "outputs": [
        {
          "output_type": "stream",
          "name": "stdout",
          "text": [
            "array1:\n",
            " [0 1 2 3 4 5 6 7 8 9]\n",
            "array2:\n",
            " [[0 1 2 3 4]\n",
            " [5 6 7 8 9]]\n",
            "array3:\n",
            " [[0 1]\n",
            " [2 3]\n",
            " [4 5]\n",
            " [6 7]\n",
            " [8 9]]\n"
          ]
        }
      ]
    },
    {
      "cell_type": "markdown",
      "source": [
        "-1을 인자로 사용하면 원래 ndarray와 호환되는 새로운 shape로 변환한다."
      ],
      "metadata": {
        "id": "BitqyxLBCNX-"
      }
    },
    {
      "cell_type": "code",
      "source": [
        "array1=np.arange(10)\n",
        "print(array1)\n",
        "array2=array1.reshape(-1,5)\n",
        "print(\"array2 shape:\", array2.shape)\n",
        "array3=array1.reshape(5,-1)\n",
        "print(\"array3 shape:\", array3.shape)"
      ],
      "metadata": {
        "colab": {
          "base_uri": "https://localhost:8080/"
        },
        "id": "U7eQk8oIB749",
        "outputId": "c57f8eec-8a57-4d76-9578-f880a4577ac8"
      },
      "execution_count": null,
      "outputs": [
        {
          "output_type": "stream",
          "name": "stdout",
          "text": [
            "[0 1 2 3 4 5 6 7 8 9]\n",
            "array2 shape: (2, 5)\n",
            "array3 shape: (5, 2)\n"
          ]
        }
      ]
    },
    {
      "cell_type": "markdown",
      "source": [
        "reshape(-1,1)은 원본 ndarray가 어떤 형태라도 2차원이고, 여러 개의 로우를 가지되 반드시 1개의 칼럼을 가진 ndarray로 변환됨을 보장한다."
      ],
      "metadata": {
        "id": "PrVNO8lUCai1"
      }
    },
    {
      "cell_type": "code",
      "source": [
        "array1=np.arange(8)\n",
        "array3d=array1.reshape((2,2,2))\n",
        "print(\"array3d:\\n\",array3d.tolist())\n",
        "\n",
        "# 3차원 ndarray를 2차원 ndarray로 변환\n",
        "array5=array3d.reshape(-1,1)\n",
        "print(\"array5:\\n\",array5.tolist())\n",
        "print(\"array5 shape:\",array5.shape)\n",
        "\n",
        "# 1차원 ndarray를 2차원 ndarray로 변환\n",
        "array6=array1.reshape(-1,1)\n",
        "print(\"array6:\\n\",array6.tolist())\n",
        "print(\"array6 shape:\",array6.shape)"
      ],
      "metadata": {
        "colab": {
          "base_uri": "https://localhost:8080/"
        },
        "id": "1V3U9SS-ClMp",
        "outputId": "b6e9d75c-3db1-4f3b-e746-fa7bdb904a0e"
      },
      "execution_count": null,
      "outputs": [
        {
          "output_type": "stream",
          "name": "stdout",
          "text": [
            "array3d:\n",
            " [[[0, 1], [2, 3]], [[4, 5], [6, 7]]]\n",
            "array5:\n",
            " [[0], [1], [2], [3], [4], [5], [6], [7]]\n",
            "array5 shape: (8, 1)\n",
            "array6:\n",
            " [[0], [1], [2], [3], [4], [5], [6], [7]]\n",
            "array6 shape: (8, 1)\n"
          ]
        }
      ]
    },
    {
      "cell_type": "markdown",
      "source": [
        "\n",
        "\n",
        "> [넘파이의 ndarray의 데이터 세트 선택하기 - 인덱싱(Indexing)]\n",
        "\n",
        "1) 특정한 데이터만 추출 : 원하는 위치의 인덱스 값을 지정하면 해당 위치의 데이터 반환\n",
        "\n",
        "2) 슬라이싱(Slicing) : 연속된 인덱스상의 ndarray 추출\n",
        "\n",
        "3) 팬시 인덱싱(Fancy Indexing) : 일정한 인덱싱 집합을 리스트 또는 ndarray 형태로 지정해 해당 위치에 있는 데이터의 ndarray 반환\n",
        "\n",
        "4) 불린 인덱싱(Boolean Indexing) : 특정 조건에 해당하는지 여부인 True/False 값 인덱싱 집합을 기반으로 True에 해당하는 인덱스 위치에 있는 데이터의 ndarray 반환\n",
        "\n"
      ],
      "metadata": {
        "id": "tD2qGuniDJZK"
      }
    },
    {
      "cell_type": "markdown",
      "source": [
        "<단일 값 추출>"
      ],
      "metadata": {
        "id": "qMFeGXgKEGsc"
      }
    },
    {
      "cell_type": "code",
      "source": [
        "#1부터 9까지의 1차원 ndarray 생성\n",
        "array1=np.arange(start=1,stop=10)\n",
        "print(\"array1:\",array1)\n",
        "#index는 0부터 시작하므로 array1[2]는 3번째 index 위치의 데이터값을 의미\n",
        "value=array1[2]\n",
        "print(\"value:\",value)\n",
        "print(type(value))\n",
        "\n",
        "print(\"맨 뒤의 값:\", array1[-1], \"맨 뒤에서 두 번째 값:\",array1[-2])\n",
        "\n",
        "array1[0]=9\n",
        "array1[8]=0\n",
        "print(\"array1:\",array1)"
      ],
      "metadata": {
        "colab": {
          "base_uri": "https://localhost:8080/"
        },
        "id": "Vt66Gr40DYD4",
        "outputId": "91e4d61d-3731-4030-9793-5df7cb2b9904"
      },
      "execution_count": null,
      "outputs": [
        {
          "output_type": "stream",
          "name": "stdout",
          "text": [
            "array1: [1 2 3 4 5 6 7 8 9]\n",
            "value: 3\n",
            "<class 'numpy.int64'>\n",
            "맨 뒤의 값: 9 맨 뒤에서 두 번째 값: 8\n",
            "array1: [9 2 3 4 5 6 7 8 0]\n"
          ]
        }
      ]
    },
    {
      "cell_type": "code",
      "source": [
        "array1d=np.arange(start=1,stop=10)\n",
        "array2d=array1d.reshape(3,3)\n",
        "print(array2d)\n",
        "\n",
        "print(\"(row=0, col=0) index 가리키는 값:\",array2d[0,0])\n",
        "print(\"(row=0, col=1) index 가리키는 값:\",array2d[0,1])\n",
        "print(\"(row=1, col=0) index 가리키는 값:\",array2d[1,0])\n",
        "print(\"(row=2, col=2) index 가리키는 값:\",array2d[2,2])"
      ],
      "metadata": {
        "colab": {
          "base_uri": "https://localhost:8080/"
        },
        "id": "VafmdZ8oE634",
        "outputId": "b14936e0-a63c-4361-f3f7-b6d5bc32a1a0"
      },
      "execution_count": null,
      "outputs": [
        {
          "output_type": "stream",
          "name": "stdout",
          "text": [
            "[[1 2 3]\n",
            " [4 5 6]\n",
            " [7 8 9]]\n",
            "(row=0, col=0) index 가리키는 값: 1\n",
            "(row=0, col=1) index 가리키는 값: 2\n",
            "(row=1, col=0) index 가리키는 값: 4\n",
            "(row=2, col=2) index 가리키는 값: 9\n"
          ]
        }
      ]
    },
    {
      "cell_type": "markdown",
      "source": [
        "<슬라이싱>"
      ],
      "metadata": {
        "id": "0gJZRxJeHk0s"
      }
    },
    {
      "cell_type": "code",
      "source": [
        "array1=np.arange(start=1,stop=10)\n",
        "array3=array1[0:3]\n",
        "print(array3)\n",
        "print(type(array3))"
      ],
      "metadata": {
        "colab": {
          "base_uri": "https://localhost:8080/"
        },
        "id": "9xgWXWm1Hook",
        "outputId": "4487894d-2e13-4e00-b302-c18e134cc7c4"
      },
      "execution_count": null,
      "outputs": [
        {
          "output_type": "stream",
          "name": "stdout",
          "text": [
            "[1 2 3]\n",
            "<class 'numpy.ndarray'>\n"
          ]
        }
      ]
    },
    {
      "cell_type": "markdown",
      "source": [
        "* ':' 기호 앞에 시작 인덱스를 생략하면 자동으로 맨 처음 인덱스인 0으로 간주\n",
        "* ':' 기호 뒤에 종료 인덱스를 생략하면 자동으로 맨 마지막 인덱스로 간주\n",
        "* ':' 기호 앞/뒤에 시작/종료 인덱스를 생략하면 자동으로 맨 처음/맨 마지막 인덱스로 간주\n",
        "\n",
        "\n",
        "\n"
      ],
      "metadata": {
        "id": "v9Z-5znKH0kX"
      }
    },
    {
      "cell_type": "code",
      "source": [
        "array1=np.arange(start=1, stop=10)\n",
        "array4=array1[:3]\n",
        "print(array4)\n",
        "\n",
        "array5=array1[3:]\n",
        "print(array5)\n",
        "\n",
        "array6=array1[:]\n",
        "print(array6)"
      ],
      "metadata": {
        "colab": {
          "base_uri": "https://localhost:8080/"
        },
        "id": "Cp3MDA2eIKR1",
        "outputId": "50ca20c7-237e-49ec-ffe2-8b2471f6396e"
      },
      "execution_count": null,
      "outputs": [
        {
          "output_type": "stream",
          "name": "stdout",
          "text": [
            "[1 2 3]\n",
            "[4 5 6 7 8 9]\n",
            "[1 2 3 4 5 6 7 8 9]\n"
          ]
        }
      ]
    },
    {
      "cell_type": "code",
      "source": [
        "array1d=np.arange(start=1,stop=10)\n",
        "array2d=array1d.reshape(3,3)\n",
        "print(\"array2d:\\n\", array2d)\n",
        "\n",
        "print(\"array2d[0:2,0:2]\\n\", array2d[0:2,0:2])\n",
        "print(\"array2d[1:3,0:3]\\n\", array2d[1:3,0:3])\n",
        "print(\"array2d[1:3,:]\\n\", array2d[1:3,:])\n",
        "print(\"array2d[:,:]\\n\", array2d[:,:])\n",
        "print(\"array2d[:2,1:]\\n\", array2d[:2,1:])\n",
        "print(\"array2d[:2,0]\\n\", array2d[:2,0])"
      ],
      "metadata": {
        "colab": {
          "base_uri": "https://localhost:8080/"
        },
        "id": "HPPu0vP4IX20",
        "outputId": "c3536d18-58f7-4489-b450-ed421b406add"
      },
      "execution_count": null,
      "outputs": [
        {
          "output_type": "stream",
          "name": "stdout",
          "text": [
            "array2d:\n",
            " [[1 2 3]\n",
            " [4 5 6]\n",
            " [7 8 9]]\n",
            "array2d[0:2,0:2]\n",
            " [[1 2]\n",
            " [4 5]]\n",
            "array2d[1:3,0:3]\n",
            " [[4 5 6]\n",
            " [7 8 9]]\n",
            "array2d[1:3,:]\n",
            " [[4 5 6]\n",
            " [7 8 9]]\n",
            "array2d[:,:]\n",
            " [[1 2 3]\n",
            " [4 5 6]\n",
            " [7 8 9]]\n",
            "array2d[:2,1:]\n",
            " [[2 3]\n",
            " [5 6]]\n",
            "array2d[:2,0]\n",
            " [1 4]\n"
          ]
        }
      ]
    },
    {
      "cell_type": "code",
      "source": [
        "print(array2d[0])\n",
        "print(array2d[1])\n",
        "print(\"array2d[0] shape:\", array2d[0].shape, \"array2d[1] shape:\", array2d[1].shape)"
      ],
      "metadata": {
        "colab": {
          "base_uri": "https://localhost:8080/"
        },
        "id": "kv0MjWANJFzR",
        "outputId": "a2591782-d0bb-4251-b789-ab2e0928fd19"
      },
      "execution_count": null,
      "outputs": [
        {
          "output_type": "stream",
          "name": "stdout",
          "text": [
            "[1 2 3]\n",
            "[4 5 6]\n",
            "array2d[0] shape: (3,) array2d[1] shape: (3,)\n"
          ]
        }
      ]
    },
    {
      "cell_type": "markdown",
      "source": [
        "<팬시 인덱싱>"
      ],
      "metadata": {
        "id": "bt_p5kSOJarn"
      }
    },
    {
      "cell_type": "code",
      "source": [
        "array1d=np.arange(start=1,stop=10)\n",
        "array2d=array1d.reshape(3,3)\n",
        "\n",
        "array3=array2d[[0,1],2]\n",
        "print(\"array2d[[0,1],2] => \",array3.tolist())\n",
        "\n",
        "array4=array2d[[0,1],0:2]\n",
        "print(\"array2d[[0,1],0:2] => \",array4.tolist())\n",
        "\n",
        "array5=array2d[[0,1]]\n",
        "print(\"array2d[[0,1]] => \",array5.tolist())"
      ],
      "metadata": {
        "colab": {
          "base_uri": "https://localhost:8080/"
        },
        "id": "9Na-Mn83Jeoo",
        "outputId": "6de675ad-d14a-4230-9161-6af17c7b82bc"
      },
      "execution_count": null,
      "outputs": [
        {
          "output_type": "stream",
          "name": "stdout",
          "text": [
            "array2d[[0,1],2] =>  [3, 6]\n",
            "array2d[[0,1],0:2] =>  [[1, 2], [4, 5]]\n",
            "array2d[[0,1]] =>  [[1, 2, 3], [4, 5, 6]]\n"
          ]
        }
      ]
    },
    {
      "cell_type": "markdown",
      "source": [
        "<불린 인덱싱>\n",
        "\n",
        "1) array1d>5와 같이 ndarray의 필터링 조건을 [] 안에 기재\n",
        "\n",
        "2) False 값은 무시하고 True 값에 해당하는 인덱스값만 저장(유의해야 할 사항 : True값 자체인 1을 저장하는 것이 아니라 True값을 가진 인덱스를 저장)\n",
        "\n",
        "3) 저장된 인덱스 데이터 세트로 ndarray 조회"
      ],
      "metadata": {
        "id": "Cu9bs2wvPEAl"
      }
    },
    {
      "cell_type": "code",
      "source": [
        "array1d=np.arange(start=1,stop=10)\n",
        "# [ ] 안에 array1d>5 Boolean indexing 적용\n",
        "array3=array1d[array1d>5]\n",
        "print(\"array1d>5 불린 인덱싱 결과 값 :\",array3)\n",
        "\n",
        "array1d>5\n",
        "\n",
        "boolean_indexes=np.array([False, False, False, False, False, True, True, True, True])\n",
        "array3=array1d[boolean_indexes]\n",
        "print(\"불린 인덱스로 필터링 결과 :\",array3)\n",
        "\n",
        "indexes=np.array([5,6,7,8])\n",
        "array4=array1d[indexes]\n",
        "print(\"일반 인덱스로 필터링 결과:\", array4)"
      ],
      "metadata": {
        "colab": {
          "base_uri": "https://localhost:8080/"
        },
        "id": "DKE8D3fEKAdS",
        "outputId": "990b3abf-3cdf-41c6-ee51-53b8d7e52872"
      },
      "execution_count": null,
      "outputs": [
        {
          "output_type": "stream",
          "name": "stdout",
          "text": [
            "array1d>5 불린 인덱싱 결과 값 : [6 7 8 9]\n",
            "불린 인덱스로 필터링 결과 : [6 7 8 9]\n",
            "일반 인덱스로 필터링 결과: [6 7 8 9]\n"
          ]
        }
      ]
    },
    {
      "cell_type": "markdown",
      "source": [
        "\n",
        "\n",
        "> [행렬의 정렬 - sort()와 argsort()]\n",
        "\n"
      ],
      "metadata": {
        "id": "UlxzjXgSP0Mp"
      }
    },
    {
      "cell_type": "markdown",
      "source": [
        "<행렬 정렬>\n",
        "\n",
        "1) np.sort() : 넘파이에서 sort()를 호출하는 방식. 원 행렬은 그대로 유지한 채 원 행렬의 정렬된 행렬 반환\n",
        "\n",
        "2) ndarray.sort() : 행렬 자체에서 sort()를 호출하는 방식. 원 행렬 자체를 정렬한 형태로 반환하며 반환 값은 None\n"
      ],
      "metadata": {
        "id": "7m_OGxgcQCXn"
      }
    },
    {
      "cell_type": "code",
      "source": [
        "org_array=np.array([3,1,9,5])\n",
        "print(\"원본 행렬:\", org_array)\n",
        "# np.sort()로 정렬\n",
        "sort_array1=np.sort(org_array)\n",
        "print(\"np.sort() 호출 후 반환된 정렬 행렬:\", sort_array1)\n",
        "print(\"np.sort() 호출 후 원본 행렬:\", org_array)\n",
        "# ndarray.sort()로 정렬\n",
        "sort_array2=org_array.sort()\n",
        "print(\"org_array.sort( ) 호출 후 반환된 행렬:\", sort_array2)\n",
        "print(\"org_array.sort( ) 호출 후 원본 행렬:\", org_array)\n",
        "\n",
        "sort_array1_desc=np.sort(org_array)[::-1]\n",
        "print(\"내림차순으로 정렬:\", sort_array1_desc)"
      ],
      "metadata": {
        "colab": {
          "base_uri": "https://localhost:8080/"
        },
        "id": "yJuLSm52QX5p",
        "outputId": "fa7e562a-c068-419d-c910-c697047f7521"
      },
      "execution_count": null,
      "outputs": [
        {
          "output_type": "stream",
          "name": "stdout",
          "text": [
            "원본 행렬: [3 1 9 5]\n",
            "np.sort() 호출 후 반환된 정렬 행렬: [1 3 5 9]\n",
            "np.sort() 호출 후 원본 행렬: [3 1 9 5]\n",
            "org_array.sort( ) 호출 후 반환된 행렬: None\n",
            "org_array.sort( ) 호출 후 원본 행렬: [1 3 5 9]\n",
            "내림차순으로 정렬: [9 5 3 1]\n"
          ]
        }
      ]
    },
    {
      "cell_type": "code",
      "source": [
        "array2d=np.array([[8,12],[7,1]])\n",
        "sort_array2d_axis0=np.sort(array2d,axis=0)\n",
        "print(\"로우 방향으로 정렬:\\n\", sort_array2d_axis0)\n",
        "sort_array2d_axis1=np.sort(array2d,axis=1)\n",
        "print(\"칼럼 방향으로 정렬:\\n\", sort_array2d_axis1)"
      ],
      "metadata": {
        "colab": {
          "base_uri": "https://localhost:8080/"
        },
        "id": "pooS2sx5RSJY",
        "outputId": "cb70451e-a6f4-4562-ec3f-b07950f0e0f9"
      },
      "execution_count": null,
      "outputs": [
        {
          "output_type": "stream",
          "name": "stdout",
          "text": [
            "로우 방향으로 정렬:\n",
            " [[ 7  1]\n",
            " [ 8 12]]\n",
            "칼럼 방향으로 정렬:\n",
            " [[ 8 12]\n",
            " [ 1  7]]\n"
          ]
        }
      ]
    },
    {
      "cell_type": "markdown",
      "source": [
        "<정렬된 행렬의 인덱스를 반환하기>\n",
        "\n",
        "np.argsort() : 정렬 행렬의 원본 행렬 인덱스를 ndarray 형태로 반환\n"
      ],
      "metadata": {
        "id": "QbH_q1ZERyim"
      }
    },
    {
      "cell_type": "code",
      "source": [
        "org_array=np.array([3,1,9,5])\n",
        "sort_indices=np.argsort(org_array)\n",
        "print(type(sort_indices))\n",
        "print(\"행렬 정렬 시 원본 행렬의 인덱스:\", sort_indices)\n",
        "\n",
        "org_array=np.array([3,1,9,5])\n",
        "sort_indices_desc=np.argsort(org_array)[::-1]\n",
        "print(\"행렬 내림차순 정렬 시 원본 행렬의 인덱스:\", sort_indices_desc)"
      ],
      "metadata": {
        "colab": {
          "base_uri": "https://localhost:8080/"
        },
        "id": "iBZGVSG2R81x",
        "outputId": "141f6777-138d-4c6c-ae44-485f7544959c"
      },
      "execution_count": null,
      "outputs": [
        {
          "output_type": "stream",
          "name": "stdout",
          "text": [
            "<class 'numpy.ndarray'>\n",
            "행렬 정렬 시 원본 행렬의 인덱스: [1 0 3 2]\n",
            "행렬 내림차순 정렬 시 원본 행렬의 인덱스: [2 3 0 1]\n"
          ]
        }
      ]
    },
    {
      "cell_type": "code",
      "source": [
        "name_array=np.array([\"John\",\"Mike\",\"Sarah\",\"Kate\",\"Samuel\"])\n",
        "score_array=np.array([78,95,84,98,88])\n",
        "sort_indices_asc=np.argsort(score_array)\n",
        "print(\"성적 오름차순 정렬 시 score_array의 인덱스:\", sort_indices_asc)\n",
        "print(\"성적 오름차순으로 name_array의 이름 출력:\", name_array[sort_indices_asc])"
      ],
      "metadata": {
        "colab": {
          "base_uri": "https://localhost:8080/"
        },
        "id": "lh7nWk3ASg0j",
        "outputId": "43fa635a-a48d-4d6c-999a-6e3384d3c6ab"
      },
      "execution_count": null,
      "outputs": [
        {
          "output_type": "stream",
          "name": "stdout",
          "text": [
            "성적 오름차순 정렬 시 score_array의 인덱스: [0 2 4 1 3]\n",
            "성적 오름차순으로 name_array의 이름 출력: ['John' 'Sarah' 'Samuel' 'Mike' 'Kate']\n"
          ]
        }
      ]
    },
    {
      "cell_type": "markdown",
      "source": [
        "\n",
        "\n",
        "> [선형대수 연산 - 행렬 내적과 전치 행렬 구하기]\n"
      ],
      "metadata": {
        "id": "qnb8cKadS_rt"
      }
    },
    {
      "cell_type": "markdown",
      "source": [
        "<행렬 내적(행렬 곱)>\n",
        "\n",
        "두 행렬 A와 B의 내적(곱)은 np.dot()으로 계산. 왼쪽 행렬의 로우(행)와 오른쪽 행렬의 칼럼(열)의 원소들을 순차적으로 곱한 뒤 그 결과를 모두 더한 값이므로 왼쪽 행렬의 열 개수=오른쪽 행렬의 열 개수일 때 연산 가능"
      ],
      "metadata": {
        "id": "YpE-yPB3TEjO"
      }
    },
    {
      "cell_type": "code",
      "source": [
        "A=np.array([[1,2,3],[4,5,6]])\n",
        "B=np.array([[7,8],[9,10],[11,12]])\n",
        "dot_product=np.dot(A,B)\n",
        "print(\"행렬 내적 결과:\\n\",dot_product)"
      ],
      "metadata": {
        "colab": {
          "base_uri": "https://localhost:8080/"
        },
        "id": "ApDLErh1Th5X",
        "outputId": "85cac000-418f-4d64-f8e4-6816e7058b00"
      },
      "execution_count": null,
      "outputs": [
        {
          "output_type": "stream",
          "name": "stdout",
          "text": [
            "행렬 내적 결과:\n",
            " [[ 58  64]\n",
            " [139 154]]\n"
          ]
        }
      ]
    },
    {
      "cell_type": "markdown",
      "source": [
        "<전치 행렬>\n",
        "\n",
        "원 행렬에서 행과 열 위치를 교환한 원소로 구성한 행렬"
      ],
      "metadata": {
        "id": "Pp-bZtE9T03J"
      }
    },
    {
      "cell_type": "code",
      "source": [
        "A=np.array([[1,2],[3,4]])\n",
        "transpose_mat=np.transpose(A)\n",
        "print(\"A의 전치 행렬:\\n\",transpose_mat)"
      ],
      "metadata": {
        "colab": {
          "base_uri": "https://localhost:8080/"
        },
        "id": "M2zWAH-vT8mL",
        "outputId": "d9f54556-c335-40db-f1d2-c6edd69ced1d"
      },
      "execution_count": null,
      "outputs": [
        {
          "output_type": "stream",
          "name": "stdout",
          "text": [
            "A의 전치 행렬:\n",
            " [[1 3]\n",
            " [2 4]]\n"
          ]
        }
      ]
    }
  ]
}
