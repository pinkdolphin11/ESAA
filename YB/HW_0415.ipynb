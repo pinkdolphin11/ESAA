{
  "nbformat": 4,
  "nbformat_minor": 0,
  "metadata": {
    "colab": {
      "name": "4/15 HW",
      "provenance": [],
      "collapsed_sections": [],
      "authorship_tag": "ABX9TyNKDBaoB+tD9upZ2ga9pBBI",
      "include_colab_link": true
    },
    "kernelspec": {
      "name": "python3",
      "display_name": "Python 3"
    },
    "language_info": {
      "name": "python"
    }
  },
  "cells": [
    {
      "cell_type": "markdown",
      "metadata": {
        "id": "view-in-github",
        "colab_type": "text"
      },
      "source": [
        "<a href=\"https://colab.research.google.com/github/pinkdolphin11/ESAA/blob/main/4_15_HW.ipynb\" target=\"_parent\"><img src=\"https://colab.research.google.com/assets/colab-badge.svg\" alt=\"Open In Colab\"/></a>"
      ]
    },
    {
      "cell_type": "markdown",
      "source": [
        "<datetime 오브젝트로 변환하기 - to_datetime 메서드>\n",
        "\n",
        "시계열 데이터가 문자열로 저장된 경우, 문자열은 시간 계산을 할 수 없으므로 datetime 오브젝트로 변환해야 함"
      ],
      "metadata": {
        "id": "wKPb4vru7atY"
      }
    },
    {
      "cell_type": "markdown",
      "source": [
        "[문자열을 datetime 오브젝트로 변환하기]"
      ],
      "metadata": {
        "id": "tdx0mYO775SQ"
      }
    },
    {
      "cell_type": "markdown",
      "source": [
        "1. ebola 데이터 집합 불러오기"
      ],
      "metadata": {
        "id": "k1ggHTzP78md"
      }
    },
    {
      "cell_type": "code",
      "execution_count": null,
      "metadata": {
        "id": "s7SGQG4Q6TfW"
      },
      "outputs": [],
      "source": [
        "import pandas as pd\n",
        "import os"
      ]
    },
    {
      "cell_type": "code",
      "source": [
        "from google.colab import auth\n",
        "auth.authenticate_user()\n",
        "\n",
        "from google.colab import drive\n",
        "drive.mount('/content/gdrive')"
      ],
      "metadata": {
        "colab": {
          "base_uri": "https://localhost:8080/"
        },
        "id": "gxByzTKm8a4C",
        "outputId": "058d9d94-007a-42ef-e023-c2315ad41e7e"
      },
      "execution_count": null,
      "outputs": [
        {
          "output_type": "stream",
          "name": "stdout",
          "text": [
            "Mounted at /content/gdrive\n"
          ]
        }
      ]
    },
    {
      "cell_type": "code",
      "source": [
        "ebola = pd.read_csv('../content/gdrive/MyDrive/country_timeseries.csv')"
      ],
      "metadata": {
        "id": "iFxlJuva8la3"
      },
      "execution_count": null,
      "outputs": []
    },
    {
      "cell_type": "markdown",
      "source": [
        "2. ebola 데이터프레임에는 문자열로 저장된 Date 열이 있음"
      ],
      "metadata": {
        "id": "lVMwDXbm8JlB"
      }
    },
    {
      "cell_type": "code",
      "source": [
        "print(ebola.info())"
      ],
      "metadata": {
        "colab": {
          "base_uri": "https://localhost:8080/"
        },
        "id": "r9sreRug8wwN",
        "outputId": "7a69a167-694c-4a92-b4c9-1ef7e3ffb671"
      },
      "execution_count": null,
      "outputs": [
        {
          "output_type": "stream",
          "name": "stdout",
          "text": [
            "<class 'pandas.core.frame.DataFrame'>\n",
            "RangeIndex: 122 entries, 0 to 121\n",
            "Data columns (total 18 columns):\n",
            " #   Column               Non-Null Count  Dtype  \n",
            "---  ------               --------------  -----  \n",
            " 0   Date                 122 non-null    object \n",
            " 1   Day                  122 non-null    int64  \n",
            " 2   Cases_Guinea         93 non-null     float64\n",
            " 3   Cases_Liberia        83 non-null     float64\n",
            " 4   Cases_SierraLeone    87 non-null     float64\n",
            " 5   Cases_Nigeria        38 non-null     float64\n",
            " 6   Cases_Senegal        25 non-null     float64\n",
            " 7   Cases_UnitedStates   18 non-null     float64\n",
            " 8   Cases_Spain          16 non-null     float64\n",
            " 9   Cases_Mali           12 non-null     float64\n",
            " 10  Deaths_Guinea        92 non-null     float64\n",
            " 11  Deaths_Liberia       81 non-null     float64\n",
            " 12  Deaths_SierraLeone   87 non-null     float64\n",
            " 13  Deaths_Nigeria       38 non-null     float64\n",
            " 14  Deaths_Senegal       22 non-null     float64\n",
            " 15  Deaths_UnitedStates  18 non-null     float64\n",
            " 16  Deaths_Spain         16 non-null     float64\n",
            " 17  Deaths_Mali          12 non-null     float64\n",
            "dtypes: float64(16), int64(1), object(1)\n",
            "memory usage: 17.3+ KB\n",
            "None\n"
          ]
        }
      ]
    },
    {
      "cell_type": "markdown",
      "source": [
        "3. to_datetime 메서드로 Date 열의 자료형을 datetime 오브젝트로 변환 후 ebola 데이터프레임에 새로운 열로 추가"
      ],
      "metadata": {
        "id": "FaOKA3vM80q6"
      }
    },
    {
      "cell_type": "code",
      "source": [
        "ebola['date_dt']=pd.to_datetime(ebola['Date'])\n",
        "print(ebola.info())"
      ],
      "metadata": {
        "colab": {
          "base_uri": "https://localhost:8080/"
        },
        "id": "aWSKz21B87oT",
        "outputId": "bac74540-4777-4cb1-b1c2-ad4ef078154e"
      },
      "execution_count": null,
      "outputs": [
        {
          "output_type": "stream",
          "name": "stdout",
          "text": [
            "<class 'pandas.core.frame.DataFrame'>\n",
            "DatetimeIndex: 0 entries\n",
            "Data columns (total 19 columns):\n",
            " #   Column               Non-Null Count  Dtype         \n",
            "---  ------               --------------  -----         \n",
            " 0   Date                 0 non-null      datetime64[ns]\n",
            " 1   Day                  0 non-null      float64       \n",
            " 2   Cases_Guinea         0 non-null      float64       \n",
            " 3   Cases_Liberia        0 non-null      float64       \n",
            " 4   Cases_SierraLeone    0 non-null      float64       \n",
            " 5   Cases_Nigeria        0 non-null      float64       \n",
            " 6   Cases_Senegal        0 non-null      float64       \n",
            " 7   Cases_UnitedStates   0 non-null      float64       \n",
            " 8   Cases_Spain          0 non-null      float64       \n",
            " 9   Cases_Mali           0 non-null      float64       \n",
            " 10  Deaths_Guinea        0 non-null      float64       \n",
            " 11  Deaths_Liberia       0 non-null      float64       \n",
            " 12  Deaths_SierraLeone   0 non-null      float64       \n",
            " 13  Deaths_Nigeria       0 non-null      float64       \n",
            " 14  Deaths_Senegal       0 non-null      float64       \n",
            " 15  Deaths_UnitedStates  0 non-null      float64       \n",
            " 16  Deaths_Spain         0 non-null      float64       \n",
            " 17  Deaths_Mali          0 non-null      float64       \n",
            " 18  date_dt              0 non-null      datetime64[ns]\n",
            "dtypes: datetime64[ns](2), float64(17)\n",
            "memory usage: 0.0 bytes\n",
            "None\n"
          ]
        }
      ]
    },
    {
      "cell_type": "markdown",
      "source": [
        "4. 시간 형식 지정자(%d, %m, %y)와 기호 (/, -)를 적절히 조합하여 format 인자에 전달하면 그 형식에 맞게 정리된 datetime 오브젝트를 얻을 수 있음"
      ],
      "metadata": {
        "id": "7o97fD7Y9Gj1"
      }
    },
    {
      "cell_type": "code",
      "source": [
        "test_df1=pd.DataFrame({'order_day':['01/01/15','02/01/15','03/01/15']})\n",
        "\n",
        "test_df1['date_dt1']=pd.to_datetime(test_df1['order_day'],format='%d/%m/%y')\n",
        "test_df1['date_dt2']=pd.to_datetime(test_df1['order_day'],format='%m/%d/%y')\n",
        "test_df1['date_dt3']=pd.to_datetime(test_df1['order_day'],format='%y/%m/%d')\n",
        "\n",
        "print(test_df1)"
      ],
      "metadata": {
        "colab": {
          "base_uri": "https://localhost:8080/"
        },
        "id": "u-czsgCc9TH6",
        "outputId": "fb098af3-0909-4a01-d239-fa3fc8a6701f"
      },
      "execution_count": null,
      "outputs": [
        {
          "output_type": "stream",
          "name": "stdout",
          "text": [
            "  order_day   date_dt1   date_dt2   date_dt3\n",
            "0  01/01/15 2015-01-01 2015-01-01 2001-01-15\n",
            "1  02/01/15 2015-01-02 2015-02-01 2002-01-15\n",
            "2  03/01/15 2015-01-03 2015-03-01 2003-01-15\n"
          ]
        }
      ]
    },
    {
      "cell_type": "code",
      "source": [
        "test_df2=pd.DataFrame({'order_day':['01-01-15','02-01-15','03-01-15']})\n",
        "test_df2['date_dt']=pd.to_datetime(test_df2['order_day'],format='%d-%m-%y')\n",
        "\n",
        "print(test_df2)"
      ],
      "metadata": {
        "colab": {
          "base_uri": "https://localhost:8080/"
        },
        "id": "l_QJ744w95g7",
        "outputId": "e6045718-aa6b-4202-ea66-9e5531926df7"
      },
      "execution_count": null,
      "outputs": [
        {
          "output_type": "stream",
          "name": "stdout",
          "text": [
            "  order_day    date_dt\n",
            "0  01-01-15 2015-01-01\n",
            "1  02-01-15 2015-01-02\n",
            "2  03-01-15 2015-01-03\n"
          ]
        }
      ]
    },
    {
      "cell_type": "markdown",
      "source": [
        "<시간 형식 지정자>"
      ],
      "metadata": {
        "id": "3VeLdlto-Xa3"
      }
    },
    {
      "cell_type": "markdown",
      "source": [
        "** 시계열 데이터 구분해서 추출\n",
        "\n",
        "now 메서드로 얻은 현재 시간의 시계열 데이터는 아주 정밀한 단위까지 시간을 표현한다. 하지만 원하는 시계열 데이터의 시간 요소가 연도, 월, 일뿐이라면 now 메서드로 얻은 시계열 데이터를 잘라내야 한다. 다음은 strftime 메서드와 시간 형식 지정자를 이용하여 시계열 데이터를 잘라낸 것이다."
      ],
      "metadata": {
        "id": "vxBsTVKx-bkM"
      }
    },
    {
      "cell_type": "code",
      "source": [
        "from datetime import datetime\n",
        "\n",
        "now=datetime.now()\n",
        "print(now)"
      ],
      "metadata": {
        "colab": {
          "base_uri": "https://localhost:8080/"
        },
        "id": "BIEH-DxL-wlR",
        "outputId": "baa329a6-8073-4814-a528-8d4aa6cf486a"
      },
      "execution_count": null,
      "outputs": [
        {
          "output_type": "stream",
          "name": "stdout",
          "text": [
            "2022-04-14 16:51:42.783000\n"
          ]
        }
      ]
    },
    {
      "cell_type": "code",
      "source": [
        "nowDate=now.strftime('%Y-%m-%d')\n",
        "print(nowDate)"
      ],
      "metadata": {
        "colab": {
          "base_uri": "https://localhost:8080/"
        },
        "id": "Wtt1FKoy_QNY",
        "outputId": "c77aab0b-c0e0-4181-e9bc-676b44bfd3c7"
      },
      "execution_count": null,
      "outputs": [
        {
          "output_type": "stream",
          "name": "stdout",
          "text": [
            "2022-04-14\n"
          ]
        }
      ]
    },
    {
      "cell_type": "code",
      "source": [
        "nowTime=now.strftime('%H:%M:%S')\n",
        "print(nowTime)"
      ],
      "metadata": {
        "colab": {
          "base_uri": "https://localhost:8080/"
        },
        "id": "oXYYkLPf_WvV",
        "outputId": "90dc6fbe-f282-49c1-9cc4-1a7d2d32bb60"
      },
      "execution_count": null,
      "outputs": [
        {
          "output_type": "stream",
          "name": "stdout",
          "text": [
            "16:51:42\n"
          ]
        }
      ]
    },
    {
      "cell_type": "code",
      "source": [
        "nowDatetime=now.strftime('%Y-%m-%d %H:%M:%S')\n",
        "print(nowDatetime)"
      ],
      "metadata": {
        "colab": {
          "base_uri": "https://localhost:8080/"
        },
        "id": "emoH39wZ_mHP",
        "outputId": "301e0634-51b7-4329-f701-accb25051323"
      },
      "execution_count": null,
      "outputs": [
        {
          "output_type": "stream",
          "name": "stdout",
          "text": [
            "2022-04-14 16:51:42\n"
          ]
        }
      ]
    },
    {
      "cell_type": "markdown",
      "source": [
        "<datetime 오브젝트로 변환하기 - read_csv 메서드>\n",
        "\n",
        "앞에서 한 방법보다 datetime 오브젝트로 변환하려는 열을 지정하여 데이터 집합을 불러오는 것이 더 간단하다."
      ],
      "metadata": {
        "id": "B-2z6h8W_zzJ"
      }
    },
    {
      "cell_type": "markdown",
      "source": [
        "[datetime 오브젝트로 변환하려는 열을 지정하여 데이터 집합 불러오기]"
      ],
      "metadata": {
        "id": "-X_2lUNwABgw"
      }
    },
    {
      "cell_type": "markdown",
      "source": [
        "1. read_csv 메서드의 parse_dates 인자에 datetime 오브젝트로 변환하고자 하는 열의 이름을 전달하여 데이터 집합을 불러오기"
      ],
      "metadata": {
        "id": "Ek2SGFMVAF-u"
      }
    },
    {
      "cell_type": "code",
      "source": [
        "ebola1=pd.read_csv('../content/gdrive/MyDrive/country_timeseries.csv',parse_dates=['Date'])\n",
        "print(ebola1.info()) #Date 열이 문자열이 아니라 datetime 오브젝트로 출력"
      ],
      "metadata": {
        "colab": {
          "base_uri": "https://localhost:8080/"
        },
        "id": "chFyi7YQANJA",
        "outputId": "5ae58025-f0ce-4681-c9e8-285554ac5884"
      },
      "execution_count": null,
      "outputs": [
        {
          "output_type": "stream",
          "name": "stdout",
          "text": [
            "<class 'pandas.core.frame.DataFrame'>\n",
            "RangeIndex: 122 entries, 0 to 121\n",
            "Data columns (total 18 columns):\n",
            " #   Column               Non-Null Count  Dtype         \n",
            "---  ------               --------------  -----         \n",
            " 0   Date                 122 non-null    datetime64[ns]\n",
            " 1   Day                  122 non-null    int64         \n",
            " 2   Cases_Guinea         93 non-null     float64       \n",
            " 3   Cases_Liberia        83 non-null     float64       \n",
            " 4   Cases_SierraLeone    87 non-null     float64       \n",
            " 5   Cases_Nigeria        38 non-null     float64       \n",
            " 6   Cases_Senegal        25 non-null     float64       \n",
            " 7   Cases_UnitedStates   18 non-null     float64       \n",
            " 8   Cases_Spain          16 non-null     float64       \n",
            " 9   Cases_Mali           12 non-null     float64       \n",
            " 10  Deaths_Guinea        92 non-null     float64       \n",
            " 11  Deaths_Liberia       81 non-null     float64       \n",
            " 12  Deaths_SierraLeone   87 non-null     float64       \n",
            " 13  Deaths_Nigeria       38 non-null     float64       \n",
            " 14  Deaths_Senegal       22 non-null     float64       \n",
            " 15  Deaths_UnitedStates  18 non-null     float64       \n",
            " 16  Deaths_Spain         16 non-null     float64       \n",
            " 17  Deaths_Mali          12 non-null     float64       \n",
            "dtypes: datetime64[ns](1), float64(16), int64(1)\n",
            "memory usage: 17.3 KB\n",
            "None\n"
          ]
        }
      ]
    },
    {
      "cell_type": "markdown",
      "source": [
        "<datetime 오브젝트에서 날짜 정보 추출하기>"
      ],
      "metadata": {
        "id": "5cue0PhOAkEs"
      }
    },
    {
      "cell_type": "markdown",
      "source": [
        "[datetime 오브젝트에서 날짜 정보 추출하기]"
      ],
      "metadata": {
        "id": "dngy4g1wAm5n"
      }
    },
    {
      "cell_type": "markdown",
      "source": [
        "1. 문자열로 저장된 날짜를 시리즈에 담아 datetime 오브젝트로 변환"
      ],
      "metadata": {
        "id": "MMoPv3OrAqjQ"
      }
    },
    {
      "cell_type": "code",
      "source": [
        "date_series=pd.Series(['2018-05-16','2018-05-17','2018-05-18'])\n",
        "d1=pd.to_datetime(date_series)\n",
        "print(d1)"
      ],
      "metadata": {
        "colab": {
          "base_uri": "https://localhost:8080/"
        },
        "id": "Yj-FgbmRAuC4",
        "outputId": "ef606db3-5ba1-4f29-a10a-270549a50a61"
      },
      "execution_count": null,
      "outputs": [
        {
          "output_type": "stream",
          "name": "stdout",
          "text": [
            "0   2018-05-16\n",
            "1   2018-05-17\n",
            "2   2018-05-18\n",
            "dtype: datetime64[ns]\n"
          ]
        }
      ]
    },
    {
      "cell_type": "markdown",
      "source": [
        "2. datetime 오브젝트(d1)의 year, month, day 속성을 이용하여 년, 월, 일 정보 추출"
      ],
      "metadata": {
        "id": "TAEVXzFRBAVC"
      }
    },
    {
      "cell_type": "code",
      "source": [
        "print(d1[0].year)\n",
        "print(d1[0].month)\n",
        "print(d1[0].day)"
      ],
      "metadata": {
        "colab": {
          "base_uri": "https://localhost:8080/"
        },
        "id": "99qaNCoXBGwN",
        "outputId": "7ec46bc2-3c44-46f0-f013-4d4861feeb9d"
      },
      "execution_count": null,
      "outputs": [
        {
          "output_type": "stream",
          "name": "stdout",
          "text": [
            "2018\n",
            "5\n",
            "16\n"
          ]
        }
      ]
    },
    {
      "cell_type": "markdown",
      "source": [
        "<dt 접근자 사용하기>\n",
        "\n",
        "datetime 오브젝트에서 dt 접근자를 사용하면 datetime 속성이나 메서드를 사용하여 시계열 데이터 처리 가능"
      ],
      "metadata": {
        "id": "NSLF7VO1BGV1"
      }
    },
    {
      "cell_type": "markdown",
      "source": [
        "[dt 접근자로 시계열 데이터 정리하기]"
      ],
      "metadata": {
        "id": "I0Xg11ubBcbt"
      }
    },
    {
      "cell_type": "markdown",
      "source": [
        "1. ebola 데이터 집합을 불러오고, Date 열을 datetime 오브젝트로 변환하여 새로운 열(date_dt)로 추가"
      ],
      "metadata": {
        "id": "QX8_SgZWBfqh"
      }
    },
    {
      "cell_type": "code",
      "source": [
        "ebola=pd.read_csv('../content/gdrive/MyDrive/country_timeseries.csv',parse_dates=['Date'])\n",
        "ebola['date_dt']=pd.to_datetime(ebola['Date'])"
      ],
      "metadata": {
        "id": "nPIBuJNjBlBj"
      },
      "execution_count": null,
      "outputs": []
    },
    {
      "cell_type": "markdown",
      "source": [
        "2. dt 접근자를 사용하지 않고 인덱스가 3인 데이터의 년, 월, 일 데이터 추출"
      ],
      "metadata": {
        "id": "hNYAWJ71BvHY"
      }
    },
    {
      "cell_type": "code",
      "source": [
        "print(ebola[['Date','date_dt']].head())"
      ],
      "metadata": {
        "colab": {
          "base_uri": "https://localhost:8080/"
        },
        "id": "qKa8rcONB0xD",
        "outputId": "3d0f87d2-69e7-42ad-edcd-480b0fff85c4"
      },
      "execution_count": null,
      "outputs": [
        {
          "output_type": "stream",
          "name": "stdout",
          "text": [
            "        Date    date_dt\n",
            "0 2015-01-05 2015-01-05\n",
            "1 2015-01-04 2015-01-04\n",
            "2 2015-01-03 2015-01-03\n",
            "3 2015-01-02 2015-01-02\n",
            "4 2014-12-31 2014-12-31\n"
          ]
        }
      ]
    },
    {
      "cell_type": "code",
      "source": [
        "print(ebola['date_dt'][3].year)\n",
        "print(ebola['date_dt'][3].month)\n",
        "print(ebola['date_dt'][3].day)"
      ],
      "metadata": {
        "colab": {
          "base_uri": "https://localhost:8080/"
        },
        "id": "b-ZrgZvUB-jG",
        "outputId": "fdacd616-6d1e-4f24-b714-f6c9afc65f85"
      },
      "execution_count": null,
      "outputs": [
        {
          "output_type": "stream",
          "name": "stdout",
          "text": [
            "2015\n",
            "1\n",
            "2\n"
          ]
        }
      ]
    },
    {
      "cell_type": "markdown",
      "source": [
        "3. dt 접근자로 date_dt 열에 한 번에 접근한 뒤 year 속성으로 연도값을 추출하여 ebola 데이터프레임의 새로운 열(year)로 추가하기"
      ],
      "metadata": {
        "id": "z333Xfr4CGKL"
      }
    },
    {
      "cell_type": "code",
      "source": [
        "ebola['year']=ebola['date_dt'].dt.year\n",
        "print(ebola[['Date','date_dt','year']].head())"
      ],
      "metadata": {
        "colab": {
          "base_uri": "https://localhost:8080/"
        },
        "id": "XuWq59pPCUcD",
        "outputId": "320e0212-4108-451c-c4e4-55098df6ba76"
      },
      "execution_count": null,
      "outputs": [
        {
          "output_type": "stream",
          "name": "stdout",
          "text": [
            "        Date    date_dt  year\n",
            "0 2015-01-05 2015-01-05  2015\n",
            "1 2015-01-04 2015-01-04  2015\n",
            "2 2015-01-03 2015-01-03  2015\n",
            "3 2015-01-02 2015-01-02  2015\n",
            "4 2014-12-31 2014-12-31  2014\n"
          ]
        }
      ]
    },
    {
      "cell_type": "markdown",
      "source": [
        "4. 월, 일 데이터를 한 번에 추출해서 새로운 열(month, day)로 추가"
      ],
      "metadata": {
        "id": "Zzfq2UyVChQ3"
      }
    },
    {
      "cell_type": "code",
      "source": [
        "ebola['month'],ebola['day']=(ebola['date_dt'].dt.month, ebola['date_dt'].dt.day)\n",
        "print(ebola[['Date','date_dt','year','month','day']].head())"
      ],
      "metadata": {
        "colab": {
          "base_uri": "https://localhost:8080/"
        },
        "id": "wciRTpWrCmYf",
        "outputId": "c49e0b5f-dc88-4f2a-e5a3-95b133a575c7"
      },
      "execution_count": null,
      "outputs": [
        {
          "output_type": "stream",
          "name": "stdout",
          "text": [
            "        Date    date_dt  year  month  day\n",
            "0 2015-01-05 2015-01-05  2015      1    5\n",
            "1 2015-01-04 2015-01-04  2015      1    4\n",
            "2 2015-01-03 2015-01-03  2015      1    3\n",
            "3 2015-01-02 2015-01-02  2015      1    2\n",
            "4 2014-12-31 2014-12-31  2014     12   31\n"
          ]
        }
      ]
    },
    {
      "cell_type": "markdown",
      "source": [
        "5. ebola 데이터프레임에 새로 추가한 date_dt, year, month, day 열의 자료형 출력"
      ],
      "metadata": {
        "id": "58MYBjXsC2qY"
      }
    },
    {
      "cell_type": "code",
      "source": [
        "print(ebola.info()) #date_dt 열만 datetime 오브젝트, 나머지는 정수형"
      ],
      "metadata": {
        "colab": {
          "base_uri": "https://localhost:8080/"
        },
        "id": "nez8V01JC9oA",
        "outputId": "632a0132-c7a5-45ee-8dc1-c9f3c14430be"
      },
      "execution_count": null,
      "outputs": [
        {
          "output_type": "stream",
          "name": "stdout",
          "text": [
            "<class 'pandas.core.frame.DataFrame'>\n",
            "RangeIndex: 122 entries, 0 to 121\n",
            "Data columns (total 22 columns):\n",
            " #   Column               Non-Null Count  Dtype         \n",
            "---  ------               --------------  -----         \n",
            " 0   Date                 122 non-null    datetime64[ns]\n",
            " 1   Day                  122 non-null    int64         \n",
            " 2   Cases_Guinea         93 non-null     float64       \n",
            " 3   Cases_Liberia        83 non-null     float64       \n",
            " 4   Cases_SierraLeone    87 non-null     float64       \n",
            " 5   Cases_Nigeria        38 non-null     float64       \n",
            " 6   Cases_Senegal        25 non-null     float64       \n",
            " 7   Cases_UnitedStates   18 non-null     float64       \n",
            " 8   Cases_Spain          16 non-null     float64       \n",
            " 9   Cases_Mali           12 non-null     float64       \n",
            " 10  Deaths_Guinea        92 non-null     float64       \n",
            " 11  Deaths_Liberia       81 non-null     float64       \n",
            " 12  Deaths_SierraLeone   87 non-null     float64       \n",
            " 13  Deaths_Nigeria       38 non-null     float64       \n",
            " 14  Deaths_Senegal       22 non-null     float64       \n",
            " 15  Deaths_UnitedStates  18 non-null     float64       \n",
            " 16  Deaths_Spain         16 non-null     float64       \n",
            " 17  Deaths_Mali          12 non-null     float64       \n",
            " 18  date_dt              122 non-null    datetime64[ns]\n",
            " 19  year                 122 non-null    int64         \n",
            " 20  month                122 non-null    int64         \n",
            " 21  day                  122 non-null    int64         \n",
            "dtypes: datetime64[ns](2), float64(16), int64(4)\n",
            "memory usage: 21.1 KB\n",
            "None\n"
          ]
        }
      ]
    },
    {
      "cell_type": "markdown",
      "source": [
        "12-2. 사례별 시계열 데이터 계산하기"
      ],
      "metadata": {
        "id": "Er7zF_g3DFTB"
      }
    },
    {
      "cell_type": "markdown",
      "source": [
        "[에볼라 최초 발병일 계산하기]"
      ],
      "metadata": {
        "id": "WRvZUn7vDJb-"
      }
    },
    {
      "cell_type": "markdown",
      "source": [
        "1. ebola 데이터프레임은 데이터가 시간 역순으로 정렬, 마지막부터 봐야 시간 순으로 볼 수 있음"
      ],
      "metadata": {
        "id": "Gt6Ak7F3DMlm"
      }
    },
    {
      "cell_type": "code",
      "source": [
        "print(ebola.iloc[-5:,:5])"
      ],
      "metadata": {
        "colab": {
          "base_uri": "https://localhost:8080/"
        },
        "id": "XCItJSNvDSyw",
        "outputId": "0501c5a6-66ef-4732-bbfa-bb0d9043cc8b"
      },
      "execution_count": null,
      "outputs": [
        {
          "output_type": "stream",
          "name": "stdout",
          "text": [
            "          Date  Day  Cases_Guinea  Cases_Liberia  Cases_SierraLeone\n",
            "117 2014-03-27    5         103.0            8.0                6.0\n",
            "118 2014-03-26    4          86.0            NaN                NaN\n",
            "119 2014-03-25    3          86.0            NaN                NaN\n",
            "120 2014-03-24    2          86.0            NaN                NaN\n",
            "121 2014-03-22    0          49.0            NaN                NaN\n"
          ]
        }
      ]
    },
    {
      "cell_type": "markdown",
      "source": [
        "2. min 메서드로 최초 발병일 찾기"
      ],
      "metadata": {
        "id": "vtA5vdGADY-1"
      }
    },
    {
      "cell_type": "code",
      "source": [
        "print(ebola['date_dt'].min())\n",
        "print(type(ebola['date_dt'].min()))"
      ],
      "metadata": {
        "colab": {
          "base_uri": "https://localhost:8080/"
        },
        "id": "aBRtwih3Dczk",
        "outputId": "fd4abe06-c67a-4618-91bb-598f2650b8d1"
      },
      "execution_count": null,
      "outputs": [
        {
          "output_type": "stream",
          "name": "stdout",
          "text": [
            "2014-03-22 00:00:00\n",
            "<class 'pandas._libs.tslibs.timestamps.Timestamp'>\n"
          ]
        }
      ]
    },
    {
      "cell_type": "markdown",
      "source": [
        "3. Date 열에서 에볼라의 최초 발병일을 빼서 에볼라의 진행 정도 출력"
      ],
      "metadata": {
        "id": "RvzEYWe8Dndj"
      }
    },
    {
      "cell_type": "code",
      "source": [
        "ebola['outbreak_d']=ebola['date_dt']-ebola['date_dt'].min()\n",
        "print(ebola[['Date','Day','outbreak_d']].head())"
      ],
      "metadata": {
        "colab": {
          "base_uri": "https://localhost:8080/"
        },
        "id": "tVSji2VZDtJJ",
        "outputId": "9b53dc7c-c06c-4ce6-da25-f1e9e5ba5fc8"
      },
      "execution_count": null,
      "outputs": [
        {
          "output_type": "stream",
          "name": "stdout",
          "text": [
            "        Date  Day outbreak_d\n",
            "0 2015-01-05  289   289 days\n",
            "1 2015-01-04  288   288 days\n",
            "2 2015-01-03  287   287 days\n",
            "3 2015-01-02  286   286 days\n",
            "4 2014-12-31  284   284 days\n"
          ]
        }
      ]
    },
    {
      "cell_type": "markdown",
      "source": [
        "[파산한 은행의 개수 계산하기]"
      ],
      "metadata": {
        "id": "JC8g98N0EALF"
      }
    },
    {
      "cell_type": "markdown",
      "source": [
        "1. banks 데이터프레임의 Closing Date, Updated Date 열의 데이터 자료형이 시계열 데이터임"
      ],
      "metadata": {
        "id": "IypzTGITEDsn"
      }
    },
    {
      "cell_type": "code",
      "source": [
        "banks=pd.read_csv('../content/gdrive/MyDrive/banklist.csv')\n",
        "print(banks.head())"
      ],
      "metadata": {
        "colab": {
          "base_uri": "https://localhost:8080/"
        },
        "id": "_VUKr0tyEJyG",
        "outputId": "59c7f24f-df5d-4899-89e3-0d5152156dce"
      },
      "execution_count": null,
      "outputs": [
        {
          "output_type": "stream",
          "name": "stdout",
          "text": [
            "                                           Bank Name         City  ST   CERT  \\\n",
            "0                Washington Federal Bank for Savings      Chicago  IL  30570   \n",
            "1    The Farmers and Merchants State Bank of Argonia      Argonia  KS  17719   \n",
            "2                                Fayette County Bank   Saint Elmo  IL   1802   \n",
            "3  Guaranty Bank, (d/b/a BestBank in Georgia & Mi...    Milwaukee  WI  30003   \n",
            "4                                     First NBC Bank  New Orleans  LA  58302   \n",
            "\n",
            "                 Acquiring Institution Closing Date Updated Date  \n",
            "0                   Royal Savings Bank    15-Dec-17    20-Dec-17  \n",
            "1                          Conway Bank    13-Oct-17    20-Oct-17  \n",
            "2            United Fidelity Bank, fsb    26-May-17    26-Jul-17  \n",
            "3  First-Citizens Bank & Trust Company     5-May-17    26-Jul-17  \n",
            "4                         Whitney Bank    28-Apr-17     5-Dec-17  \n"
          ]
        }
      ]
    },
    {
      "cell_type": "markdown",
      "source": [
        "2. Closing Date, Updated Date 열의 데이터 자료형이 문자열이므로 read_csv 메서드의 parse_dates 속성을 이용하여 문자열로 저장된 두 열을 datetime 오브젝트로 변환하여 불러오기"
      ],
      "metadata": {
        "id": "omtnEQwuFKdv"
      }
    },
    {
      "cell_type": "code",
      "source": [
        "banks_no_dates=pd.read_csv('../content/gdrive/MyDrive/banklist.csv')\n",
        "print(banks_no_dates.info())"
      ],
      "metadata": {
        "colab": {
          "base_uri": "https://localhost:8080/"
        },
        "id": "3ClsbROMFVfP",
        "outputId": "7e2fd6e0-8536-4d90-dac3-78275ccd9397"
      },
      "execution_count": null,
      "outputs": [
        {
          "output_type": "stream",
          "name": "stdout",
          "text": [
            "<class 'pandas.core.frame.DataFrame'>\n",
            "RangeIndex: 555 entries, 0 to 554\n",
            "Data columns (total 7 columns):\n",
            " #   Column                 Non-Null Count  Dtype \n",
            "---  ------                 --------------  ----- \n",
            " 0   Bank Name              555 non-null    object\n",
            " 1   City                   555 non-null    object\n",
            " 2   ST                     555 non-null    object\n",
            " 3   CERT                   555 non-null    int64 \n",
            " 4   Acquiring Institution  555 non-null    object\n",
            " 5   Closing Date           555 non-null    object\n",
            " 6   Updated Date           555 non-null    object\n",
            "dtypes: int64(1), object(6)\n",
            "memory usage: 30.5+ KB\n",
            "None\n"
          ]
        }
      ]
    },
    {
      "cell_type": "code",
      "source": [
        "banks=pd.read_csv('../content/gdrive/MyDrive/banklist.csv',parse_dates=[5,6])\n",
        "print(banks.info())"
      ],
      "metadata": {
        "colab": {
          "base_uri": "https://localhost:8080/"
        },
        "id": "oNSlKHtGFnbw",
        "outputId": "0cffaf67-3273-4eb3-9dd7-1ff13a508509"
      },
      "execution_count": null,
      "outputs": [
        {
          "output_type": "stream",
          "name": "stdout",
          "text": [
            "<class 'pandas.core.frame.DataFrame'>\n",
            "RangeIndex: 555 entries, 0 to 554\n",
            "Data columns (total 7 columns):\n",
            " #   Column                 Non-Null Count  Dtype         \n",
            "---  ------                 --------------  -----         \n",
            " 0   Bank Name              555 non-null    object        \n",
            " 1   City                   555 non-null    object        \n",
            " 2   ST                     555 non-null    object        \n",
            " 3   CERT                   555 non-null    int64         \n",
            " 4   Acquiring Institution  555 non-null    object        \n",
            " 5   Closing Date           555 non-null    datetime64[ns]\n",
            " 6   Updated Date           555 non-null    datetime64[ns]\n",
            "dtypes: datetime64[ns](2), int64(1), object(4)\n",
            "memory usage: 30.5+ KB\n",
            "None\n"
          ]
        }
      ]
    },
    {
      "cell_type": "markdown",
      "source": [
        "3. dt 접근자와 year, quarter 속성을 이용하여 은행이 파산한 연도, 분기를 새로운 열로 추가"
      ],
      "metadata": {
        "id": "rzF2X9GBFyIA"
      }
    },
    {
      "cell_type": "code",
      "source": [
        "banks['closing_quarter'],banks['closing_year']=(banks['Closing Date'].dt.quarter, banks['Closing Date'].dt.year)\n",
        "print(banks.head())"
      ],
      "metadata": {
        "colab": {
          "base_uri": "https://localhost:8080/"
        },
        "id": "3o0OR44kF6rr",
        "outputId": "dccfb187-d562-478d-ca8f-f329d60a27b0"
      },
      "execution_count": null,
      "outputs": [
        {
          "output_type": "stream",
          "name": "stdout",
          "text": [
            "                                           Bank Name         City  ST   CERT  \\\n",
            "0                Washington Federal Bank for Savings      Chicago  IL  30570   \n",
            "1    The Farmers and Merchants State Bank of Argonia      Argonia  KS  17719   \n",
            "2                                Fayette County Bank   Saint Elmo  IL   1802   \n",
            "3  Guaranty Bank, (d/b/a BestBank in Georgia & Mi...    Milwaukee  WI  30003   \n",
            "4                                     First NBC Bank  New Orleans  LA  58302   \n",
            "\n",
            "                 Acquiring Institution Closing Date Updated Date  \\\n",
            "0                   Royal Savings Bank   2017-12-15   2017-12-20   \n",
            "1                          Conway Bank   2017-10-13   2017-10-20   \n",
            "2            United Fidelity Bank, fsb   2017-05-26   2017-07-26   \n",
            "3  First-Citizens Bank & Trust Company   2017-05-05   2017-07-26   \n",
            "4                         Whitney Bank   2017-04-28   2017-12-05   \n",
            "\n",
            "   closing_quarter  closing_year  \n",
            "0                4          2017  \n",
            "1                4          2017  \n",
            "2                2          2017  \n",
            "3                2          2017  \n",
            "4                2          2017  \n"
          ]
        }
      ]
    },
    {
      "cell_type": "markdown",
      "source": [
        "4. groupby 메서드로 연도별로 파산한 은행의 개수 구하기"
      ],
      "metadata": {
        "id": "qKhNA0H6GJ3f"
      }
    },
    {
      "cell_type": "code",
      "source": [
        "closing_year=banks.groupby(['closing_year']).size()\n",
        "print(closing_year)"
      ],
      "metadata": {
        "colab": {
          "base_uri": "https://localhost:8080/"
        },
        "id": "UZ-nB4QDGNSv",
        "outputId": "cc7303d1-1db4-404c-a730-3fce66d3980a"
      },
      "execution_count": null,
      "outputs": [
        {
          "output_type": "stream",
          "name": "stdout",
          "text": [
            "closing_year\n",
            "2000      2\n",
            "2001      4\n",
            "2002     11\n",
            "2003      3\n",
            "2004      4\n",
            "2007      3\n",
            "2008     25\n",
            "2009    140\n",
            "2010    157\n",
            "2011     92\n",
            "2012     51\n",
            "2013     24\n",
            "2014     18\n",
            "2015      8\n",
            "2016      5\n",
            "2017      8\n",
            "dtype: int64\n"
          ]
        }
      ]
    },
    {
      "cell_type": "markdown",
      "source": [
        "5. banks 데이터프레임을 연도별로 그룹화한 다음 다시 분기별로 그룹화하여 각 연도별, 분기별 파산한 은행 개수 출력"
      ],
      "metadata": {
        "id": "GjdpPjyiGWYZ"
      }
    },
    {
      "cell_type": "code",
      "source": [
        "closing_year_q=banks.groupby(['closing_year','closing_quarter']).size()\n",
        "print(closing_year_q)"
      ],
      "metadata": {
        "colab": {
          "base_uri": "https://localhost:8080/"
        },
        "id": "9AsiQ6eOGcgS",
        "outputId": "17b99a41-eece-4e90-a3fc-7e8e3807f862"
      },
      "execution_count": null,
      "outputs": [
        {
          "output_type": "stream",
          "name": "stdout",
          "text": [
            "closing_year  closing_quarter\n",
            "2000          4                   2\n",
            "2001          1                   1\n",
            "              2                   1\n",
            "              3                   2\n",
            "2002          1                   6\n",
            "              2                   2\n",
            "              3                   1\n",
            "              4                   2\n",
            "2003          1                   1\n",
            "              2                   1\n",
            "              4                   1\n",
            "2004          1                   3\n",
            "              2                   1\n",
            "2007          1                   1\n",
            "              3                   1\n",
            "              4                   1\n",
            "2008          1                   2\n",
            "              2                   2\n",
            "              3                   9\n",
            "              4                  12\n",
            "2009          1                  21\n",
            "              2                  24\n",
            "              3                  50\n",
            "              4                  45\n",
            "2010          1                  41\n",
            "              2                  45\n",
            "              3                  41\n",
            "              4                  30\n",
            "2011          1                  26\n",
            "              2                  22\n",
            "              3                  26\n",
            "              4                  18\n",
            "2012          1                  16\n",
            "              2                  15\n",
            "              3                  12\n",
            "              4                   8\n",
            "2013          1                   4\n",
            "              2                  12\n",
            "              3                   6\n",
            "              4                   2\n",
            "2014          1                   5\n",
            "              2                   7\n",
            "              3                   2\n",
            "              4                   4\n",
            "2015          1                   4\n",
            "              2                   1\n",
            "              3                   1\n",
            "              4                   2\n",
            "2016          1                   1\n",
            "              2                   2\n",
            "              3                   2\n",
            "2017          1                   3\n",
            "              2                   3\n",
            "              4                   2\n",
            "dtype: int64\n"
          ]
        }
      ]
    },
    {
      "cell_type": "markdown",
      "source": [
        "6. 5번의 값을 그래프로 나타내기"
      ],
      "metadata": {
        "id": "nsAHf0U-GmEJ"
      }
    },
    {
      "cell_type": "code",
      "source": [
        "import matplotlib.pyplot as plt\n",
        "fig, ax = plt.subplots()\n",
        "ax = closing_year.plot()\n",
        "plt.show()\n",
        "\n",
        "fig, ax=plt.subplots()\n",
        "ax = closing_year_q.plot()\n",
        "plt.show()"
      ],
      "metadata": {
        "colab": {
          "base_uri": "https://localhost:8080/",
          "height": 543
        },
        "id": "KLyz14xnGog_",
        "outputId": "103698c9-0672-450e-92f9-512719a2d4e0"
      },
      "execution_count": null,
      "outputs": [
        {
          "output_type": "display_data",
          "data": {
            "text/plain": [
              "<Figure size 432x288 with 1 Axes>"
            ],
            "image/png": "[encoded data removed]"
          },
          "metadata": {
            "needs_background": "light"
          }
        },
        {
          "output_type": "display_data",
          "data": {
            "text/plain": [
              "<Figure size 432x288 with 1 Axes>"
            ],
            "image/png": "[encoded data removed]"
          },
          "metadata": {
            "needs_background": "light"
          }
        }
      ]
    },
    {
      "cell_type": "markdown",
      "source": [
        "<시간 범위 수정하고 데이터 밀어내기 - shift 메서드>"
      ],
      "metadata": {
        "id": "KEckNnHpG_V_"
      }
    },
    {
      "cell_type": "markdown",
      "source": [
        "[에볼라의 확산 속도 비교하기]"
      ],
      "metadata": {
        "id": "DJxI96xvHFqy"
      }
    },
    {
      "cell_type": "markdown",
      "source": [
        "1. ebola 데이터프레임의 Date 열을 인덱스로 지정한 다음 x축을 Date 열, y축을 사망자 수로 지정하여 그린 그래프"
      ],
      "metadata": {
        "id": "4hlrt3W0HIF0"
      }
    },
    {
      "cell_type": "code",
      "source": [
        "import matplotlib.pyplot as plt\n",
        "\n",
        "ebola.index=ebola['Date']"
      ],
      "metadata": {
        "id": "v7rFCp3cHHr0"
      },
      "execution_count": null,
      "outputs": []
    },
    {
      "cell_type": "code",
      "source": [
        "fig, ax=plt.subplots()\n",
        "ax=ebola.iloc[0:,1:].plot(ax=ax)\n",
        "ax.legend(fontsize=7,loc=2,borderaxespad=0.)\n",
        "plt.show()"
      ],
      "metadata": {
        "colab": {
          "base_uri": "https://localhost:8080/",
          "height": 279
        },
        "id": "Ai7SpDMwHr_u",
        "outputId": "560e2f40-dbb3-4920-e755-d10895dac39f"
      },
      "execution_count": null,
      "outputs": [
        {
          "output_type": "display_data",
          "data": {
            "text/plain": [
              "<Figure size 432x288 with 1 Axes>"
            ],
            "image/png": "[encoded data removed]"
          },
          "metadata": {
            "needs_background": "light"
          }
        }
      ]
    },
    {
      "cell_type": "markdown",
      "source": [
        "2. 각 나라의 발병일을 가장 처음 에볼라가 발병한 Guinea와 동일한 위치로 옮기기"
      ],
      "metadata": {
        "id": "Y-CmvsViH4Ng"
      }
    },
    {
      "cell_type": "code",
      "source": [
        "ebola_sub=ebola[['Day','Cases_Guinea','Cases_Liberia']]\n",
        "print(ebola_sub.tail(10))"
      ],
      "metadata": {
        "colab": {
          "base_uri": "https://localhost:8080/"
        },
        "id": "9rUhCet4IIkp",
        "outputId": "f8f2d866-3a6b-48db-a329-dade52c8ea6d"
      },
      "execution_count": null,
      "outputs": [
        {
          "output_type": "stream",
          "name": "stdout",
          "text": [
            "           Day  Cases_Guinea  Cases_Liberia\n",
            "Date                                       \n",
            "4/4/2014    13         143.0           18.0\n",
            "4/1/2014    10         127.0            8.0\n",
            "3/31/2014    9         122.0            8.0\n",
            "3/29/2014    7         112.0            7.0\n",
            "3/28/2014    6         112.0            3.0\n",
            "3/27/2014    5         103.0            8.0\n",
            "3/26/2014    4          86.0            NaN\n",
            "3/25/2014    3          86.0            NaN\n",
            "3/24/2014    2          86.0            NaN\n",
            "3/22/2014    0          49.0            NaN\n"
          ]
        }
      ]
    },
    {
      "cell_type": "markdown",
      "source": [
        "3. Date 열의 자료형을 datetime 오브젝트로 변환"
      ],
      "metadata": {
        "id": "k4qwc3nPIaUd"
      }
    },
    {
      "cell_type": "code",
      "source": [
        "ebola=pd.read_csv('../content/gdrive/MyDrive/country_timeseries.csv',parse_dates=['Date'])\n",
        "print(ebola.head().iloc[:,:5])\n",
        "print(ebola.tail().iloc[:,:5])"
      ],
      "metadata": {
        "colab": {
          "base_uri": "https://localhost:8080/"
        },
        "id": "-tFut7FrIfX3",
        "outputId": "61d7e6d7-faac-4eac-9098-f1495a298591"
      },
      "execution_count": null,
      "outputs": [
        {
          "output_type": "stream",
          "name": "stdout",
          "text": [
            "        Date  Day  Cases_Guinea  Cases_Liberia  Cases_SierraLeone\n",
            "0 2015-01-05  289        2776.0            NaN            10030.0\n",
            "1 2015-01-04  288        2775.0            NaN             9780.0\n",
            "2 2015-01-03  287        2769.0         8166.0             9722.0\n",
            "3 2015-01-02  286           NaN         8157.0                NaN\n",
            "4 2014-12-31  284        2730.0         8115.0             9633.0\n",
            "          Date  Day  Cases_Guinea  Cases_Liberia  Cases_SierraLeone\n",
            "117 2014-03-27    5         103.0            8.0                6.0\n",
            "118 2014-03-26    4          86.0            NaN                NaN\n",
            "119 2014-03-25    3          86.0            NaN                NaN\n",
            "120 2014-03-24    2          86.0            NaN                NaN\n",
            "121 2014-03-22    0          49.0            NaN                NaN\n"
          ]
        }
      ]
    },
    {
      "cell_type": "markdown",
      "source": [
        "4. Date 열을 인덱스로 지정한 다음 ebola 데이터프레임의 Date 열의 최댓값과 최솟값으로 시간 범위를 생성하여 new_idx에 저장 - 날짜가 아예 없었던 데이터의 인덱스 생성"
      ],
      "metadata": {
        "id": "9CvNWxOZ1oFn"
      }
    },
    {
      "cell_type": "code",
      "source": [
        "ebola.index=ebola['Date']\n",
        "new_idx=pd.date_range(ebola.index.min(),ebola.index.max())"
      ],
      "metadata": {
        "id": "C-p5lv_Jf2cq"
      },
      "execution_count": null,
      "outputs": []
    },
    {
      "cell_type": "markdown",
      "source": [
        "5. reversed 메서드로 인덱스 순서 뒤집기"
      ],
      "metadata": {
        "id": "tlij6u5WgABk"
      }
    },
    {
      "cell_type": "code",
      "source": [
        "print(new_idx)"
      ],
      "metadata": {
        "colab": {
          "base_uri": "https://localhost:8080/"
        },
        "id": "9a4K7ml43JLG",
        "outputId": "e76cf5d6-c626-4218-a01c-6db9652f2b1a"
      },
      "execution_count": null,
      "outputs": [
        {
          "output_type": "stream",
          "name": "stdout",
          "text": [
            "DatetimeIndex(['2014-03-22', '2014-03-23', '2014-03-24', '2014-03-25',\n",
            "               '2014-03-26', '2014-03-27', '2014-03-28', '2014-03-29',\n",
            "               '2014-03-30', '2014-03-31',\n",
            "               ...\n",
            "               '2014-12-27', '2014-12-28', '2014-12-29', '2014-12-30',\n",
            "               '2014-12-31', '2015-01-01', '2015-01-02', '2015-01-03',\n",
            "               '2015-01-04', '2015-01-05'],\n",
            "              dtype='datetime64[ns]', length=290, freq='D')\n"
          ]
        }
      ]
    },
    {
      "cell_type": "code",
      "source": [
        "new_idx=reversed(new_idx)"
      ],
      "metadata": {
        "id": "pdUZcgQM3LA1"
      },
      "execution_count": null,
      "outputs": []
    },
    {
      "cell_type": "markdown",
      "source": [
        "6. reindex 메서드로 new_idx를 새로운 인덱스로 지정"
      ],
      "metadata": {
        "id": "MNK8cJqS3RbI"
      }
    },
    {
      "cell_type": "code",
      "source": [
        "ebola=ebola.reindex(new_idx)"
      ],
      "metadata": {
        "id": "weguSV7i3XCt"
      },
      "execution_count": null,
      "outputs": []
    },
    {
      "cell_type": "code",
      "source": [
        "print(ebola.head().iloc[:,:5])"
      ],
      "metadata": {
        "colab": {
          "base_uri": "https://localhost:8080/"
        },
        "id": "RGgQaGs43hz_",
        "outputId": "4bc89e71-0021-4a09-a219-d7aead22fb02"
      },
      "execution_count": null,
      "outputs": [
        {
          "output_type": "stream",
          "name": "stdout",
          "text": [
            "                 Date    Day  Cases_Guinea  Cases_Liberia  Cases_SierraLeone\n",
            "Date                                                                        \n",
            "2015-01-05 2015-01-05  289.0        2776.0            NaN            10030.0\n",
            "2015-01-04 2015-01-04  288.0        2775.0            NaN             9780.0\n",
            "2015-01-03 2015-01-03  287.0        2769.0         8166.0             9722.0\n",
            "2015-01-02 2015-01-02  286.0           NaN         8157.0                NaN\n",
            "2015-01-01        NaT    NaN           NaN            NaN                NaN\n"
          ]
        }
      ]
    },
    {
      "cell_type": "code",
      "source": [
        "print(ebola.tail().iloc[:,:5])"
      ],
      "metadata": {
        "colab": {
          "base_uri": "https://localhost:8080/"
        },
        "id": "Dv46Qakt3nBc",
        "outputId": "0db4202a-9aab-48a8-ab7e-ebf415c33c17"
      },
      "execution_count": null,
      "outputs": [
        {
          "output_type": "stream",
          "name": "stdout",
          "text": [
            "                 Date  Day  Cases_Guinea  Cases_Liberia  Cases_SierraLeone\n",
            "Date                                                                      \n",
            "2014-03-26 2014-03-26  4.0          86.0            NaN                NaN\n",
            "2014-03-25 2014-03-25  3.0          86.0            NaN                NaN\n",
            "2014-03-24 2014-03-24  2.0          86.0            NaN                NaN\n",
            "2014-03-23        NaT  NaN           NaN            NaN                NaN\n",
            "2014-03-22 2014-03-22  0.0          49.0            NaN                NaN\n"
          ]
        }
      ]
    },
    {
      "cell_type": "markdown",
      "source": [
        "7. 각 나라의 에볼라 발병일 구하기"
      ],
      "metadata": {
        "id": "TjpYAXrK3uGn"
      }
    },
    {
      "cell_type": "code",
      "source": [
        "last_valid=ebola.apply(pd.Series.last_valid_index)\n",
        "print(last_valid)"
      ],
      "metadata": {
        "colab": {
          "base_uri": "https://localhost:8080/"
        },
        "id": "58AgYdxT3wMF",
        "outputId": "a67b57e0-022e-440b-de3a-2df9e1f2ecc2"
      },
      "execution_count": null,
      "outputs": [
        {
          "output_type": "stream",
          "name": "stdout",
          "text": [
            "Date                  2014-03-22\n",
            "Day                   2014-03-22\n",
            "Cases_Guinea          2014-03-22\n",
            "Cases_Liberia         2014-03-27\n",
            "Cases_SierraLeone     2014-03-27\n",
            "Cases_Nigeria         2014-07-23\n",
            "Cases_Senegal         2014-08-31\n",
            "Cases_UnitedStates    2014-10-01\n",
            "Cases_Spain           2014-10-08\n",
            "Cases_Mali            2014-10-22\n",
            "Deaths_Guinea         2014-03-22\n",
            "Deaths_Liberia        2014-03-27\n",
            "Deaths_SierraLeone    2014-03-27\n",
            "Deaths_Nigeria        2014-07-23\n",
            "Deaths_Senegal        2014-09-07\n",
            "Deaths_UnitedStates   2014-10-01\n",
            "Deaths_Spain          2014-10-08\n",
            "Deaths_Mali           2014-10-22\n",
            "date_dt               2014-03-22\n",
            "year                  2014-03-22\n",
            "month                 2014-03-22\n",
            "day                   2014-03-22\n",
            "dtype: datetime64[ns]\n"
          ]
        }
      ]
    },
    {
      "cell_type": "code",
      "source": [
        "first_valid=ebola.apply(pd.Series.first_valid_index)\n",
        "print(first_valid)"
      ],
      "metadata": {
        "colab": {
          "base_uri": "https://localhost:8080/"
        },
        "id": "TEfpd8LU34JE",
        "outputId": "aa68378d-900b-4cdf-ceb7-14f4d9563004"
      },
      "execution_count": null,
      "outputs": [
        {
          "output_type": "stream",
          "name": "stdout",
          "text": [
            "Date                  2015-01-05\n",
            "Day                   2015-01-05\n",
            "Cases_Guinea          2015-01-05\n",
            "Cases_Liberia         2015-01-03\n",
            "Cases_SierraLeone     2015-01-05\n",
            "Cases_Nigeria         2014-12-07\n",
            "Cases_Senegal         2014-12-07\n",
            "Cases_UnitedStates    2014-12-07\n",
            "Cases_Spain           2014-12-07\n",
            "Cases_Mali            2014-12-07\n",
            "Deaths_Guinea         2015-01-05\n",
            "Deaths_Liberia        2015-01-03\n",
            "Deaths_SierraLeone    2015-01-05\n",
            "Deaths_Nigeria        2014-12-07\n",
            "Deaths_Senegal        2014-12-07\n",
            "Deaths_UnitedStates   2014-12-07\n",
            "Deaths_Spain          2014-12-07\n",
            "Deaths_Mali           2014-12-07\n",
            "date_dt               2015-01-05\n",
            "year                  2015-01-05\n",
            "month                 2015-01-05\n",
            "day                   2015-01-05\n",
            "dtype: datetime64[ns]\n"
          ]
        }
      ]
    },
    {
      "cell_type": "markdown",
      "source": [
        "8. 각 나라의 에볼라 발병일을 동일한 출발선으로 옮기기"
      ],
      "metadata": {
        "id": "6s0opVTs3_ID"
      }
    },
    {
      "cell_type": "code",
      "source": [
        "earliest_date=ebola.index.min()\n",
        "print(earliest_date)"
      ],
      "metadata": {
        "colab": {
          "base_uri": "https://localhost:8080/"
        },
        "id": "VvBjwJy04DEv",
        "outputId": "4b002fce-6699-45f1-cc6e-5a80b327850c"
      },
      "execution_count": null,
      "outputs": [
        {
          "output_type": "stream",
          "name": "stdout",
          "text": [
            "2014-03-22 00:00:00\n"
          ]
        }
      ]
    },
    {
      "cell_type": "code",
      "source": [
        "shift_values=last_valid - earliest_date\n",
        "print(shift_values)"
      ],
      "metadata": {
        "colab": {
          "base_uri": "https://localhost:8080/"
        },
        "id": "TsbQ4bno4H2d",
        "outputId": "245ca531-7e76-4453-a88e-e1c867f7c697"
      },
      "execution_count": null,
      "outputs": [
        {
          "output_type": "stream",
          "name": "stdout",
          "text": [
            "Date                    0 days\n",
            "Day                     0 days\n",
            "Cases_Guinea            0 days\n",
            "Cases_Liberia           5 days\n",
            "Cases_SierraLeone       5 days\n",
            "Cases_Nigeria         123 days\n",
            "Cases_Senegal         162 days\n",
            "Cases_UnitedStates    193 days\n",
            "Cases_Spain           200 days\n",
            "Cases_Mali            214 days\n",
            "Deaths_Guinea           0 days\n",
            "Deaths_Liberia          5 days\n",
            "Deaths_SierraLeone      5 days\n",
            "Deaths_Nigeria        123 days\n",
            "Deaths_Senegal        169 days\n",
            "Deaths_UnitedStates   193 days\n",
            "Deaths_Spain          200 days\n",
            "Deaths_Mali           214 days\n",
            "date_dt                 0 days\n",
            "year                    0 days\n",
            "month                   0 days\n",
            "day                     0 days\n",
            "dtype: timedelta64[ns]\n"
          ]
        }
      ]
    },
    {
      "cell_type": "markdown",
      "source": [
        "9. 인잣값만큼 데이터를 밀어내는 shift 메서드로 각 나라의 에볼라 발병일 옮기기"
      ],
      "metadata": {
        "id": "lt3d690e4SXG"
      }
    },
    {
      "cell_type": "code",
      "source": [
        "ebola_dict={}\n",
        "for idx, col in enumerate(ebola):\n",
        "  d=shift_values[idx].days\n",
        "  shifted=ebola[col].shift(d)\n",
        "  ebola_dict[col]=shifted"
      ],
      "metadata": {
        "id": "VX3n2Kpu4TH5"
      },
      "execution_count": null,
      "outputs": []
    },
    {
      "cell_type": "markdown",
      "source": [
        "10. DataFrame 메서드로 ebola_dict의 값을 데이터프레임으로 변환"
      ],
      "metadata": {
        "id": "l1Gcm4Ui4Tea"
      }
    },
    {
      "cell_type": "code",
      "source": [
        "ebola_shift=pd.DataFrame(ebola_dict)"
      ],
      "metadata": {
        "id": "jeoc_3U-4UgA"
      },
      "execution_count": null,
      "outputs": []
    },
    {
      "cell_type": "markdown",
      "source": [
        "11. 에볼라의 최초 발병일을 기준으로 모든 데이터가 옮겨짐"
      ],
      "metadata": {
        "id": "Zc4ju5ul4VYy"
      }
    },
    {
      "cell_type": "code",
      "source": [
        "print(ebola_shift.tail())"
      ],
      "metadata": {
        "colab": {
          "base_uri": "https://localhost:8080/"
        },
        "id": "zPpjvEFo4WRP",
        "outputId": "7e8db15c-1103-43f3-b1a5-d5603b0ea8fe"
      },
      "execution_count": null,
      "outputs": [
        {
          "output_type": "stream",
          "name": "stdout",
          "text": [
            "                 Date  Day  Cases_Guinea  Cases_Liberia  Cases_SierraLeone  \\\n",
            "Date                                                                         \n",
            "2014-03-26 2014-03-26  4.0          86.0            8.0                2.0   \n",
            "2014-03-25 2014-03-25  3.0          86.0            NaN                NaN   \n",
            "2014-03-24 2014-03-24  2.0          86.0            7.0                NaN   \n",
            "2014-03-23        NaT  NaN           NaN            3.0                2.0   \n",
            "2014-03-22 2014-03-22  0.0          49.0            8.0                6.0   \n",
            "\n",
            "            Cases_Nigeria  Cases_Senegal  Cases_UnitedStates  Cases_Spain  \\\n",
            "Date                                                                        \n",
            "2014-03-26            1.0            NaN                 1.0          1.0   \n",
            "2014-03-25            NaN            NaN                 NaN          NaN   \n",
            "2014-03-24            NaN            NaN                 NaN          NaN   \n",
            "2014-03-23            NaN            NaN                 NaN          NaN   \n",
            "2014-03-22            0.0            1.0                 1.0          1.0   \n",
            "\n",
            "            Cases_Mali  ...  Deaths_SierraLeone  Deaths_Nigeria  \\\n",
            "Date                    ...                                       \n",
            "2014-03-26         NaN  ...                 2.0             1.0   \n",
            "2014-03-25         NaN  ...                 NaN             NaN   \n",
            "2014-03-24         NaN  ...                 NaN             NaN   \n",
            "2014-03-23         NaN  ...                 2.0             NaN   \n",
            "2014-03-22         1.0  ...                 5.0             0.0   \n",
            "\n",
            "            Deaths_Senegal  Deaths_UnitedStates  Deaths_Spain  Deaths_Mali  \\\n",
            "Date                                                                         \n",
            "2014-03-26             NaN                  0.0           1.0          NaN   \n",
            "2014-03-25             NaN                  NaN           NaN          NaN   \n",
            "2014-03-24             NaN                  NaN           NaN          NaN   \n",
            "2014-03-23             NaN                  NaN           NaN          NaN   \n",
            "2014-03-22             0.0                  0.0           1.0          1.0   \n",
            "\n",
            "              date_dt    year month   day  \n",
            "Date                                       \n",
            "2014-03-26 2014-03-26  2014.0   3.0  26.0  \n",
            "2014-03-25 2014-03-25  2014.0   3.0  25.0  \n",
            "2014-03-24 2014-03-24  2014.0   3.0  24.0  \n",
            "2014-03-23        NaT     NaN   NaN   NaN  \n",
            "2014-03-22 2014-03-22  2014.0   3.0  22.0  \n",
            "\n",
            "[5 rows x 22 columns]\n"
          ]
        }
      ]
    },
    {
      "cell_type": "markdown",
      "source": [
        "12. 인덱스를 Day 열로 지정하고 필요없는 Date, Day 열 삭제"
      ],
      "metadata": {
        "id": "NS53_6qC4WtS"
      }
    },
    {
      "cell_type": "code",
      "source": [
        "ebola_shift.index=ebola_shift['Day']\n",
        "ebola_shift=ebola_shift.drop(['Date','Day'],axis=1)\n",
        "print(ebola_shift.tail())"
      ],
      "metadata": {
        "colab": {
          "base_uri": "https://localhost:8080/"
        },
        "id": "fqG-yC1c4XaU",
        "outputId": "ff3f9265-271c-4d35-be62-1d410e816095"
      },
      "execution_count": null,
      "outputs": [
        {
          "output_type": "stream",
          "name": "stdout",
          "text": [
            "     Cases_Guinea  Cases_Liberia  Cases_SierraLeone  Cases_Nigeria  \\\n",
            "Day                                                                  \n",
            "4.0          86.0            8.0                2.0            1.0   \n",
            "3.0          86.0            NaN                NaN            NaN   \n",
            "2.0          86.0            7.0                NaN            NaN   \n",
            "NaN           NaN            3.0                2.0            NaN   \n",
            "0.0          49.0            8.0                6.0            0.0   \n",
            "\n",
            "     Cases_Senegal  Cases_UnitedStates  Cases_Spain  Cases_Mali  \\\n",
            "Day                                                               \n",
            "4.0            NaN                 1.0          1.0         NaN   \n",
            "3.0            NaN                 NaN          NaN         NaN   \n",
            "2.0            NaN                 NaN          NaN         NaN   \n",
            "NaN            NaN                 NaN          NaN         NaN   \n",
            "0.0            1.0                 1.0          1.0         1.0   \n",
            "\n",
            "     Deaths_Guinea  Deaths_Liberia  Deaths_SierraLeone  Deaths_Nigeria  \\\n",
            "Day                                                                      \n",
            "4.0           62.0             4.0                 2.0             1.0   \n",
            "3.0           60.0             NaN                 NaN             NaN   \n",
            "2.0           59.0             2.0                 NaN             NaN   \n",
            "NaN            NaN             3.0                 2.0             NaN   \n",
            "0.0           29.0             6.0                 5.0             0.0   \n",
            "\n",
            "     Deaths_Senegal  Deaths_UnitedStates  Deaths_Spain  Deaths_Mali  \\\n",
            "Day                                                                   \n",
            "4.0             NaN                  0.0           1.0          NaN   \n",
            "3.0             NaN                  NaN           NaN          NaN   \n",
            "2.0             NaN                  NaN           NaN          NaN   \n",
            "NaN             NaN                  NaN           NaN          NaN   \n",
            "0.0             0.0                  0.0           1.0          1.0   \n",
            "\n",
            "       date_dt    year  month   day  \n",
            "Day                                  \n",
            "4.0 2014-03-26  2014.0    3.0  26.0  \n",
            "3.0 2014-03-25  2014.0    3.0  25.0  \n",
            "2.0 2014-03-24  2014.0    3.0  24.0  \n",
            "NaN        NaT     NaN    NaN   NaN  \n",
            "0.0 2014-03-22  2014.0    3.0  22.0  \n"
          ]
        }
      ]
    },
    {
      "cell_type": "markdown",
      "source": [
        "13. 그래프 그리기"
      ],
      "metadata": {
        "id": "3Hx-NfTL4Ydz"
      }
    },
    {
      "cell_type": "code",
      "source": [
        "fig,ax=plt.subplots()\n",
        "ax=ebola_shift.iloc[:,:].plot(ax=ax)\n",
        "ax.legend(fontsize=7, loc=2, borderaxespad=0.)\n",
        "plt.show()"
      ],
      "metadata": {
        "colab": {
          "base_uri": "https://localhost:8080/",
          "height": 380
        },
        "id": "8MS3Rht04ZRG",
        "outputId": "299ca570-9ce2-4ef4-ed5b-e9c6ca4bf9e3"
      },
      "execution_count": 49,
      "outputs": [
        {
          "output_type": "error",
          "ename": "ValueError",
          "evalue": "ignored",
          "traceback": [
            "\u001b[0;31m---------------------------------------------------------------------------\u001b[0m",
            "\u001b[0;31mValueError\u001b[0m                                Traceback (most recent call last)",
            "\u001b[0;32m<ipython-input-49-9a911eef604e>\u001b[0m in \u001b[0;36m<module>\u001b[0;34m()\u001b[0m\n\u001b[1;32m      2\u001b[0m \u001b[0max\u001b[0m\u001b[0;34m=\u001b[0m\u001b[0mebola_shift\u001b[0m\u001b[0;34m.\u001b[0m\u001b[0miloc\u001b[0m\u001b[0;34m[\u001b[0m\u001b[0;34m:\u001b[0m\u001b[0;34m,\u001b[0m\u001b[0;34m:\u001b[0m\u001b[0;34m]\u001b[0m\u001b[0;34m.\u001b[0m\u001b[0mplot\u001b[0m\u001b[0;34m(\u001b[0m\u001b[0max\u001b[0m\u001b[0;34m=\u001b[0m\u001b[0max\u001b[0m\u001b[0;34m)\u001b[0m\u001b[0;34m\u001b[0m\u001b[0;34m\u001b[0m\u001b[0m\n\u001b[1;32m      3\u001b[0m \u001b[0max\u001b[0m\u001b[0;34m.\u001b[0m\u001b[0mlegend\u001b[0m\u001b[0;34m(\u001b[0m\u001b[0mfontsize\u001b[0m\u001b[0;34m=\u001b[0m\u001b[0;36m7\u001b[0m\u001b[0;34m,\u001b[0m \u001b[0mloc\u001b[0m\u001b[0;34m=\u001b[0m\u001b[0;36m2\u001b[0m\u001b[0;34m,\u001b[0m \u001b[0mborderaxespad\u001b[0m\u001b[0;34m=\u001b[0m\u001b[0;36m0.\u001b[0m\u001b[0;34m)\u001b[0m\u001b[0;34m\u001b[0m\u001b[0;34m\u001b[0m\u001b[0m\n\u001b[0;32m----> 4\u001b[0;31m \u001b[0mplt\u001b[0m\u001b[0;34m.\u001b[0m\u001b[0mshow\u001b[0m\u001b[0;34m(\u001b[0m\u001b[0;34m)\u001b[0m\u001b[0;34m\u001b[0m\u001b[0;34m\u001b[0m\u001b[0m\n\u001b[0m",
            "\u001b[0;32m/usr/local/lib/python3.7/dist-packages/matplotlib/pyplot.py\u001b[0m in \u001b[0;36mshow\u001b[0;34m(*args, **kw)\u001b[0m\n\u001b[1;32m    270\u001b[0m     \"\"\"\n\u001b[1;32m    271\u001b[0m     \u001b[0;32mglobal\u001b[0m \u001b[0m_show\u001b[0m\u001b[0;34m\u001b[0m\u001b[0;34m\u001b[0m\u001b[0m\n\u001b[0;32m--> 272\u001b[0;31m     \u001b[0;32mreturn\u001b[0m \u001b[0m_show\u001b[0m\u001b[0;34m(\u001b[0m\u001b[0;34m*\u001b[0m\u001b[0margs\u001b[0m\u001b[0;34m,\u001b[0m \u001b[0;34m**\u001b[0m\u001b[0mkw\u001b[0m\u001b[0;34m)\u001b[0m\u001b[0;34m\u001b[0m\u001b[0;34m\u001b[0m\u001b[0m\n\u001b[0m\u001b[1;32m    273\u001b[0m \u001b[0;34m\u001b[0m\u001b[0m\n\u001b[1;32m    274\u001b[0m \u001b[0;34m\u001b[0m\u001b[0m\n",
            "\u001b[0;32m/usr/local/lib/python3.7/dist-packages/ipykernel/pylab/backend_inline.py\u001b[0m in \u001b[0;36mshow\u001b[0;34m(close, block)\u001b[0m\n\u001b[1;32m     37\u001b[0m             display(\n\u001b[1;32m     38\u001b[0m                 \u001b[0mfigure_manager\u001b[0m\u001b[0;34m.\u001b[0m\u001b[0mcanvas\u001b[0m\u001b[0;34m.\u001b[0m\u001b[0mfigure\u001b[0m\u001b[0;34m,\u001b[0m\u001b[0;34m\u001b[0m\u001b[0;34m\u001b[0m\u001b[0m\n\u001b[0;32m---> 39\u001b[0;31m                 \u001b[0mmetadata\u001b[0m\u001b[0;34m=\u001b[0m\u001b[0m_fetch_figure_metadata\u001b[0m\u001b[0;34m(\u001b[0m\u001b[0mfigure_manager\u001b[0m\u001b[0;34m.\u001b[0m\u001b[0mcanvas\u001b[0m\u001b[0;34m.\u001b[0m\u001b[0mfigure\u001b[0m\u001b[0;34m)\u001b[0m\u001b[0;34m\u001b[0m\u001b[0;34m\u001b[0m\u001b[0m\n\u001b[0m\u001b[1;32m     40\u001b[0m             )\n\u001b[1;32m     41\u001b[0m     \u001b[0;32mfinally\u001b[0m\u001b[0;34m:\u001b[0m\u001b[0;34m\u001b[0m\u001b[0;34m\u001b[0m\u001b[0m\n",
            "\u001b[0;32m/usr/local/lib/python3.7/dist-packages/ipykernel/pylab/backend_inline.py\u001b[0m in \u001b[0;36m_fetch_figure_metadata\u001b[0;34m(fig)\u001b[0m\n\u001b[1;32m    175\u001b[0m         \u001b[0;31m# the background is transparent\u001b[0m\u001b[0;34m\u001b[0m\u001b[0;34m\u001b[0m\u001b[0;34m\u001b[0m\u001b[0m\n\u001b[1;32m    176\u001b[0m         ticksLight = _is_light([label.get_color()\n\u001b[0;32m--> 177\u001b[0;31m                                 \u001b[0;32mfor\u001b[0m \u001b[0maxes\u001b[0m \u001b[0;32min\u001b[0m \u001b[0mfig\u001b[0m\u001b[0;34m.\u001b[0m\u001b[0maxes\u001b[0m\u001b[0;34m\u001b[0m\u001b[0;34m\u001b[0m\u001b[0m\n\u001b[0m\u001b[1;32m    178\u001b[0m                                 \u001b[0;32mfor\u001b[0m \u001b[0maxis\u001b[0m \u001b[0;32min\u001b[0m \u001b[0;34m(\u001b[0m\u001b[0maxes\u001b[0m\u001b[0;34m.\u001b[0m\u001b[0mxaxis\u001b[0m\u001b[0;34m,\u001b[0m \u001b[0maxes\u001b[0m\u001b[0;34m.\u001b[0m\u001b[0myaxis\u001b[0m\u001b[0;34m)\u001b[0m\u001b[0;34m\u001b[0m\u001b[0;34m\u001b[0m\u001b[0m\n\u001b[1;32m    179\u001b[0m                                 for label in axis.get_ticklabels()])\n",
            "\u001b[0;32m/usr/local/lib/python3.7/dist-packages/ipykernel/pylab/backend_inline.py\u001b[0m in \u001b[0;36m<listcomp>\u001b[0;34m(.0)\u001b[0m\n\u001b[1;32m    177\u001b[0m                                 \u001b[0;32mfor\u001b[0m \u001b[0maxes\u001b[0m \u001b[0;32min\u001b[0m \u001b[0mfig\u001b[0m\u001b[0;34m.\u001b[0m\u001b[0maxes\u001b[0m\u001b[0;34m\u001b[0m\u001b[0;34m\u001b[0m\u001b[0m\n\u001b[1;32m    178\u001b[0m                                 \u001b[0;32mfor\u001b[0m \u001b[0maxis\u001b[0m \u001b[0;32min\u001b[0m \u001b[0;34m(\u001b[0m\u001b[0maxes\u001b[0m\u001b[0;34m.\u001b[0m\u001b[0mxaxis\u001b[0m\u001b[0;34m,\u001b[0m \u001b[0maxes\u001b[0m\u001b[0;34m.\u001b[0m\u001b[0myaxis\u001b[0m\u001b[0;34m)\u001b[0m\u001b[0;34m\u001b[0m\u001b[0;34m\u001b[0m\u001b[0m\n\u001b[0;32m--> 179\u001b[0;31m                                 for label in axis.get_ticklabels()])\n\u001b[0m\u001b[1;32m    180\u001b[0m         \u001b[0;32mif\u001b[0m \u001b[0mticksLight\u001b[0m\u001b[0;34m.\u001b[0m\u001b[0msize\u001b[0m \u001b[0;32mand\u001b[0m \u001b[0;34m(\u001b[0m\u001b[0mticksLight\u001b[0m \u001b[0;34m==\u001b[0m \u001b[0mticksLight\u001b[0m\u001b[0;34m[\u001b[0m\u001b[0;36m0\u001b[0m\u001b[0;34m]\u001b[0m\u001b[0;34m)\u001b[0m\u001b[0;34m.\u001b[0m\u001b[0mall\u001b[0m\u001b[0;34m(\u001b[0m\u001b[0;34m)\u001b[0m\u001b[0;34m:\u001b[0m\u001b[0;34m\u001b[0m\u001b[0;34m\u001b[0m\u001b[0m\n\u001b[1;32m    181\u001b[0m             \u001b[0;31m# there are one or more tick labels, all with the same lightness\u001b[0m\u001b[0;34m\u001b[0m\u001b[0;34m\u001b[0m\u001b[0;34m\u001b[0m\u001b[0m\n",
            "\u001b[0;32m/usr/local/lib/python3.7/dist-packages/matplotlib/axis.py\u001b[0m in \u001b[0;36mget_ticklabels\u001b[0;34m(self, minor, which)\u001b[0m\n\u001b[1;32m   1318\u001b[0m         \u001b[0;32mif\u001b[0m \u001b[0mminor\u001b[0m\u001b[0;34m:\u001b[0m\u001b[0;34m\u001b[0m\u001b[0;34m\u001b[0m\u001b[0m\n\u001b[1;32m   1319\u001b[0m             \u001b[0;32mreturn\u001b[0m \u001b[0mself\u001b[0m\u001b[0;34m.\u001b[0m\u001b[0mget_minorticklabels\u001b[0m\u001b[0;34m(\u001b[0m\u001b[0;34m)\u001b[0m\u001b[0;34m\u001b[0m\u001b[0;34m\u001b[0m\u001b[0m\n\u001b[0;32m-> 1320\u001b[0;31m         \u001b[0;32mreturn\u001b[0m \u001b[0mself\u001b[0m\u001b[0;34m.\u001b[0m\u001b[0mget_majorticklabels\u001b[0m\u001b[0;34m(\u001b[0m\u001b[0;34m)\u001b[0m\u001b[0;34m\u001b[0m\u001b[0;34m\u001b[0m\u001b[0m\n\u001b[0m\u001b[1;32m   1321\u001b[0m \u001b[0;34m\u001b[0m\u001b[0m\n\u001b[1;32m   1322\u001b[0m     \u001b[0;32mdef\u001b[0m \u001b[0mget_majorticklines\u001b[0m\u001b[0;34m(\u001b[0m\u001b[0mself\u001b[0m\u001b[0;34m)\u001b[0m\u001b[0;34m:\u001b[0m\u001b[0;34m\u001b[0m\u001b[0;34m\u001b[0m\u001b[0m\n",
            "\u001b[0;32m/usr/local/lib/python3.7/dist-packages/matplotlib/axis.py\u001b[0m in \u001b[0;36mget_majorticklabels\u001b[0;34m(self)\u001b[0m\n\u001b[1;32m   1274\u001b[0m     \u001b[0;32mdef\u001b[0m \u001b[0mget_majorticklabels\u001b[0m\u001b[0;34m(\u001b[0m\u001b[0mself\u001b[0m\u001b[0;34m)\u001b[0m\u001b[0;34m:\u001b[0m\u001b[0;34m\u001b[0m\u001b[0;34m\u001b[0m\u001b[0m\n\u001b[1;32m   1275\u001b[0m         \u001b[0;34m'Return a list of Text instances for the major ticklabels.'\u001b[0m\u001b[0;34m\u001b[0m\u001b[0;34m\u001b[0m\u001b[0m\n\u001b[0;32m-> 1276\u001b[0;31m         \u001b[0mticks\u001b[0m \u001b[0;34m=\u001b[0m \u001b[0mself\u001b[0m\u001b[0;34m.\u001b[0m\u001b[0mget_major_ticks\u001b[0m\u001b[0;34m(\u001b[0m\u001b[0;34m)\u001b[0m\u001b[0;34m\u001b[0m\u001b[0;34m\u001b[0m\u001b[0m\n\u001b[0m\u001b[1;32m   1277\u001b[0m         \u001b[0mlabels1\u001b[0m \u001b[0;34m=\u001b[0m \u001b[0;34m[\u001b[0m\u001b[0mtick\u001b[0m\u001b[0;34m.\u001b[0m\u001b[0mlabel1\u001b[0m \u001b[0;32mfor\u001b[0m \u001b[0mtick\u001b[0m \u001b[0;32min\u001b[0m \u001b[0mticks\u001b[0m \u001b[0;32mif\u001b[0m \u001b[0mtick\u001b[0m\u001b[0;34m.\u001b[0m\u001b[0mlabel1\u001b[0m\u001b[0;34m.\u001b[0m\u001b[0mget_visible\u001b[0m\u001b[0;34m(\u001b[0m\u001b[0;34m)\u001b[0m\u001b[0;34m]\u001b[0m\u001b[0;34m\u001b[0m\u001b[0;34m\u001b[0m\u001b[0m\n\u001b[1;32m   1278\u001b[0m         \u001b[0mlabels2\u001b[0m \u001b[0;34m=\u001b[0m \u001b[0;34m[\u001b[0m\u001b[0mtick\u001b[0m\u001b[0;34m.\u001b[0m\u001b[0mlabel2\u001b[0m \u001b[0;32mfor\u001b[0m \u001b[0mtick\u001b[0m \u001b[0;32min\u001b[0m \u001b[0mticks\u001b[0m \u001b[0;32mif\u001b[0m \u001b[0mtick\u001b[0m\u001b[0;34m.\u001b[0m\u001b[0mlabel2\u001b[0m\u001b[0;34m.\u001b[0m\u001b[0mget_visible\u001b[0m\u001b[0;34m(\u001b[0m\u001b[0;34m)\u001b[0m\u001b[0;34m]\u001b[0m\u001b[0;34m\u001b[0m\u001b[0;34m\u001b[0m\u001b[0m\n",
            "\u001b[0;32m/usr/local/lib/python3.7/dist-packages/matplotlib/axis.py\u001b[0m in \u001b[0;36mget_major_ticks\u001b[0;34m(self, numticks)\u001b[0m\n\u001b[1;32m   1429\u001b[0m         \u001b[0;34m'Get the tick instances; grow as necessary.'\u001b[0m\u001b[0;34m\u001b[0m\u001b[0;34m\u001b[0m\u001b[0m\n\u001b[1;32m   1430\u001b[0m         \u001b[0;32mif\u001b[0m \u001b[0mnumticks\u001b[0m \u001b[0;32mis\u001b[0m \u001b[0;32mNone\u001b[0m\u001b[0;34m:\u001b[0m\u001b[0;34m\u001b[0m\u001b[0;34m\u001b[0m\u001b[0m\n\u001b[0;32m-> 1431\u001b[0;31m             \u001b[0mnumticks\u001b[0m \u001b[0;34m=\u001b[0m \u001b[0mlen\u001b[0m\u001b[0;34m(\u001b[0m\u001b[0mself\u001b[0m\u001b[0;34m.\u001b[0m\u001b[0mget_majorticklocs\u001b[0m\u001b[0;34m(\u001b[0m\u001b[0;34m)\u001b[0m\u001b[0;34m)\u001b[0m\u001b[0;34m\u001b[0m\u001b[0;34m\u001b[0m\u001b[0m\n\u001b[0m\u001b[1;32m   1432\u001b[0m \u001b[0;34m\u001b[0m\u001b[0m\n\u001b[1;32m   1433\u001b[0m         \u001b[0;32mwhile\u001b[0m \u001b[0mlen\u001b[0m\u001b[0;34m(\u001b[0m\u001b[0mself\u001b[0m\u001b[0;34m.\u001b[0m\u001b[0mmajorTicks\u001b[0m\u001b[0;34m)\u001b[0m \u001b[0;34m<\u001b[0m \u001b[0mnumticks\u001b[0m\u001b[0;34m:\u001b[0m\u001b[0;34m\u001b[0m\u001b[0;34m\u001b[0m\u001b[0m\n",
            "\u001b[0;32m/usr/local/lib/python3.7/dist-packages/matplotlib/axis.py\u001b[0m in \u001b[0;36mget_majorticklocs\u001b[0;34m(self)\u001b[0m\n\u001b[1;32m   1346\u001b[0m     \u001b[0;32mdef\u001b[0m \u001b[0mget_majorticklocs\u001b[0m\u001b[0;34m(\u001b[0m\u001b[0mself\u001b[0m\u001b[0;34m)\u001b[0m\u001b[0;34m:\u001b[0m\u001b[0;34m\u001b[0m\u001b[0;34m\u001b[0m\u001b[0m\n\u001b[1;32m   1347\u001b[0m         \u001b[0;34m\"\"\"Get the array of major tick locations in data coordinates.\"\"\"\u001b[0m\u001b[0;34m\u001b[0m\u001b[0;34m\u001b[0m\u001b[0m\n\u001b[0;32m-> 1348\u001b[0;31m         \u001b[0;32mreturn\u001b[0m \u001b[0mself\u001b[0m\u001b[0;34m.\u001b[0m\u001b[0mmajor\u001b[0m\u001b[0;34m.\u001b[0m\u001b[0mlocator\u001b[0m\u001b[0;34m(\u001b[0m\u001b[0;34m)\u001b[0m\u001b[0;34m\u001b[0m\u001b[0;34m\u001b[0m\u001b[0m\n\u001b[0m\u001b[1;32m   1349\u001b[0m \u001b[0;34m\u001b[0m\u001b[0m\n\u001b[1;32m   1350\u001b[0m     \u001b[0;32mdef\u001b[0m \u001b[0mget_minorticklocs\u001b[0m\u001b[0;34m(\u001b[0m\u001b[0mself\u001b[0m\u001b[0;34m)\u001b[0m\u001b[0;34m:\u001b[0m\u001b[0;34m\u001b[0m\u001b[0;34m\u001b[0m\u001b[0m\n",
            "\u001b[0;32m/usr/local/lib/python3.7/dist-packages/matplotlib/dates.py\u001b[0m in \u001b[0;36m__call__\u001b[0;34m(self)\u001b[0m\n\u001b[1;32m   1336\u001b[0m     \u001b[0;32mdef\u001b[0m \u001b[0m__call__\u001b[0m\u001b[0;34m(\u001b[0m\u001b[0mself\u001b[0m\u001b[0;34m)\u001b[0m\u001b[0;34m:\u001b[0m\u001b[0;34m\u001b[0m\u001b[0;34m\u001b[0m\u001b[0m\n\u001b[1;32m   1337\u001b[0m         \u001b[0;34m'Return the locations of the ticks'\u001b[0m\u001b[0;34m\u001b[0m\u001b[0;34m\u001b[0m\u001b[0m\n\u001b[0;32m-> 1338\u001b[0;31m         \u001b[0mself\u001b[0m\u001b[0;34m.\u001b[0m\u001b[0mrefresh\u001b[0m\u001b[0;34m(\u001b[0m\u001b[0;34m)\u001b[0m\u001b[0;34m\u001b[0m\u001b[0;34m\u001b[0m\u001b[0m\n\u001b[0m\u001b[1;32m   1339\u001b[0m         \u001b[0;32mreturn\u001b[0m \u001b[0mself\u001b[0m\u001b[0;34m.\u001b[0m\u001b[0m_locator\u001b[0m\u001b[0;34m(\u001b[0m\u001b[0;34m)\u001b[0m\u001b[0;34m\u001b[0m\u001b[0;34m\u001b[0m\u001b[0m\n\u001b[1;32m   1340\u001b[0m \u001b[0;34m\u001b[0m\u001b[0m\n",
            "\u001b[0;32m/usr/local/lib/python3.7/dist-packages/matplotlib/dates.py\u001b[0m in \u001b[0;36mrefresh\u001b[0;34m(self)\u001b[0m\n\u001b[1;32m   1362\u001b[0m     \u001b[0;32mdef\u001b[0m \u001b[0mrefresh\u001b[0m\u001b[0;34m(\u001b[0m\u001b[0mself\u001b[0m\u001b[0;34m)\u001b[0m\u001b[0;34m:\u001b[0m\u001b[0;34m\u001b[0m\u001b[0;34m\u001b[0m\u001b[0m\n\u001b[1;32m   1363\u001b[0m         \u001b[0;31m# docstring inherited\u001b[0m\u001b[0;34m\u001b[0m\u001b[0;34m\u001b[0m\u001b[0;34m\u001b[0m\u001b[0m\n\u001b[0;32m-> 1364\u001b[0;31m         \u001b[0mdmin\u001b[0m\u001b[0;34m,\u001b[0m \u001b[0mdmax\u001b[0m \u001b[0;34m=\u001b[0m \u001b[0mself\u001b[0m\u001b[0;34m.\u001b[0m\u001b[0mviewlim_to_dt\u001b[0m\u001b[0;34m(\u001b[0m\u001b[0;34m)\u001b[0m\u001b[0;34m\u001b[0m\u001b[0;34m\u001b[0m\u001b[0m\n\u001b[0m\u001b[1;32m   1365\u001b[0m         \u001b[0mself\u001b[0m\u001b[0;34m.\u001b[0m\u001b[0m_locator\u001b[0m \u001b[0;34m=\u001b[0m \u001b[0mself\u001b[0m\u001b[0;34m.\u001b[0m\u001b[0mget_locator\u001b[0m\u001b[0;34m(\u001b[0m\u001b[0mdmin\u001b[0m\u001b[0;34m,\u001b[0m \u001b[0mdmax\u001b[0m\u001b[0;34m)\u001b[0m\u001b[0;34m\u001b[0m\u001b[0;34m\u001b[0m\u001b[0m\n\u001b[1;32m   1366\u001b[0m \u001b[0;34m\u001b[0m\u001b[0m\n",
            "\u001b[0;32m/usr/local/lib/python3.7/dist-packages/matplotlib/dates.py\u001b[0m in \u001b[0;36mviewlim_to_dt\u001b[0;34m(self)\u001b[0m\n\u001b[1;32m   1096\u001b[0m                              \u001b[0;34m'often happens if you pass a non-datetime '\u001b[0m\u001b[0;34m\u001b[0m\u001b[0;34m\u001b[0m\u001b[0m\n\u001b[1;32m   1097\u001b[0m                              \u001b[0;34m'value to an axis that has datetime units'\u001b[0m\u001b[0;34m\u001b[0m\u001b[0;34m\u001b[0m\u001b[0m\n\u001b[0;32m-> 1098\u001b[0;31m                              .format(vmin))\n\u001b[0m\u001b[1;32m   1099\u001b[0m         \u001b[0;32mreturn\u001b[0m \u001b[0mnum2date\u001b[0m\u001b[0;34m(\u001b[0m\u001b[0mvmin\u001b[0m\u001b[0;34m,\u001b[0m \u001b[0mself\u001b[0m\u001b[0;34m.\u001b[0m\u001b[0mtz\u001b[0m\u001b[0;34m)\u001b[0m\u001b[0;34m,\u001b[0m \u001b[0mnum2date\u001b[0m\u001b[0;34m(\u001b[0m\u001b[0mvmax\u001b[0m\u001b[0;34m,\u001b[0m \u001b[0mself\u001b[0m\u001b[0;34m.\u001b[0m\u001b[0mtz\u001b[0m\u001b[0;34m)\u001b[0m\u001b[0;34m\u001b[0m\u001b[0;34m\u001b[0m\u001b[0m\n\u001b[1;32m   1100\u001b[0m \u001b[0;34m\u001b[0m\u001b[0m\n",
            "\u001b[0;31mValueError\u001b[0m: view limit minimum -36780.15 is less than 1 and is an invalid Matplotlib date value. This often happens if you pass a non-datetime value to an axis that has datetime units"
          ]
        }
      ]
    }
  ]
}
