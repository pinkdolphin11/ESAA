{
  "nbformat": 4,
  "nbformat_minor": 0,
  "metadata": {
    "colab": {
      "name": "4/11 HW",
      "provenance": [],
      "authorship_tag": "ABX9TyMYbUtfKZV9EEl2ZLfVy7Pk",
      "include_colab_link": true
    },
    "kernelspec": {
      "name": "python3",
      "display_name": "Python 3"
    },
    "language_info": {
      "name": "python"
    }
  },
  "cells": [
    {
      "cell_type": "markdown",
      "metadata": {
        "id": "view-in-github",
        "colab_type": "text"
      },
      "source": [
        "<a href=\"https://colab.research.google.com/github/pinkdolphin11/ESAA/blob/main/4_11_HW.ipynb\" target=\"_parent\"><img src=\"https://colab.research.google.com/assets/colab-badge.svg\" alt=\"Open In Colab\"/></a>"
      ]
    },
    {
      "cell_type": "markdown",
      "source": [
        "**12. 시계열 데이터**"
      ],
      "metadata": {
        "id": "LgEtw20o3DJc"
      }
    },
    {
      "cell_type": "markdown",
      "source": [
        "12-1. datetime 오브젝트\n",
        "\n",
        "datetime 라이브러리 : 날짜와 시간을 처리하는 등의 기능을 제공\n",
        "* date 오브젝트 : 날짜를 처리\n",
        "* time 오브젝트 : 시간을 처리\n",
        "* datetime 오브젝트 : 날짜와 시간을 모두 처리"
      ],
      "metadata": {
        "id": "Amj6cJcF3ZE2"
      }
    },
    {
      "cell_type": "markdown",
      "source": [
        "[datetime 오브젝트 사용하기]"
      ],
      "metadata": {
        "id": "mCRnKfrr3t_f"
      }
    },
    {
      "cell_type": "markdown",
      "source": [
        "1. datetime 오브젝트를 사용하기 위해 datetime 라이브러리를 불러온다."
      ],
      "metadata": {
        "id": "33TCjBNo37uK"
      }
    },
    {
      "cell_type": "code",
      "execution_count": 1,
      "metadata": {
        "id": "1DlY2O-A22VV"
      },
      "outputs": [],
      "source": [
        "from datetime import datetime"
      ]
    },
    {
      "cell_type": "markdown",
      "source": [
        "2. now, today 메서드를 사용하여 현재 시간 출력"
      ],
      "metadata": {
        "id": "JG8O7nxt3-Qb"
      }
    },
    {
      "cell_type": "code",
      "source": [
        "now1=datetime.now()\n",
        "print(now1)"
      ],
      "metadata": {
        "colab": {
          "base_uri": "https://localhost:8080/"
        },
        "id": "kWcO4wiu386N",
        "outputId": "a20b34e4-9744-488e-b074-cb1e22f5178c"
      },
      "execution_count": 2,
      "outputs": [
        {
          "output_type": "stream",
          "name": "stdout",
          "text": [
            "2022-04-10 09:49:02.097694\n"
          ]
        }
      ]
    },
    {
      "cell_type": "code",
      "source": [
        "now2=datetime.today()\n",
        "print(now2)"
      ],
      "metadata": {
        "colab": {
          "base_uri": "https://localhost:8080/"
        },
        "id": "rED_l_Rq4ITz",
        "outputId": "2ce0ea2b-766f-4d09-e2de-c34560754d15"
      },
      "execution_count": 3,
      "outputs": [
        {
          "output_type": "stream",
          "name": "stdout",
          "text": [
            "2022-04-10 09:49:19.703476\n"
          ]
        }
      ]
    },
    {
      "cell_type": "markdown",
      "source": [
        "3. datetime 오브젝트를 생성할 때 시간을 직접 입력하여 인자로 전달"
      ],
      "metadata": {
        "id": "3QdY1Tjj4NY9"
      }
    },
    {
      "cell_type": "code",
      "source": [
        "t1=datetime.now() #밀리초 단위까지 구함\n",
        "t2=datetime(1970,1,1)\n",
        "t3=datetime(1970,12,12,13,24,34)\n",
        "print(t1)\n",
        "print(t2)\n",
        "print(t3)\n",
        "#입력한 시간을 바탕으로 datetime 오브젝트 생성"
      ],
      "metadata": {
        "colab": {
          "base_uri": "https://localhost:8080/"
        },
        "id": "wDESqfOg4SW8",
        "outputId": "bc78480e-7e36-4720-c4b1-4139af2579dd"
      },
      "execution_count": 4,
      "outputs": [
        {
          "output_type": "stream",
          "name": "stdout",
          "text": [
            "2022-04-10 09:50:41.279730\n",
            "1970-01-01 00:00:00\n",
            "1970-12-12 13:24:34\n"
          ]
        }
      ]
    },
    {
      "cell_type": "markdown",
      "source": [
        "4. datetime 오브젝트로 시간 계산하기"
      ],
      "metadata": {
        "id": "y8kj9P-B4rkU"
      }
    },
    {
      "cell_type": "code",
      "source": [
        "diff1=t1-t2\n",
        "print(diff1)\n",
        "print(type(diff1))"
      ],
      "metadata": {
        "colab": {
          "base_uri": "https://localhost:8080/"
        },
        "id": "l79Wv8ex4vsD",
        "outputId": "7a86cd7e-3a22-4b28-91a0-0fa5c7b2e440"
      },
      "execution_count": 5,
      "outputs": [
        {
          "output_type": "stream",
          "name": "stdout",
          "text": [
            "19092 days, 9:50:41.279730\n",
            "<class 'datetime.timedelta'>\n"
          ]
        }
      ]
    },
    {
      "cell_type": "code",
      "source": [
        "diff2=t2-t1\n",
        "print(diff2)\n",
        "print(type(diff2))"
      ],
      "metadata": {
        "colab": {
          "base_uri": "https://localhost:8080/"
        },
        "id": "BH8bxYjH45bf",
        "outputId": "08912e12-7d96-480f-ff68-56afe9928d05"
      },
      "execution_count": 6,
      "outputs": [
        {
          "output_type": "stream",
          "name": "stdout",
          "text": [
            "-19093 days, 14:09:18.720270\n",
            "<class 'datetime.timedelta'>\n"
          ]
        }
      ]
    },
    {
      "cell_type": "markdown",
      "source": [
        "12-2. 사례별 시계열 데이터 계산하기"
      ],
      "metadata": {
        "id": "GlJ7-SZ05JV1"
      }
    },
    {
      "cell_type": "markdown",
      "source": [
        "[테슬라 주식 데이터로 시간 계산하기]"
      ],
      "metadata": {
        "id": "f6bx68N05MGx"
      }
    },
    {
      "cell_type": "markdown",
      "source": [
        "1. get_data_quanal 메서드에 TSLA라는 문자열을 전달하여 테슬라의 주식 데이터를 내려받고 to_csv 메서드를 사용하여 'tesla_stock_quandl.csv' 파일로 저장하기"
      ],
      "metadata": {
        "id": "eqC1ErrA5X96"
      }
    },
    {
      "cell_type": "code",
      "source": [
        "import pandas as pd\n",
        "pd.core.common.is_list_like=pd.api.types.is_list_like\n",
        "import pandas_datareader as pdr"
      ],
      "metadata": {
        "id": "LyXNnGjA5ygH"
      },
      "execution_count": 9,
      "outputs": []
    },
    {
      "cell_type": "code",
      "source": [
        "#tesla에 dataframe 저장\n",
        "tesla=pdr.get_data_quandl('TSLA',api_key='fkR5BBYCreKAJ2dATZGm')"
      ],
      "metadata": {
        "id": "7vP2TNDx7sz2"
      },
      "execution_count": 10,
      "outputs": []
    },
    {
      "cell_type": "code",
      "source": [
        "#저장된 dataframe을 파일로 저장\n",
        "tesla.to_csv('../tesla_stock_quandl.csv')"
      ],
      "metadata": {
        "id": "8IjEw-F88Btz"
      },
      "execution_count": 12,
      "outputs": []
    },
    {
      "cell_type": "markdown",
      "source": [
        "2. tesla 데이터프레임의 Date 문자열을 datetime 오브젝트로 자료형 변환"
      ],
      "metadata": {
        "id": "2a2EGMGU8VGs"
      }
    },
    {
      "cell_type": "code",
      "source": [
        "print(tesla.head())"
      ],
      "metadata": {
        "colab": {
          "base_uri": "https://localhost:8080/"
        },
        "id": "TkT6o2Cv8csj",
        "outputId": "d78bc7c0-6682-45c3-bf67-b3d8340daeb4"
      },
      "execution_count": 13,
      "outputs": [
        {
          "output_type": "stream",
          "name": "stdout",
          "text": [
            "              Open    High     Low   Close      Volume  ExDividend  \\\n",
            "Date                                                                 \n",
            "2018-03-27  304.00  304.27  277.18  279.18  13696168.0         0.0   \n",
            "2018-03-26  307.34  307.59  291.36  304.18   8324639.0         0.0   \n",
            "2018-03-23  311.25  311.61  300.45  301.54   6600538.0         0.0   \n",
            "2018-03-22  313.89  318.82  308.18  309.10   4914307.0         0.0   \n",
            "2018-03-21  310.25  322.44  310.19  316.53   5927881.0         0.0   \n",
            "\n",
            "            SplitRatio  AdjOpen  AdjHigh  AdjLow  AdjClose   AdjVolume  \n",
            "Date                                                                    \n",
            "2018-03-27         1.0   304.00   304.27  277.18    279.18  13696168.0  \n",
            "2018-03-26         1.0   307.34   307.59  291.36    304.18   8324639.0  \n",
            "2018-03-23         1.0   311.25   311.61  300.45    301.54   6600538.0  \n",
            "2018-03-22         1.0   313.89   318.82  308.18    309.10   4914307.0  \n",
            "2018-03-21         1.0   310.25   322.44  310.19    316.53   5927881.0  \n"
          ]
        }
      ]
    },
    {
      "cell_type": "code",
      "source": [
        "#read_csv 메서드로 데이터 집합을 불러올 때 parse_dates 인자에 Date 열을 전달하여 형변환\n",
        "tesla=pd.read_csv('../tesla_stock_quandl.csv',parse_dates=[0])\n",
        "print(tesla.info())"
      ],
      "metadata": {
        "colab": {
          "base_uri": "https://localhost:8080/"
        },
        "id": "BTWEJRz58ggY",
        "outputId": "dc71c226-c663-4845-be97-fb71cdb58a6f"
      },
      "execution_count": 14,
      "outputs": [
        {
          "output_type": "stream",
          "name": "stdout",
          "text": [
            "<class 'pandas.core.frame.DataFrame'>\n",
            "RangeIndex: 241 entries, 0 to 240\n",
            "Data columns (total 13 columns):\n",
            " #   Column      Non-Null Count  Dtype         \n",
            "---  ------      --------------  -----         \n",
            " 0   Date        241 non-null    datetime64[ns]\n",
            " 1   Open        241 non-null    float64       \n",
            " 2   High        241 non-null    float64       \n",
            " 3   Low         241 non-null    float64       \n",
            " 4   Close       241 non-null    float64       \n",
            " 5   Volume      241 non-null    float64       \n",
            " 6   ExDividend  241 non-null    float64       \n",
            " 7   SplitRatio  241 non-null    float64       \n",
            " 8   AdjOpen     241 non-null    float64       \n",
            " 9   AdjHigh     241 non-null    float64       \n",
            " 10  AdjLow      241 non-null    float64       \n",
            " 11  AdjClose    241 non-null    float64       \n",
            " 12  AdjVolume   241 non-null    float64       \n",
            "dtypes: datetime64[ns](1), float64(12)\n",
            "memory usage: 24.6 KB\n",
            "None\n"
          ]
        }
      ]
    },
    {
      "cell_type": "markdown",
      "source": [
        "3. 불린 인덱싱으로 2017년 4월 데이터만 추출"
      ],
      "metadata": {
        "id": "iTmVof-c88ur"
      }
    },
    {
      "cell_type": "code",
      "source": [
        "print(tesla.loc[(tesla.Date.dt.year==2017)&(tesla.Date.dt.month==4)])"
      ],
      "metadata": {
        "colab": {
          "base_uri": "https://localhost:8080/"
        },
        "id": "acGnRtTM9B8S",
        "outputId": "063520f9-8847-46e7-92e6-f9b97044e25c"
      },
      "execution_count": 18,
      "outputs": [
        {
          "output_type": "stream",
          "name": "stdout",
          "text": [
            "                 Date    Open      High       Low     Close     Volume  \\\n",
            "Date                                                                     \n",
            "2017-04-28 2017-04-28  309.83  314.8000  308.0000  314.0025  4447619.0   \n",
            "2017-04-27 2017-04-27  311.69  313.0900  307.5000  308.6050  3430245.0   \n",
            "2017-04-26 2017-04-26  312.37  314.5000  309.0000  310.1700  4184186.0   \n",
            "2017-04-25 2017-04-25  308.00  313.9800  305.8600  313.7900  6666406.0   \n",
            "2017-04-24 2017-04-24  309.22  310.5500  306.0215  308.0300  5077561.0   \n",
            "2017-04-21 2017-04-21  302.00  306.4000  300.4200  305.6000  4509756.0   \n",
            "2017-04-20 2017-04-20  306.51  309.1500  300.2300  302.5100  6149352.0   \n",
            "2017-04-19 2017-04-19  302.46  306.6200  302.1100  305.5200  3898024.0   \n",
            "2017-04-18 2017-04-18  299.70  300.8399  297.9000  300.2500  3035698.0   \n",
            "2017-04-17 2017-04-17  302.70  304.0000  298.6800  301.4400  4138736.0   \n",
            "2017-04-13 2017-04-13  296.70  307.3900  295.3000  304.0000  9284634.0   \n",
            "2017-04-12 2017-04-12  306.34  308.4481  296.3200  296.8400  6050682.0   \n",
            "2017-04-11 2017-04-11  313.38  313.4700  305.5000  308.7100  5724577.0   \n",
            "\n",
            "            ExDividend  SplitRatio  AdjOpen   AdjHigh    AdjLow  AdjClose  \\\n",
            "Date                                                                        \n",
            "2017-04-28         0.0         1.0   309.83  314.8000  308.0000  314.0025   \n",
            "2017-04-27         0.0         1.0   311.69  313.0900  307.5000  308.6050   \n",
            "2017-04-26         0.0         1.0   312.37  314.5000  309.0000  310.1700   \n",
            "2017-04-25         0.0         1.0   308.00  313.9800  305.8600  313.7900   \n",
            "2017-04-24         0.0         1.0   309.22  310.5500  306.0215  308.0300   \n",
            "2017-04-21         0.0         1.0   302.00  306.4000  300.4200  305.6000   \n",
            "2017-04-20         0.0         1.0   306.51  309.1500  300.2300  302.5100   \n",
            "2017-04-19         0.0         1.0   302.46  306.6200  302.1100  305.5200   \n",
            "2017-04-18         0.0         1.0   299.70  300.8399  297.9000  300.2500   \n",
            "2017-04-17         0.0         1.0   302.70  304.0000  298.6800  301.4400   \n",
            "2017-04-13         0.0         1.0   296.70  307.3900  295.3000  304.0000   \n",
            "2017-04-12         0.0         1.0   306.34  308.4481  296.3200  296.8400   \n",
            "2017-04-11         0.0         1.0   313.38  313.4700  305.5000  308.7100   \n",
            "\n",
            "            AdjVolume  \n",
            "Date                   \n",
            "2017-04-28  4447619.0  \n",
            "2017-04-27  3430245.0  \n",
            "2017-04-26  4184186.0  \n",
            "2017-04-25  6666406.0  \n",
            "2017-04-24  5077561.0  \n",
            "2017-04-21  4509756.0  \n",
            "2017-04-20  6149352.0  \n",
            "2017-04-19  3898024.0  \n",
            "2017-04-18  3035698.0  \n",
            "2017-04-17  4138736.0  \n",
            "2017-04-13  9284634.0  \n",
            "2017-04-12  6050682.0  \n",
            "2017-04-11  5724577.0  \n"
          ]
        }
      ]
    },
    {
      "cell_type": "markdown",
      "source": [
        "[datetime 오브젝트를 인덱스로 설정해 데이터 추출하기]"
      ],
      "metadata": {
        "id": "FFxA2iTp9hUs"
      }
    },
    {
      "cell_type": "markdown",
      "source": [
        "1. Date 열을 tesla 데이터프레임의 인덱스로 지정"
      ],
      "metadata": {
        "id": "wRJdRIRx9ksp"
      }
    },
    {
      "cell_type": "code",
      "source": [
        "tesla.index=tesla['Date']\n",
        "print(tesla.index)"
      ],
      "metadata": {
        "colab": {
          "base_uri": "https://localhost:8080/"
        },
        "id": "65Otb3lV9pd4",
        "outputId": "5c6b7f25-12a2-428a-ee67-e5e996406901"
      },
      "execution_count": 16,
      "outputs": [
        {
          "output_type": "stream",
          "name": "stdout",
          "text": [
            "DatetimeIndex(['2018-03-27', '2018-03-26', '2018-03-23', '2018-03-22',\n",
            "               '2018-03-21', '2018-03-20', '2018-03-19', '2018-03-16',\n",
            "               '2018-03-15', '2018-03-14',\n",
            "               ...\n",
            "               '2017-04-25', '2017-04-24', '2017-04-21', '2017-04-20',\n",
            "               '2017-04-19', '2017-04-18', '2017-04-17', '2017-04-13',\n",
            "               '2017-04-12', '2017-04-11'],\n",
            "              dtype='datetime64[ns]', name='Date', length=241, freq=None)\n"
          ]
        }
      ]
    },
    {
      "cell_type": "markdown",
      "source": [
        "2. datetime 오브젝트를 인덱스로 지정하여 원하는 시간의 데이터를 추출"
      ],
      "metadata": {
        "id": "0l_sMGbS93HT"
      }
    },
    {
      "cell_type": "code",
      "source": [
        "print(tesla['2018'].iloc[:5,:5])"
      ],
      "metadata": {
        "colab": {
          "base_uri": "https://localhost:8080/"
        },
        "id": "HSpLvg5a987V",
        "outputId": "a96d8302-195e-46f8-bca0-d8e3f6387135"
      },
      "execution_count": 19,
      "outputs": [
        {
          "output_type": "stream",
          "name": "stdout",
          "text": [
            "                 Date    Open    High     Low   Close\n",
            "Date                                                 \n",
            "2018-03-27 2018-03-27  304.00  304.27  277.18  279.18\n",
            "2018-03-26 2018-03-26  307.34  307.59  291.36  304.18\n",
            "2018-03-23 2018-03-23  311.25  311.61  300.45  301.54\n",
            "2018-03-22 2018-03-22  313.89  318.82  308.18  309.10\n",
            "2018-03-21 2018-03-21  310.25  322.44  310.19  316.53\n"
          ]
        },
        {
          "output_type": "stream",
          "name": "stderr",
          "text": [
            "/usr/local/lib/python3.7/dist-packages/ipykernel_launcher.py:1: FutureWarning: Indexing a DataFrame with a datetimelike index using a single string to slice the rows, like `frame[string]`, is deprecated and will be removed in a future version. Use `frame.loc[string]` instead.\n",
            "  \"\"\"Entry point for launching an IPython kernel.\n"
          ]
        }
      ]
    },
    {
      "cell_type": "code",
      "source": [
        "print(tesla['2018-03'].iloc[:,:5])"
      ],
      "metadata": {
        "colab": {
          "base_uri": "https://localhost:8080/"
        },
        "id": "bXoEi654-Z4n",
        "outputId": "211e13c3-1c3c-4419-9384-06e29245f2cc"
      },
      "execution_count": 22,
      "outputs": [
        {
          "output_type": "stream",
          "name": "stdout",
          "text": [
            "                 Date    Open    High       Low   Close\n",
            "Date                                                   \n",
            "2018-03-27 2018-03-27  304.00  304.27  277.1800  279.18\n",
            "2018-03-26 2018-03-26  307.34  307.59  291.3600  304.18\n",
            "2018-03-23 2018-03-23  311.25  311.61  300.4500  301.54\n",
            "2018-03-22 2018-03-22  313.89  318.82  308.1800  309.10\n",
            "2018-03-21 2018-03-21  310.25  322.44  310.1900  316.53\n",
            "2018-03-20 2018-03-20  314.87  316.25  308.7600  310.55\n",
            "2018-03-19 2018-03-19  316.50  320.75  309.6700  313.56\n",
            "2018-03-16 2018-03-16  325.96  327.40  319.0700  321.35\n",
            "2018-03-15 2018-03-15  329.38  332.85  321.1000  325.60\n",
            "2018-03-14 2018-03-14  336.76  339.81  323.9300  326.63\n",
            "2018-03-13 2018-03-13  344.92  345.12  336.2635  341.84\n",
            "2018-03-12 2018-03-12  328.61  347.21  326.5000  345.51\n",
            "2018-03-09 2018-03-09  324.10  328.49  322.3700  327.17\n",
            "2018-03-08 2018-03-08  332.86  333.30  326.2740  329.10\n",
            "2018-03-07 2018-03-07  325.44  332.50  321.7400  332.30\n",
            "2018-03-06 2018-03-06  333.75  336.37  327.0300  328.20\n",
            "2018-03-05 2018-03-05  332.39  337.75  329.2929  333.35\n",
            "2018-03-02 2018-03-02  326.98  335.22  322.9700  335.12\n",
            "2018-03-01 2018-03-01  345.01  348.67  330.0700  330.93\n"
          ]
        },
        {
          "output_type": "stream",
          "name": "stderr",
          "text": [
            "/usr/local/lib/python3.7/dist-packages/ipykernel_launcher.py:1: FutureWarning: Indexing a DataFrame with a datetimelike index using a single string to slice the rows, like `frame[string]`, is deprecated and will be removed in a future version. Use `frame.loc[string]` instead.\n",
            "  \"\"\"Entry point for launching an IPython kernel.\n"
          ]
        }
      ]
    },
    {
      "cell_type": "markdown",
      "source": [
        "[시간 간격을 인덱스로 지정해 데이터 추출하기]"
      ],
      "metadata": {
        "id": "BmvRHaNP-qiG"
      }
    },
    {
      "cell_type": "markdown",
      "source": [
        "1. Date 열에서 Date 열의 최솟값을 뺀 다음 ref_date 열로 추가 - 데이터를 수집한 이후에 시간이 얼마나 흘렀는지 알 수 있다."
      ],
      "metadata": {
        "id": "osXe0YTX-xpx"
      }
    },
    {
      "cell_type": "code",
      "source": [
        "tesla['ref_date']=tesla['Date']-tesla['Date'].min()\n",
        "print(tesla.head())"
      ],
      "metadata": {
        "colab": {
          "base_uri": "https://localhost:8080/"
        },
        "id": "m4NAVV-w-7Mg",
        "outputId": "d491b28c-47cd-45cd-926a-56d13a41b548"
      },
      "execution_count": 23,
      "outputs": [
        {
          "output_type": "stream",
          "name": "stdout",
          "text": [
            "                 Date    Open    High     Low   Close      Volume  ExDividend  \\\n",
            "Date                                                                            \n",
            "2018-03-27 2018-03-27  304.00  304.27  277.18  279.18  13696168.0         0.0   \n",
            "2018-03-26 2018-03-26  307.34  307.59  291.36  304.18   8324639.0         0.0   \n",
            "2018-03-23 2018-03-23  311.25  311.61  300.45  301.54   6600538.0         0.0   \n",
            "2018-03-22 2018-03-22  313.89  318.82  308.18  309.10   4914307.0         0.0   \n",
            "2018-03-21 2018-03-21  310.25  322.44  310.19  316.53   5927881.0         0.0   \n",
            "\n",
            "            SplitRatio  AdjOpen  AdjHigh  AdjLow  AdjClose   AdjVolume  \\\n",
            "Date                                                                     \n",
            "2018-03-27         1.0   304.00   304.27  277.18    279.18  13696168.0   \n",
            "2018-03-26         1.0   307.34   307.59  291.36    304.18   8324639.0   \n",
            "2018-03-23         1.0   311.25   311.61  300.45    301.54   6600538.0   \n",
            "2018-03-22         1.0   313.89   318.82  308.18    309.10   4914307.0   \n",
            "2018-03-21         1.0   310.25   322.44  310.19    316.53   5927881.0   \n",
            "\n",
            "           ref_date  \n",
            "Date                 \n",
            "2018-03-27 350 days  \n",
            "2018-03-26 349 days  \n",
            "2018-03-23 346 days  \n",
            "2018-03-22 345 days  \n",
            "2018-03-21 344 days  \n"
          ]
        }
      ]
    },
    {
      "cell_type": "markdown",
      "source": [
        "2. ref_date 열을 인덱스로 지정"
      ],
      "metadata": {
        "id": "pkjlH9BT_Jvt"
      }
    },
    {
      "cell_type": "code",
      "source": [
        "tesla.index=tesla['ref_date']\n",
        "print(tesla.iloc[:5,:5])"
      ],
      "metadata": {
        "colab": {
          "base_uri": "https://localhost:8080/"
        },
        "id": "T7v7g44f_Msu",
        "outputId": "f7bc577b-aabd-4e00-bfe3-c35edcf4a94f"
      },
      "execution_count": 24,
      "outputs": [
        {
          "output_type": "stream",
          "name": "stdout",
          "text": [
            "               Date    Open    High     Low   Close\n",
            "ref_date                                           \n",
            "350 days 2018-03-27  304.00  304.27  277.18  279.18\n",
            "349 days 2018-03-26  307.34  307.59  291.36  304.18\n",
            "346 days 2018-03-23  311.25  311.61  300.45  301.54\n",
            "345 days 2018-03-22  313.89  318.82  308.18  309.10\n",
            "344 days 2018-03-21  310.25  322.44  310.19  316.53\n"
          ]
        }
      ]
    },
    {
      "cell_type": "markdown",
      "source": [
        "3. 데이터 수집 이후 최초 5일의 데이터 추출"
      ],
      "metadata": {
        "id": "cufoqEFq_UD6"
      }
    },
    {
      "cell_type": "code",
      "source": [
        "print(tesla['5 days':].iloc[:5,:5])"
      ],
      "metadata": {
        "colab": {
          "base_uri": "https://localhost:8080/"
        },
        "id": "E4giA67d_Wbq",
        "outputId": "325a07fb-32a0-4d24-de2e-e9f62bc2f28f"
      },
      "execution_count": 26,
      "outputs": [
        {
          "output_type": "stream",
          "name": "stdout",
          "text": [
            "               Date    Open      High     Low   Close\n",
            "ref_date                                             \n",
            "2 days   2017-04-13  296.70  307.3900  295.30  304.00\n",
            "1 days   2017-04-12  306.34  308.4481  296.32  296.84\n",
            "0 days   2017-04-11  313.38  313.4700  305.50  308.71\n"
          ]
        }
      ]
    },
    {
      "cell_type": "markdown",
      "source": [
        "[시간 범위 생성해 인덱스로 지정하기]"
      ],
      "metadata": {
        "id": "C8JWLyYa_g58"
      }
    },
    {
      "cell_type": "markdown",
      "source": [
        "1. 에볼라 데이터 집합 살펴보기 - 2015년 1월 1일 데이터 누락, 2014년 3월 23일 데이터 누락"
      ],
      "metadata": {
        "id": "HgxkvYA3_jOu"
      }
    },
    {
      "cell_type": "code",
      "source": [
        "from google.colab import auth\n",
        "auth.authenticate_user()\n",
        "\n",
        "from google.colab import drive\n",
        "drive.mount('/content/gdrive')"
      ],
      "metadata": {
        "colab": {
          "base_uri": "https://localhost:8080/"
        },
        "id": "oq-PHUTIAdi1",
        "outputId": "bf3329e3-ca26-4d06-f74b-080affb4e781"
      },
      "execution_count": 38,
      "outputs": [
        {
          "output_type": "stream",
          "name": "stdout",
          "text": [
            "Mounted at /content/gdrive\n"
          ]
        }
      ]
    },
    {
      "cell_type": "code",
      "source": [
        "ebola=pd.read_csv(\"/content/gdrive/MyDrive/country_timeseries.csv\")\n",
        "print(ebola.iloc[:5,:5])"
      ],
      "metadata": {
        "colab": {
          "base_uri": "https://localhost:8080/"
        },
        "id": "SxhPUgKO_yLL",
        "outputId": "4bc78c51-5311-4efd-b004-924046eebcb1"
      },
      "execution_count": 39,
      "outputs": [
        {
          "output_type": "stream",
          "name": "stdout",
          "text": [
            "         Date  Day  Cases_Guinea  Cases_Liberia  Cases_SierraLeone\n",
            "0    1/5/2015  289        2776.0            NaN            10030.0\n",
            "1    1/4/2015  288        2775.0            NaN             9780.0\n",
            "2    1/3/2015  287        2769.0         8166.0             9722.0\n",
            "3    1/2/2015  286           NaN         8157.0                NaN\n",
            "4  12/31/2014  284        2730.0         8115.0             9633.0\n"
          ]
        }
      ]
    },
    {
      "cell_type": "code",
      "source": [
        "print(ebola.iloc[-5:,:5])"
      ],
      "metadata": {
        "colab": {
          "base_uri": "https://localhost:8080/"
        },
        "id": "74twOrd4V5NT",
        "outputId": "9d86244a-fc6e-4839-8140-09b41bc7756d"
      },
      "execution_count": 40,
      "outputs": [
        {
          "output_type": "stream",
          "name": "stdout",
          "text": [
            "          Date  Day  Cases_Guinea  Cases_Liberia  Cases_SierraLeone\n",
            "117  3/27/2014    5         103.0            8.0                6.0\n",
            "118  3/26/2014    4          86.0            NaN                NaN\n",
            "119  3/25/2014    3          86.0            NaN                NaN\n",
            "120  3/24/2014    2          86.0            NaN                NaN\n",
            "121  3/22/2014    0          49.0            NaN                NaN\n"
          ]
        }
      ]
    },
    {
      "cell_type": "markdown",
      "source": [
        "2. data_range 메서드를 사용하여 2014년 12월 31일부터 2015년 1월 5일 사이의 시간 인덱스(DatetimeIndex)를 생성"
      ],
      "metadata": {
        "id": "Rg3JKuqjV5zv"
      }
    },
    {
      "cell_type": "code",
      "source": [
        "head_range=pd.date_range(start='2014-12-31',end='2015-01-05')\n",
        "print(head_range)"
      ],
      "metadata": {
        "colab": {
          "base_uri": "https://localhost:8080/"
        },
        "id": "yV8xtJYnWQb_",
        "outputId": "8c26acb9-ed47-4b03-bbac-dd98d1004ff7"
      },
      "execution_count": 41,
      "outputs": [
        {
          "output_type": "stream",
          "name": "stdout",
          "text": [
            "DatetimeIndex(['2014-12-31', '2015-01-01', '2015-01-02', '2015-01-03',\n",
            "               '2015-01-04', '2015-01-05'],\n",
            "              dtype='datetime64[ns]', freq='D')\n"
          ]
        }
      ]
    },
    {
      "cell_type": "markdown",
      "source": [
        "3. 원본 데이터 손상 방지를 위해 ebola 데이터프레임의 앞쪽 5개 데이터를 추출하여 새로운 데이터프레임 만들기"
      ],
      "metadata": {
        "id": "FaSy63gEW4dd"
      }
    },
    {
      "cell_type": "code",
      "source": [
        "ebola_5=ebola.head()\n",
        "ebola_5.index=ebola_5['Date'] #반드시 Date 열을 인덱스로 먼저 지정\n",
        "ebola_5.reindex(head_range)\n",
        "print(ebola_5.iloc[:5,:5])"
      ],
      "metadata": {
        "colab": {
          "base_uri": "https://localhost:8080/"
        },
        "id": "Y76l_ZT2XB4e",
        "outputId": "dea6c5fe-722e-4833-f67a-74f07a225ca2"
      },
      "execution_count": 42,
      "outputs": [
        {
          "output_type": "stream",
          "name": "stdout",
          "text": [
            "                  Date  Day  Cases_Guinea  Cases_Liberia  Cases_SierraLeone\n",
            "Date                                                                       \n",
            "1/5/2015      1/5/2015  289        2776.0            NaN            10030.0\n",
            "1/4/2015      1/4/2015  288        2775.0            NaN             9780.0\n",
            "1/3/2015      1/3/2015  287        2769.0         8166.0             9722.0\n",
            "1/2/2015      1/2/2015  286           NaN         8157.0                NaN\n",
            "12/31/2014  12/31/2014  284        2730.0         8115.0             9633.0\n"
          ]
        }
      ]
    },
    {
      "cell_type": "markdown",
      "source": [
        "** 시간 범위의 주기 설정하기\n",
        "\n",
        "시간 범위를 인덱스로 지정하면 DatetimeIndex 자료형이 만들어진다. DatetimeIndex에는 freq 속성이 포함되어 있다. freq 속성값을 지정하면 시간 간격을 조절하여 DatetimeIndex를 만들 수 있다. freq 속성값으로 사용할 수 있는 시간 주기는 다음과 같다."
      ],
      "metadata": {
        "id": "Cs5xk4SsXV1h"
      }
    },
    {
      "cell_type": "markdown",
      "source": [
        "* B : 평일만 포함\n",
        "* C : 사용자가 정의한 평일만 포함\n",
        "* D : 달력 일자 단위\n",
        "* W : 주간 단위\n",
        "* M : 월 마지막 날만 포함\n",
        "* SM : 15일과 월 마지막 날만 포함\n",
        "* BM : M 주기의 값이 휴일이면 제외하고 평일만 포함\n",
        "* CBM : BM에 사용자 정의 평일을 적용\n",
        "* MS : 월 시작일만 포함\n",
        "* SMS : 월 시작일과 15일만 포함\n",
        "* BMS : MS 주기의 값이 휴일이면 제외하고 평일만 포함\n",
        "* CBMS : BMS에 사용자 정의 평일을 적용\n",
        "* Q : 3, 6, 9, 12월 분기 마지막 날만 포함\n",
        "* BQ : 3, 6, 9, 12월 분기 마지막 날이 휴일이면 제외하고 평일만 포함\n",
        "* QS : 3, 6, 9, 12월 분기 시작일만 포함\n",
        "* BQS : 3, 6, 9, 12월 분기 시작일이 휴일이면 제외하고 평일만 포함\n",
        "* A : 년의 마지막 날만 포함\n",
        "* BA : 년의 마지막 날이 휴일이면 제외하고 평일만 포함\n",
        "* AS : 년의 시작일만 포함\n",
        "* BAS : 년의 시작일이 휴일이면 제외하고 평일만 포함\n",
        "* BH : 평일을 시간 단위로 포함(09:00~16:00)\n",
        "* H : 시간 단위로 포함(00:00~00:00)\n",
        "* T : 분 단위 포함\n",
        "* S : 초 단위 포함\n",
        "* L : 밀리초 단위 포함\n",
        "* U : 마이크로초 단위 포함\n",
        "* N : 나노초 단위 포함"
      ],
      "metadata": {
        "id": "2chSc2hhXnpm"
      }
    },
    {
      "cell_type": "code",
      "source": [
        "print(pd.date_range('2017-01-01','2017-01-07',freq='B'))"
      ],
      "metadata": {
        "colab": {
          "base_uri": "https://localhost:8080/"
        },
        "id": "G3BncXdwZNCY",
        "outputId": "2eac6499-9cd3-40c6-83e9-d88139f9ef20"
      },
      "execution_count": 43,
      "outputs": [
        {
          "output_type": "stream",
          "name": "stdout",
          "text": [
            "DatetimeIndex(['2017-01-02', '2017-01-03', '2017-01-04', '2017-01-05',\n",
            "               '2017-01-06'],\n",
            "              dtype='datetime64[ns]', freq='B')\n"
          ]
        }
      ]
    }
  ]
}