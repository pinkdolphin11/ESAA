{
  "nbformat": 4,
  "nbformat_minor": 0,
  "metadata": {
    "colab": {
      "provenance": [],
      "collapsed_sections": [],
      "include_colab_link": true
    },
    "kernelspec": {
      "name": "python3",
      "display_name": "Python 3"
    },
    "language_info": {
      "name": "python"
    }
  },
  "cells": [
    {
      "cell_type": "markdown",
      "metadata": {
        "id": "view-in-github",
        "colab_type": "text"
      },
      "source": [
        "<a href=\"https://colab.research.google.com/github/pinkdolphin11/ESAA/blob/main/0905_Classification_exercise.ipynb\" target=\"_parent\"><img src=\"https://colab.research.google.com/assets/colab-badge.svg\" alt=\"Open In Colab\"/></a>"
      ]
    },
    {
      "cell_type": "markdown",
      "source": [
        "## **| 분류 연습 문제**\n",
        "___\n",
        "출처 : 핸즈온 머신러닝 Ch03 분류 연습문제 1, 2번"
      ],
      "metadata": {
        "id": "zCu72vDHGMHo"
      }
    },
    {
      "cell_type": "code",
      "source": [
        "# import data\n",
        "from sklearn.datasets import fetch_openml\n",
        "mnist = fetch_openml('mnist_784', version = 1, as_frame = False)"
      ],
      "metadata": {
        "id": "tBMD6RMQJcnZ"
      },
      "execution_count": 1,
      "outputs": []
    },
    {
      "cell_type": "code",
      "source": [
        "X, y = mnist[\"data\"], mnist[\"target\"]"
      ],
      "metadata": {
        "id": "0acMMz8YKS7v"
      },
      "execution_count": 2,
      "outputs": []
    },
    {
      "cell_type": "markdown",
      "source": [
        "### **1. MNIST 데이터셋으로 분류기를 만들어 테스트 세트에서 97% 정확도를 달성해보세요.**\n",
        "___\n",
        "\n",
        "1. `KNeghtborsClassifier`를 사용하는 것을 추천합니다. \n",
        "2. `weights`와 `n_neighbors` 하이퍼 파라미터로 그리드 탐색을 시도하여, 좋은 하이퍼 파라미터 값을 찾아보세요."
      ],
      "metadata": {
        "id": "j3g-_Dq9GiuT"
      }
    },
    {
      "cell_type": "code",
      "source": [
        "# import library\n",
        "import numpy as np\n",
        "import pandas as pd\n",
        "import matplotlib.pyplot as plt"
      ],
      "metadata": {
        "id": "6X7PHjB8AvHh"
      },
      "execution_count": 14,
      "outputs": []
    },
    {
      "cell_type": "code",
      "execution_count": 7,
      "metadata": {
        "id": "188lZyYEGJZ7"
      },
      "outputs": [],
      "source": [
        "# import package\n",
        "from sklearn.neighbors import KNeighborsClassifier\n",
        "from sklearn.model_selection import cross_val_score"
      ]
    },
    {
      "cell_type": "code",
      "source": [
        "#train, test 데이터 만들기\n",
        "X_train, X_test, y_train, y_test = X[:60000], X[60000:], y[:60000], y[60000:]"
      ],
      "metadata": {
        "id": "smKcIDOu9pm5"
      },
      "execution_count": 6,
      "outputs": []
    },
    {
      "cell_type": "code",
      "source": [
        "# Try GridSearch to optimize hyperparameter\n",
        "\n",
        "from sklearn.model_selection import GridSearchCV\n",
        "\n",
        "knn = KNeighborsClassifier()\n",
        "grid_params = {'n_neighbors' : [3,4,5], 'weights' : [\"uniform\", \"distance\"]}\n",
        "\n",
        "gs = GridSearchCV(knn, grid_params, cv=3, verbose=3)\n",
        "gs.fit(X_train, y_train)\n",
        "print(\"Best Parameters : \", gs.best_params_)\n",
        "print(\"Best Score : \", gs.best_score_)\n",
        "print(\"Best Test Score : \", gs.score(X_test, y_test))"
      ],
      "metadata": {
        "id": "lXF4M2MdIpKa",
        "colab": {
          "base_uri": "https://localhost:8080/"
        },
        "outputId": "da6c48e1-9a61-48bc-96f8-3f7a5e3cea1f"
      },
      "execution_count": 30,
      "outputs": [
        {
          "output_type": "stream",
          "name": "stdout",
          "text": [
            "Fitting 3 folds for each of 6 candidates, totalling 18 fits\n",
            "[CV 1/3] END ....n_neighbors=3, weights=uniform;, score=0.969 total time=  50.4s\n",
            "[CV 2/3] END ....n_neighbors=3, weights=uniform;, score=0.968 total time=  48.7s\n",
            "[CV 3/3] END ....n_neighbors=3, weights=uniform;, score=0.968 total time=  53.3s\n",
            "[CV 1/3] END ...n_neighbors=3, weights=distance;, score=0.970 total time=  50.0s\n",
            "[CV 2/3] END ...n_neighbors=3, weights=distance;, score=0.969 total time= 1.0min\n",
            "[CV 3/3] END ...n_neighbors=3, weights=distance;, score=0.969 total time=  49.5s\n",
            "[CV 1/3] END ....n_neighbors=4, weights=uniform;, score=0.966 total time=  54.3s\n",
            "[CV 2/3] END ....n_neighbors=4, weights=uniform;, score=0.966 total time=  54.2s\n",
            "[CV 3/3] END ....n_neighbors=4, weights=uniform;, score=0.967 total time=  55.2s\n",
            "[CV 1/3] END ...n_neighbors=4, weights=distance;, score=0.971 total time=  54.1s\n",
            "[CV 2/3] END ...n_neighbors=4, weights=distance;, score=0.970 total time=  53.4s\n",
            "[CV 3/3] END ...n_neighbors=4, weights=distance;, score=0.970 total time=  54.3s\n",
            "[CV 1/3] END ....n_neighbors=5, weights=uniform;, score=0.968 total time=  54.0s\n",
            "[CV 2/3] END ....n_neighbors=5, weights=uniform;, score=0.967 total time=  58.2s\n",
            "[CV 3/3] END ....n_neighbors=5, weights=uniform;, score=0.968 total time=  54.5s\n",
            "[CV 1/3] END ...n_neighbors=5, weights=distance;, score=0.969 total time=  55.6s\n",
            "[CV 2/3] END ...n_neighbors=5, weights=distance;, score=0.968 total time=  55.4s\n",
            "[CV 3/3] END ...n_neighbors=5, weights=distance;, score=0.969 total time= 1.0min\n",
            "Best Parameters :  {'n_neighbors': 4, 'weights': 'distance'}\n",
            "Best Score :  0.9703500000000002\n",
            "Best Test Score :  0.9714\n"
          ]
        }
      ]
    },
    {
      "cell_type": "markdown",
      "source": [
        "### **2. 다음 단계를 따라 인위적으로 훈련 세트를 늘리는 데이터 증식 또는 훈련 세트 확장 기법을 연습해봅시다.**\n",
        "___"
      ],
      "metadata": {
        "id": "-pDjW5XcHPOt"
      }
    },
    {
      "cell_type": "markdown",
      "source": [
        "#### **STEP 1. MNIST 이미지를 (왼, 오른, 위, 아래) 어느 방향으로든 한 픽셀 이동시킬 수 있는 함수를 만들어 보세요.**"
      ],
      "metadata": {
        "id": "_xhEB_KtH47q"
      }
    },
    {
      "cell_type": "code",
      "source": [
        "# import library\n",
        "from scipy.ndimage.interpolation import shift\n",
        "\n",
        "# function\n",
        "def shift_mnist(image,x,y):\n",
        "  image = image.reshape(28, 28)\n",
        "  shift_image = shift(image,[y,x],mode='constant')\n",
        "  return shift_image.reshape([-1])"
      ],
      "metadata": {
        "id": "DKw9INbrJgpv"
      },
      "execution_count": 32,
      "outputs": []
    },
    {
      "cell_type": "code",
      "source": [
        "# 함수 테스트\n",
        "image=X_train[100]\n",
        "shift_image=shift_mnist(image,-3,0)\n",
        "\n",
        "plt.figure(figsize=(6,2))\n",
        "plt.subplot(1,2,1)\n",
        "plt.title(\"Original\", fontsize=14)\n",
        "plt.imshow(image.reshape(28, 28), interpolation=\"nearest\", cmap=\"Greys\")\n",
        "plt.subplot(1,2,2)\n",
        "plt.title(\"Shifted\", fontsize=14)\n",
        "plt.imshow(shift_image.reshape(28, 28), interpolation=\"nearest\", cmap=\"Greys\")"
      ],
      "metadata": {
        "id": "3CLxYCROIAk6",
        "colab": {
          "base_uri": "https://localhost:8080/",
          "height": 192
        },
        "outputId": "d34e0a6e-0e71-4d2f-f098-c545541affbc"
      },
      "execution_count": 33,
      "outputs": [
        {
          "output_type": "execute_result",
          "data": {
            "text/plain": [
              "<matplotlib.image.AxesImage at 0x7f9c6283e550>"
            ]
          },
          "metadata": {},
          "execution_count": 33
        },
        {
          "output_type": "display_data",
          "data": {
            "text/plain": [
              "<Figure size 432x144 with 2 Axes>"
            ],
            "image/png": "[encoded data removed]"
          },
          "metadata": {
            "needs_background": "light"
          }
        }
      ]
    },
    {
      "cell_type": "markdown",
      "source": [
        "####  **STEP 2. 앞에서 만든 함수를 이용하여, 훈련 세트에 있는 각 이미지에 대해 네 개의 이동된 복사본(방향마다 한 개씩)을 만들어 훈련 세트에 추가하세요**"
      ],
      "metadata": {
        "id": "AHgSqi-zIBCd"
      }
    },
    {
      "cell_type": "code",
      "source": [
        "X_train_augmented = [image for image in X_train]\n",
        "y_train_augmented = [label for label in y_train]\n",
        "\n",
        "for dx, dy in ((1, 0), (-1, 0), (0, 1), (0, -1)):\n",
        "    for image, label in zip(X_train, y_train):\n",
        "        X_train_augmented.append(shift_mnist(image, dx, dy))\n",
        "        y_train_augmented.append(label)\n",
        "\n",
        "X_train_augmented = np.array(X_train_augmented)\n",
        "y_train_augmented = np.array(y_train_augmented)\n",
        "\n",
        "shuffle_idx = np.random.permutation(len(X_train_augmented))\n",
        "X_train_augmented = X_train_augmented[shuffle_idx]\n",
        "y_train_augmented = y_train_augmented[shuffle_idx]"
      ],
      "metadata": {
        "id": "SsBT_d0MIH-V"
      },
      "execution_count": 37,
      "outputs": []
    },
    {
      "cell_type": "markdown",
      "source": [
        "####  **STEP 3. 위에서 확장한 데이터셋을 이용하여, 1번 문제에서 찾은 최적 모델을 훈련시키고, 테스트 세트에서 정확도를 측정해보세요**"
      ],
      "metadata": {
        "id": "zWozt0n2IJZL"
      }
    },
    {
      "cell_type": "code",
      "source": [
        "knn = KNeighborsClassifier(**gs.best_params_)\n",
        "knn.fit(X_train_augmented, y_train_augmented)"
      ],
      "metadata": {
        "id": "Yo4H-hTRIW7-",
        "colab": {
          "base_uri": "https://localhost:8080/"
        },
        "outputId": "ea20c09c-ad8e-4b25-82b2-45408e3c0f7e"
      },
      "execution_count": 40,
      "outputs": [
        {
          "output_type": "execute_result",
          "data": {
            "text/plain": [
              "KNeighborsClassifier(n_neighbors=4, weights='distance')"
            ]
          },
          "metadata": {},
          "execution_count": 40
        }
      ]
    },
    {
      "cell_type": "code",
      "source": [
        "from sklearn.metrics import accuracy_score\n",
        "\n",
        "y_pred = knn.predict(X_test)\n",
        "accuracy_score(y_test, y_pred)"
      ],
      "metadata": {
        "id": "fVdwwmSYKDmF",
        "colab": {
          "base_uri": "https://localhost:8080/"
        },
        "outputId": "535655fa-adfb-4ba8-acc2-3aab88d328ad"
      },
      "execution_count": 41,
      "outputs": [
        {
          "output_type": "execute_result",
          "data": {
            "text/plain": [
              "0.9763"
            ]
          },
          "metadata": {},
          "execution_count": 41
        }
      ]
    }
  ]
}