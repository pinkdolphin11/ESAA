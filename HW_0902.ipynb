{
  "nbformat": 4,
  "nbformat_minor": 0,
  "metadata": {
    "colab": {
      "provenance": [],
      "authorship_tag": "ABX9TyMMdm26xRKcAnd91AEVQ0xQ",
      "include_colab_link": true
    },
    "kernelspec": {
      "name": "python3",
      "display_name": "Python 3"
    },
    "language_info": {
      "name": "python"
    }
  },
  "cells": [
    {
      "cell_type": "markdown",
      "metadata": {
        "id": "view-in-github",
        "colab_type": "text"
      },
      "source": [
        "<a href=\"https://colab.research.google.com/github/pinkdolphin11/ESAA/blob/main/HW_0902.ipynb\" target=\"_parent\"><img src=\"https://colab.research.google.com/assets/colab-badge.svg\" alt=\"Open In Colab\"/></a>"
      ]
    },
    {
      "cell_type": "markdown",
      "source": [
        "## Chapter 3. 분류"
      ],
      "metadata": {
        "id": "l23PgeA7Y-Vv"
      }
    },
    {
      "cell_type": "code",
      "execution_count": 1,
      "metadata": {
        "colab": {
          "base_uri": "https://localhost:8080/"
        },
        "id": "jll2zYZF0Pki",
        "outputId": "af46a93f-2f34-426f-d042-6cb7b1b1d3f2"
      },
      "outputs": [
        {
          "output_type": "stream",
          "name": "stdout",
          "text": [
            "Reading package lists... Done\n",
            "Building dependency tree       \n",
            "Reading state information... Done\n",
            "fonts-nanum is already the newest version (20170925-1).\n",
            "The following package was automatically installed and is no longer required:\n",
            "  libnvidia-common-460\n",
            "Use 'sudo apt autoremove' to remove it.\n",
            "0 upgraded, 0 newly installed, 0 to remove and 20 not upgraded.\n",
            "/usr/share/fonts: caching, new cache contents: 0 fonts, 1 dirs\n",
            "/usr/share/fonts/truetype: caching, new cache contents: 0 fonts, 3 dirs\n",
            "/usr/share/fonts/truetype/humor-sans: caching, new cache contents: 1 fonts, 0 dirs\n",
            "/usr/share/fonts/truetype/liberation: caching, new cache contents: 16 fonts, 0 dirs\n",
            "/usr/share/fonts/truetype/nanum: caching, new cache contents: 10 fonts, 0 dirs\n",
            "/usr/local/share/fonts: caching, new cache contents: 0 fonts, 0 dirs\n",
            "/root/.local/share/fonts: skipping, no such directory\n",
            "/root/.fonts: skipping, no such directory\n",
            "/var/cache/fontconfig: cleaning cache directory\n",
            "/root/.cache/fontconfig: not cleaning non-existent cache directory\n",
            "/root/.fontconfig: not cleaning non-existent cache directory\n",
            "fc-cache: succeeded\n"
          ]
        }
      ],
      "source": [
        "#matplotlib 한글 깨짐 방지\n",
        "!sudo apt-get install -y fonts-nanum\n",
        "!sudo fc-cache -fv\n",
        "!rm ~/.cache/matplotlib -rf"
      ]
    },
    {
      "cell_type": "code",
      "source": [
        "#matplotlib 한글 깨짐 방지\n",
        "import matplotlib.pyplot as plt\n",
        "plt.rc('font', family='NanumBarunGothic') "
      ],
      "metadata": {
        "id": "5hAH4tG-wqlY"
      },
      "execution_count": 2,
      "outputs": []
    },
    {
      "cell_type": "markdown",
      "source": [
        "### 3.1 MNIST"
      ],
      "metadata": {
        "id": "u40JoTtjZh4-"
      }
    },
    {
      "cell_type": "code",
      "execution_count": 3,
      "metadata": {
        "colab": {
          "base_uri": "https://localhost:8080/"
        },
        "id": "0ss0vaOEVjym",
        "outputId": "feb1710f-ca0d-48d1-d9d0-d5dcaa0236a6"
      },
      "outputs": [
        {
          "output_type": "execute_result",
          "data": {
            "text/plain": [
              "dict_keys(['data', 'target', 'frame', 'categories', 'feature_names', 'target_names', 'DESCR', 'details', 'url'])"
            ]
          },
          "metadata": {},
          "execution_count": 3
        }
      ],
      "source": [
        "#MNIST 데이터셋 내려받기\n",
        "\n",
        "from sklearn.datasets import fetch_openml\n",
        "mnist = fetch_openml('mnist_784', version=1, as_frame=False) #as_frame=False 지정해야 X[0] 실행됨\n",
        "mnist.keys()"
      ]
    },
    {
      "cell_type": "markdown",
      "source": [
        "사이킷런에서 읽어들인 데이터셋들의 일반적인 딕셔너리 구조\n",
        "\n",
        "* DESCR 키 : 데이터셋을 설명\n",
        "* data 키 : 샘플이 하나의 행, 특성이 하나의 열로 구성된 배열을 가짐\n",
        "* target 키 : 레이블 배열을 담고있음"
      ],
      "metadata": {
        "id": "N2gbHyOnab_P"
      }
    },
    {
      "cell_type": "code",
      "source": [
        "X, y = mnist[\"data\"], mnist[\"target\"]\n",
        "print(X.shape)\n",
        "print(y.shape)"
      ],
      "metadata": {
        "colab": {
          "base_uri": "https://localhost:8080/"
        },
        "id": "EBWSp6ymasPV",
        "outputId": "f7ed964f-167b-4aad-fb1d-6a3674be1ad6"
      },
      "execution_count": 4,
      "outputs": [
        {
          "output_type": "stream",
          "name": "stdout",
          "text": [
            "(70000, 784)\n",
            "(70000,)\n"
          ]
        }
      ]
    },
    {
      "cell_type": "markdown",
      "source": [
        "X, y 배열의 특징\n",
        "\n",
        "* 이미지 70,000개, 각 이미지에 784개의 특성이 있음\n",
        "* 28X28 픽셀\n",
        "* 개개의 특성은 0(흰색)부터 255(검은색)까지의 픽셀 강도를 나타냄"
      ],
      "metadata": {
        "id": "E8XhhfP6a70B"
      }
    },
    {
      "cell_type": "code",
      "source": [
        "#데이터셋에서 이미지 하나 확인\n",
        "\n",
        "import matplotlib as mpl\n",
        "import matplotlib.pyplot as plt\n",
        "\n",
        "some_digit = X[0] #샘플의 특성 벡터 추출\n",
        "some_digit_image = some_digit.reshape(28, 28) #28X28 배열로 크기 변경\n",
        "\n",
        "plt.imshow(some_digit_image, cmap=\"binary\") #matplotlib imshow() 함수로 그림\n",
        "plt.axis(\"off\")\n",
        "plt.show()"
      ],
      "metadata": {
        "colab": {
          "base_uri": "https://localhost:8080/",
          "height": 248
        },
        "id": "iSIBgDOvbApS",
        "outputId": "5d59064c-da01-47dc-fcd3-56837ff990b3"
      },
      "execution_count": 5,
      "outputs": [
        {
          "output_type": "display_data",
          "data": {
            "text/plain": [
              "<Figure size 432x288 with 1 Axes>"
            ],
            "image/png": "[encoded data removed]"
          },
          "metadata": {
            "needs_background": "light"
          }
        }
      ]
    },
    {
      "cell_type": "code",
      "source": [
        "y[0]"
      ],
      "metadata": {
        "colab": {
          "base_uri": "https://localhost:8080/",
          "height": 35
        },
        "id": "X9yff7mpeTGT",
        "outputId": "b19a48ae-9123-402d-e946-75eb355af8e6"
      },
      "execution_count": 6,
      "outputs": [
        {
          "output_type": "execute_result",
          "data": {
            "text/plain": [
              "'5'"
            ],
            "application/vnd.google.colaboratory.intrinsic+json": {
              "type": "string"
            }
          },
          "metadata": {},
          "execution_count": 6
        }
      ]
    },
    {
      "cell_type": "markdown",
      "source": [
        "그림에 나타난 모양과 실제 레이블 값이 일치한다."
      ],
      "metadata": {
        "id": "Rleuy3B5eWtI"
      }
    },
    {
      "cell_type": "code",
      "source": [
        "#레이블은 문자열이므로 y 정수변환\n",
        "\n",
        "import numpy as np\n",
        "y = y.astype(np.uint8)"
      ],
      "metadata": {
        "id": "aFbREvsKecQy"
      },
      "execution_count": 7,
      "outputs": []
    },
    {
      "cell_type": "code",
      "source": [
        "#train, test 데이터 만들기\n",
        "X_train, X_test, y_train, y_test = X[:60000], X[60000:], y[:60000], y[60000:]"
      ],
      "metadata": {
        "id": "Y6VxG-YGengq"
      },
      "execution_count": 8,
      "outputs": []
    },
    {
      "cell_type": "markdown",
      "source": [
        "참고\n",
        "\n",
        "* MNIST 데이터셋은 train set(앞 60,000개 이미지)와 \n",
        "test set(뒤 10,000개 이미지)로 이미 나누어져 있음\n",
        "* train set는 이미 섞여 있어서 모든 교차 검증 폴드를 비슷하게 만듦\n",
        "* 어떤 학습 알고리즘은 train 샘플의 순서에 민감해서 많은 비슷한 샘플이 연이어 나타나면 성능이 나빠지는데, 데이터셋을 섞으면 이를 방지할 수 있음\n"
      ],
      "metadata": {
        "id": "-tqvlLQdfATB"
      }
    },
    {
      "cell_type": "markdown",
      "source": [
        "### 3.2 이진 분류기 훈련"
      ],
      "metadata": {
        "id": "_orCaPxcfbjI"
      }
    },
    {
      "cell_type": "markdown",
      "source": [
        "이진 분류기 예시 : 하나의 숫자(ex. 5)만 식별. '5'와 '5 아님' 2개의 클래스를 구분 가능"
      ],
      "metadata": {
        "id": "YEp19hn3fjOu"
      }
    },
    {
      "cell_type": "code",
      "source": [
        "#분류 작업을 위한 타깃 벡터 만들기\n",
        "\n",
        "y_train_5 = (y_train == 5) #5는 True고, 다른 숫자는 모두 False\n",
        "y_test_5 = (y_test == 5)"
      ],
      "metadata": {
        "id": "LDKiWZHVf3Ty"
      },
      "execution_count": 9,
      "outputs": []
    },
    {
      "cell_type": "markdown",
      "source": [
        "SGDClassifier 클래스를 사용한 확률적 경사 하강법(SGD) 분류 모델을 선택하여 훈련시킴"
      ],
      "metadata": {
        "id": "Cj2xHIdYgNc3"
      }
    },
    {
      "cell_type": "code",
      "source": [
        "from sklearn.linear_model import SGDClassifier\n",
        "\n",
        "sgd_clf = SGDClassifier(random_state=42) #무작위성을 사용하여 훈련하므로 결과 재현을 위해 random_state 지정\n",
        "sgd_clf.fit(X_train, y_train_5)"
      ],
      "metadata": {
        "colab": {
          "base_uri": "https://localhost:8080/"
        },
        "id": "vuYgqbT2gYzE",
        "outputId": "63d1ada0-5880-48a2-8547-88ba65de5c29"
      },
      "execution_count": 10,
      "outputs": [
        {
          "output_type": "execute_result",
          "data": {
            "text/plain": [
              "SGDClassifier(random_state=42)"
            ]
          },
          "metadata": {},
          "execution_count": 10
        }
      ]
    },
    {
      "cell_type": "code",
      "source": [
        "#이 모델로 숫자 5의 이미지 감지\n",
        "sgd_clf.predict([some_digit])"
      ],
      "metadata": {
        "colab": {
          "base_uri": "https://localhost:8080/"
        },
        "id": "t7YlLJwygwD_",
        "outputId": "f9dd75ec-68bd-475a-9760-22f115cc62e9"
      },
      "execution_count": 11,
      "outputs": [
        {
          "output_type": "execute_result",
          "data": {
            "text/plain": [
              "array([ True])"
            ]
          },
          "metadata": {},
          "execution_count": 11
        }
      ]
    },
    {
      "cell_type": "markdown",
      "source": [
        "분류기는 이 이미지가 5를 나타낸다고 추측함(True)"
      ],
      "metadata": {
        "id": "iwGNz_j1hA9x"
      }
    },
    {
      "cell_type": "markdown",
      "source": [
        "### 3.3 성능 측정"
      ],
      "metadata": {
        "id": "ZiYD6dW5iL62"
      }
    },
    {
      "cell_type": "markdown",
      "source": [
        "#### 3.3.1 교차 검증을 사용한 정확도 측정"
      ],
      "metadata": {
        "id": "1Pm0AfqJiSXu"
      }
    },
    {
      "cell_type": "markdown",
      "source": [
        "사이킷런이 제공하는 기능보다 교차 검증 과정을 더 많이 제어해야 할 때는 교차 검증 기능을 직접 구현하면 된다. 다음은 사이킷런의 cross_val_score() 함수와 거의 같은 작업을 수행하고 동일한 결과를 출력하는 코드이다."
      ],
      "metadata": {
        "id": "S9642SCNiYSE"
      }
    },
    {
      "cell_type": "code",
      "source": [
        "from sklearn.model_selection import StratifiedKFold #클래스별 비율이 유지되도록 폴드를 만들기 위해 계층적 샘플링 수행\n",
        "from sklearn.base import clone\n",
        "\n",
        "skfolds = StratifiedKFold(n_splits=3, random_state=42, shuffle=True)\n",
        "\n",
        "for train_index, test_index in skfolds.split(X_train, y_train_5): #매 반복에서 분류기 객체를 복제하여 훈련 폴드로 훈련시키고 테스트 폴드로 예측을 만듦\n",
        "  clone_clf = clone(sgd_clf)\n",
        "  X_train_folds = X_train[train_index]\n",
        "  y_train_folds = y_train_5[train_index]\n",
        "  X_test_fold = X_train[test_index]\n",
        "  y_test_fold = y_train_5[test_index]\n",
        "\n",
        "  clone_clf.fit(X_train_folds, y_train_folds)\n",
        "  y_pred = clone_clf.predict(X_test_fold)\n",
        "  n_correct = sum(y_pred == y_test_fold)\n",
        "  print(n_correct / len(y_pred)) #올바른 예측의 수를 세어 정확한 예측의 비율 출력"
      ],
      "metadata": {
        "colab": {
          "base_uri": "https://localhost:8080/"
        },
        "id": "p-TFTP_PiWPz",
        "outputId": "7d537356-b876-432f-8314-0f88055af5ad"
      },
      "execution_count": 12,
      "outputs": [
        {
          "output_type": "stream",
          "name": "stdout",
          "text": [
            "0.9669\n",
            "0.91625\n",
            "0.96785\n"
          ]
        }
      ]
    },
    {
      "cell_type": "markdown",
      "source": [
        "cross_val_score() 함수로 폴드가 3개인 k-겹 교차 검증을 사용해 SGDClassifier 모델 평가. k-겹 교차 검증은 훈련 세트를 k개의 폴드로 나누고 각 폴드에 대해 예측을 만들고 평가하기 위해 나머지 폴드로 훈련시킨 모델 사용"
      ],
      "metadata": {
        "id": "4NyHsriHkI-p"
      }
    },
    {
      "cell_type": "code",
      "source": [
        "from sklearn.model_selection import cross_val_score\n",
        "cross_val_score(sgd_clf, X_train, y_train_5, cv=3, scoring='accuracy')"
      ],
      "metadata": {
        "colab": {
          "base_uri": "https://localhost:8080/"
        },
        "id": "k8dP4AWsjrHl",
        "outputId": "47bbbbba-5dad-4493-a5ba-503473e9cb55"
      },
      "execution_count": 13,
      "outputs": [
        {
          "output_type": "execute_result",
          "data": {
            "text/plain": [
              "array([0.95035, 0.96035, 0.9604 ])"
            ]
          },
          "metadata": {},
          "execution_count": 13
        }
      ]
    },
    {
      "cell_type": "markdown",
      "source": [
        "모든 교차 검증 폴드에 대해 정확도가 95% 이상이다."
      ],
      "metadata": {
        "id": "DbvcPQrbknMB"
      }
    },
    {
      "cell_type": "code",
      "source": [
        "#모든 이미지를 '5 아님' 클래스로 분류하는 더미 분류기를 만들어 비교\n",
        "\n",
        "from sklearn.base import BaseEstimator\n",
        "\n",
        "class Never5Classifier(BaseEstimator):\n",
        "  def fit(self, X, y=None):\n",
        "    return self\n",
        "  def predict(self, X):\n",
        "    return np.zeros((len(X),1),dtype=bool)"
      ],
      "metadata": {
        "id": "BaXne4RwksMv"
      },
      "execution_count": 14,
      "outputs": []
    },
    {
      "cell_type": "code",
      "source": [
        "#모델의 정확도 추측\n",
        "\n",
        "never_5_clf = Never5Classifier()\n",
        "cross_val_score(never_5_clf, X_train, y_train_5, cv=3, scoring='accuracy')"
      ],
      "metadata": {
        "colab": {
          "base_uri": "https://localhost:8080/"
        },
        "id": "VFFfz89UkwL_",
        "outputId": "663da59b-daa2-4bf2-eed4-a824bdfd8853"
      },
      "execution_count": 15,
      "outputs": [
        {
          "output_type": "execute_result",
          "data": {
            "text/plain": [
              "array([0.91125, 0.90855, 0.90915])"
            ]
          },
          "metadata": {},
          "execution_count": 15
        }
      ]
    },
    {
      "cell_type": "markdown",
      "source": [
        "정확도가 90% 이상이다. 이미지의 10% 정도만 숫자 5이기 때문에 무조건 '5 아님'으로 예측하면 정확히 맞출 확률이 90%인 것이다. 정확도를 분류기의 성능 측정 지표로 선호하지 않는 이유가 여기에 있다. 특히 불균형한 데이터셋을 다룰 때(어떤 클래스가 다른 것보다 월등히 많은 경우) 더욱 그렇다."
      ],
      "metadata": {
        "id": "Lu5JfkKNlTkG"
      }
    },
    {
      "cell_type": "markdown",
      "source": [
        "#### 3.3.2 오차 행렬"
      ],
      "metadata": {
        "id": "3bGWhZ-Elmf7"
      }
    },
    {
      "cell_type": "markdown",
      "source": [
        "성능 평가의 더 좋은 방법은 오차행렬이다. 기본적인 아이디어는 클래스 A의 샘플이 클래스 B로 분류된 횟수를 세는 것이다. 예를 들어 분류기가 숫자 5의 이미지를 3으로 잘못 분류한 횟수를 알고 싶다면 오차 행렬의 5행 3열을 보면 된다.\n",
        "\n",
        "오차 행렬을 만들려면 실제 타깃과 비교할 수 있도록 예측값을 만들어야 하는데, 테스트 세트로 만든 예측은 사용하면 안 된다. 대신 cross_val_predict() 함수를 사용할 수 있다."
      ],
      "metadata": {
        "id": "oTssJz9jlph5"
      }
    },
    {
      "cell_type": "code",
      "source": [
        "from sklearn.model_selection import cross_val_predict #k-겹 교차 검증을 수행하지만 평가 점수가 아니라 각 테스트 폴드에서 얻은 예측을 반환(훈련 세트의 모든 샘플에 대한 깨끗한 예측)\n",
        "\n",
        "y_train_pred = cross_val_predict(sgd_clf, X_train, y_train_5, cv=3)"
      ],
      "metadata": {
        "id": "uNnTx2A1lpFB"
      },
      "execution_count": 16,
      "outputs": []
    },
    {
      "cell_type": "code",
      "source": [
        "from sklearn.metrics import confusion_matrix #오차행렬 만드는 함수\n",
        "confusion_matrix(y_train_5, y_train_pred) #타깃 클래스와 예측 클래스를 넣고 호출"
      ],
      "metadata": {
        "colab": {
          "base_uri": "https://localhost:8080/"
        },
        "id": "KBTLCkDqmdmW",
        "outputId": "922eb4e8-8d8f-4d15-ff60-25477899e978"
      },
      "execution_count": 17,
      "outputs": [
        {
          "output_type": "execute_result",
          "data": {
            "text/plain": [
              "array([[53892,   687],\n",
              "       [ 1891,  3530]])"
            ]
          },
          "metadata": {},
          "execution_count": 17
        }
      ]
    },
    {
      "cell_type": "markdown",
      "source": [
        "오차행렬\n",
        "\n",
        "* 행 : 실제 클래스\n",
        "* 열 : 예측한 클래스\n",
        "\n",
        "위 예시에서\n",
        "\n",
        "* 첫번째 행 : '5 아님' 이미지(negative class 음성 클래스). 53892개를 '5 아님'으로 정확하게 분류(true negative 진짜 음성), 687개는 '5'라고 잘못 분류(false positive 거짓 양성)\n",
        "\n",
        "* 두번째 행 : '5' 이미지(positive class 양성 클래스). 1891개를 '5 아님'으로 잘못 분류(false negative 거짓 음성), 3530개를 정확히 '5'로 분류(true positive 진짜 양성)\n"
      ],
      "metadata": {
        "id": "j8kSg-avmpCL"
      }
    },
    {
      "cell_type": "code",
      "source": [
        "y_train_perfect_predictions = y_train_5 #완벽한 분류기일 경우\n",
        "confusion_matrix(y_train_5, y_train_perfect_predictions)"
      ],
      "metadata": {
        "colab": {
          "base_uri": "https://localhost:8080/"
        },
        "id": "eoygYqWwncSA",
        "outputId": "602f5c0a-eaa5-408b-843a-1b21b1e36c07"
      },
      "execution_count": 18,
      "outputs": [
        {
          "output_type": "execute_result",
          "data": {
            "text/plain": [
              "array([[54579,     0],\n",
              "       [    0,  5421]])"
            ]
          },
          "metadata": {},
          "execution_count": 18
        }
      ]
    },
    {
      "cell_type": "markdown",
      "source": [
        "오차 행렬보다 요약된 지표가 필요할 때 양성 예측의 정확도를 살펴본다. 이를 분류기의 정밀도라고 한다.\n",
        "\n",
        "* 정밀도 = TP/(TP+FP)\n",
        "\n",
        "분류기가 정확하게 감지한 양성 샘플의 비율인 재현율과 함께 사용한다.\n",
        "\n",
        "* 재현율 = TP/(TP+FN)"
      ],
      "metadata": {
        "id": "58UDORSlnnOa"
      }
    },
    {
      "cell_type": "markdown",
      "source": [
        "#### 3.3.3 정밀도와 재현율"
      ],
      "metadata": {
        "id": "UXK_9r5Eope0"
      }
    },
    {
      "cell_type": "code",
      "source": [
        "from sklearn.metrics import precision_score, recall_score\n",
        "precision_score(y_train_5, y_train_pred) #3530/(3530+687)"
      ],
      "metadata": {
        "colab": {
          "base_uri": "https://localhost:8080/"
        },
        "id": "oXFrqgdMn1Xn",
        "outputId": "e6f73efa-3026-4e1b-8724-70d601972d32"
      },
      "execution_count": 19,
      "outputs": [
        {
          "output_type": "execute_result",
          "data": {
            "text/plain": [
              "0.8370879772350012"
            ]
          },
          "metadata": {},
          "execution_count": 19
        }
      ]
    },
    {
      "cell_type": "code",
      "source": [
        "recall_score(y_train_5, y_train_pred) #3530/(3530+1891)"
      ],
      "metadata": {
        "colab": {
          "base_uri": "https://localhost:8080/"
        },
        "id": "USI9I7bNpC4f",
        "outputId": "4241e796-60fa-44e2-816c-c598ca16988d"
      },
      "execution_count": 20,
      "outputs": [
        {
          "output_type": "execute_result",
          "data": {
            "text/plain": [
              "0.6511713705958311"
            ]
          },
          "metadata": {},
          "execution_count": 20
        }
      ]
    },
    {
      "cell_type": "markdown",
      "source": [
        "F1 score : 정밀도와 재현율의 조화평균"
      ],
      "metadata": {
        "id": "vOuWeU_fpM6O"
      }
    },
    {
      "cell_type": "code",
      "source": [
        "from sklearn.metrics import f1_score\n",
        "f1_score(y_train_5, y_train_pred)"
      ],
      "metadata": {
        "colab": {
          "base_uri": "https://localhost:8080/"
        },
        "id": "lnWDzjJ_pUqq",
        "outputId": "6e2c8da9-6299-42be-fd6d-b33184a36ff5"
      },
      "execution_count": 21,
      "outputs": [
        {
          "output_type": "execute_result",
          "data": {
            "text/plain": [
              "0.7325171197343846"
            ]
          },
          "metadata": {},
          "execution_count": 21
        }
      ]
    },
    {
      "cell_type": "markdown",
      "source": [
        "정밀도와 재현율이 비슷한 분류기에서 f1 score가 높지만, 상황에 따라 정밀도나 재현율 중 하나가 더 중요할 수 있으므로 이것이 항상 바람직하지는 않다. 어린이에게 안전한 동영상을 걸러내는 분류기를 훈련시킬 경우, 재현율은 높으나 정말 나쁜 동영상이 몇 개 노출되는 것보다 좋은 동영상이 많이 제외되더라도(낮은 재현율) 안전한 것들만 노출시키는(높은 정밀도) 분류기를 선호할 것이다.\n"
      ],
      "metadata": {
        "id": "x0QhWsDdpb86"
      }
    },
    {
      "cell_type": "markdown",
      "source": [
        "#### 3.3.4 정밀도/재현율 트레이드오프"
      ],
      "metadata": {
        "id": "gFMJC_RMqE3m"
      }
    },
    {
      "cell_type": "markdown",
      "source": [
        "SGDClassifier는 결정 함수를 사용하여 각 샘플의 점수를 계산한다. 점수가 임곗값보다 크면 샘플을 양성 클래스, 아니면 음성 클래스에 할당한다. 임곗값이 높을수록 재현율은 낮아지고 반대로 정밀도는 높아진다.\n",
        "\n",
        "사이킷런에서 임곗값을 직접 지정할 수는 없지만 예측에 사용한 점수는 확이할 수 있다. predict() 대신 decision_function()을 호출하면 각 샘플의 점수를 얻을 수 있고, 이를 기반으로 원하는 임곗값을 정해 예측을 만들 수 있다."
      ],
      "metadata": {
        "id": "kPyd69Z9qHlv"
      }
    },
    {
      "cell_type": "code",
      "source": [
        "y_scores = sgd_clf.decision_function([some_digit])\n",
        "y_scores"
      ],
      "metadata": {
        "colab": {
          "base_uri": "https://localhost:8080/"
        },
        "id": "td0CQwqcrQ0-",
        "outputId": "aaa2f130-6915-4048-ab26-1be1d4ca3a25"
      },
      "execution_count": 22,
      "outputs": [
        {
          "output_type": "execute_result",
          "data": {
            "text/plain": [
              "array([2164.22030239])"
            ]
          },
          "metadata": {},
          "execution_count": 22
        }
      ]
    },
    {
      "cell_type": "code",
      "source": [
        "threshold = 0 #임곗값 설정\n",
        "y_some_digit_pred = (y_scores > threshold)\n",
        "y_some_digit_pred #임곗값이 0이므로 predict() 메서드와 같은 결과 반환"
      ],
      "metadata": {
        "colab": {
          "base_uri": "https://localhost:8080/"
        },
        "id": "pGyUNtlCrdE7",
        "outputId": "1431b5e4-dfe9-4edb-90e6-08a2efd7469a"
      },
      "execution_count": 23,
      "outputs": [
        {
          "output_type": "execute_result",
          "data": {
            "text/plain": [
              "array([ True])"
            ]
          },
          "metadata": {},
          "execution_count": 23
        }
      ]
    },
    {
      "cell_type": "code",
      "source": [
        "threshold = 8000\n",
        "y_some_digit_pred = (y_scores > threshold)\n",
        "y_some_digit_pred"
      ],
      "metadata": {
        "colab": {
          "base_uri": "https://localhost:8080/"
        },
        "id": "01ekLjzlruum",
        "outputId": "e9f7475b-acea-488f-8215-3c3708a18da6"
      },
      "execution_count": 24,
      "outputs": [
        {
          "output_type": "execute_result",
          "data": {
            "text/plain": [
              "array([False])"
            ]
          },
          "metadata": {},
          "execution_count": 24
        }
      ]
    },
    {
      "cell_type": "markdown",
      "source": [
        "임곗값을 높이면 재현율이 줄어든다. 이미지가 실제로 숫자 5이고, 임곗값이 0일 때는 분류기가 이를 감지했지만 8000으로 높이면 이를 놓친다."
      ],
      "metadata": {
        "id": "STfeoOlxr2SG"
      }
    },
    {
      "cell_type": "code",
      "source": [
        "#적절한 임곗값 정하기 : 훈련 세트에 있는 모든 샘플의 점수를 구하는데 결정 점수를 반환받도록 지정\n",
        "\n",
        "y_scores = cross_val_predict(sgd_clf, X_train, y_train_5, cv=3, method='decision_function')"
      ],
      "metadata": {
        "id": "V7gs69xkr_-Z"
      },
      "execution_count": 25,
      "outputs": []
    },
    {
      "cell_type": "code",
      "source": [
        "#위 점수로 가능한 모든 임곗값에 대한 정밀도와 재현율 계산\n",
        "\n",
        "from sklearn.metrics import precision_recall_curve\n",
        "\n",
        "precisions, recalls, thresholds = precision_recall_curve(y_train_5, y_scores)"
      ],
      "metadata": {
        "id": "thhR0LGIsQwH"
      },
      "execution_count": 26,
      "outputs": []
    },
    {
      "cell_type": "code",
      "source": [
        "def plot_precision_recall_vs_threshold(precisions, recalls, thresholds):\n",
        "  plt.plot(thresholds, precisions[:-1], \"b--\", label=\"정밀도\")\n",
        "  plt.plot(thresholds, recalls[:-1], \"g--\", label=\"재현율\")\n",
        "\n",
        "plot_precision_recall_vs_threshold(precisions, recalls, thresholds)\n",
        "plt.show()"
      ],
      "metadata": {
        "colab": {
          "base_uri": "https://localhost:8080/",
          "height": 338
        },
        "id": "2SDNeKVssdlq",
        "outputId": "ab4ebf99-6f2a-46ac-ccc3-7418a83826b4"
      },
      "execution_count": 27,
      "outputs": [
        {
          "output_type": "stream",
          "name": "stderr",
          "text": [
            "/usr/local/lib/python3.7/dist-packages/matplotlib/backends/backend_agg.py:214: RuntimeWarning: Glyph 8722 missing from current font.\n",
            "  font.set_text(s, 0.0, flags=flags)\n",
            "/usr/local/lib/python3.7/dist-packages/matplotlib/backends/backend_agg.py:183: RuntimeWarning: Glyph 8722 missing from current font.\n",
            "  font.set_text(s, 0, flags=flags)\n"
          ]
        },
        {
          "output_type": "display_data",
          "data": {
            "text/plain": [
              "<Figure size 432x288 with 1 Axes>"
            ],
            "image/png": "[encoded data removed]"
          },
          "metadata": {
            "needs_background": "light"
          }
        }
      ]
    },
    {
      "cell_type": "markdown",
      "source": [
        "정밀도 곡선이 재현율 곡선보다 울퉁불퉁한것은 임곗값을 올려도 정밀도가 낮아지는 경우가 있기 때문이다.\n",
        "\n",
        "재현율에 대한 정밀도 곡선을 그려서 좋은 정밀도/재현율 트레이드오프를 선택한다. 정밀도가 급격하게 줄어드는 하강점 직전을 선택하는 것이 좋다."
      ],
      "metadata": {
        "id": "Mht48zZ_s4P7"
      }
    },
    {
      "cell_type": "code",
      "source": [
        "#정밀도 90%를 달성하고자 할 때 가장 낮은 임곗값 찾기\n",
        "\n",
        "threshold_90_precision = thresholds[np.argmax(precisions>=0.90)] #np.argmax() : 최댓값의 첫 번째 인덱스 반환(첫 번째 True 값)\n",
        "threshold_90_precision"
      ],
      "metadata": {
        "colab": {
          "base_uri": "https://localhost:8080/"
        },
        "id": "vq2hRZFotNy4",
        "outputId": "5a69afec-a17a-4201-ce56-4a0b9bc21856"
      },
      "execution_count": 28,
      "outputs": [
        {
          "output_type": "execute_result",
          "data": {
            "text/plain": [
              "3370.0194991439557"
            ]
          },
          "metadata": {},
          "execution_count": 28
        }
      ]
    },
    {
      "cell_type": "code",
      "source": [
        "#훈련 세트에 대한 예측 만들기\n",
        "y_train_pred_90 = (y_scores >= threshold_90_precision)"
      ],
      "metadata": {
        "id": "vUzA__SCtlS4"
      },
      "execution_count": 29,
      "outputs": []
    },
    {
      "cell_type": "code",
      "source": [
        "precision_score(y_train_5, y_train_pred_90)"
      ],
      "metadata": {
        "colab": {
          "base_uri": "https://localhost:8080/"
        },
        "id": "8K2dS3ugt1W4",
        "outputId": "2fa8b176-4154-4c70-bf24-6ff1bbfcd779"
      },
      "execution_count": 30,
      "outputs": [
        {
          "output_type": "execute_result",
          "data": {
            "text/plain": [
              "0.9000345901072293"
            ]
          },
          "metadata": {},
          "execution_count": 30
        }
      ]
    },
    {
      "cell_type": "code",
      "source": [
        "recall_score(y_train_5, y_train_pred_90)"
      ],
      "metadata": {
        "colab": {
          "base_uri": "https://localhost:8080/"
        },
        "id": "ovYumql1t5vp",
        "outputId": "87ed3db8-13a3-44ab-be40-cdeba3f55c25"
      },
      "execution_count": 31,
      "outputs": [
        {
          "output_type": "execute_result",
          "data": {
            "text/plain": [
              "0.4799852425751706"
            ]
          },
          "metadata": {},
          "execution_count": 31
        }
      ]
    },
    {
      "cell_type": "markdown",
      "source": [
        "#### 3.3.5 ROC 곡선"
      ],
      "metadata": {
        "id": "n1pvtaIot9im"
      }
    },
    {
      "cell_type": "markdown",
      "source": [
        "거짓 양성 비율에 대한 진짜 양성 비율(재현율의 다른 이름)의 곡선\n",
        "\n",
        "거짓 양성 비율 : 양성으로 잘못 분류된 음성 샘플의 비율(FPR)인데, 1에서 음성으로 정확하게 분류한 음성 샘플의 비율인 진짜 음성 비율(TNR)을 뺀 값이다. TNR을 특이도라고 하므로, ROC 곡선은 민감도(재현율)에 대한 1-특이도 그래프이다."
      ],
      "metadata": {
        "id": "dKQIRA2YuCEg"
      }
    },
    {
      "cell_type": "code",
      "source": [
        "from sklearn.metrics import roc_curve\n",
        "\n",
        "fpr, tpr, thresholds = roc_curve(y_train_5, y_scores)"
      ],
      "metadata": {
        "id": "-gh8grvKuBs9"
      },
      "execution_count": 32,
      "outputs": []
    },
    {
      "cell_type": "code",
      "source": [
        "def plot_roc_curve(fpr, tpr, label=None):\n",
        "  plt.plot(fpr, tpr, linewidth=2, label=label)\n",
        "  plt.plot([0,1],[0,1],'k--') #대각 점선\n",
        "\n",
        "plot_roc_curve(fpr, tpr)\n",
        "plt.show()"
      ],
      "metadata": {
        "colab": {
          "base_uri": "https://localhost:8080/",
          "height": 265
        },
        "id": "ExD97FWtup-V",
        "outputId": "03c2fc25-ca93-4712-924a-d725b369aa09"
      },
      "execution_count": 33,
      "outputs": [
        {
          "output_type": "display_data",
          "data": {
            "text/plain": [
              "<Figure size 432x288 with 1 Axes>"
            ],
            "image/png": "[encoded data removed]"
          },
          "metadata": {
            "needs_background": "light"
          }
        }
      ]
    },
    {
      "cell_type": "markdown",
      "source": [
        "재현율이 높을수록 분류기가 만드는 거짓 양성이 늘어난다. 점선은 완전한 랜덤 분류기의 ROC곡선이다. 좋은 분류기는 이 점선에서 최대한 멀리 떨어져 있어야 한다.\n",
        "\n",
        "곡선 아래의 면적(AUC)을 측정하여 분류기를 비교할 수 있다.\n",
        "\n",
        "* 완벽한 분류기 : AUC = 1\n",
        "* 완전한 랜덤 분류기 : AUC = 0.5"
      ],
      "metadata": {
        "id": "K_-06b4Cu9R6"
      }
    },
    {
      "cell_type": "code",
      "source": [
        "from sklearn.metrics import roc_auc_score\n",
        "roc_auc_score(y_train_5, y_scores)"
      ],
      "metadata": {
        "colab": {
          "base_uri": "https://localhost:8080/"
        },
        "id": "mE-Igh7Vu8K7",
        "outputId": "8c3a3efb-3622-465c-9b44-92148470b927"
      },
      "execution_count": 34,
      "outputs": [
        {
          "output_type": "execute_result",
          "data": {
            "text/plain": [
              "0.9604938554008616"
            ]
          },
          "metadata": {},
          "execution_count": 34
        }
      ]
    },
    {
      "cell_type": "markdown",
      "source": [
        "RandomForestClassifier를 훈련시켜 SGDClassifier의 ROC 곡선과 AUC 점수를 비교하자."
      ],
      "metadata": {
        "id": "WPj95c4UvYR4"
      }
    },
    {
      "cell_type": "code",
      "source": [
        "from sklearn.ensemble import RandomForestClassifier\n",
        "\n",
        "forest_clf = RandomForestClassifier(random_state=42)\n",
        "y_probas_forest = cross_val_predict(forest_clf, X_train, y_train_5, cv=3, method = \"predict_proba\") #predict_proba : 훈련 세트의 샘플에 대한 점수 얻음. 샘플이 행, 클래스가 열이고 샘플이 주어진 클래스에 속할 확률을 담은 배열 반환"
      ],
      "metadata": {
        "id": "n-XdVeKMvedT"
      },
      "execution_count": 35,
      "outputs": []
    },
    {
      "cell_type": "code",
      "source": [
        "y_scores_forest = y_probas_forest[:,1] #양성 클래스에 대한 확률을 점수로 사용\n",
        "fpr_forest, tpr_forest, thresholds_forest = roc_curve(y_train_5, y_scores_forest)"
      ],
      "metadata": {
        "id": "H9kRt3dKv8bc"
      },
      "execution_count": 36,
      "outputs": []
    },
    {
      "cell_type": "code",
      "source": [
        "plt.plot(fpr,tpr,\"b--\",label='SGD')\n",
        "plot_roc_curve(fpr_forest, tpr_forest, \"랜덤 포레스트\")\n",
        "plt.legend(loc=\"lower right\")\n",
        "plt.show()"
      ],
      "metadata": {
        "colab": {
          "base_uri": "https://localhost:8080/",
          "height": 265
        },
        "id": "sTHRPnLCwMgW",
        "outputId": "9c804c76-3bee-4389-9088-d45a41777e20"
      },
      "execution_count": 37,
      "outputs": [
        {
          "output_type": "display_data",
          "data": {
            "text/plain": [
              "<Figure size 432x288 with 1 Axes>"
            ],
            "image/png": "[encoded data removed]"
          },
          "metadata": {
            "needs_background": "light"
          }
        }
      ]
    },
    {
      "cell_type": "code",
      "source": [
        "roc_auc_score(y_train_5, y_scores_forest)"
      ],
      "metadata": {
        "colab": {
          "base_uri": "https://localhost:8080/"
        },
        "id": "Nv1-0BW8wcTR",
        "outputId": "07f7cfaf-1301-414d-e42f-610f9f22eec9"
      },
      "execution_count": 38,
      "outputs": [
        {
          "output_type": "execute_result",
          "data": {
            "text/plain": [
              "0.9983436731328145"
            ]
          },
          "metadata": {},
          "execution_count": 38
        }
      ]
    },
    {
      "cell_type": "markdown",
      "source": [
        "### 3.4 다중 분류"
      ],
      "metadata": {
        "id": "-v5bTfL8wjSc"
      }
    },
    {
      "cell_type": "markdown",
      "source": [
        "다중 분류기는 둘 이상의 클래스를 구별할 수 있다.\n",
        "\n",
        "SGD, 랜덤포레스트, 나이브 베이즈 : 여러 개의 클래스를 직접 처리 가능\n",
        "\n",
        "로지스틱 회귀, 서포트 벡터 머신 분류기 : 이진 분류만 가능하지만 이진 분류기를 여러 개 사용해 다중 클래스를 분류하면 됨\n",
        "\n",
        "ex. 특정 숫자 하나만 구분하는 숫자별 이진 분류기 10개(0부터 9까지)를 훈련시켜 클래스가 10개인 숫자 이미지 분류 시스템을 만들 수 있다. 이미지를 분류할 때 각 분류기의 결정 점수 중에서 가장 높은 것을 클래스로 선택하는데, 이를 OvR(OvA)라고 한다.\n",
        "\n",
        "0과 1 구별, 0과 2 구별, 1과 2 구별처럼 각 숫자의 조합마다 이진 분류기를 훈련시키는 방법도 있는데, 이를 OvO라고 한다. 클래스가 N개이면 분류기는 NX(N-1)/2개가 필요하다. 이미지 하나를 분류하려면 모든 분류기를 통과시켜서 가장 많이 양성으로 분류된 클래스를 선택하면 된다. 각 분류기의 훈련에 전체 훈련 세트 중 구별할 두 클래스에 해당하는 샘플만 필요하다는 장점이 있다. 하지만 대부분 OvR을 선호한다."
      ],
      "metadata": {
        "id": "Da1cfRf0x55i"
      }
    },
    {
      "cell_type": "code",
      "source": [
        "from sklearn.svm import SVC\n",
        "svm_clf = SVC()\n",
        "svm_clf.fit(X_train, y_train)\n",
        "svm_clf.predict([some_digit])"
      ],
      "metadata": {
        "colab": {
          "base_uri": "https://localhost:8080/"
        },
        "id": "OzdDTmWazy5X",
        "outputId": "84621c9c-226a-462b-e11d-a2deab7d937a"
      },
      "execution_count": 39,
      "outputs": [
        {
          "output_type": "execute_result",
          "data": {
            "text/plain": [
              "array([5], dtype=uint8)"
            ]
          },
          "metadata": {},
          "execution_count": 39
        }
      ]
    },
    {
      "cell_type": "markdown",
      "source": [
        "다중 클래스 분류 작업에 이진 분류 알고리즘을 선택하면 사이킷런이 알고리즘에 따라 자동으로 OvR 또는 OvO를 실행한다. 이 코드는 5를 구별한 타깃 클래스 대신 0에서 9까지의 원래 타깃 클래스를 사용해 SVC를 훈련시킨다."
      ],
      "metadata": {
        "id": "xIFpkVYl0C-0"
      }
    },
    {
      "cell_type": "code",
      "source": [
        "some_digit_scores = svm_clf.decision_function([some_digit])\n",
        "some_digit_scores"
      ],
      "metadata": {
        "colab": {
          "base_uri": "https://localhost:8080/"
        },
        "id": "l1WOF-700Qf9",
        "outputId": "b0d0f38d-a947-466c-f427-44c918190962"
      },
      "execution_count": 40,
      "outputs": [
        {
          "output_type": "execute_result",
          "data": {
            "text/plain": [
              "array([[ 1.72501977,  2.72809088,  7.2510018 ,  8.3076379 , -0.31087254,\n",
              "         9.3132482 ,  1.70975103,  2.76765202,  6.23049537,  4.84771048]])"
            ]
          },
          "metadata": {},
          "execution_count": 40
        }
      ]
    },
    {
      "cell_type": "markdown",
      "source": [
        "위에서 설명한 이유로 인해 샘플당 10개의 점수를 반환한다. 이 점수는 클래스마다 하나씩이다. 가장 높은 점수가 클래스 5에 해당하는 값이다."
      ],
      "metadata": {
        "id": "xVdAJexs0XFA"
      }
    },
    {
      "cell_type": "code",
      "source": [
        "np.argmax(some_digit_scores)"
      ],
      "metadata": {
        "colab": {
          "base_uri": "https://localhost:8080/"
        },
        "id": "qGOCq8lv0gZr",
        "outputId": "7dd366d3-66d0-4a56-9908-d236bb976d3a"
      },
      "execution_count": 42,
      "outputs": [
        {
          "output_type": "execute_result",
          "data": {
            "text/plain": [
              "5"
            ]
          },
          "metadata": {},
          "execution_count": 42
        }
      ]
    },
    {
      "cell_type": "code",
      "source": [
        "svm_clf.classes_"
      ],
      "metadata": {
        "colab": {
          "base_uri": "https://localhost:8080/"
        },
        "id": "4Bfh82TQ0ipG",
        "outputId": "7d4fc8f9-8cd1-4712-e081-3e6a26e6a12a"
      },
      "execution_count": 43,
      "outputs": [
        {
          "output_type": "execute_result",
          "data": {
            "text/plain": [
              "array([0, 1, 2, 3, 4, 5, 6, 7, 8, 9], dtype=uint8)"
            ]
          },
          "metadata": {},
          "execution_count": 43
        }
      ]
    },
    {
      "cell_type": "code",
      "source": [
        "svm_clf.classes_[5]"
      ],
      "metadata": {
        "colab": {
          "base_uri": "https://localhost:8080/"
        },
        "id": "uBbXuxyd0ltg",
        "outputId": "200da69d-b907-4f60-cf0b-8780160d9529"
      },
      "execution_count": 44,
      "outputs": [
        {
          "output_type": "execute_result",
          "data": {
            "text/plain": [
              "5"
            ]
          },
          "metadata": {},
          "execution_count": 44
        }
      ]
    },
    {
      "cell_type": "markdown",
      "source": [
        "강제로 OvO나 OvR을 사용하려면 간단하게 이진 분류기 인스턴스를 만들어 객체를 생성할 때 전달하면 된다. 다음 코드는 SVC 기반 OvR 전략을 사용하는 다중 분류기를 만든다."
      ],
      "metadata": {
        "id": "NLEO7ho00_Pw"
      }
    },
    {
      "cell_type": "code",
      "source": [
        "from sklearn.multiclass import OneVsRestClassifier\n",
        "ovr_clf = OneVsRestClassifier(SVC())\n",
        "ovr_clf.fit(X_train, y_train)\n",
        "ovr_clf.predict([some_digit])"
      ],
      "metadata": {
        "colab": {
          "base_uri": "https://localhost:8080/"
        },
        "id": "pErJslPF0p5q",
        "outputId": "6f0b2cf9-5e39-41ec-d0b9-0c43a4ab99dc"
      },
      "execution_count": 46,
      "outputs": [
        {
          "output_type": "execute_result",
          "data": {
            "text/plain": [
              "array([5], dtype=uint8)"
            ]
          },
          "metadata": {},
          "execution_count": 46
        }
      ]
    },
    {
      "cell_type": "code",
      "source": [
        "len(ovr_clf.estimators_)"
      ],
      "metadata": {
        "colab": {
          "base_uri": "https://localhost:8080/"
        },
        "id": "Huq6zcJp067i",
        "outputId": "45dd106b-c946-4039-f757-221470b1f179"
      },
      "execution_count": 47,
      "outputs": [
        {
          "output_type": "execute_result",
          "data": {
            "text/plain": [
              "10"
            ]
          },
          "metadata": {},
          "execution_count": 47
        }
      ]
    },
    {
      "cell_type": "code",
      "source": [
        "sgd_clf.decision_function([some_digit])"
      ],
      "metadata": {
        "colab": {
          "base_uri": "https://localhost:8080/"
        },
        "id": "S_hwcusP1MRL",
        "outputId": "48e16057-e745-49a9-d0e8-9e4a095d8981"
      },
      "execution_count": 48,
      "outputs": [
        {
          "output_type": "execute_result",
          "data": {
            "text/plain": [
              "array([2164.22030239])"
            ]
          },
          "metadata": {},
          "execution_count": 48
        }
      ]
    },
    {
      "cell_type": "markdown",
      "source": [
        "분류기가 예측 결과에 강한 확신을 보임을 알 수 있다. 대부분의 점수가 큰 음수이고, 클래스 5의 점수는 이다."
      ],
      "metadata": {
        "id": "JsgSUBIW1QJM"
      }
    },
    {
      "cell_type": "code",
      "source": [
        "#분류기 정확도 평가\n",
        "cross_val_score(sgd_clf, X_train, y_train, cv=3, scoring=\"accuracy\")"
      ],
      "metadata": {
        "colab": {
          "base_uri": "https://localhost:8080/"
        },
        "id": "HPO4-kWO1Ya-",
        "outputId": "066f26a8-4ab3-4fa2-81a2-379059067c3d"
      },
      "execution_count": 49,
      "outputs": [
        {
          "output_type": "execute_result",
          "data": {
            "text/plain": [
              "array([0.87365, 0.85835, 0.8689 ])"
            ]
          },
          "metadata": {},
          "execution_count": 49
        }
      ]
    },
    {
      "cell_type": "code",
      "source": [
        "#정확도 높이기\n",
        "from sklearn.preprocessing import StandardScaler\n",
        "scaler = StandardScaler()\n",
        "X_train_scaled = scaler.fit_transform(X_train.astype(np.float64))\n",
        "cross_val_score(sgd_clf, X_train_scaled, y_train, cv=3, scoring='accuracy')"
      ],
      "metadata": {
        "colab": {
          "base_uri": "https://localhost:8080/"
        },
        "id": "N5c7-_qo1f2T",
        "outputId": "4efbb0f2-9403-49b9-e756-9fc3a21d7832"
      },
      "execution_count": 50,
      "outputs": [
        {
          "output_type": "execute_result",
          "data": {
            "text/plain": [
              "array([0.8983, 0.891 , 0.9018])"
            ]
          },
          "metadata": {},
          "execution_count": 50
        }
      ]
    },
    {
      "cell_type": "markdown",
      "source": [
        "### 3.5 에러 분석"
      ],
      "metadata": {
        "id": "zmCHIAqE1z5n"
      }
    },
    {
      "cell_type": "markdown",
      "source": [
        "가능성이 높은 모델을 하나 찾았다고 가정하고 만들어진 에러의 종류를 분석하여 이 모델의 성능을 향상시켜 보자."
      ],
      "metadata": {
        "id": "wRWUBg1714DZ"
      }
    },
    {
      "cell_type": "code",
      "source": [
        "#오차행렬 살펴보기\n",
        "y_train_pred = cross_val_predict(sgd_clf, X_train_scaled, y_train, cv=3)\n",
        "conf_mx = confusion_matrix(y_train, y_train_pred)\n",
        "conf_mx"
      ],
      "metadata": {
        "colab": {
          "base_uri": "https://localhost:8080/"
        },
        "id": "ZInt77jq2DLV",
        "outputId": "dc704735-40e9-4f3b-e050-5dfe3d99e8c2"
      },
      "execution_count": 51,
      "outputs": [
        {
          "output_type": "execute_result",
          "data": {
            "text/plain": [
              "array([[5577,    0,   22,    5,    8,   43,   36,    6,  225,    1],\n",
              "       [   0, 6400,   37,   24,    4,   44,    4,    7,  212,   10],\n",
              "       [  27,   27, 5220,   92,   73,   27,   67,   36,  378,   11],\n",
              "       [  22,   17,  117, 5227,    2,  203,   27,   40,  403,   73],\n",
              "       [  12,   14,   41,    9, 5182,   12,   34,   27,  347,  164],\n",
              "       [  27,   15,   30,  168,   53, 4444,   75,   14,  535,   60],\n",
              "       [  30,   15,   42,    3,   44,   97, 5552,    3,  131,    1],\n",
              "       [  21,   10,   51,   30,   49,   12,    3, 5684,  195,  210],\n",
              "       [  17,   63,   48,   86,    3,  126,   25,   10, 5429,   44],\n",
              "       [  25,   18,   30,   64,  118,   36,    1,  179,  371, 5107]])"
            ]
          },
          "metadata": {},
          "execution_count": 51
        }
      ]
    },
    {
      "cell_type": "code",
      "source": [
        "#보기 편하게 이미지로\n",
        "plt.matshow(conf_mx, cmap=plt.cm.gray)\n",
        "plt.show()"
      ],
      "metadata": {
        "colab": {
          "base_uri": "https://localhost:8080/",
          "height": 275
        },
        "id": "BvBOtMrt2Pnd",
        "outputId": "41d8c9b8-ef56-407d-91cf-ee7e88b2332a"
      },
      "execution_count": 52,
      "outputs": [
        {
          "output_type": "display_data",
          "data": {
            "text/plain": [
              "<Figure size 288x288 with 1 Axes>"
            ],
            "image/png": "[encoded data removed]"
          },
          "metadata": {
            "needs_background": "light"
          }
        }
      ]
    },
    {
      "cell_type": "markdown",
      "source": [
        "대부분의 이미지가 올바르게 분류되었음을 나타내는 주대각선에 있다. 숫자 5는 다른 것보다 더 어두운데, 이는 데이터셋에 숫자 5의 이미지가 적거나 분류기가 숫자 5를 다른 숫자만큼 잘 분류하지 못한다는 뜻이다. 두 경우 모두 확인해 봐야 한다."
      ],
      "metadata": {
        "id": "IEmRfQNM2WNg"
      }
    },
    {
      "cell_type": "code",
      "source": [
        "#오차 행렬을 각 값을 대응되는 클래스의 이미지 개수로 나누어 에러 비율 비교\n",
        "\n",
        "row_sums = conf_mx.sum(axis=1,keepdims=True)\n",
        "norm_conf_mx = conf_mx / row_sums"
      ],
      "metadata": {
        "id": "tmYUoLC02h-N"
      },
      "execution_count": 53,
      "outputs": []
    },
    {
      "cell_type": "code",
      "source": [
        "#주대각선만 0으로 채워서 그래프 그리기\n",
        "\n",
        "np.fill_diagonal(norm_conf_mx, 0)\n",
        "plt.matshow(norm_conf_mx, cmap=plt.cm.gray)\n",
        "plt.show()"
      ],
      "metadata": {
        "colab": {
          "base_uri": "https://localhost:8080/",
          "height": 275
        },
        "id": "uYqBbWN221iB",
        "outputId": "c73f3cc7-a6d5-46a4-8fd9-e80c8405d8e0"
      },
      "execution_count": 54,
      "outputs": [
        {
          "output_type": "display_data",
          "data": {
            "text/plain": [
              "<Figure size 288x288 with 1 Axes>"
            ],
            "image/png": "[encoded data removed]"
          },
          "metadata": {
            "needs_background": "light"
          }
        }
      ]
    },
    {
      "cell_type": "markdown",
      "source": [
        "분류기가 만든 에러를 확실히 볼 수 있다. 행은 실제 클래스, 열은 예측한 클래스를 나타낸다. 클래스 8의 열이 상당히 밝으므로 많은 이미지가 8로 잘못 분류된 것이다. 하지만 클래스 8의 행은 나쁘지 않다. 이는 실제 8이 적절히 8로 분류되었다는 것이다. 오차 행렬은 반드시 대칭이 아니다. 또한 3과 5가 많이 혼동되고 있는 것도 볼 수 있다.\n",
        "\n",
        "이를 개선하기 위해 8처럼 보이지만 실제 8은 아닌 숫자의 훈련 데이터를 더 모아서 실제 8과 구분하도록 분류기를 학습시킬 수 있다."
      ],
      "metadata": {
        "id": "X9jFklb53Arl"
      }
    },
    {
      "cell_type": "code",
      "source": [
        "# 숫자 그림을 위한 추가 함수\n",
        "def plot_digits(instances, images_per_row=10, **options):\n",
        "    size = 28\n",
        "    images_per_row = min(len(instances), images_per_row)\n",
        "    # n_rows = ceil(len(instances) / images_per_row) 와 동일합니다:\n",
        "    n_rows = (len(instances) - 1) // images_per_row + 1\n",
        "\n",
        "    # 필요하면 그리드 끝을 채우기 위해 빈 이미지를 추가합니다:\n",
        "    n_empty = n_rows * images_per_row - len(instances)\n",
        "    padded_instances = np.concatenate([instances, np.zeros((n_empty, size * size))], axis=0)\n",
        "\n",
        "    # 배열의 크기를 바꾸어 28×28 이미지를 담은 그리드로 구성합니다:\n",
        "    image_grid = padded_instances.reshape((n_rows, images_per_row, size, size))\n",
        "\n",
        "    # 축 0(이미지 그리드의 수직축)과 2(이미지의 수직축)를 합치고 축 1과 3(두 수평축)을 합칩니다. \n",
        "    # 먼저 transpose()를 사용해 결합하려는 축을 옆으로 이동한 다음 합칩니다:\n",
        "    big_image = image_grid.transpose(0, 2, 1, 3).reshape(n_rows * size,\n",
        "                                                         images_per_row * size)\n",
        "    # 하나의 큰 이미지를 얻었으므로 출력하면 됩니다:\n",
        "    plt.imshow(big_image, cmap = mpl.cm.binary, **options)\n",
        "    plt.axis(\"off\")"
      ],
      "metadata": {
        "id": "gW8RDmywG8it"
      },
      "execution_count": 56,
      "outputs": []
    },
    {
      "cell_type": "code",
      "source": [
        "#개별 에러를 분석 - 3과 5의 샘플 그리기\n",
        "\n",
        "cl_a, cl_b = 3, 5\n",
        "X_aa = X_train[(y_train == cl_a) & (y_train_pred == cl_a)]\n",
        "X_ab = X_train[(y_train == cl_a) & (y_train_pred == cl_b)]\n",
        "X_ba = X_train[(y_train == cl_b) & (y_train_pred == cl_a)]\n",
        "X_bb = X_train[(y_train == cl_b) & (y_train_pred == cl_b)]\n",
        "\n",
        "plt.figure(figsize=(8,8))\n",
        "plt.subplot(221); plot_digits(X_aa[:25], images_per_row=5)\n",
        "plt.subplot(222); plot_digits(X_ab[:25], images_per_row=5)\n",
        "plt.subplot(223); plot_digits(X_ba[:25], images_per_row=5)\n",
        "plt.subplot(224); plot_digits(X_bb[:25], images_per_row=5)"
      ],
      "metadata": {
        "colab": {
          "base_uri": "https://localhost:8080/",
          "height": 466
        },
        "id": "md40vgVd3lBn",
        "outputId": "0588c041-7460-410d-c13e-cbdad62f1a81"
      },
      "execution_count": 57,
      "outputs": [
        {
          "output_type": "display_data",
          "data": {
            "text/plain": [
              "<Figure size 576x576 with 4 Axes>"
            ],
            "image/png": "[encoded data removed]"
          },
          "metadata": {
            "needs_background": "light"
          }
        }
      ]
    },
    {
      "cell_type": "markdown",
      "source": [
        "왼쪽의 5X5 블록 2개 : 3으로 분류된 이미지\n",
        "오른쪽 블록 2개 : 5로 분류된 이미지\n",
        "\n",
        "선형 모델인 SGDClassifier를 사용해서 오류가 발생한 것이다. 선형 분류기는 클래스마다 픽셀에 가중치를 할당하고 새로운 이미지에 대해 단순히 픽셀 강도의 가중치 합을 클래스의 점수로 계산하므로, 3과 5는 몇 개의 픽셀만 달라서 모델이 쉽게 혼동할 수 있다."
      ],
      "metadata": {
        "id": "vQ92oRBL4G08"
      }
    },
    {
      "cell_type": "markdown",
      "source": [
        "### 3.6 다중 레이블 분류"
      ],
      "metadata": {
        "id": "qomh8i2V4iQW"
      }
    },
    {
      "cell_type": "markdown",
      "source": [
        "지금까지는 각 샘플이 하나의 클래스에만 할당되었다. 하지만 분류기가 샘플마다 여러 개의 클래스를 출력해야 할 때도 있다. 예를 들어 같은 사진에 여러 사람이 등장하면 인식된 사람마다 하나씩 꼬리표를 붙여야 한다. 여러 개의 이진 꼬리표를 출력하는 분류 시스템을 다중 레이블 분류라고 한다."
      ],
      "metadata": {
        "id": "oxXLjFP74kvW"
      }
    },
    {
      "cell_type": "code",
      "source": [
        "from sklearn.neighbors import KNeighborsClassifier\n",
        "\n",
        "y_train_large = (y_train >= 7)\n",
        "y_train_odd = (y_train % 2 == 1)\n",
        "y_multilabel = np.c_[y_train_large, y_train_odd]\n",
        "\n",
        "knn_clf = KNeighborsClassifier()\n",
        "knn_clf.fit(X_train, y_multilabel)"
      ],
      "metadata": {
        "colab": {
          "base_uri": "https://localhost:8080/"
        },
        "id": "zvRWGIvd41zf",
        "outputId": "a9aa3b37-3ad9-49a3-a8f0-6e2b496e716f"
      },
      "execution_count": 58,
      "outputs": [
        {
          "output_type": "execute_result",
          "data": {
            "text/plain": [
              "KNeighborsClassifier()"
            ]
          },
          "metadata": {},
          "execution_count": 58
        }
      ]
    },
    {
      "cell_type": "markdown",
      "source": [
        "각 숫자 이미지에 두 개의 타깃 레이블이 담긴 y_multilabel 배열을 만들었다. 첫 번째는 숫자가 큰 값인지 나타내고, 두 번째는 홀수인지 나타낸다. 그다음 줄이 KNeighborsClassifier 인스턴스를 만들고 다중 타깃 배열을 사용하여 훈련시킨다."
      ],
      "metadata": {
        "id": "2UJM7DX45TPs"
      }
    },
    {
      "cell_type": "code",
      "source": [
        "knn_clf.predict([some_digit]) #예측을 만들면 레이블 2개 출력"
      ],
      "metadata": {
        "colab": {
          "base_uri": "https://localhost:8080/"
        },
        "id": "PlkHorem5gH2",
        "outputId": "7424bb6f-e96b-44aa-e0eb-5bec4ea523a8"
      },
      "execution_count": 59,
      "outputs": [
        {
          "output_type": "execute_result",
          "data": {
            "text/plain": [
              "array([[False,  True]])"
            ]
          },
          "metadata": {},
          "execution_count": 59
        }
      ]
    },
    {
      "cell_type": "markdown",
      "source": [
        "숫자 5는 7보다 작고 홀수이므로 바르게 분류되었다."
      ],
      "metadata": {
        "id": "6LBOUuk_5lne"
      }
    },
    {
      "cell_type": "code",
      "source": [
        "#평가\n",
        "y_train_knn_pred = cross_val_predict(knn_clf, X_train, y_multilabel, cv=3)\n",
        "f1_score(y_multilabel, y_train_knn_pred, average='macro')"
      ],
      "metadata": {
        "colab": {
          "base_uri": "https://localhost:8080/"
        },
        "id": "sMnd96Gx5qLW",
        "outputId": "6a60e6c9-39f9-4496-e18c-d0e18a4fe766"
      },
      "execution_count": 61,
      "outputs": [
        {
          "output_type": "execute_result",
          "data": {
            "text/plain": [
              "0.976410265560605"
            ]
          },
          "metadata": {},
          "execution_count": 61
        }
      ]
    },
    {
      "cell_type": "markdown",
      "source": [
        "### 3.7 다중 출력 분류"
      ],
      "metadata": {
        "id": "g84AXOje52DG"
      }
    },
    {
      "cell_type": "markdown",
      "source": [
        "다중 레이블 분류에서 한 레이블이 다중 클래스가 될 수 있도록 일반화한 것이다. 즉 값을 2개 이상 가질 수 있다.\n",
        "\n",
        "이미지에서 잡음을 제거하는 시스템을 만들어 보자. 잡음이 많은 숫자 이미지를 입력으로 받고 깨끗한 숫자 이미지를 MNIST 이미지처럼 픽셀의 강도를 담은 배열로 출력한다. 분류기의 출력이 다중 레이블(픽셀당 한 레이블)이고 각 레이블은 값을 여러 개 가진다.(0부터 255까지)"
      ],
      "metadata": {
        "id": "Lw0Kjkph56y7"
      }
    },
    {
      "cell_type": "code",
      "source": [
        "noise = np.random.randint(0, 100, (len(X_train), 784))\n",
        "X_train_mod = X_train + noise\n",
        "noise = np.random.randint(0, 100, (len(X_test), 784))\n",
        "X_test_mod = X_test + noise\n",
        "y_train_mod = X_train\n",
        "y_test_mod = X_test"
      ],
      "metadata": {
        "id": "qLOkNV_56Sv-"
      },
      "execution_count": 62,
      "outputs": []
    },
    {
      "cell_type": "code",
      "source": [
        "# 그림 그리는 기능을 함수로 만들어두자.\n",
        "def plot_digit(data):\n",
        "    image = data.reshape(28, 28)\n",
        "    plt.imshow(image, cmap = mpl.cm.binary,\n",
        "               interpolation=\"nearest\")\n",
        "    plt.axis(\"off\")"
      ],
      "metadata": {
        "id": "3LfvJbPzHLZa"
      },
      "execution_count": 63,
      "outputs": []
    },
    {
      "cell_type": "code",
      "source": [
        "some_index = 0\n",
        "plt.subplot(121); plot_digit(X_test_mod[some_index])\n",
        "plt.subplot(122); plot_digit(y_test_mod[some_index])\n",
        "plt.show()"
      ],
      "metadata": {
        "colab": {
          "base_uri": "https://localhost:8080/",
          "height": 183
        },
        "id": "U2c4Lxq9Igl5",
        "outputId": "ec9abc49-c322-49d4-cedb-c736eed41c3a"
      },
      "execution_count": 66,
      "outputs": [
        {
          "output_type": "display_data",
          "data": {
            "text/plain": [
              "<Figure size 432x288 with 2 Axes>"
            ],
            "image/png": "[encoded data removed]"
          },
          "metadata": {
            "needs_background": "light"
          }
        }
      ]
    },
    {
      "cell_type": "code",
      "source": [
        "some_index = 0\n",
        "knn_clf.fit(X_train_mod, y_train_mod)\n",
        "clean_digit = knn_clf.predict([X_test_mod[some_index]])\n",
        "plot_digit(clean_digit)"
      ],
      "metadata": {
        "colab": {
          "base_uri": "https://localhost:8080/",
          "height": 248
        },
        "id": "gDB1LHSe6jx3",
        "outputId": "da8615e9-73c9-4ad6-fcae-aeacf0d2b86f"
      },
      "execution_count": 64,
      "outputs": [
        {
          "output_type": "display_data",
          "data": {
            "text/plain": [
              "<Figure size 432x288 with 1 Axes>"
            ],
            "image/png": "[encoded data removed]"
          },
          "metadata": {
            "needs_background": "light"
          }
        }
      ]
    }
  ]
}