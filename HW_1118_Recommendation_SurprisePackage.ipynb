{
  "nbformat": 4,
  "nbformat_minor": 0,
  "metadata": {
    "colab": {
      "provenance": [],
      "authorship_tag": "ABX9TyNP/L1dXXGU51uk+FFn5B3b",
      "include_colab_link": true
    },
    "kernelspec": {
      "name": "python3",
      "display_name": "Python 3"
    },
    "language_info": {
      "name": "python"
    }
  },
  "cells": [
    {
      "cell_type": "markdown",
      "metadata": {
        "id": "view-in-github",
        "colab_type": "text"
      },
      "source": [
        "<a href=\"https://colab.research.google.com/github/pinkdolphin11/ESAA/blob/main/HW_1118_Recommendation_SurprisePackage.ipynb\" target=\"_parent\"><img src=\"https://colab.research.google.com/assets/colab-badge.svg\" alt=\"Open In Colab\"/></a>"
      ]
    },
    {
      "cell_type": "markdown",
      "source": [
        "## 08. 파이썬 추천 시스템 패키지 - Surprise"
      ],
      "metadata": {
        "id": "yuYp3f9VNd48"
      }
    },
    {
      "cell_type": "markdown",
      "source": [
        "### Surprise 패키지 소개"
      ],
      "metadata": {
        "id": "MlGXEx4SNh2P"
      }
    },
    {
      "cell_type": "code",
      "execution_count": null,
      "metadata": {
        "colab": {
          "base_uri": "https://localhost:8080/"
        },
        "id": "iBKOfkbPNTaX",
        "outputId": "25e8fd69-750a-480f-f500-f3aea8c9f3bb"
      },
      "outputs": [
        {
          "output_type": "stream",
          "name": "stdout",
          "text": [
            "Looking in indexes: https://pypi.org/simple, https://us-python.pkg.dev/colab-wheels/public/simple/\n",
            "Requirement already satisfied: scikit-surprise in /usr/local/lib/python3.7/dist-packages (1.1.1)\n",
            "Requirement already satisfied: numpy>=1.11.2 in /usr/local/lib/python3.7/dist-packages (from scikit-surprise) (1.21.6)\n",
            "Requirement already satisfied: scipy>=1.0.0 in /usr/local/lib/python3.7/dist-packages (from scikit-surprise) (1.7.3)\n",
            "Requirement already satisfied: six>=1.10.0 in /usr/local/lib/python3.7/dist-packages (from scikit-surprise) (1.15.0)\n",
            "Requirement already satisfied: joblib>=0.11 in /usr/local/lib/python3.7/dist-packages (from scikit-surprise) (1.2.0)\n"
          ]
        }
      ],
      "source": [
        "!pip install scikit-surprise"
      ]
    },
    {
      "cell_type": "markdown",
      "source": [
        "* 다양한 추천 알고리즘(ex. 사용자/아이템 기반 최근접 이웃 협업 필터링, SVD/SVD++/NMF 기반 잠재 요인 협업 필터링 등)을 쉽게 적용해 추천 시스템 구축 가능\n",
        "\n",
        "* 사이킷런의 핵심 API와 유사한 API를 가짐"
      ],
      "metadata": {
        "id": "xx-P0CQdNto9"
      }
    },
    {
      "cell_type": "markdown",
      "source": [
        "### Suprise를 이용한 추천 시스템 구축"
      ],
      "metadata": {
        "id": "4nenIo5-N_Xx"
      }
    },
    {
      "cell_type": "markdown",
      "source": [
        "추천 데이터를 학습용/테스트용으로 분리 후 SVD 행렬 분해를 통한 잠재 요인 협업 필터링 수행하기"
      ],
      "metadata": {
        "id": "ZcO-tGF0OMNR"
      }
    },
    {
      "cell_type": "code",
      "source": [
        "from google.colab import drive\n",
        "drive.mount('/content/drive')"
      ],
      "metadata": {
        "id": "Xe5B3cIZPaK3",
        "colab": {
          "base_uri": "https://localhost:8080/"
        },
        "outputId": "ca5adf4c-839e-4275-b5b9-de451041f316"
      },
      "execution_count": null,
      "outputs": [
        {
          "output_type": "stream",
          "name": "stdout",
          "text": [
            "Mounted at /content/drive\n"
          ]
        }
      ]
    },
    {
      "cell_type": "code",
      "source": [
        "from surprise import SVD\n",
        "from surprise import Dataset\n",
        "from surprise import accuracy\n",
        "from surprise.model_selection import train_test_split"
      ],
      "metadata": {
        "id": "7K-sx7epOCQ6"
      },
      "execution_count": null,
      "outputs": []
    },
    {
      "cell_type": "code",
      "source": [
        "data = Dataset.load_builtin('ml-100k')\n",
        "\n",
        "# 수행 시마다 동일하게 데이터를 분할하기 위해 random_state 지정\n",
        "trainset, testset = train_test_split(data, test_size=.25, random_state=0)"
      ],
      "metadata": {
        "id": "GjHM8vIzlajm"
      },
      "execution_count": null,
      "outputs": []
    },
    {
      "cell_type": "code",
      "source": [
        "algo = SVD() # 알고리즘 객체 생성\n",
        "algo.fit(trainset)"
      ],
      "metadata": {
        "id": "WHemO32caYjd"
      },
      "execution_count": null,
      "outputs": []
    },
    {
      "cell_type": "code",
      "source": [
        "predictions = algo.test(testset)\n",
        "print('prediction type :',type(predictions),' size :',len(predictions))\n",
        "print('prediction 결과의 최초 5개 추출')\n",
        "predictions[:5]"
      ],
      "metadata": {
        "id": "TTA9fA96aeGO"
      },
      "execution_count": null,
      "outputs": []
    },
    {
      "cell_type": "code",
      "source": [
        "# 3개의 Prediction 객체에서 uid, iid, est 속성 추출\n",
        "[(pred.uid, pred.iid, pred.est) for pred in predictions[:3]]"
      ],
      "metadata": {
        "id": "VDsNvbhLax4W"
      },
      "execution_count": null,
      "outputs": []
    },
    {
      "cell_type": "code",
      "source": [
        "# predict 메서드를 이용한 추천 예측\n",
        "uid = str(196)\n",
        "iid = str(302)\n",
        "pred = algo.predict(uid, iid)\n",
        "print(pred)"
      ],
      "metadata": {
        "id": "NR39LRDJa6W1"
      },
      "execution_count": null,
      "outputs": []
    },
    {
      "cell_type": "markdown",
      "source": [
        "* predict() : 개별 사용자와 아이템 정보를 입력하면 추천 예측 평점을 est로 반환\n",
        "\n",
        "* test() : 입력 데이터 세트의 모든 사용자와 아이템 아이디에 대해서 predict()를 반복적으로 수행한 결과"
      ],
      "metadata": {
        "id": "tANAcSGFbGFN"
      }
    },
    {
      "cell_type": "code",
      "source": [
        "accuracy.rmse(predictions)"
      ],
      "metadata": {
        "id": "gWyuJkh-bUAD"
      },
      "execution_count": null,
      "outputs": []
    },
    {
      "cell_type": "markdown",
      "source": [
        "### Suprise 주요 모듈 소개"
      ],
      "metadata": {
        "id": "DzOc2R8cbW1t"
      }
    },
    {
      "cell_type": "markdown",
      "source": [
        "* Dataset\n",
        "  \n",
        "  * 사용자 아이디, 아이템 아이디, 평점 데이터가 로우 레벨로 된 데이터 세트만 적용 가능, 이들을 각각 1 ~ 3번째 칼럼으로 가정해 데이터를 로딩하고 4번째 칼럼부터는 로딩을 수행하지 않음(데이터 칼럼 순서가 맞아야 함)\n",
        "\n",
        "  * load_builtin : 내려받은 데이터(ml-100k/ml-1m)는 .surprise_data 디렉터리 밑에 저장됨\n",
        "\n",
        "  * load_from_file : OS 파일에서 데이터 로딩\n",
        "\n",
        "  * load_from_df : pandas dataframe에서 데이터 로딩"
      ],
      "metadata": {
        "id": "l-D2bFOpbcQl"
      }
    },
    {
      "cell_type": "code",
      "source": [
        "# OS 파일 데이터를 Surprise 데이터 세트로 로딩\n",
        "import pandas as pd\n",
        "ratings = pd.read_csv('./ml-latest-small/ratings.csv')\n",
        "\n",
        "# ratings_noh.csv 파일로 언로드 시 인덱스와 헤더를 모두 제거한 새로운 파일 생성\n",
        "ratings.to_csv('./ml-latest-small/ratings_noh.csv', index=False, header=False)"
      ],
      "metadata": {
        "id": "_Ja5W_yYcNEr"
      },
      "execution_count": null,
      "outputs": []
    },
    {
      "cell_type": "code",
      "source": [
        "from surprise import Reader\n",
        "\n",
        "reader = Reader(line_format='user item rating timestamp',sep=',',rating_scale=(0.5,5))\n",
        "data = Dataset.load_from_file('./ml-latest-small/ratings_noh.csv',reader=reader)"
      ],
      "metadata": {
        "id": "EBarMBDHcmgV"
      },
      "execution_count": null,
      "outputs": []
    },
    {
      "cell_type": "markdown",
      "source": [
        "* Reader 클래스의 주요 파라미터\n",
        "\n",
        "  * line_format(string) : 칼럼을 순서대로 나열(입력된 문자열을 공백으로 분리해 칼럼으로 인식)\n",
        "\n",
        "  * sep(char) : 칼럼을 분리하는 분리자(default : \\t)\n",
        "\n",
        "  * rating_scale (tuple, optional) : 평점 값의 최소 ~ 최대 평점을 설정"
      ],
      "metadata": {
        "id": "XZv7tnF_dF-a"
      }
    },
    {
      "cell_type": "code",
      "source": [
        "# SVD 행렬 분해로 추천 예측\n",
        "\n",
        "trainset, testset = train_test_split(data, test_size=.25, random_state=0)\n",
        "\n",
        "algo = SVD(n_factors=50, random_state=0)\n",
        "\n",
        "# 학습 데이터 세트로 학습하고 나서 테스트 데이터 세트로 평점 예측 후 RMSE 평가\n",
        "algo.fit(trainset)\n",
        "predictions = algo.test(testset)\n",
        "accuracy.rmse(predictions)"
      ],
      "metadata": {
        "id": "ULFzE1UwdYbe"
      },
      "execution_count": null,
      "outputs": []
    },
    {
      "cell_type": "code",
      "source": [
        "# Pandas DataFrame에서 Suprise 데이터 세트로 로딩\n",
        "\n",
        "import pandas as pd\n",
        "from surprise import Reader, Dataset\n",
        "\n",
        "ratings = pd.read_csv('./ml-latest-small/ratings.csv')\n",
        "reader = Reader(rating_scale=(0.5,5.0))\n",
        "\n",
        "# ratings DataFrame에서 칼럼은 사용자 아이디, 아이템 아이디, 평점의 순서\n",
        "data = Dataset.load_from_df(ratings[['userId','movieId','rating']],reader)\n",
        "trainset, testset = train_test_split(data, test_size=.25, random_state=0)\n",
        "\n",
        "algo = SVD(n_factors=50, random_state=0)\n",
        "algo.fit(trainset)\n",
        "predictions = algo.test(testset)\n",
        "accuracy.rmse(predictions)"
      ],
      "metadata": {
        "id": "N5Wd3DtyeGg0"
      },
      "execution_count": null,
      "outputs": []
    },
    {
      "cell_type": "markdown",
      "source": [
        "### Suprise 추천 알고리즘 클래스"
      ],
      "metadata": {
        "id": "J3EN5z8Ueq2R"
      }
    },
    {
      "cell_type": "markdown",
      "source": [
        "* SVD : 행렬 분해를 통한 잠재 요인 협업 필터링을 위한 SVD 알고리즘\n",
        "\n",
        "* KNNBasic : 최근접 이웃 협업 필터링을 위한 KNN 알고리즘\n",
        "\n",
        "* BaselineOnly : 사용자 Bias와 아이템 Bias를 감안한 SGD 베이스라인 알고리즘\n",
        "\n",
        "* 비용함수 : 사용자 베이스라인 편향성을 감안한 평점 예측에 Regularization을 적용\n",
        "\n",
        "* SVD 클래스 입력 파라미터\n",
        "\n",
        "  * n_factors : 잠재 요인 K의 개수(커질수록 정확도와 과적합 가능성이 높아짐)\n",
        "\n",
        "  * n_epochs : SGD 수행 시 반복 횟수\n",
        "\n",
        "  * based : 베이스라인 사용자 편향 적용 여부\n"
      ],
      "metadata": {
        "id": "tCcKNLMBesn7"
      }
    },
    {
      "cell_type": "markdown",
      "source": [
        "### 베이스라인 평점"
      ],
      "metadata": {
        "id": "brrNtxC9gTg0"
      }
    },
    {
      "cell_type": "markdown",
      "source": [
        "* 개인의 성향을 반ㅇ영해 아이템 평가에 편향성 요소를 반영하여 평점을 부과하는 것\n",
        "\n",
        "* 전체 평균 평점(모든 사용자의 아이템에 대한 평점을 평균한 값) + 사용자 편향 점수(사용자별 아이템 평점 평균 값 - 전체 평균 평점) + 아이템 편향 점수(아이템별 평점 평균 값 - 전체 평균 평점)"
      ],
      "metadata": {
        "id": "dUJtRTI3gVU0"
      }
    },
    {
      "cell_type": "markdown",
      "source": [
        "### 교차 검증과 하이퍼 파라미터 튜닝"
      ],
      "metadata": {
        "id": "ltuYCVYmgm9b"
      }
    },
    {
      "cell_type": "code",
      "source": [
        "from surprise.model_selection import cross_validate\n",
        "\n",
        "# 판다스 DataFrame에서 Surprise 데이터 세트로 데이터 로딩\n",
        "ratings = pd.read_csv('./ml-latest-small/ratings.csv') # reading data in pandas df\n",
        "reader = Reader(rating_scale = (0.5, 5.0))\n",
        "data = Dataset.load_from_df(ratings[['userId','movieId','rating']],reader)\n",
        "\n",
        "algo = SVD(random_state=0)\n",
        "cross_validate(algo,data,measures=['RMSE','MAE'],cv=5,verbose=False)"
      ],
      "metadata": {
        "id": "jPBfLDSFImPi"
      },
      "execution_count": null,
      "outputs": []
    },
    {
      "cell_type": "markdown",
      "source": [
        "폴드별 성능 평가 수치와 전체 폴드의 평균 성능 평가 수치를 함께 보여줌"
      ],
      "metadata": {
        "id": "xhDueQ9ZhFXJ"
      }
    },
    {
      "cell_type": "code",
      "source": [
        "from surprise.model_selection import GridSearchCV\n",
        "\n",
        "# 최적화할 파라미터를 딕셔너리 형태로 지정\n",
        "param_grid = {'n_epochs':[20,40,60], 'n_factors':[50,100,200]}\n",
        "\n",
        "# CV를 3개 폴드 세트로 지정, 성능 평가는 rmse, mse로 수행하도록 GridSearchCV 구성\n",
        "gs = GridSearchCV(SVD, param_grid, measures = ['rmse','mse'],cv=3)\n",
        "gs.fit(data)\n",
        "\n",
        "# 최고 RMSE Evaluation 점수와 그때의 하이퍼 파라미터\n",
        "print(gs.best_score['rmse'])\n",
        "print(gs.best_params['rmse'])"
      ],
      "metadata": {
        "id": "77euv7lPhJPL"
      },
      "execution_count": null,
      "outputs": []
    },
    {
      "cell_type": "markdown",
      "source": [
        "### Surprise를 이용한 개인화 영화 추천 시스템 구축"
      ],
      "metadata": {
        "id": "ROLeZdsLhj3J"
      }
    },
    {
      "cell_type": "code",
      "source": [
        "from surprise.dataset import DatasetAutoFolds\n",
        "\n",
        "reader = Reader(line_format='user item rating timestamp',sep=',',rating_scale=(0.5,5))\n",
        "# DatasetAutoFolds 클래스를 ratings_noh.csv 파일 기반으로 생성\n",
        "data_folds = DatasetAutoFolds(ratings_file='./ml-latest-small/ratingws_noh.csv',reader=reader)\n",
        "\n",
        "# 전체 데이터를 학습 데이터로 생성\n",
        "trainset = data_folds.build_full_trainset()"
      ],
      "metadata": {
        "id": "9ukV5eIOhpH8"
      },
      "execution_count": null,
      "outputs": []
    },
    {
      "cell_type": "code",
      "source": [
        "algo = SVD(n_epochs=20, n_factors=50, random_state=0)\n",
        "algo.fit(trainset)"
      ],
      "metadata": {
        "id": "OaHQocdDiHeB"
      },
      "execution_count": null,
      "outputs": []
    },
    {
      "cell_type": "code",
      "source": [
        "# 영화에 대한 상세 속성 정보 DataFrame 로딩\n",
        "movies = pd.read_csv('./ml-latest-small/movies.csv')\n",
        "\n",
        "# userId = 9의 movieId 데이터를 추출해 movieId = 42 데이터가 있는지 확인\n",
        "movieIds = ratings[ratings['userId']==9]['movieId']\n",
        "if movieIds[movieIds==42].count() == 0:\n",
        "  print('사용자 아이디 9는 영화 아이디 42의 평점 없음')\n",
        "\n",
        "print(movies[movies['movieId']==42])"
      ],
      "metadata": {
        "id": "PmHJIN1YiNbf"
      },
      "execution_count": null,
      "outputs": []
    },
    {
      "cell_type": "code",
      "source": [
        "uid = str(9)\n",
        "iid = str(42)\n",
        "\n",
        "pred = algo.predict(uid,iid,verbose=True)"
      ],
      "metadata": {
        "id": "uBXuKTgzip3d"
      },
      "execution_count": null,
      "outputs": []
    },
    {
      "cell_type": "code",
      "source": [
        "def get_unseen_surprise(ratings, movies, userId):\n",
        "  # 입력값으로 들어온 userId에 해당하는 사용자가 평점을 매긴 모든 영화를 리스트로 생성\n",
        "  seen_movies = ratings[ratings['userId']==userId['movieId'].tolist()]\n",
        "  # 모든 영화의 movieId를 리스트로 생성\n",
        "  total_movies = movies['movieId'].tolist()\n",
        "  # 모든 영화의 movieId 중 이미 평점을 매긴 영화의 movieId를 제외한 후 리스트로 생성\n",
        "  unseen_movies = [movie for movie in total_movies if movie not in seen_movies]\n",
        "  print('평점 매긴 영화 수 : ',len(seen_movies),'추천 대상 영화 수 : ',len(unseen_movies),'전체 영화 수 : ',len(total_movies))\n",
        "  return unseen_movies\n",
        "\n",
        "unseen_movies = get_unseen_surprise(ratings,movies,9)"
      ],
      "metadata": {
        "id": "Qia2rIxyiwNc"
      },
      "execution_count": null,
      "outputs": []
    },
    {
      "cell_type": "code",
      "source": [
        "# prediction 객체를 예측 평점이 높은 순으로 다시 정렬한 뒤 top n개의 객체에서 영화 아이디, 제목, 예측 평점 정보 반환하는 함수 생성\n",
        "\n",
        "def recomm_movie_by_surprise(algo,userId,unseen_movies,top_n=10):\n",
        "\n",
        "  # 알고리즘 객체의 predict() 메서드를 평점이 없는 영화에 반복 수행한 후 결과를 list 객체로 저장\n",
        "  predictions = [algo.predict(str(userId),str(movieId)) for movieId in unseen_movies]\n",
        "\n",
        "  # predictions list 객체는 surprise의 Predictions 객체를 원소로 가짐\n",
        "  # 이를 est 값으로 정렬하기 위해 아래 함수 정의\n",
        "  def sortkey_est(pred):\n",
        "    return pred.est\n",
        "  \n",
        "  predictions.sort(key=sortkey_est,reverse=True)\n",
        "  top_predictions = predictions[:top_n]\n",
        "\n",
        "  # top_n으로 추출된 영화의 정보 추출, 영화 아이디, 추천 예상 평점, 제목 추출\n",
        "  top_movie_ids = [int(pred.iid) for pred in top_predictions]\n",
        "  top_movie_rating = [pred.est for pred in top_predictions]\n",
        "  top_movie_titles = movies[movies.movieId.isin(top_movie_ids)['title']]\n",
        "\n",
        "  top_movie_preds = [(id,title,rating) for id, title, rating in \\\n",
        "                     zip(top_movie_ids, top_movie_titles, top_movie_rating)]\n",
        "  return top_movie_preds\n",
        "\n",
        "unseen_movies = get_unseen_surprise(ratings,movies,9)\n",
        "top_movie_preds = recomm_movie_by_surprise(algo,9,unseen_movies,top_n=10)\n",
        "\n",
        "print('##### Top-10 추천 영화 리스트 #####')\n",
        "for top_movie in top_movie_preds:\n",
        "  print(top_movie[1],':',top_movie[2])"
      ],
      "metadata": {
        "id": "WIKwH0xAjgsm"
      },
      "execution_count": null,
      "outputs": []
    }
  ]
}