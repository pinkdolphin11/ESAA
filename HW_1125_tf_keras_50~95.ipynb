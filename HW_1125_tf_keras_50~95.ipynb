{
  "nbformat": 4,
  "nbformat_minor": 0,
  "metadata": {
    "colab": {
      "provenance": [],
      "authorship_tag": "ABX9TyO7Z0DVwDv+A+ygSerMXKID",
      "include_colab_link": true
    },
    "kernelspec": {
      "name": "python3",
      "display_name": "Python 3"
    },
    "language_info": {
      "name": "python"
    }
  },
  "cells": [
    {
      "cell_type": "markdown",
      "metadata": {
        "id": "view-in-github",
        "colab_type": "text"
      },
      "source": [
        "<a href=\"https://colab.research.google.com/github/pinkdolphin11/ESAA/blob/main/HW_1125_tf_keras_50~95.ipynb\" target=\"_parent\"><img src=\"https://colab.research.google.com/assets/colab-badge.svg\" alt=\"Open In Colab\"/></a>"
      ]
    },
    {
      "cell_type": "markdown",
      "source": [
        "# Part 3. Keras"
      ],
      "metadata": {
        "id": "UGYwP6XuQWFa"
      }
    },
    {
      "cell_type": "markdown",
      "source": [
        "## 01. 딥러닝 준비"
      ],
      "metadata": {
        "id": "neV_SJ-kQV5e"
      }
    },
    {
      "cell_type": "markdown",
      "source": [
        "### 1-1. 주요 용어"
      ],
      "metadata": {
        "id": "LuvXBspxRB_E"
      }
    },
    {
      "cell_type": "markdown",
      "source": [
        "**1) hyper-parameter**\n",
        "\n",
        "* 머신러닝 모델 훈련 시, 사용자가 직접 설정해야 하는 값(ex. 학습 속도, 반복 훈련 횟수 등)\n",
        "\n",
        "* 예측 성능에 많은 영향을 미치므로 하이퍼파라미터 튜닝에 많은 시간을 투자하는 것이 일반적임\n"
      ],
      "metadata": {
        "id": "owvRZXILRJut"
      }
    },
    {
      "cell_type": "markdown",
      "source": [
        "**2) underfitting vs. overfitting**\n",
        "\n",
        "* train set : 머신러닝 모델이 학습할 데이터\n",
        "\n",
        "* test set : 머신러닝 모델이 예측해야 하는 대상 데이터. 정답 레이블(label)이 없음.\n",
        "\n",
        "* test set이 train set과 다른 분포를 갖거나, train set이 특정 레이블에 편향된 데이터로 이루어졌을 경우 test set에서의 예측 성능이 현저히 떨어짐.\n",
        "\n",
        "* 과소적합 : 모델이 충분히 학습되지 않아 예측 성능이 떨어지는 경우\n",
        "\n",
        "* 과대적합 : train set을 지나치게 반복 학습하여 과하게 적합된 상태. train set의 불필요한 노이즈까지 과도하게 모델에 반영되어, test set에서의 예측 오차 발생 확률이 커짐.\n",
        "\n",
        "  -> 모델 학습 시 과소적합/과대적합 문제를 최소화하면서 정확도를 가장 높여야 함\n",
        "\n",
        "  * train, test set를 동일한 분포로 구성\n",
        "\n",
        "  * 전처리를 통해 불필요한 노이즈 제거\n",
        "\n",
        "  * train set의 일부를 validation set(검증 데이터)으로 활용하여 검증 성능이 가장 좋은 구간을 모델이 가장 이상적으로 학습된 지점이라 판단하는 방법으로 최종 모델 결정"
      ],
      "metadata": {
        "id": "QS5lnq72SvyV"
      }
    },
    {
      "cell_type": "markdown",
      "source": [
        "**3) epoch**\n",
        "\n",
        "* 1 epoch : 딥러닝 모델이 반복 훈련 시 train set을 전부 학습에 사용하는 1회의 훈련 루프\n",
        "\n",
        "* 사전에 설정된 최대 epoch 횟수까지 반복적으로 진행하고 종료"
      ],
      "metadata": {
        "id": "Mw9ekKoUUC3X"
      }
    },
    {
      "cell_type": "markdown",
      "source": [
        "**4) loss function(손실함수)**\n",
        "\n",
        "* 예측값과 정답 값의 차이(오차), 딥러닝 모델의 출력값과 실제 값의 차이\n",
        "\n",
        "* 분류\n",
        "\n",
        "  * 이진 분류(출력층의 활성화 함수 'sigmoid') : binary_crossentropy\n",
        "\n",
        "  * 다중 분류(대상 클래스 'one-hot vector', 출력층의 활성화 함수 'softmax') : categorical_crossentropy\n",
        "\n",
        "  * 정답 클래스가 서로 다른 숫자로 구분된 레이블 값(ex.0,1,2...) : sparse_categorical_crossentropy\n",
        "\n",
        "* 회귀\n",
        "\n",
        "  * mean_squared_error, mean_absolute_error 등\n",
        "\n",
        "\n",
        "* 아래와 같이 클래스 및 함수 형태로 정의되어 있는 손실함수를 지정하여 사용\n",
        "\n",
        "```\n",
        "import tensorflow as tf\n",
        "\n",
        "#클래스\n",
        "tf.keras.losses.BinaryCrossentropy()\n",
        "\n",
        "#함수\n",
        "tf.keras.losses.binary_crossentropy\n",
        "\n",
        "```\n",
        "\n",
        "\n"
      ],
      "metadata": {
        "id": "NwfiSNbDUYV3"
      }
    },
    {
      "cell_type": "markdown",
      "source": [
        "**5) gradient descent(경사하강법)**\n",
        "\n",
        "* 딥러닝 모델 훈련 시, 모델 내부의 가중치(weight)에 대한 미분 값을 구하고, 목적 함수 값이 낮아지는 방향으로 차감하면서 최소 함수 값을 갖도록 하는 방법\n",
        "\n",
        "<img src = \"https://drive.google.com/uc?id=1OIiTI3If4xp4HRgF5Nm5ed-I2NeE9WEj\" height = 300 width = 400>\n",
        "\n",
        "* 손실함수 값을 최소로 만드는 가중치를 찾음"
      ],
      "metadata": {
        "id": "JEyZzoGlWkSw"
      }
    },
    {
      "cell_type": "markdown",
      "source": [
        "#### NumPy로 경사하강법 구현하기"
      ],
      "metadata": {
        "id": "MYlHAnPQYQr8"
      }
    },
    {
      "cell_type": "markdown",
      "source": [
        "단순선형회귀식 $y = wx + b$가 주어졌을 때 손실함수를 최소화하는 w, b를 구하는 과정을 경사하강법으로 구현해보자."
      ],
      "metadata": {
        "id": "IN2cOpFHZsHt"
      }
    },
    {
      "cell_type": "code",
      "execution_count": 1,
      "metadata": {
        "colab": {
          "base_uri": "https://localhost:8080/",
          "height": 447
        },
        "id": "Jb8wqWPLP9mR",
        "outputId": "983ccdd3-455c-4f32-f395-f1c81999732e"
      },
      "outputs": [
        {
          "output_type": "display_data",
          "data": {
            "text/plain": [
              "<Figure size 720x504 with 1 Axes>"
            ],
            "image/png": "[encoded data removed]"
          },
          "metadata": {
            "needs_background": "light"
          }
        },
        {
          "output_type": "stream",
          "name": "stdout",
          "text": [
            "w:0.3,b:0.5\n"
          ]
        }
      ],
      "source": [
        "import numpy as np\n",
        "import matplotlib.pyplot as plt\n",
        "\n",
        "#샘플에 활용할 데이터셋 만들기\n",
        "def make_linear(w=0.5, b=0.8, size=50, noise=1.0): # w,b 값은 임의로 지정\n",
        "  x = np.random.rand(size)\n",
        "  y = w * x + b\n",
        "  noise = np.random.uniform(-abs(noise), abs(noise), size=y.shape)\n",
        "  yy = y + noise\n",
        "  plt.figure(figsize=(10,7))\n",
        "  plt.plot(x,y,color='r',label=f'y={w}*x+{b}')\n",
        "  plt.scatter(x,yy,label='data')\n",
        "  plt.legend(fontsize=20)\n",
        "  plt.show()\n",
        "  print(f'w:{w},b:{b}')\n",
        "  return x, yy\n",
        "\n",
        "x, y = make_linear(w=0.3, b=0.5, size=100, noise=0.01)"
      ]
    },
    {
      "cell_type": "markdown",
      "source": [
        "* 그래디언트 구하기 : 손실함수를 w, b에 대해 편미분한 값을 구하고 학습률 계수를 곱하여 이전의 w, b로부터 차감한다."
      ],
      "metadata": {
        "id": "JEN11ujkWpmU"
      }
    },
    {
      "cell_type": "code",
      "source": [
        "#최대 반복 횟수\n",
        "num_epoch = 1000\n",
        "\n",
        "#학습률\n",
        "learning_rate = 0.005\n",
        "\n",
        "#에러 기록\n",
        "errors = []\n",
        "\n",
        "#random한 값으로 w, b를 초기화\n",
        "w = np.random.uniform(low=0.0, high=1.0)\n",
        "b = np.random.uniform(low=0.0, high=1.0)\n",
        "\n",
        "for epoch in range(num_epoch):\n",
        "  # Hypothesis 정의\n",
        "  y_hat = w*x+b\n",
        "  # Loss Function 정의\n",
        "  error = 0.5*((y_hat-y)**2).sum()\n",
        "  if error < 0.005:\n",
        "    break\n",
        "  # Gradient 미분 계산\n",
        "  w = w-learning_rate*((y_hat-y)*x).sum()\n",
        "  b = b-learning_rate*((y_hat-y)).sum()\n",
        "\n",
        "  errors.append(error)\n",
        "\n",
        "  if epoch % 5 == 0:\n",
        "    print(\"{0:2} w = {1:.5f}, b = {2:.5f} error = {3:.5f}\".format(epoch,w,b,error))\n",
        "\n",
        "print(\"----\" * 15)\n",
        "print(\"{0:2} w = {1:.1f}, b = {2:.1f} error = {3:.5f}\".format(epoch,w,b,error))"
      ],
      "metadata": {
        "colab": {
          "base_uri": "https://localhost:8080/"
        },
        "id": "pgjRCqkIW2kP",
        "outputId": "94d7e153-fea2-42db-97c8-754041e4b631"
      },
      "execution_count": 2,
      "outputs": [
        {
          "output_type": "stream",
          "name": "stdout",
          "text": [
            " 0 w = 0.56629, b = 0.62316 error = 21.02476\n",
            " 5 w = 0.44415, b = 0.43227 error = 0.08298\n",
            "10 w = 0.42312, b = 0.44031 error = 0.06024\n",
            "15 w = 0.40582, b = 0.44872 error = 0.04472\n",
            "20 w = 0.39100, b = 0.45595 error = 0.03330\n",
            "25 w = 0.37829, b = 0.46214 error = 0.02491\n",
            "30 w = 0.36738, b = 0.46746 error = 0.01874\n",
            "35 w = 0.35803, b = 0.47202 error = 0.01420\n",
            "40 w = 0.35002, b = 0.47592 error = 0.01086\n",
            "45 w = 0.34314, b = 0.47928 error = 0.00840\n",
            "50 w = 0.33724, b = 0.48215 error = 0.00659\n",
            "55 w = 0.33219, b = 0.48462 error = 0.00527\n",
            "------------------------------------------------------------\n",
            "57 w = 0.3, b = 0.5 error = 0.00484\n"
          ]
        }
      ]
    },
    {
      "cell_type": "code",
      "source": [
        "plt.figure(figsize=(10,7))\n",
        "plt.plot(errors)\n",
        "plt.xlabel('Epochs')\n",
        "plt.ylabel('Error')\n",
        "plt.show()"
      ],
      "metadata": {
        "colab": {
          "base_uri": "https://localhost:8080/",
          "height": 442
        },
        "id": "0-d4lQhoY5Hg",
        "outputId": "52834766-d337-46c5-f4a7-a7b036279bca"
      },
      "execution_count": 3,
      "outputs": [
        {
          "output_type": "display_data",
          "data": {
            "text/plain": [
              "<Figure size 720x504 with 1 Axes>"
            ],
            "image/png": "[encoded data removed]"
          },
          "metadata": {
            "needs_background": "light"
          }
        }
      ]
    },
    {
      "cell_type": "markdown",
      "source": [
        "목표하는 오차 범위 안으로 수렴하면 반복문을 종료하고, 종료 후 w, b 계수를 확인하면 샘플 데이터셋 생성 시 설정한 계수와 비슷한 값이다."
      ],
      "metadata": {
        "id": "c-uBabuWY_81"
      }
    },
    {
      "cell_type": "markdown",
      "source": [
        "### 1-2. 딥러닝 프로세스"
      ],
      "metadata": {
        "id": "7q1emrDsZNX8"
      }
    },
    {
      "cell_type": "markdown",
      "source": [
        "**1) 데이터 전처리(필수)**\n",
        "\n",
        "* 데이터를 모델에 주입하기 전에 가공하는 단계\n",
        "\n",
        "* 전처리를 적용한 데이터셋의 형태와 모델이 입력받을 데이터셋 형태가 다르면 에러 발생"
      ],
      "metadata": {
        "id": "1G1_umH2uQeq"
      }
    },
    {
      "cell_type": "markdown",
      "source": [
        "**2) 모델 생성(필수)**\n",
        "\n",
        "* 순차적 구조 : Sequential API\n",
        "\n",
        "* 다중 입력 및 출력을 가진 복잡한 구조 : Functional API, Model Subclassing"
      ],
      "metadata": {
        "id": "1zUSNt-SVnwY"
      }
    },
    {
      "cell_type": "markdown",
      "source": [
        "**3) 모델 컴파일(필수)**\n",
        "\n",
        "* 생성된 모델 훈련에 사용할 손실함수, 옵티마이저, 평가 지표 정의\n",
        "\n",
        "* 모델 인스턴스에 compile() 메소드 적용, 윗줄의 여러 속성 값 설정"
      ],
      "metadata": {
        "id": "eULw9cy_V2zW"
      }
    },
    {
      "cell_type": "markdown",
      "source": [
        "**4) 모델 훈련(필수)**\n",
        "\n",
        "* fit() 함수에 훈련에 필요한 정보(ex. train set, test set, valid set, epoch, batch size, callback function 등)를 매개변수(파라미터)로 전달"
      ],
      "metadata": {
        "id": "S4dFZ0jpWEUP"
      }
    },
    {
      "cell_type": "markdown",
      "source": [
        "**5) 모델 검증**\n",
        "\n",
        "* 훈련이 완료된 모델을 검증\n",
        "\n",
        "* 훈련 시 사용하지 않은 valid set을 모델에 입력하고, 예측값을 정답과 비교하여 평가지표 계산\n",
        "\n",
        "* 검증 결과를 바탕으로, 목표 성능에 도달할 때까지 다시 모델 생성 단계로 돌아가 모델 수정, 컴파일, 훈련을 거쳐 재평가하는 단계를 반복"
      ],
      "metadata": {
        "id": "F7b3IBmXWQuN"
      }
    },
    {
      "cell_type": "markdown",
      "source": [
        "**6) 모델 예측**\n",
        "\n",
        "* 훈련, 검증이 완료된 모델로 test set에 대하여 예측한 결과 반환"
      ],
      "metadata": {
        "id": "pGl4TC2kWput"
      }
    },
    {
      "cell_type": "markdown",
      "source": [
        "## 02. 단순 신경망 훈련"
      ],
      "metadata": {
        "id": "qEQOUBfRWz8g"
      }
    },
    {
      "cell_type": "markdown",
      "source": [
        "### 2-1. 선형회귀"
      ],
      "metadata": {
        "id": "iHmHAO3cW3x5"
      }
    },
    {
      "cell_type": "markdown",
      "source": [
        "케라스를 활용하여 단순선형회귀 모델을 직접 만들고 딥러닝을 학습해보자.\n",
        "\n",
        "함수식 : $y=wx+b$ ($w$ : weight, $b$ : bias)"
      ],
      "metadata": {
        "id": "1gcGISCRW_NS"
      }
    },
    {
      "cell_type": "markdown",
      "source": [
        "### 2-2. 뉴런(node)"
      ],
      "metadata": {
        "id": "nSmnUgCgXPYj"
      }
    },
    {
      "cell_type": "markdown",
      "source": [
        "* 인공 신경망을 구성하는 하나의 신경\n",
        "\n",
        "* 신경망은 여러 개의 layer를 가지며, 1개의 레이어는 1개 이상의 뉴런으로 구성\n",
        "\n",
        "* 뉴런의 내부에는 가중치가 존재, 모델이 훈련을 진행하며 오차 역전파를 통해 뉴런의 가중치 업데이트"
      ],
      "metadata": {
        "id": "3Q-xL37wXSyo"
      }
    },
    {
      "cell_type": "markdown",
      "source": [
        "### 2-3. Dense 레이어"
      ],
      "metadata": {
        "id": "daskGUl9Xiks"
      }
    },
    {
      "cell_type": "markdown",
      "source": [
        "* 심층 신경망 모델을 구성하는 가장 기본적인 레이어\n",
        "\n",
        "* 각 레이어와 레이어 사이에 모든 뉴런이 서로 연결되어 있음(완전 연결층 : Fully Connected Layer)\n",
        "\n",
        "<img src = \"https://drive.google.com/uc?id=1xvekO4qvpO0qIrpgqNKcJwXG30Tppk0P\" height = 300 width = 500>\n",
        "\n",
        "\n",
        "\n",
        "```\n",
        "import tensorflow as tf\n",
        "\n",
        "#노드 개수 10개로 지정\n",
        "tf.keras.layers.Dense(10)\n",
        "\n",
        "#Relu 활성화 함수 적용\n",
        "tf.keras.layers.Dense(10,activation='relu')\n",
        "```\n",
        "\n"
      ],
      "metadata": {
        "id": "ssQ6cnksXk6d"
      }
    },
    {
      "cell_type": "markdown",
      "source": [
        "### 2-4. 데이터셋 만들기"
      ],
      "metadata": {
        "id": "to37vIMzY1Vs"
      }
    },
    {
      "cell_type": "code",
      "source": [
        "#샘플 데이터셋 생성\n",
        "\n",
        "x = np.arange(1,6) # 5개의 순차적인 x 데이터\n",
        "y=3*x+2 # y=3x+2\n",
        "print(x)\n",
        "print(y)"
      ],
      "metadata": {
        "colab": {
          "base_uri": "https://localhost:8080/"
        },
        "id": "FTWtb6oXXpUB",
        "outputId": "e7a4fdad-25c1-4bff-ef8b-a74aad983d9d"
      },
      "execution_count": 4,
      "outputs": [
        {
          "output_type": "stream",
          "name": "stdout",
          "text": [
            "[1 2 3 4 5]\n",
            "[ 5  8 11 14 17]\n"
          ]
        }
      ]
    },
    {
      "cell_type": "code",
      "source": [
        "import matplotlib.pyplot as plt\n",
        "\n",
        "#시각화\n",
        "\n",
        "plt.plot(x,y)\n",
        "plt.title('y = 3x + 2')\n",
        "plt.show()"
      ],
      "metadata": {
        "colab": {
          "base_uri": "https://localhost:8080/",
          "height": 281
        },
        "id": "PstnVxmqXpRO",
        "outputId": "1b434fc6-8127-4ef0-8049-610650ba3a5f"
      },
      "execution_count": 5,
      "outputs": [
        {
          "output_type": "display_data",
          "data": {
            "text/plain": [
              "<Figure size 432x288 with 1 Axes>"
            ],
            "image/png": "[encoded data removed]"
          },
          "metadata": {
            "needs_background": "light"
          }
        }
      ]
    },
    {
      "cell_type": "markdown",
      "source": [
        "### 2-5. Sequential API"
      ],
      "metadata": {
        "id": "ssKBPga5ZcEa"
      }
    },
    {
      "cell_type": "markdown",
      "source": [
        "* 층을 이어 붙이듯 시퀀스에 맞게 일렬로 연결하는 방식\n",
        "\n",
        "* 입력 레이어부터 출력 레이어까지 순서를 가짐\n",
        "\n",
        "* 데이터는 시퀀스의 가장 앞에 위치한 층에 투입되고, 순서대로 각 층을 하나씩 통과하면서 딥러닝 연산 수행\n",
        "\n",
        "* 매우 간결하게 딥러닝 모델을 만드는 방법임\n",
        "\n",
        "* 2개 이상의 다중 입력/출력을 갖는 복잡한 모델은 만들 수 없음"
      ],
      "metadata": {
        "id": "fNib97gaZeh2"
      }
    },
    {
      "cell_type": "markdown",
      "source": [
        "**1) 모델 구조**"
      ],
      "metadata": {
        "id": "ydNY8PkfaO_9"
      }
    },
    {
      "cell_type": "code",
      "source": [
        "#1. 리스트형\n",
        "##앞에 위치한 층부터 연산을 먼저 처리\n",
        "\n",
        "import tensorflow as tf\n",
        "\n",
        "model = tf.keras.Sequential([tf.keras.layers.Dense(10),\n",
        "                             tf.keras.layers.Dense(5),\n",
        "                             tf.keras.layers.Dense(1)]) # Dense layer 3개"
      ],
      "metadata": {
        "id": "SvP6wHZRaSJ1"
      },
      "execution_count": 6,
      "outputs": []
    },
    {
      "cell_type": "code",
      "source": [
        "#2. add 함수로 레이어 추가\n",
        "model = tf.keras.Sequential()\n",
        "model.add(tf.keras.layers.Dense(10))\n",
        "model.add(tf.keras.layers.Dense(5))\n",
        "model.add(tf.keras.layers.Dense(1))"
      ],
      "metadata": {
        "id": "Zjq59EASapxg"
      },
      "execution_count": 7,
      "outputs": []
    },
    {
      "cell_type": "markdown",
      "source": [
        "**2) 입력 데이터 형태**\n",
        "\n",
        "* 첫 번째 층에는 반드시 input_shape 매개변수를 지정\n",
        "\n",
        "* input_shape : 주입할 데이터셋의 shape을 튜플 혹은 리스트로 지정"
      ],
      "metadata": {
        "id": "GvXGIryta2PG"
      }
    },
    {
      "cell_type": "code",
      "source": [
        "import tensorflow as tf\n",
        "model = tf.keras.Sequential([\n",
        "    # 입력 데이터의 shape=(150,4)인 경우 input_shape 지정\n",
        "    tf.keras.layers.Dense(10, input_shape=[4]),\n",
        "    tf.keras.layers.Dense(5),\n",
        "    tf.keras.layers.Dense(1)\n",
        "])"
      ],
      "metadata": {
        "id": "CGYxf79NbFVF"
      },
      "execution_count": 8,
      "outputs": []
    },
    {
      "cell_type": "markdown",
      "source": [
        "**3) 단순선형회귀 모델 정의**"
      ],
      "metadata": {
        "id": "1Sml_FlZbawb"
      }
    },
    {
      "cell_type": "markdown",
      "source": [
        "* 1개의 뉴런을 가지는 Dense 레이어 1개 사용\n",
        "\n",
        "* 뉴런은 w(기울기), b(상수항)를 매개변수로 가짐"
      ],
      "metadata": {
        "id": "MwMR30qfbfsm"
      }
    },
    {
      "cell_type": "code",
      "source": [
        "model = tf.keras.Sequential([\n",
        "    tf.keras.layers.Dense(1,input_shape=[1]) # 입력 데이터는 x값을 나타내는 입력 변수 1개\n",
        "])"
      ],
      "metadata": {
        "id": "GC28mCssbnoN"
      },
      "execution_count": 9,
      "outputs": []
    },
    {
      "cell_type": "markdown",
      "source": [
        "* 1개의 출력 값(y에 대한 모델의 예측값)을 가짐\n",
        "\n",
        "* use_bias = True(default) : 상수항 b 추가됨"
      ],
      "metadata": {
        "id": "Vvj80zqbbznu"
      }
    },
    {
      "cell_type": "markdown",
      "source": [
        "### 2-6. 모델 요약"
      ],
      "metadata": {
        "id": "2vlwaUmgcBjA"
      }
    },
    {
      "cell_type": "code",
      "source": [
        "model.summary()"
      ],
      "metadata": {
        "colab": {
          "base_uri": "https://localhost:8080/"
        },
        "id": "Njgt-fcZcENm",
        "outputId": "d703a18a-5667-41e3-db08-1e6bc0bfcc66"
      },
      "execution_count": 10,
      "outputs": [
        {
          "output_type": "stream",
          "name": "stdout",
          "text": [
            "Model: \"sequential_3\"\n",
            "_________________________________________________________________\n",
            " Layer (type)                Output Shape              Param #   \n",
            "=================================================================\n",
            " dense_9 (Dense)             (None, 1)                 2         \n",
            "                                                                 \n",
            "=================================================================\n",
            "Total params: 2\n",
            "Trainable params: 2\n",
            "Non-trainable params: 0\n",
            "_________________________________________________________________\n"
          ]
        }
      ]
    },
    {
      "cell_type": "markdown",
      "source": [
        "* 층별 노드의 개수 표기\n",
        "\n",
        "* Total params : 모델 내부에 존재하는 모든 파라미터의 합계(w, b)\n",
        "\n",
        "* Trainable params : 모델 훈련 시 업데이트할 파라미터의 총 개수(w, b)\n",
        "\n",
        "* Non-trainable params : 업데이트하지 않을 파라미터의 총 개수"
      ],
      "metadata": {
        "id": "mBx4Rc9QcKN9"
      }
    },
    {
      "cell_type": "markdown",
      "source": [
        "### 2-7. 컴파일"
      ],
      "metadata": {
        "id": "EmVox13vcdYU"
      }
    },
    {
      "cell_type": "markdown",
      "source": [
        "* 손실함수, 옵티마이저, 평가지표 3가지 지정 방법 : 클래스 인스턴스, 함수, 사전 정의된 문자열\n",
        "\n",
        "* 클래스 인스턴스로 지정해야 하이퍼파라미터 튜닝을 할 수 있음(기본 설정만으로도 딥러닝 모델은 성능이 잘 나오므로, 여기서는 문자열 지정 방식을 주로 사용)"
      ],
      "metadata": {
        "id": "Y1HqikmnchZE"
      }
    },
    {
      "cell_type": "code",
      "source": [
        "#긴 문자열 지정\n",
        "model.compile(optimizer='sgd',loss='mean_squared_error',metrics=['mean_squared_error','mean_absolute_error'])"
      ],
      "metadata": {
        "id": "4xVmq6_Scwlp"
      },
      "execution_count": 11,
      "outputs": []
    },
    {
      "cell_type": "code",
      "source": [
        "#짧은 문자열 지정\n",
        "model.compile(optimizer='sgd',loss='mse',metrics=['mse','mae'])"
      ],
      "metadata": {
        "id": "h-n2CPpac7iC"
      },
      "execution_count": 12,
      "outputs": []
    },
    {
      "cell_type": "code",
      "source": [
        "#클래스 인스턴스 지정\n",
        "model.compile(optimizer=tf.keras.optimizers.SGD(0.005),\n",
        "              loss=tf.keras.losses.MeanAbsoluteError(),\n",
        "              metrics=[tf.keras.metrics.MeanAbsoluteError(),\n",
        "                       tf.keras.metrics.MeanSquaredError()\n",
        "              ])"
      ],
      "metadata": {
        "id": "YNVgpzUsdBjz"
      },
      "execution_count": 13,
      "outputs": []
    },
    {
      "cell_type": "code",
      "source": [
        "#컴파일\n",
        "model.compile(optimizer='sgd',loss='mse',metrics=['mae']) # sgd : gradient descent 알고리즘"
      ],
      "metadata": {
        "id": "e0ItpFMGdXiz"
      },
      "execution_count": 14,
      "outputs": []
    },
    {
      "cell_type": "markdown",
      "source": [
        "### 2-8. 훈련"
      ],
      "metadata": {
        "id": "rssUTpv6dhcr"
      }
    },
    {
      "cell_type": "markdown",
      "source": [
        "* weight 텐서를 업데이트하는 과정\n",
        "\n",
        "* fit() 메소드에 입력(x), 출력(y), epoch 지정\n",
        "\n",
        "* 매 epoch가 끝날 때마다 train set에 대한 손실, 평가지표 출력(verbose=0 : 훈련 중간 과정 출력X)\n",
        "\n",
        "* 메소드에 validation_data 옵션 지정 시 valid set에 대한 손실, 평가지표도 출력"
      ],
      "metadata": {
        "id": "ZHw3QNGgdnhI"
      }
    },
    {
      "cell_type": "code",
      "source": [
        "model.fit(x,y,epochs=5)"
      ],
      "metadata": {
        "colab": {
          "base_uri": "https://localhost:8080/"
        },
        "id": "xmEJc-XRd_d5",
        "outputId": "bf3f306e-101b-41e8-e328-e926d382cd85"
      },
      "execution_count": 15,
      "outputs": [
        {
          "output_type": "stream",
          "name": "stdout",
          "text": [
            "Epoch 1/5\n",
            "1/1 [==============================] - 1s 585ms/step - loss: 106.8316 - mae: 9.6810\n",
            "Epoch 2/5\n",
            "1/1 [==============================] - 0s 8ms/step - loss: 62.3636 - mae: 7.4375\n",
            "Epoch 3/5\n",
            "1/1 [==============================] - 0s 10ms/step - loss: 36.4491 - mae: 5.7248\n",
            "Epoch 4/5\n",
            "1/1 [==============================] - 0s 10ms/step - loss: 21.3466 - mae: 4.4171\n",
            "Epoch 5/5\n",
            "1/1 [==============================] - 0s 9ms/step - loss: 12.5450 - mae: 3.4188\n"
          ]
        },
        {
          "output_type": "execute_result",
          "data": {
            "text/plain": [
              "<keras.callbacks.History at 0x7f08ceb73ed0>"
            ]
          },
          "metadata": {},
          "execution_count": 15
        }
      ]
    },
    {
      "cell_type": "markdown",
      "source": [
        "* loss를 보면 모델의 예측 오차가 점점 줄어듦\n",
        "\n",
        "* 반복 수가 적어 과소적합 상태"
      ],
      "metadata": {
        "id": "-0tPWlQjeIHC"
      }
    },
    {
      "cell_type": "code",
      "source": [
        "#단순선형회귀 모델 생성\n",
        "model = tf.keras.Sequential([\n",
        "    tf.keras.layers.Dense(1,input_shape=[1])\n",
        "])\n",
        "\n",
        "#컴파일\n",
        "model.compile(optimizer='sgd',loss='mse',metrics=['mae'])\n",
        "\n",
        "#훈련\n",
        "history = model.fit(x,y,epochs=1200)"
      ],
      "metadata": {
        "colab": {
          "base_uri": "https://localhost:8080/"
        },
        "id": "r3PCffBfeNs3",
        "outputId": "06c54850-66b5-4381-d586-f0901835f4c4"
      },
      "execution_count": 16,
      "outputs": [
        {
          "output_type": "stream",
          "name": "stdout",
          "text": [
            "Epoch 1/1200\n",
            "1/1 [==============================] - 0s 342ms/step - loss: 150.4722 - mae: 11.4324\n",
            "Epoch 2/1200\n",
            "1/1 [==============================] - 0s 9ms/step - loss: 87.7699 - mae: 8.7687\n",
            "Epoch 3/1200\n",
            "1/1 [==============================] - 0s 8ms/step - loss: 51.2296 - mae: 6.7350\n",
            "Epoch 4/1200\n",
            "1/1 [==============================] - 0s 8ms/step - loss: 29.9351 - mae: 5.1825\n",
            "Epoch 5/1200\n",
            "1/1 [==============================] - 0s 10ms/step - loss: 17.5252 - mae: 3.9971\n",
            "Epoch 6/1200\n",
            "1/1 [==============================] - 0s 7ms/step - loss: 10.2928 - mae: 3.0921\n",
            "Epoch 7/1200\n",
            "1/1 [==============================] - 0s 8ms/step - loss: 6.0776 - mae: 2.4011\n",
            "Epoch 8/1200\n",
            "1/1 [==============================] - 0s 8ms/step - loss: 3.6206 - mae: 1.8735\n",
            "Epoch 9/1200\n",
            "1/1 [==============================] - 0s 10ms/step - loss: 2.1883 - mae: 1.4706\n",
            "Epoch 10/1200\n",
            "1/1 [==============================] - 0s 7ms/step - loss: 1.3530 - mae: 1.1628\n",
            "Epoch 11/1200\n",
            "1/1 [==============================] - 0s 8ms/step - loss: 0.8658 - mae: 0.9278\n",
            "Epoch 12/1200\n",
            "1/1 [==============================] - 0s 8ms/step - loss: 0.5813 - mae: 0.7482\n",
            "Epoch 13/1200\n",
            "1/1 [==============================] - 0s 10ms/step - loss: 0.4150 - mae: 0.6110\n",
            "Epoch 14/1200\n",
            "1/1 [==============================] - 0s 7ms/step - loss: 0.3176 - mae: 0.5061\n",
            "Epoch 15/1200\n",
            "1/1 [==============================] - 0s 8ms/step - loss: 0.2603 - mae: 0.4259\n",
            "Epoch 16/1200\n",
            "1/1 [==============================] - 0s 8ms/step - loss: 0.2264 - mae: 0.3917\n",
            "Epoch 17/1200\n",
            "1/1 [==============================] - 0s 7ms/step - loss: 0.2062 - mae: 0.3741\n",
            "Epoch 18/1200\n",
            "1/1 [==============================] - 0s 7ms/step - loss: 0.1939 - mae: 0.3605\n",
            "Epoch 19/1200\n",
            "1/1 [==============================] - 0s 8ms/step - loss: 0.1862 - mae: 0.3497\n",
            "Epoch 20/1200\n",
            "1/1 [==============================] - 0s 7ms/step - loss: 0.1813 - mae: 0.3490\n",
            "Epoch 21/1200\n",
            "1/1 [==============================] - 0s 8ms/step - loss: 0.1779 - mae: 0.3504\n",
            "Epoch 22/1200\n",
            "1/1 [==============================] - 0s 8ms/step - loss: 0.1754 - mae: 0.3512\n",
            "Epoch 23/1200\n",
            "1/1 [==============================] - 0s 7ms/step - loss: 0.1735 - mae: 0.3515\n",
            "Epoch 24/1200\n",
            "1/1 [==============================] - 0s 8ms/step - loss: 0.1719 - mae: 0.3515\n",
            "Epoch 25/1200\n",
            "1/1 [==============================] - 0s 7ms/step - loss: 0.1705 - mae: 0.3512\n",
            "Epoch 26/1200\n",
            "1/1 [==============================] - 0s 8ms/step - loss: 0.1692 - mae: 0.3506\n",
            "Epoch 27/1200\n",
            "1/1 [==============================] - 0s 8ms/step - loss: 0.1680 - mae: 0.3500\n",
            "Epoch 28/1200\n",
            "1/1 [==============================] - 0s 11ms/step - loss: 0.1668 - mae: 0.3492\n",
            "Epoch 29/1200\n",
            "1/1 [==============================] - 0s 7ms/step - loss: 0.1656 - mae: 0.3483\n",
            "Epoch 30/1200\n",
            "1/1 [==============================] - 0s 7ms/step - loss: 0.1645 - mae: 0.3473\n",
            "Epoch 31/1200\n",
            "1/1 [==============================] - 0s 9ms/step - loss: 0.1634 - mae: 0.3463\n",
            "Epoch 32/1200\n",
            "1/1 [==============================] - 0s 8ms/step - loss: 0.1623 - mae: 0.3453\n",
            "Epoch 33/1200\n",
            "1/1 [==============================] - 0s 8ms/step - loss: 0.1612 - mae: 0.3442\n",
            "Epoch 34/1200\n",
            "1/1 [==============================] - 0s 8ms/step - loss: 0.1601 - mae: 0.3432\n",
            "Epoch 35/1200\n",
            "1/1 [==============================] - 0s 8ms/step - loss: 0.1590 - mae: 0.3421\n",
            "Epoch 36/1200\n",
            "1/1 [==============================] - 0s 8ms/step - loss: 0.1579 - mae: 0.3409\n",
            "Epoch 37/1200\n",
            "1/1 [==============================] - 0s 8ms/step - loss: 0.1569 - mae: 0.3398\n",
            "Epoch 38/1200\n",
            "1/1 [==============================] - 0s 13ms/step - loss: 0.1558 - mae: 0.3387\n",
            "Epoch 39/1200\n",
            "1/1 [==============================] - 0s 8ms/step - loss: 0.1547 - mae: 0.3376\n",
            "Epoch 40/1200\n",
            "1/1 [==============================] - 0s 8ms/step - loss: 0.1537 - mae: 0.3364\n",
            "Epoch 41/1200\n",
            "1/1 [==============================] - 0s 7ms/step - loss: 0.1527 - mae: 0.3353\n",
            "Epoch 42/1200\n",
            "1/1 [==============================] - 0s 9ms/step - loss: 0.1516 - mae: 0.3342\n",
            "Epoch 43/1200\n",
            "1/1 [==============================] - 0s 8ms/step - loss: 0.1506 - mae: 0.3331\n",
            "Epoch 44/1200\n",
            "1/1 [==============================] - 0s 8ms/step - loss: 0.1496 - mae: 0.3320\n",
            "Epoch 45/1200\n",
            "1/1 [==============================] - 0s 8ms/step - loss: 0.1486 - mae: 0.3308\n",
            "Epoch 46/1200\n",
            "1/1 [==============================] - 0s 10ms/step - loss: 0.1476 - mae: 0.3297\n",
            "Epoch 47/1200\n",
            "1/1 [==============================] - 0s 7ms/step - loss: 0.1466 - mae: 0.3286\n",
            "Epoch 48/1200\n",
            "1/1 [==============================] - 0s 8ms/step - loss: 0.1456 - mae: 0.3275\n",
            "Epoch 49/1200\n",
            "1/1 [==============================] - 0s 8ms/step - loss: 0.1446 - mae: 0.3264\n",
            "Epoch 50/1200\n",
            "1/1 [==============================] - 0s 8ms/step - loss: 0.1436 - mae: 0.3253\n",
            "Epoch 51/1200\n",
            "1/1 [==============================] - 0s 8ms/step - loss: 0.1427 - mae: 0.3242\n",
            "Epoch 52/1200\n",
            "1/1 [==============================] - 0s 8ms/step - loss: 0.1417 - mae: 0.3231\n",
            "Epoch 53/1200\n",
            "1/1 [==============================] - 0s 8ms/step - loss: 0.1407 - mae: 0.3220\n",
            "Epoch 54/1200\n",
            "1/1 [==============================] - 0s 8ms/step - loss: 0.1398 - mae: 0.3209\n",
            "Epoch 55/1200\n",
            "1/1 [==============================] - 0s 7ms/step - loss: 0.1388 - mae: 0.3198\n",
            "Epoch 56/1200\n",
            "1/1 [==============================] - 0s 7ms/step - loss: 0.1379 - mae: 0.3187\n",
            "Epoch 57/1200\n",
            "1/1 [==============================] - 0s 8ms/step - loss: 0.1370 - mae: 0.3177\n",
            "Epoch 58/1200\n",
            "1/1 [==============================] - 0s 8ms/step - loss: 0.1361 - mae: 0.3166\n",
            "Epoch 59/1200\n",
            "1/1 [==============================] - 0s 8ms/step - loss: 0.1351 - mae: 0.3155\n",
            "Epoch 60/1200\n",
            "1/1 [==============================] - 0s 10ms/step - loss: 0.1342 - mae: 0.3145\n",
            "Epoch 61/1200\n",
            "1/1 [==============================] - 0s 7ms/step - loss: 0.1333 - mae: 0.3134\n",
            "Epoch 62/1200\n",
            "1/1 [==============================] - 0s 7ms/step - loss: 0.1324 - mae: 0.3123\n",
            "Epoch 63/1200\n",
            "1/1 [==============================] - 0s 14ms/step - loss: 0.1315 - mae: 0.3113\n",
            "Epoch 64/1200\n",
            "1/1 [==============================] - 0s 8ms/step - loss: 0.1306 - mae: 0.3102\n",
            "Epoch 65/1200\n",
            "1/1 [==============================] - 0s 7ms/step - loss: 0.1298 - mae: 0.3092\n",
            "Epoch 66/1200\n",
            "1/1 [==============================] - 0s 16ms/step - loss: 0.1289 - mae: 0.3081\n",
            "Epoch 67/1200\n",
            "1/1 [==============================] - 0s 8ms/step - loss: 0.1280 - mae: 0.3071\n",
            "Epoch 68/1200\n",
            "1/1 [==============================] - 0s 7ms/step - loss: 0.1271 - mae: 0.3061\n",
            "Epoch 69/1200\n",
            "1/1 [==============================] - 0s 8ms/step - loss: 0.1263 - mae: 0.3050\n",
            "Epoch 70/1200\n",
            "1/1 [==============================] - 0s 7ms/step - loss: 0.1254 - mae: 0.3040\n",
            "Epoch 71/1200\n",
            "1/1 [==============================] - 0s 8ms/step - loss: 0.1246 - mae: 0.3030\n",
            "Epoch 72/1200\n",
            "1/1 [==============================] - 0s 8ms/step - loss: 0.1237 - mae: 0.3019\n",
            "Epoch 73/1200\n",
            "1/1 [==============================] - 0s 8ms/step - loss: 0.1229 - mae: 0.3009\n",
            "Epoch 74/1200\n",
            "1/1 [==============================] - 0s 8ms/step - loss: 0.1221 - mae: 0.2999\n",
            "Epoch 75/1200\n",
            "1/1 [==============================] - 0s 8ms/step - loss: 0.1213 - mae: 0.2989\n",
            "Epoch 76/1200\n",
            "1/1 [==============================] - 0s 10ms/step - loss: 0.1204 - mae: 0.2979\n",
            "Epoch 77/1200\n",
            "1/1 [==============================] - 0s 7ms/step - loss: 0.1196 - mae: 0.2969\n",
            "Epoch 78/1200\n",
            "1/1 [==============================] - 0s 8ms/step - loss: 0.1188 - mae: 0.2959\n",
            "Epoch 79/1200\n",
            "1/1 [==============================] - 0s 8ms/step - loss: 0.1180 - mae: 0.2949\n",
            "Epoch 80/1200\n",
            "1/1 [==============================] - 0s 9ms/step - loss: 0.1172 - mae: 0.2939\n",
            "Epoch 81/1200\n",
            "1/1 [==============================] - 0s 8ms/step - loss: 0.1164 - mae: 0.2929\n",
            "Epoch 82/1200\n",
            "1/1 [==============================] - 0s 7ms/step - loss: 0.1156 - mae: 0.2919\n",
            "Epoch 83/1200\n",
            "1/1 [==============================] - 0s 8ms/step - loss: 0.1149 - mae: 0.2909\n",
            "Epoch 84/1200\n",
            "1/1 [==============================] - 0s 11ms/step - loss: 0.1141 - mae: 0.2899\n",
            "Epoch 85/1200\n",
            "1/1 [==============================] - 0s 7ms/step - loss: 0.1133 - mae: 0.2889\n",
            "Epoch 86/1200\n",
            "1/1 [==============================] - 0s 7ms/step - loss: 0.1126 - mae: 0.2880\n",
            "Epoch 87/1200\n",
            "1/1 [==============================] - 0s 7ms/step - loss: 0.1118 - mae: 0.2870\n",
            "Epoch 88/1200\n",
            "1/1 [==============================] - 0s 8ms/step - loss: 0.1110 - mae: 0.2860\n",
            "Epoch 89/1200\n",
            "1/1 [==============================] - 0s 8ms/step - loss: 0.1103 - mae: 0.2850\n",
            "Epoch 90/1200\n",
            "1/1 [==============================] - 0s 8ms/step - loss: 0.1095 - mae: 0.2841\n",
            "Epoch 91/1200\n",
            "1/1 [==============================] - 0s 8ms/step - loss: 0.1088 - mae: 0.2831\n",
            "Epoch 92/1200\n",
            "1/1 [==============================] - 0s 7ms/step - loss: 0.1081 - mae: 0.2822\n",
            "Epoch 93/1200\n",
            "1/1 [==============================] - 0s 7ms/step - loss: 0.1073 - mae: 0.2812\n",
            "Epoch 94/1200\n",
            "1/1 [==============================] - 0s 7ms/step - loss: 0.1066 - mae: 0.2803\n",
            "Epoch 95/1200\n",
            "1/1 [==============================] - 0s 7ms/step - loss: 0.1059 - mae: 0.2793\n",
            "Epoch 96/1200\n",
            "1/1 [==============================] - 0s 7ms/step - loss: 0.1052 - mae: 0.2784\n",
            "Epoch 97/1200\n",
            "1/1 [==============================] - 0s 8ms/step - loss: 0.1045 - mae: 0.2774\n",
            "Epoch 98/1200\n",
            "1/1 [==============================] - 0s 8ms/step - loss: 0.1038 - mae: 0.2765\n",
            "Epoch 99/1200\n",
            "1/1 [==============================] - 0s 7ms/step - loss: 0.1031 - mae: 0.2756\n",
            "Epoch 100/1200\n",
            "1/1 [==============================] - 0s 7ms/step - loss: 0.1024 - mae: 0.2746\n",
            "Epoch 101/1200\n",
            "1/1 [==============================] - 0s 9ms/step - loss: 0.1017 - mae: 0.2737\n",
            "Epoch 102/1200\n",
            "1/1 [==============================] - 0s 7ms/step - loss: 0.1010 - mae: 0.2728\n",
            "Epoch 103/1200\n",
            "1/1 [==============================] - 0s 8ms/step - loss: 0.1003 - mae: 0.2718\n",
            "Epoch 104/1200\n",
            "1/1 [==============================] - 0s 7ms/step - loss: 0.0996 - mae: 0.2709\n",
            "Epoch 105/1200\n",
            "1/1 [==============================] - 0s 8ms/step - loss: 0.0990 - mae: 0.2700\n",
            "Epoch 106/1200\n",
            "1/1 [==============================] - 0s 7ms/step - loss: 0.0983 - mae: 0.2691\n",
            "Epoch 107/1200\n",
            "1/1 [==============================] - 0s 8ms/step - loss: 0.0976 - mae: 0.2682\n",
            "Epoch 108/1200\n",
            "1/1 [==============================] - 0s 7ms/step - loss: 0.0970 - mae: 0.2673\n",
            "Epoch 109/1200\n",
            "1/1 [==============================] - 0s 8ms/step - loss: 0.0963 - mae: 0.2664\n",
            "Epoch 110/1200\n",
            "1/1 [==============================] - 0s 7ms/step - loss: 0.0957 - mae: 0.2655\n",
            "Epoch 111/1200\n",
            "1/1 [==============================] - 0s 8ms/step - loss: 0.0950 - mae: 0.2646\n",
            "Epoch 112/1200\n",
            "1/1 [==============================] - 0s 8ms/step - loss: 0.0944 - mae: 0.2637\n",
            "Epoch 113/1200\n",
            "1/1 [==============================] - 0s 8ms/step - loss: 0.0937 - mae: 0.2628\n",
            "Epoch 114/1200\n",
            "1/1 [==============================] - 0s 8ms/step - loss: 0.0931 - mae: 0.2619\n",
            "Epoch 115/1200\n",
            "1/1 [==============================] - 0s 15ms/step - loss: 0.0925 - mae: 0.2610\n",
            "Epoch 116/1200\n",
            "1/1 [==============================] - 0s 8ms/step - loss: 0.0919 - mae: 0.2601\n",
            "Epoch 117/1200\n",
            "1/1 [==============================] - 0s 7ms/step - loss: 0.0912 - mae: 0.2593\n",
            "Epoch 118/1200\n",
            "1/1 [==============================] - 0s 7ms/step - loss: 0.0906 - mae: 0.2584\n",
            "Epoch 119/1200\n",
            "1/1 [==============================] - 0s 8ms/step - loss: 0.0900 - mae: 0.2575\n",
            "Epoch 120/1200\n",
            "1/1 [==============================] - 0s 7ms/step - loss: 0.0894 - mae: 0.2566\n",
            "Epoch 121/1200\n",
            "1/1 [==============================] - 0s 8ms/step - loss: 0.0888 - mae: 0.2558\n",
            "Epoch 122/1200\n",
            "1/1 [==============================] - 0s 8ms/step - loss: 0.0882 - mae: 0.2549\n",
            "Epoch 123/1200\n",
            "1/1 [==============================] - 0s 7ms/step - loss: 0.0876 - mae: 0.2540\n",
            "Epoch 124/1200\n",
            "1/1 [==============================] - 0s 7ms/step - loss: 0.0870 - mae: 0.2532\n",
            "Epoch 125/1200\n",
            "1/1 [==============================] - 0s 10ms/step - loss: 0.0864 - mae: 0.2523\n",
            "Epoch 126/1200\n",
            "1/1 [==============================] - 0s 6ms/step - loss: 0.0858 - mae: 0.2515\n",
            "Epoch 127/1200\n",
            "1/1 [==============================] - 0s 11ms/step - loss: 0.0853 - mae: 0.2506\n",
            "Epoch 128/1200\n",
            "1/1 [==============================] - 0s 10ms/step - loss: 0.0847 - mae: 0.2498\n",
            "Epoch 129/1200\n",
            "1/1 [==============================] - 0s 6ms/step - loss: 0.0841 - mae: 0.2489\n",
            "Epoch 130/1200\n",
            "1/1 [==============================] - 0s 6ms/step - loss: 0.0835 - mae: 0.2481\n",
            "Epoch 131/1200\n",
            "1/1 [==============================] - 0s 8ms/step - loss: 0.0830 - mae: 0.2473\n",
            "Epoch 132/1200\n",
            "1/1 [==============================] - 0s 6ms/step - loss: 0.0824 - mae: 0.2464\n",
            "Epoch 133/1200\n",
            "1/1 [==============================] - 0s 7ms/step - loss: 0.0819 - mae: 0.2456\n",
            "Epoch 134/1200\n",
            "1/1 [==============================] - 0s 6ms/step - loss: 0.0813 - mae: 0.2448\n",
            "Epoch 135/1200\n",
            "1/1 [==============================] - 0s 7ms/step - loss: 0.0808 - mae: 0.2439\n",
            "Epoch 136/1200\n",
            "1/1 [==============================] - 0s 6ms/step - loss: 0.0802 - mae: 0.2431\n",
            "Epoch 137/1200\n",
            "1/1 [==============================] - 0s 6ms/step - loss: 0.0797 - mae: 0.2423\n",
            "Epoch 138/1200\n",
            "1/1 [==============================] - 0s 6ms/step - loss: 0.0791 - mae: 0.2415\n",
            "Epoch 139/1200\n",
            "1/1 [==============================] - 0s 6ms/step - loss: 0.0786 - mae: 0.2406\n",
            "Epoch 140/1200\n",
            "1/1 [==============================] - 0s 7ms/step - loss: 0.0781 - mae: 0.2398\n",
            "Epoch 141/1200\n",
            "1/1 [==============================] - 0s 6ms/step - loss: 0.0775 - mae: 0.2390\n",
            "Epoch 142/1200\n",
            "1/1 [==============================] - 0s 7ms/step - loss: 0.0770 - mae: 0.2382\n",
            "Epoch 143/1200\n",
            "1/1 [==============================] - 0s 7ms/step - loss: 0.0765 - mae: 0.2374\n",
            "Epoch 144/1200\n",
            "1/1 [==============================] - 0s 7ms/step - loss: 0.0760 - mae: 0.2366\n",
            "Epoch 145/1200\n",
            "1/1 [==============================] - 0s 7ms/step - loss: 0.0755 - mae: 0.2358\n",
            "Epoch 146/1200\n",
            "1/1 [==============================] - 0s 8ms/step - loss: 0.0750 - mae: 0.2350\n",
            "Epoch 147/1200\n",
            "1/1 [==============================] - 0s 9ms/step - loss: 0.0745 - mae: 0.2342\n",
            "Epoch 148/1200\n",
            "1/1 [==============================] - 0s 8ms/step - loss: 0.0740 - mae: 0.2334\n",
            "Epoch 149/1200\n",
            "1/1 [==============================] - 0s 9ms/step - loss: 0.0735 - mae: 0.2326\n",
            "Epoch 150/1200\n",
            "1/1 [==============================] - 0s 8ms/step - loss: 0.0730 - mae: 0.2318\n",
            "Epoch 151/1200\n",
            "1/1 [==============================] - 0s 7ms/step - loss: 0.0725 - mae: 0.2311\n",
            "Epoch 152/1200\n",
            "1/1 [==============================] - 0s 7ms/step - loss: 0.0720 - mae: 0.2303\n",
            "Epoch 153/1200\n",
            "1/1 [==============================] - 0s 7ms/step - loss: 0.0715 - mae: 0.2295\n",
            "Epoch 154/1200\n",
            "1/1 [==============================] - 0s 7ms/step - loss: 0.0710 - mae: 0.2287\n",
            "Epoch 155/1200\n",
            "1/1 [==============================] - 0s 7ms/step - loss: 0.0705 - mae: 0.2279\n",
            "Epoch 156/1200\n",
            "1/1 [==============================] - 0s 7ms/step - loss: 0.0701 - mae: 0.2272\n",
            "Epoch 157/1200\n",
            "1/1 [==============================] - 0s 7ms/step - loss: 0.0696 - mae: 0.2264\n",
            "Epoch 158/1200\n",
            "1/1 [==============================] - 0s 7ms/step - loss: 0.0691 - mae: 0.2256\n",
            "Epoch 159/1200\n",
            "1/1 [==============================] - 0s 7ms/step - loss: 0.0686 - mae: 0.2249\n",
            "Epoch 160/1200\n",
            "1/1 [==============================] - 0s 7ms/step - loss: 0.0682 - mae: 0.2241\n",
            "Epoch 161/1200\n",
            "1/1 [==============================] - 0s 7ms/step - loss: 0.0677 - mae: 0.2234\n",
            "Epoch 162/1200\n",
            "1/1 [==============================] - 0s 11ms/step - loss: 0.0673 - mae: 0.2226\n",
            "Epoch 163/1200\n",
            "1/1 [==============================] - 0s 7ms/step - loss: 0.0668 - mae: 0.2219\n",
            "Epoch 164/1200\n",
            "1/1 [==============================] - 0s 6ms/step - loss: 0.0664 - mae: 0.2211\n",
            "Epoch 165/1200\n",
            "1/1 [==============================] - 0s 8ms/step - loss: 0.0659 - mae: 0.2204\n",
            "Epoch 166/1200\n",
            "1/1 [==============================] - 0s 7ms/step - loss: 0.0655 - mae: 0.2196\n",
            "Epoch 167/1200\n",
            "1/1 [==============================] - 0s 7ms/step - loss: 0.0650 - mae: 0.2189\n",
            "Epoch 168/1200\n",
            "1/1 [==============================] - 0s 7ms/step - loss: 0.0646 - mae: 0.2181\n",
            "Epoch 169/1200\n",
            "1/1 [==============================] - 0s 12ms/step - loss: 0.0641 - mae: 0.2174\n",
            "Epoch 170/1200\n",
            "1/1 [==============================] - 0s 7ms/step - loss: 0.0637 - mae: 0.2167\n",
            "Epoch 171/1200\n",
            "1/1 [==============================] - 0s 12ms/step - loss: 0.0633 - mae: 0.2159\n",
            "Epoch 172/1200\n",
            "1/1 [==============================] - 0s 6ms/step - loss: 0.0629 - mae: 0.2152\n",
            "Epoch 173/1200\n",
            "1/1 [==============================] - 0s 6ms/step - loss: 0.0624 - mae: 0.2145\n",
            "Epoch 174/1200\n",
            "1/1 [==============================] - 0s 7ms/step - loss: 0.0620 - mae: 0.2137\n",
            "Epoch 175/1200\n",
            "1/1 [==============================] - 0s 7ms/step - loss: 0.0616 - mae: 0.2130\n",
            "Epoch 176/1200\n",
            "1/1 [==============================] - 0s 7ms/step - loss: 0.0612 - mae: 0.2123\n",
            "Epoch 177/1200\n",
            "1/1 [==============================] - 0s 7ms/step - loss: 0.0608 - mae: 0.2116\n",
            "Epoch 178/1200\n",
            "1/1 [==============================] - 0s 7ms/step - loss: 0.0604 - mae: 0.2109\n",
            "Epoch 179/1200\n",
            "1/1 [==============================] - 0s 6ms/step - loss: 0.0599 - mae: 0.2102\n",
            "Epoch 180/1200\n",
            "1/1 [==============================] - 0s 7ms/step - loss: 0.0595 - mae: 0.2094\n",
            "Epoch 181/1200\n",
            "1/1 [==============================] - 0s 6ms/step - loss: 0.0591 - mae: 0.2087\n",
            "Epoch 182/1200\n",
            "1/1 [==============================] - 0s 128ms/step - loss: 0.0587 - mae: 0.2080\n",
            "Epoch 183/1200\n",
            "1/1 [==============================] - 0s 7ms/step - loss: 0.0583 - mae: 0.2073\n",
            "Epoch 184/1200\n",
            "1/1 [==============================] - 0s 6ms/step - loss: 0.0580 - mae: 0.2066\n",
            "Epoch 185/1200\n",
            "1/1 [==============================] - 0s 6ms/step - loss: 0.0576 - mae: 0.2059\n",
            "Epoch 186/1200\n",
            "1/1 [==============================] - 0s 6ms/step - loss: 0.0572 - mae: 0.2052\n",
            "Epoch 187/1200\n",
            "1/1 [==============================] - 0s 6ms/step - loss: 0.0568 - mae: 0.2045\n",
            "Epoch 188/1200\n",
            "1/1 [==============================] - 0s 6ms/step - loss: 0.0564 - mae: 0.2038\n",
            "Epoch 189/1200\n",
            "1/1 [==============================] - 0s 6ms/step - loss: 0.0560 - mae: 0.2032\n",
            "Epoch 190/1200\n",
            "1/1 [==============================] - 0s 7ms/step - loss: 0.0556 - mae: 0.2025\n",
            "Epoch 191/1200\n",
            "1/1 [==============================] - 0s 6ms/step - loss: 0.0553 - mae: 0.2018\n",
            "Epoch 192/1200\n",
            "1/1 [==============================] - 0s 7ms/step - loss: 0.0549 - mae: 0.2011\n",
            "Epoch 193/1200\n",
            "1/1 [==============================] - 0s 6ms/step - loss: 0.0545 - mae: 0.2004\n",
            "Epoch 194/1200\n",
            "1/1 [==============================] - 0s 7ms/step - loss: 0.0542 - mae: 0.1997\n",
            "Epoch 195/1200\n",
            "1/1 [==============================] - 0s 7ms/step - loss: 0.0538 - mae: 0.1991\n",
            "Epoch 196/1200\n",
            "1/1 [==============================] - 0s 7ms/step - loss: 0.0534 - mae: 0.1984\n",
            "Epoch 197/1200\n",
            "1/1 [==============================] - 0s 7ms/step - loss: 0.0531 - mae: 0.1977\n",
            "Epoch 198/1200\n",
            "1/1 [==============================] - 0s 12ms/step - loss: 0.0527 - mae: 0.1971\n",
            "Epoch 199/1200\n",
            "1/1 [==============================] - 0s 6ms/step - loss: 0.0524 - mae: 0.1964\n",
            "Epoch 200/1200\n",
            "1/1 [==============================] - 0s 6ms/step - loss: 0.0520 - mae: 0.1957\n",
            "Epoch 201/1200\n",
            "1/1 [==============================] - 0s 6ms/step - loss: 0.0516 - mae: 0.1951\n",
            "Epoch 202/1200\n",
            "1/1 [==============================] - 0s 7ms/step - loss: 0.0513 - mae: 0.1944\n",
            "Epoch 203/1200\n",
            "1/1 [==============================] - 0s 8ms/step - loss: 0.0510 - mae: 0.1937\n",
            "Epoch 204/1200\n",
            "1/1 [==============================] - 0s 7ms/step - loss: 0.0506 - mae: 0.1931\n",
            "Epoch 205/1200\n",
            "1/1 [==============================] - 0s 7ms/step - loss: 0.0503 - mae: 0.1924\n",
            "Epoch 206/1200\n",
            "1/1 [==============================] - 0s 7ms/step - loss: 0.0499 - mae: 0.1918\n",
            "Epoch 207/1200\n",
            "1/1 [==============================] - 0s 7ms/step - loss: 0.0496 - mae: 0.1911\n",
            "Epoch 208/1200\n",
            "1/1 [==============================] - 0s 7ms/step - loss: 0.0493 - mae: 0.1905\n",
            "Epoch 209/1200\n",
            "1/1 [==============================] - 0s 7ms/step - loss: 0.0489 - mae: 0.1899\n",
            "Epoch 210/1200\n",
            "1/1 [==============================] - 0s 7ms/step - loss: 0.0486 - mae: 0.1892\n",
            "Epoch 211/1200\n",
            "1/1 [==============================] - 0s 9ms/step - loss: 0.0483 - mae: 0.1886\n",
            "Epoch 212/1200\n",
            "1/1 [==============================] - 0s 18ms/step - loss: 0.0479 - mae: 0.1879\n",
            "Epoch 213/1200\n",
            "1/1 [==============================] - 0s 7ms/step - loss: 0.0476 - mae: 0.1873\n",
            "Epoch 214/1200\n",
            "1/1 [==============================] - 0s 7ms/step - loss: 0.0473 - mae: 0.1867\n",
            "Epoch 215/1200\n",
            "1/1 [==============================] - 0s 7ms/step - loss: 0.0470 - mae: 0.1860\n",
            "Epoch 216/1200\n",
            "1/1 [==============================] - 0s 7ms/step - loss: 0.0467 - mae: 0.1854\n",
            "Epoch 217/1200\n",
            "1/1 [==============================] - 0s 10ms/step - loss: 0.0463 - mae: 0.1848\n",
            "Epoch 218/1200\n",
            "1/1 [==============================] - 0s 6ms/step - loss: 0.0460 - mae: 0.1842\n",
            "Epoch 219/1200\n",
            "1/1 [==============================] - 0s 6ms/step - loss: 0.0457 - mae: 0.1835\n",
            "Epoch 220/1200\n",
            "1/1 [==============================] - 0s 7ms/step - loss: 0.0454 - mae: 0.1829\n",
            "Epoch 221/1200\n",
            "1/1 [==============================] - 0s 7ms/step - loss: 0.0451 - mae: 0.1823\n",
            "Epoch 222/1200\n",
            "1/1 [==============================] - 0s 7ms/step - loss: 0.0448 - mae: 0.1817\n",
            "Epoch 223/1200\n",
            "1/1 [==============================] - 0s 7ms/step - loss: 0.0445 - mae: 0.1811\n",
            "Epoch 224/1200\n",
            "1/1 [==============================] - 0s 7ms/step - loss: 0.0442 - mae: 0.1804\n",
            "Epoch 225/1200\n",
            "1/1 [==============================] - 0s 7ms/step - loss: 0.0439 - mae: 0.1798\n",
            "Epoch 226/1200\n",
            "1/1 [==============================] - 0s 7ms/step - loss: 0.0436 - mae: 0.1792\n",
            "Epoch 227/1200\n",
            "1/1 [==============================] - 0s 8ms/step - loss: 0.0433 - mae: 0.1786\n",
            "Epoch 228/1200\n",
            "1/1 [==============================] - 0s 8ms/step - loss: 0.0430 - mae: 0.1780\n",
            "Epoch 229/1200\n",
            "1/1 [==============================] - 0s 7ms/step - loss: 0.0427 - mae: 0.1774\n",
            "Epoch 230/1200\n",
            "1/1 [==============================] - 0s 7ms/step - loss: 0.0424 - mae: 0.1768\n",
            "Epoch 231/1200\n",
            "1/1 [==============================] - 0s 7ms/step - loss: 0.0422 - mae: 0.1762\n",
            "Epoch 232/1200\n",
            "1/1 [==============================] - 0s 7ms/step - loss: 0.0419 - mae: 0.1756\n",
            "Epoch 233/1200\n",
            "1/1 [==============================] - 0s 7ms/step - loss: 0.0416 - mae: 0.1750\n",
            "Epoch 234/1200\n",
            "1/1 [==============================] - 0s 7ms/step - loss: 0.0413 - mae: 0.1744\n",
            "Epoch 235/1200\n",
            "1/1 [==============================] - 0s 7ms/step - loss: 0.0410 - mae: 0.1738\n",
            "Epoch 236/1200\n",
            "1/1 [==============================] - 0s 7ms/step - loss: 0.0407 - mae: 0.1733\n",
            "Epoch 237/1200\n",
            "1/1 [==============================] - 0s 7ms/step - loss: 0.0405 - mae: 0.1727\n",
            "Epoch 238/1200\n",
            "1/1 [==============================] - 0s 7ms/step - loss: 0.0402 - mae: 0.1721\n",
            "Epoch 239/1200\n",
            "1/1 [==============================] - 0s 7ms/step - loss: 0.0399 - mae: 0.1715\n",
            "Epoch 240/1200\n",
            "1/1 [==============================] - 0s 10ms/step - loss: 0.0397 - mae: 0.1709\n",
            "Epoch 241/1200\n",
            "1/1 [==============================] - 0s 6ms/step - loss: 0.0394 - mae: 0.1704\n",
            "Epoch 242/1200\n",
            "1/1 [==============================] - 0s 7ms/step - loss: 0.0391 - mae: 0.1698\n",
            "Epoch 243/1200\n",
            "1/1 [==============================] - 0s 6ms/step - loss: 0.0389 - mae: 0.1692\n",
            "Epoch 244/1200\n",
            "1/1 [==============================] - 0s 6ms/step - loss: 0.0386 - mae: 0.1686\n",
            "Epoch 245/1200\n",
            "1/1 [==============================] - 0s 7ms/step - loss: 0.0383 - mae: 0.1681\n",
            "Epoch 246/1200\n",
            "1/1 [==============================] - 0s 7ms/step - loss: 0.0381 - mae: 0.1675\n",
            "Epoch 247/1200\n",
            "1/1 [==============================] - 0s 6ms/step - loss: 0.0378 - mae: 0.1669\n",
            "Epoch 248/1200\n",
            "1/1 [==============================] - 0s 7ms/step - loss: 0.0376 - mae: 0.1664\n",
            "Epoch 249/1200\n",
            "1/1 [==============================] - 0s 6ms/step - loss: 0.0373 - mae: 0.1658\n",
            "Epoch 250/1200\n",
            "1/1 [==============================] - 0s 6ms/step - loss: 0.0371 - mae: 0.1652\n",
            "Epoch 251/1200\n",
            "1/1 [==============================] - 0s 7ms/step - loss: 0.0368 - mae: 0.1647\n",
            "Epoch 252/1200\n",
            "1/1 [==============================] - 0s 7ms/step - loss: 0.0366 - mae: 0.1641\n",
            "Epoch 253/1200\n",
            "1/1 [==============================] - 0s 7ms/step - loss: 0.0363 - mae: 0.1636\n",
            "Epoch 254/1200\n",
            "1/1 [==============================] - 0s 7ms/step - loss: 0.0361 - mae: 0.1630\n",
            "Epoch 255/1200\n",
            "1/1 [==============================] - 0s 7ms/step - loss: 0.0358 - mae: 0.1625\n",
            "Epoch 256/1200\n",
            "1/1 [==============================] - 0s 7ms/step - loss: 0.0356 - mae: 0.1619\n",
            "Epoch 257/1200\n",
            "1/1 [==============================] - 0s 6ms/step - loss: 0.0353 - mae: 0.1614\n",
            "Epoch 258/1200\n",
            "1/1 [==============================] - 0s 6ms/step - loss: 0.0351 - mae: 0.1608\n",
            "Epoch 259/1200\n",
            "1/1 [==============================] - 0s 6ms/step - loss: 0.0349 - mae: 0.1603\n",
            "Epoch 260/1200\n",
            "1/1 [==============================] - 0s 6ms/step - loss: 0.0346 - mae: 0.1597\n",
            "Epoch 261/1200\n",
            "1/1 [==============================] - 0s 7ms/step - loss: 0.0344 - mae: 0.1592\n",
            "Epoch 262/1200\n",
            "1/1 [==============================] - 0s 7ms/step - loss: 0.0342 - mae: 0.1587\n",
            "Epoch 263/1200\n",
            "1/1 [==============================] - 0s 6ms/step - loss: 0.0339 - mae: 0.1581\n",
            "Epoch 264/1200\n",
            "1/1 [==============================] - 0s 7ms/step - loss: 0.0337 - mae: 0.1576\n",
            "Epoch 265/1200\n",
            "1/1 [==============================] - 0s 6ms/step - loss: 0.0335 - mae: 0.1571\n",
            "Epoch 266/1200\n",
            "1/1 [==============================] - 0s 6ms/step - loss: 0.0333 - mae: 0.1565\n",
            "Epoch 267/1200\n",
            "1/1 [==============================] - 0s 6ms/step - loss: 0.0330 - mae: 0.1560\n",
            "Epoch 268/1200\n",
            "1/1 [==============================] - 0s 6ms/step - loss: 0.0328 - mae: 0.1555\n",
            "Epoch 269/1200\n",
            "1/1 [==============================] - 0s 7ms/step - loss: 0.0326 - mae: 0.1549\n",
            "Epoch 270/1200\n",
            "1/1 [==============================] - 0s 6ms/step - loss: 0.0324 - mae: 0.1544\n",
            "Epoch 271/1200\n",
            "1/1 [==============================] - 0s 6ms/step - loss: 0.0321 - mae: 0.1539\n",
            "Epoch 272/1200\n",
            "1/1 [==============================] - 0s 6ms/step - loss: 0.0319 - mae: 0.1534\n",
            "Epoch 273/1200\n",
            "1/1 [==============================] - 0s 6ms/step - loss: 0.0317 - mae: 0.1529\n",
            "Epoch 274/1200\n",
            "1/1 [==============================] - 0s 6ms/step - loss: 0.0315 - mae: 0.1523\n",
            "Epoch 275/1200\n",
            "1/1 [==============================] - 0s 9ms/step - loss: 0.0313 - mae: 0.1518\n",
            "Epoch 276/1200\n",
            "1/1 [==============================] - 0s 6ms/step - loss: 0.0311 - mae: 0.1513\n",
            "Epoch 277/1200\n",
            "1/1 [==============================] - 0s 6ms/step - loss: 0.0309 - mae: 0.1508\n",
            "Epoch 278/1200\n",
            "1/1 [==============================] - 0s 6ms/step - loss: 0.0307 - mae: 0.1503\n",
            "Epoch 279/1200\n",
            "1/1 [==============================] - 0s 6ms/step - loss: 0.0305 - mae: 0.1498\n",
            "Epoch 280/1200\n",
            "1/1 [==============================] - 0s 6ms/step - loss: 0.0302 - mae: 0.1493\n",
            "Epoch 281/1200\n",
            "1/1 [==============================] - 0s 6ms/step - loss: 0.0300 - mae: 0.1488\n",
            "Epoch 282/1200\n",
            "1/1 [==============================] - 0s 6ms/step - loss: 0.0298 - mae: 0.1483\n",
            "Epoch 283/1200\n",
            "1/1 [==============================] - 0s 7ms/step - loss: 0.0296 - mae: 0.1478\n",
            "Epoch 284/1200\n",
            "1/1 [==============================] - 0s 6ms/step - loss: 0.0294 - mae: 0.1473\n",
            "Epoch 285/1200\n",
            "1/1 [==============================] - 0s 6ms/step - loss: 0.0292 - mae: 0.1468\n",
            "Epoch 286/1200\n",
            "1/1 [==============================] - 0s 5ms/step - loss: 0.0290 - mae: 0.1463\n",
            "Epoch 287/1200\n",
            "1/1 [==============================] - 0s 5ms/step - loss: 0.0288 - mae: 0.1458\n",
            "Epoch 288/1200\n",
            "1/1 [==============================] - 0s 6ms/step - loss: 0.0287 - mae: 0.1453\n",
            "Epoch 289/1200\n",
            "1/1 [==============================] - 0s 5ms/step - loss: 0.0285 - mae: 0.1448\n",
            "Epoch 290/1200\n",
            "1/1 [==============================] - 0s 5ms/step - loss: 0.0283 - mae: 0.1443\n",
            "Epoch 291/1200\n",
            "1/1 [==============================] - 0s 5ms/step - loss: 0.0281 - mae: 0.1438\n",
            "Epoch 292/1200\n",
            "1/1 [==============================] - 0s 6ms/step - loss: 0.0279 - mae: 0.1433\n",
            "Epoch 293/1200\n",
            "1/1 [==============================] - 0s 6ms/step - loss: 0.0277 - mae: 0.1428\n",
            "Epoch 294/1200\n",
            "1/1 [==============================] - 0s 5ms/step - loss: 0.0275 - mae: 0.1424\n",
            "Epoch 295/1200\n",
            "1/1 [==============================] - 0s 6ms/step - loss: 0.0273 - mae: 0.1419\n",
            "Epoch 296/1200\n",
            "1/1 [==============================] - 0s 6ms/step - loss: 0.0271 - mae: 0.1414\n",
            "Epoch 297/1200\n",
            "1/1 [==============================] - 0s 6ms/step - loss: 0.0270 - mae: 0.1409\n",
            "Epoch 298/1200\n",
            "1/1 [==============================] - 0s 10ms/step - loss: 0.0268 - mae: 0.1404\n",
            "Epoch 299/1200\n",
            "1/1 [==============================] - 0s 8ms/step - loss: 0.0266 - mae: 0.1400\n",
            "Epoch 300/1200\n",
            "1/1 [==============================] - 0s 6ms/step - loss: 0.0264 - mae: 0.1395\n",
            "Epoch 301/1200\n",
            "1/1 [==============================] - 0s 6ms/step - loss: 0.0262 - mae: 0.1390\n",
            "Epoch 302/1200\n",
            "1/1 [==============================] - 0s 6ms/step - loss: 0.0261 - mae: 0.1386\n",
            "Epoch 303/1200\n",
            "1/1 [==============================] - 0s 6ms/step - loss: 0.0259 - mae: 0.1381\n",
            "Epoch 304/1200\n",
            "1/1 [==============================] - 0s 8ms/step - loss: 0.0257 - mae: 0.1376\n",
            "Epoch 305/1200\n",
            "1/1 [==============================] - 0s 6ms/step - loss: 0.0255 - mae: 0.1372\n",
            "Epoch 306/1200\n",
            "1/1 [==============================] - 0s 6ms/step - loss: 0.0254 - mae: 0.1367\n",
            "Epoch 307/1200\n",
            "1/1 [==============================] - 0s 6ms/step - loss: 0.0252 - mae: 0.1362\n",
            "Epoch 308/1200\n",
            "1/1 [==============================] - 0s 5ms/step - loss: 0.0250 - mae: 0.1358\n",
            "Epoch 309/1200\n",
            "1/1 [==============================] - 0s 6ms/step - loss: 0.0249 - mae: 0.1353\n",
            "Epoch 310/1200\n",
            "1/1 [==============================] - 0s 5ms/step - loss: 0.0247 - mae: 0.1349\n",
            "Epoch 311/1200\n",
            "1/1 [==============================] - 0s 5ms/step - loss: 0.0245 - mae: 0.1344\n",
            "Epoch 312/1200\n",
            "1/1 [==============================] - 0s 6ms/step - loss: 0.0244 - mae: 0.1339\n",
            "Epoch 313/1200\n",
            "1/1 [==============================] - 0s 6ms/step - loss: 0.0242 - mae: 0.1335\n",
            "Epoch 314/1200\n",
            "1/1 [==============================] - 0s 5ms/step - loss: 0.0240 - mae: 0.1330\n",
            "Epoch 315/1200\n",
            "1/1 [==============================] - 0s 5ms/step - loss: 0.0239 - mae: 0.1326\n",
            "Epoch 316/1200\n",
            "1/1 [==============================] - 0s 6ms/step - loss: 0.0237 - mae: 0.1321\n",
            "Epoch 317/1200\n",
            "1/1 [==============================] - 0s 6ms/step - loss: 0.0235 - mae: 0.1317\n",
            "Epoch 318/1200\n",
            "1/1 [==============================] - 0s 9ms/step - loss: 0.0234 - mae: 0.1312\n",
            "Epoch 319/1200\n",
            "1/1 [==============================] - 0s 6ms/step - loss: 0.0232 - mae: 0.1308\n",
            "Epoch 320/1200\n",
            "1/1 [==============================] - 0s 6ms/step - loss: 0.0231 - mae: 0.1304\n",
            "Epoch 321/1200\n",
            "1/1 [==============================] - 0s 6ms/step - loss: 0.0229 - mae: 0.1299\n",
            "Epoch 322/1200\n",
            "1/1 [==============================] - 0s 12ms/step - loss: 0.0228 - mae: 0.1295\n",
            "Epoch 323/1200\n",
            "1/1 [==============================] - 0s 8ms/step - loss: 0.0226 - mae: 0.1290\n",
            "Epoch 324/1200\n",
            "1/1 [==============================] - 0s 6ms/step - loss: 0.0225 - mae: 0.1286\n",
            "Epoch 325/1200\n",
            "1/1 [==============================] - 0s 6ms/step - loss: 0.0223 - mae: 0.1282\n",
            "Epoch 326/1200\n",
            "1/1 [==============================] - 0s 6ms/step - loss: 0.0221 - mae: 0.1277\n",
            "Epoch 327/1200\n",
            "1/1 [==============================] - 0s 5ms/step - loss: 0.0220 - mae: 0.1273\n",
            "Epoch 328/1200\n",
            "1/1 [==============================] - 0s 7ms/step - loss: 0.0219 - mae: 0.1269\n",
            "Epoch 329/1200\n",
            "1/1 [==============================] - 0s 6ms/step - loss: 0.0217 - mae: 0.1264\n",
            "Epoch 330/1200\n",
            "1/1 [==============================] - 0s 9ms/step - loss: 0.0216 - mae: 0.1260\n",
            "Epoch 331/1200\n",
            "1/1 [==============================] - 0s 5ms/step - loss: 0.0214 - mae: 0.1256\n",
            "Epoch 332/1200\n",
            "1/1 [==============================] - 0s 6ms/step - loss: 0.0213 - mae: 0.1252\n",
            "Epoch 333/1200\n",
            "1/1 [==============================] - 0s 6ms/step - loss: 0.0211 - mae: 0.1247\n",
            "Epoch 334/1200\n",
            "1/1 [==============================] - 0s 6ms/step - loss: 0.0210 - mae: 0.1243\n",
            "Epoch 335/1200\n",
            "1/1 [==============================] - 0s 6ms/step - loss: 0.0208 - mae: 0.1239\n",
            "Epoch 336/1200\n",
            "1/1 [==============================] - 0s 6ms/step - loss: 0.0207 - mae: 0.1235\n",
            "Epoch 337/1200\n",
            "1/1 [==============================] - 0s 6ms/step - loss: 0.0206 - mae: 0.1231\n",
            "Epoch 338/1200\n",
            "1/1 [==============================] - 0s 6ms/step - loss: 0.0204 - mae: 0.1227\n",
            "Epoch 339/1200\n",
            "1/1 [==============================] - 0s 6ms/step - loss: 0.0203 - mae: 0.1222\n",
            "Epoch 340/1200\n",
            "1/1 [==============================] - 0s 6ms/step - loss: 0.0201 - mae: 0.1218\n",
            "Epoch 341/1200\n",
            "1/1 [==============================] - 0s 6ms/step - loss: 0.0200 - mae: 0.1214\n",
            "Epoch 342/1200\n",
            "1/1 [==============================] - 0s 5ms/step - loss: 0.0199 - mae: 0.1210\n",
            "Epoch 343/1200\n",
            "1/1 [==============================] - 0s 5ms/step - loss: 0.0197 - mae: 0.1206\n",
            "Epoch 344/1200\n",
            "1/1 [==============================] - 0s 5ms/step - loss: 0.0196 - mae: 0.1202\n",
            "Epoch 345/1200\n",
            "1/1 [==============================] - 0s 5ms/step - loss: 0.0195 - mae: 0.1198\n",
            "Epoch 346/1200\n",
            "1/1 [==============================] - 0s 5ms/step - loss: 0.0193 - mae: 0.1194\n",
            "Epoch 347/1200\n",
            "1/1 [==============================] - 0s 11ms/step - loss: 0.0192 - mae: 0.1190\n",
            "Epoch 348/1200\n",
            "1/1 [==============================] - 0s 5ms/step - loss: 0.0191 - mae: 0.1186\n",
            "Epoch 349/1200\n",
            "1/1 [==============================] - 0s 228ms/step - loss: 0.0190 - mae: 0.1182\n",
            "Epoch 350/1200\n",
            "1/1 [==============================] - 0s 7ms/step - loss: 0.0188 - mae: 0.1178\n",
            "Epoch 351/1200\n",
            "1/1 [==============================] - 0s 7ms/step - loss: 0.0187 - mae: 0.1174\n",
            "Epoch 352/1200\n",
            "1/1 [==============================] - 0s 7ms/step - loss: 0.0186 - mae: 0.1170\n",
            "Epoch 353/1200\n",
            "1/1 [==============================] - 0s 7ms/step - loss: 0.0184 - mae: 0.1166\n",
            "Epoch 354/1200\n",
            "1/1 [==============================] - 0s 7ms/step - loss: 0.0183 - mae: 0.1162\n",
            "Epoch 355/1200\n",
            "1/1 [==============================] - 0s 7ms/step - loss: 0.0182 - mae: 0.1158\n",
            "Epoch 356/1200\n",
            "1/1 [==============================] - 0s 7ms/step - loss: 0.0181 - mae: 0.1154\n",
            "Epoch 357/1200\n",
            "1/1 [==============================] - 0s 14ms/step - loss: 0.0180 - mae: 0.1150\n",
            "Epoch 358/1200\n",
            "1/1 [==============================] - 0s 22ms/step - loss: 0.0178 - mae: 0.1146\n",
            "Epoch 359/1200\n",
            "1/1 [==============================] - 0s 10ms/step - loss: 0.0177 - mae: 0.1142\n",
            "Epoch 360/1200\n",
            "1/1 [==============================] - 0s 7ms/step - loss: 0.0176 - mae: 0.1138\n",
            "Epoch 361/1200\n",
            "1/1 [==============================] - 0s 130ms/step - loss: 0.0175 - mae: 0.1135\n",
            "Epoch 362/1200\n",
            "1/1 [==============================] - 0s 12ms/step - loss: 0.0174 - mae: 0.1131\n",
            "Epoch 363/1200\n",
            "1/1 [==============================] - 0s 5ms/step - loss: 0.0172 - mae: 0.1127\n",
            "Epoch 364/1200\n",
            "1/1 [==============================] - 0s 7ms/step - loss: 0.0171 - mae: 0.1123\n",
            "Epoch 365/1200\n",
            "1/1 [==============================] - 0s 10ms/step - loss: 0.0170 - mae: 0.1119\n",
            "Epoch 366/1200\n",
            "1/1 [==============================] - 0s 8ms/step - loss: 0.0169 - mae: 0.1116\n",
            "Epoch 367/1200\n",
            "1/1 [==============================] - 0s 5ms/step - loss: 0.0168 - mae: 0.1112\n",
            "Epoch 368/1200\n",
            "1/1 [==============================] - 0s 6ms/step - loss: 0.0167 - mae: 0.1108\n",
            "Epoch 369/1200\n",
            "1/1 [==============================] - 0s 6ms/step - loss: 0.0166 - mae: 0.1104\n",
            "Epoch 370/1200\n",
            "1/1 [==============================] - 0s 5ms/step - loss: 0.0164 - mae: 0.1101\n",
            "Epoch 371/1200\n",
            "1/1 [==============================] - 0s 5ms/step - loss: 0.0163 - mae: 0.1097\n",
            "Epoch 372/1200\n",
            "1/1 [==============================] - 0s 5ms/step - loss: 0.0162 - mae: 0.1093\n",
            "Epoch 373/1200\n",
            "1/1 [==============================] - 0s 5ms/step - loss: 0.0161 - mae: 0.1089\n",
            "Epoch 374/1200\n",
            "1/1 [==============================] - 0s 5ms/step - loss: 0.0160 - mae: 0.1086\n",
            "Epoch 375/1200\n",
            "1/1 [==============================] - 0s 5ms/step - loss: 0.0159 - mae: 0.1082\n",
            "Epoch 376/1200\n",
            "1/1 [==============================] - 0s 5ms/step - loss: 0.0158 - mae: 0.1078\n",
            "Epoch 377/1200\n",
            "1/1 [==============================] - 0s 5ms/step - loss: 0.0157 - mae: 0.1075\n",
            "Epoch 378/1200\n",
            "1/1 [==============================] - 0s 8ms/step - loss: 0.0156 - mae: 0.1071\n",
            "Epoch 379/1200\n",
            "1/1 [==============================] - 0s 6ms/step - loss: 0.0155 - mae: 0.1068\n",
            "Epoch 380/1200\n",
            "1/1 [==============================] - 0s 12ms/step - loss: 0.0154 - mae: 0.1064\n",
            "Epoch 381/1200\n",
            "1/1 [==============================] - 0s 8ms/step - loss: 0.0153 - mae: 0.1060\n",
            "Epoch 382/1200\n",
            "1/1 [==============================] - 0s 9ms/step - loss: 0.0152 - mae: 0.1057\n",
            "Epoch 383/1200\n",
            "1/1 [==============================] - 0s 6ms/step - loss: 0.0151 - mae: 0.1053\n",
            "Epoch 384/1200\n",
            "1/1 [==============================] - 0s 5ms/step - loss: 0.0150 - mae: 0.1050\n",
            "Epoch 385/1200\n",
            "1/1 [==============================] - 0s 5ms/step - loss: 0.0149 - mae: 0.1046\n",
            "Epoch 386/1200\n",
            "1/1 [==============================] - 0s 6ms/step - loss: 0.0148 - mae: 0.1043\n",
            "Epoch 387/1200\n",
            "1/1 [==============================] - 0s 6ms/step - loss: 0.0147 - mae: 0.1039\n",
            "Epoch 388/1200\n",
            "1/1 [==============================] - 0s 7ms/step - loss: 0.0146 - mae: 0.1035\n",
            "Epoch 389/1200\n",
            "1/1 [==============================] - 0s 6ms/step - loss: 0.0145 - mae: 0.1032\n",
            "Epoch 390/1200\n",
            "1/1 [==============================] - 0s 5ms/step - loss: 0.0144 - mae: 0.1028\n",
            "Epoch 391/1200\n",
            "1/1 [==============================] - 0s 5ms/step - loss: 0.0143 - mae: 0.1025\n",
            "Epoch 392/1200\n",
            "1/1 [==============================] - 0s 13ms/step - loss: 0.0142 - mae: 0.1022\n",
            "Epoch 393/1200\n",
            "1/1 [==============================] - 0s 23ms/step - loss: 0.0141 - mae: 0.1018\n",
            "Epoch 394/1200\n",
            "1/1 [==============================] - 0s 43ms/step - loss: 0.0140 - mae: 0.1015\n",
            "Epoch 395/1200\n",
            "1/1 [==============================] - 0s 6ms/step - loss: 0.0139 - mae: 0.1011\n",
            "Epoch 396/1200\n",
            "1/1 [==============================] - 0s 5ms/step - loss: 0.0138 - mae: 0.1008\n",
            "Epoch 397/1200\n",
            "1/1 [==============================] - 0s 5ms/step - loss: 0.0137 - mae: 0.1004\n",
            "Epoch 398/1200\n",
            "1/1 [==============================] - 0s 6ms/step - loss: 0.0136 - mae: 0.1001\n",
            "Epoch 399/1200\n",
            "1/1 [==============================] - 0s 5ms/step - loss: 0.0135 - mae: 0.0998\n",
            "Epoch 400/1200\n",
            "1/1 [==============================] - 0s 5ms/step - loss: 0.0134 - mae: 0.0994\n",
            "Epoch 401/1200\n",
            "1/1 [==============================] - 0s 5ms/step - loss: 0.0133 - mae: 0.0991\n",
            "Epoch 402/1200\n",
            "1/1 [==============================] - 0s 5ms/step - loss: 0.0132 - mae: 0.0988\n",
            "Epoch 403/1200\n",
            "1/1 [==============================] - 0s 5ms/step - loss: 0.0131 - mae: 0.0984\n",
            "Epoch 404/1200\n",
            "1/1 [==============================] - 0s 5ms/step - loss: 0.0131 - mae: 0.0981\n",
            "Epoch 405/1200\n",
            "1/1 [==============================] - 0s 5ms/step - loss: 0.0130 - mae: 0.0978\n",
            "Epoch 406/1200\n",
            "1/1 [==============================] - 0s 5ms/step - loss: 0.0129 - mae: 0.0974\n",
            "Epoch 407/1200\n",
            "1/1 [==============================] - 0s 5ms/step - loss: 0.0128 - mae: 0.0971\n",
            "Epoch 408/1200\n",
            "1/1 [==============================] - 0s 5ms/step - loss: 0.0127 - mae: 0.0968\n",
            "Epoch 409/1200\n",
            "1/1 [==============================] - 0s 5ms/step - loss: 0.0126 - mae: 0.0964\n",
            "Epoch 410/1200\n",
            "1/1 [==============================] - 0s 6ms/step - loss: 0.0125 - mae: 0.0961\n",
            "Epoch 411/1200\n",
            "1/1 [==============================] - 0s 6ms/step - loss: 0.0125 - mae: 0.0958\n",
            "Epoch 412/1200\n",
            "1/1 [==============================] - 0s 5ms/step - loss: 0.0124 - mae: 0.0955\n",
            "Epoch 413/1200\n",
            "1/1 [==============================] - 0s 5ms/step - loss: 0.0123 - mae: 0.0951\n",
            "Epoch 414/1200\n",
            "1/1 [==============================] - 0s 5ms/step - loss: 0.0122 - mae: 0.0948\n",
            "Epoch 415/1200\n",
            "1/1 [==============================] - 0s 5ms/step - loss: 0.0121 - mae: 0.0945\n",
            "Epoch 416/1200\n",
            "1/1 [==============================] - 0s 5ms/step - loss: 0.0120 - mae: 0.0942\n",
            "Epoch 417/1200\n",
            "1/1 [==============================] - 0s 5ms/step - loss: 0.0120 - mae: 0.0939\n",
            "Epoch 418/1200\n",
            "1/1 [==============================] - 0s 5ms/step - loss: 0.0119 - mae: 0.0935\n",
            "Epoch 419/1200\n",
            "1/1 [==============================] - 0s 5ms/step - loss: 0.0118 - mae: 0.0932\n",
            "Epoch 420/1200\n",
            "1/1 [==============================] - 0s 5ms/step - loss: 0.0117 - mae: 0.0929\n",
            "Epoch 421/1200\n",
            "1/1 [==============================] - 0s 5ms/step - loss: 0.0116 - mae: 0.0926\n",
            "Epoch 422/1200\n",
            "1/1 [==============================] - 0s 6ms/step - loss: 0.0116 - mae: 0.0923\n",
            "Epoch 423/1200\n",
            "1/1 [==============================] - 0s 5ms/step - loss: 0.0115 - mae: 0.0920\n",
            "Epoch 424/1200\n",
            "1/1 [==============================] - 0s 6ms/step - loss: 0.0114 - mae: 0.0917\n",
            "Epoch 425/1200\n",
            "1/1 [==============================] - 0s 8ms/step - loss: 0.0113 - mae: 0.0914\n",
            "Epoch 426/1200\n",
            "1/1 [==============================] - 0s 10ms/step - loss: 0.0113 - mae: 0.0910\n",
            "Epoch 427/1200\n",
            "1/1 [==============================] - 0s 10ms/step - loss: 0.0112 - mae: 0.0907\n",
            "Epoch 428/1200\n",
            "1/1 [==============================] - 0s 6ms/step - loss: 0.0111 - mae: 0.0904\n",
            "Epoch 429/1200\n",
            "1/1 [==============================] - 0s 6ms/step - loss: 0.0110 - mae: 0.0901\n",
            "Epoch 430/1200\n",
            "1/1 [==============================] - 0s 6ms/step - loss: 0.0110 - mae: 0.0898\n",
            "Epoch 431/1200\n",
            "1/1 [==============================] - 0s 6ms/step - loss: 0.0109 - mae: 0.0895\n",
            "Epoch 432/1200\n",
            "1/1 [==============================] - 0s 10ms/step - loss: 0.0108 - mae: 0.0892\n",
            "Epoch 433/1200\n",
            "1/1 [==============================] - 0s 5ms/step - loss: 0.0107 - mae: 0.0889\n",
            "Epoch 434/1200\n",
            "1/1 [==============================] - 0s 5ms/step - loss: 0.0107 - mae: 0.0886\n",
            "Epoch 435/1200\n",
            "1/1 [==============================] - 0s 5ms/step - loss: 0.0106 - mae: 0.0883\n",
            "Epoch 436/1200\n",
            "1/1 [==============================] - 0s 5ms/step - loss: 0.0105 - mae: 0.0880\n",
            "Epoch 437/1200\n",
            "1/1 [==============================] - 0s 7ms/step - loss: 0.0104 - mae: 0.0877\n",
            "Epoch 438/1200\n",
            "1/1 [==============================] - 0s 7ms/step - loss: 0.0104 - mae: 0.0874\n",
            "Epoch 439/1200\n",
            "1/1 [==============================] - 0s 7ms/step - loss: 0.0103 - mae: 0.0871\n",
            "Epoch 440/1200\n",
            "1/1 [==============================] - 0s 11ms/step - loss: 0.0102 - mae: 0.0868\n",
            "Epoch 441/1200\n",
            "1/1 [==============================] - 0s 6ms/step - loss: 0.0102 - mae: 0.0865\n",
            "Epoch 442/1200\n",
            "1/1 [==============================] - 0s 6ms/step - loss: 0.0101 - mae: 0.0862\n",
            "Epoch 443/1200\n",
            "1/1 [==============================] - 0s 6ms/step - loss: 0.0100 - mae: 0.0859\n",
            "Epoch 444/1200\n",
            "1/1 [==============================] - 0s 6ms/step - loss: 0.0100 - mae: 0.0857\n",
            "Epoch 445/1200\n",
            "1/1 [==============================] - 0s 7ms/step - loss: 0.0099 - mae: 0.0854\n",
            "Epoch 446/1200\n",
            "1/1 [==============================] - 0s 8ms/step - loss: 0.0098 - mae: 0.0851\n",
            "Epoch 447/1200\n",
            "1/1 [==============================] - 0s 6ms/step - loss: 0.0098 - mae: 0.0848\n",
            "Epoch 448/1200\n",
            "1/1 [==============================] - 0s 6ms/step - loss: 0.0097 - mae: 0.0845\n",
            "Epoch 449/1200\n",
            "1/1 [==============================] - 0s 10ms/step - loss: 0.0096 - mae: 0.0842\n",
            "Epoch 450/1200\n",
            "1/1 [==============================] - 0s 6ms/step - loss: 0.0096 - mae: 0.0839\n",
            "Epoch 451/1200\n",
            "1/1 [==============================] - 0s 6ms/step - loss: 0.0095 - mae: 0.0837\n",
            "Epoch 452/1200\n",
            "1/1 [==============================] - 0s 10ms/step - loss: 0.0094 - mae: 0.0834\n",
            "Epoch 453/1200\n",
            "1/1 [==============================] - 0s 6ms/step - loss: 0.0094 - mae: 0.0831\n",
            "Epoch 454/1200\n",
            "1/1 [==============================] - 0s 6ms/step - loss: 0.0093 - mae: 0.0828\n",
            "Epoch 455/1200\n",
            "1/1 [==============================] - 0s 6ms/step - loss: 0.0092 - mae: 0.0825\n",
            "Epoch 456/1200\n",
            "1/1 [==============================] - 0s 7ms/step - loss: 0.0092 - mae: 0.0822\n",
            "Epoch 457/1200\n",
            "1/1 [==============================] - 0s 8ms/step - loss: 0.0091 - mae: 0.0820\n",
            "Epoch 458/1200\n",
            "1/1 [==============================] - 0s 8ms/step - loss: 0.0091 - mae: 0.0817\n",
            "Epoch 459/1200\n",
            "1/1 [==============================] - 0s 12ms/step - loss: 0.0090 - mae: 0.0814\n",
            "Epoch 460/1200\n",
            "1/1 [==============================] - 0s 13ms/step - loss: 0.0089 - mae: 0.0811\n",
            "Epoch 461/1200\n",
            "1/1 [==============================] - 0s 16ms/step - loss: 0.0089 - mae: 0.0809\n",
            "Epoch 462/1200\n",
            "1/1 [==============================] - 0s 15ms/step - loss: 0.0088 - mae: 0.0806\n",
            "Epoch 463/1200\n",
            "1/1 [==============================] - 0s 58ms/step - loss: 0.0088 - mae: 0.0803\n",
            "Epoch 464/1200\n",
            "1/1 [==============================] - 0s 38ms/step - loss: 0.0087 - mae: 0.0800\n",
            "Epoch 465/1200\n",
            "1/1 [==============================] - 0s 58ms/step - loss: 0.0086 - mae: 0.0798\n",
            "Epoch 466/1200\n",
            "1/1 [==============================] - 0s 16ms/step - loss: 0.0086 - mae: 0.0795\n",
            "Epoch 467/1200\n",
            "1/1 [==============================] - 0s 31ms/step - loss: 0.0085 - mae: 0.0792\n",
            "Epoch 468/1200\n",
            "1/1 [==============================] - 0s 20ms/step - loss: 0.0085 - mae: 0.0790\n",
            "Epoch 469/1200\n",
            "1/1 [==============================] - 0s 9ms/step - loss: 0.0084 - mae: 0.0787\n",
            "Epoch 470/1200\n",
            "1/1 [==============================] - 0s 9ms/step - loss: 0.0084 - mae: 0.0784\n",
            "Epoch 471/1200\n",
            "1/1 [==============================] - 0s 8ms/step - loss: 0.0083 - mae: 0.0782\n",
            "Epoch 472/1200\n",
            "1/1 [==============================] - 0s 10ms/step - loss: 0.0082 - mae: 0.0779\n",
            "Epoch 473/1200\n",
            "1/1 [==============================] - 0s 7ms/step - loss: 0.0082 - mae: 0.0776\n",
            "Epoch 474/1200\n",
            "1/1 [==============================] - 0s 10ms/step - loss: 0.0081 - mae: 0.0774\n",
            "Epoch 475/1200\n",
            "1/1 [==============================] - 0s 9ms/step - loss: 0.0081 - mae: 0.0771\n",
            "Epoch 476/1200\n",
            "1/1 [==============================] - 0s 8ms/step - loss: 0.0080 - mae: 0.0769\n",
            "Epoch 477/1200\n",
            "1/1 [==============================] - 0s 9ms/step - loss: 0.0080 - mae: 0.0766\n",
            "Epoch 478/1200\n",
            "1/1 [==============================] - 0s 16ms/step - loss: 0.0079 - mae: 0.0763\n",
            "Epoch 479/1200\n",
            "1/1 [==============================] - 0s 9ms/step - loss: 0.0079 - mae: 0.0761\n",
            "Epoch 480/1200\n",
            "1/1 [==============================] - 0s 7ms/step - loss: 0.0078 - mae: 0.0758\n",
            "Epoch 481/1200\n",
            "1/1 [==============================] - 0s 9ms/step - loss: 0.0078 - mae: 0.0756\n",
            "Epoch 482/1200\n",
            "1/1 [==============================] - 0s 10ms/step - loss: 0.0077 - mae: 0.0753\n",
            "Epoch 483/1200\n",
            "1/1 [==============================] - 0s 12ms/step - loss: 0.0076 - mae: 0.0751\n",
            "Epoch 484/1200\n",
            "1/1 [==============================] - 0s 9ms/step - loss: 0.0076 - mae: 0.0748\n",
            "Epoch 485/1200\n",
            "1/1 [==============================] - 0s 12ms/step - loss: 0.0075 - mae: 0.0746\n",
            "Epoch 486/1200\n",
            "1/1 [==============================] - 0s 9ms/step - loss: 0.0075 - mae: 0.0743\n",
            "Epoch 487/1200\n",
            "1/1 [==============================] - 0s 11ms/step - loss: 0.0074 - mae: 0.0740\n",
            "Epoch 488/1200\n",
            "1/1 [==============================] - 0s 8ms/step - loss: 0.0074 - mae: 0.0738\n",
            "Epoch 489/1200\n",
            "1/1 [==============================] - 0s 10ms/step - loss: 0.0073 - mae: 0.0736\n",
            "Epoch 490/1200\n",
            "1/1 [==============================] - 0s 12ms/step - loss: 0.0073 - mae: 0.0733\n",
            "Epoch 491/1200\n",
            "1/1 [==============================] - 0s 12ms/step - loss: 0.0072 - mae: 0.0731\n",
            "Epoch 492/1200\n",
            "1/1 [==============================] - 0s 13ms/step - loss: 0.0072 - mae: 0.0728\n",
            "Epoch 493/1200\n",
            "1/1 [==============================] - 0s 11ms/step - loss: 0.0071 - mae: 0.0726\n",
            "Epoch 494/1200\n",
            "1/1 [==============================] - 0s 10ms/step - loss: 0.0071 - mae: 0.0723\n",
            "Epoch 495/1200\n",
            "1/1 [==============================] - 0s 18ms/step - loss: 0.0071 - mae: 0.0721\n",
            "Epoch 496/1200\n",
            "1/1 [==============================] - 0s 7ms/step - loss: 0.0070 - mae: 0.0718\n",
            "Epoch 497/1200\n",
            "1/1 [==============================] - 0s 8ms/step - loss: 0.0070 - mae: 0.0716\n",
            "Epoch 498/1200\n",
            "1/1 [==============================] - 0s 10ms/step - loss: 0.0069 - mae: 0.0713\n",
            "Epoch 499/1200\n",
            "1/1 [==============================] - 0s 11ms/step - loss: 0.0069 - mae: 0.0711\n",
            "Epoch 500/1200\n",
            "1/1 [==============================] - 0s 9ms/step - loss: 0.0068 - mae: 0.0709\n",
            "Epoch 501/1200\n",
            "1/1 [==============================] - 0s 12ms/step - loss: 0.0068 - mae: 0.0706\n",
            "Epoch 502/1200\n",
            "1/1 [==============================] - 0s 9ms/step - loss: 0.0067 - mae: 0.0704\n",
            "Epoch 503/1200\n",
            "1/1 [==============================] - 0s 7ms/step - loss: 0.0067 - mae: 0.0701\n",
            "Epoch 504/1200\n",
            "1/1 [==============================] - 0s 10ms/step - loss: 0.0066 - mae: 0.0699\n",
            "Epoch 505/1200\n",
            "1/1 [==============================] - 0s 9ms/step - loss: 0.0066 - mae: 0.0697\n",
            "Epoch 506/1200\n",
            "1/1 [==============================] - 0s 10ms/step - loss: 0.0065 - mae: 0.0694\n",
            "Epoch 507/1200\n",
            "1/1 [==============================] - 0s 8ms/step - loss: 0.0065 - mae: 0.0692\n",
            "Epoch 508/1200\n",
            "1/1 [==============================] - 0s 7ms/step - loss: 0.0065 - mae: 0.0690\n",
            "Epoch 509/1200\n",
            "1/1 [==============================] - 0s 12ms/step - loss: 0.0064 - mae: 0.0687\n",
            "Epoch 510/1200\n",
            "1/1 [==============================] - 0s 7ms/step - loss: 0.0064 - mae: 0.0685\n",
            "Epoch 511/1200\n",
            "1/1 [==============================] - 0s 9ms/step - loss: 0.0063 - mae: 0.0683\n",
            "Epoch 512/1200\n",
            "1/1 [==============================] - 0s 11ms/step - loss: 0.0063 - mae: 0.0680\n",
            "Epoch 513/1200\n",
            "1/1 [==============================] - 0s 8ms/step - loss: 0.0062 - mae: 0.0678\n",
            "Epoch 514/1200\n",
            "1/1 [==============================] - 0s 11ms/step - loss: 0.0062 - mae: 0.0676\n",
            "Epoch 515/1200\n",
            "1/1 [==============================] - 0s 9ms/step - loss: 0.0062 - mae: 0.0674\n",
            "Epoch 516/1200\n",
            "1/1 [==============================] - 0s 9ms/step - loss: 0.0061 - mae: 0.0671\n",
            "Epoch 517/1200\n",
            "1/1 [==============================] - 0s 9ms/step - loss: 0.0061 - mae: 0.0669\n",
            "Epoch 518/1200\n",
            "1/1 [==============================] - 0s 14ms/step - loss: 0.0060 - mae: 0.0667\n",
            "Epoch 519/1200\n",
            "1/1 [==============================] - 0s 9ms/step - loss: 0.0060 - mae: 0.0664\n",
            "Epoch 520/1200\n",
            "1/1 [==============================] - 0s 7ms/step - loss: 0.0060 - mae: 0.0662\n",
            "Epoch 521/1200\n",
            "1/1 [==============================] - 0s 13ms/step - loss: 0.0059 - mae: 0.0660\n",
            "Epoch 522/1200\n",
            "1/1 [==============================] - 0s 9ms/step - loss: 0.0059 - mae: 0.0658\n",
            "Epoch 523/1200\n",
            "1/1 [==============================] - 0s 10ms/step - loss: 0.0058 - mae: 0.0656\n",
            "Epoch 524/1200\n",
            "1/1 [==============================] - 0s 11ms/step - loss: 0.0058 - mae: 0.0653\n",
            "Epoch 525/1200\n",
            "1/1 [==============================] - 0s 8ms/step - loss: 0.0058 - mae: 0.0651\n",
            "Epoch 526/1200\n",
            "1/1 [==============================] - 0s 10ms/step - loss: 0.0057 - mae: 0.0649\n",
            "Epoch 527/1200\n",
            "1/1 [==============================] - 0s 9ms/step - loss: 0.0057 - mae: 0.0647\n",
            "Epoch 528/1200\n",
            "1/1 [==============================] - 0s 14ms/step - loss: 0.0056 - mae: 0.0645\n",
            "Epoch 529/1200\n",
            "1/1 [==============================] - 0s 13ms/step - loss: 0.0056 - mae: 0.0642\n",
            "Epoch 530/1200\n",
            "1/1 [==============================] - 0s 7ms/step - loss: 0.0056 - mae: 0.0640\n",
            "Epoch 531/1200\n",
            "1/1 [==============================] - 0s 6ms/step - loss: 0.0055 - mae: 0.0638\n",
            "Epoch 532/1200\n",
            "1/1 [==============================] - 0s 8ms/step - loss: 0.0055 - mae: 0.0636\n",
            "Epoch 533/1200\n",
            "1/1 [==============================] - 0s 6ms/step - loss: 0.0055 - mae: 0.0634\n",
            "Epoch 534/1200\n",
            "1/1 [==============================] - 0s 6ms/step - loss: 0.0054 - mae: 0.0632\n",
            "Epoch 535/1200\n",
            "1/1 [==============================] - 0s 6ms/step - loss: 0.0054 - mae: 0.0629\n",
            "Epoch 536/1200\n",
            "1/1 [==============================] - 0s 7ms/step - loss: 0.0053 - mae: 0.0627\n",
            "Epoch 537/1200\n",
            "1/1 [==============================] - 0s 5ms/step - loss: 0.0053 - mae: 0.0625\n",
            "Epoch 538/1200\n",
            "1/1 [==============================] - 0s 6ms/step - loss: 0.0053 - mae: 0.0623\n",
            "Epoch 539/1200\n",
            "1/1 [==============================] - 0s 5ms/step - loss: 0.0052 - mae: 0.0621\n",
            "Epoch 540/1200\n",
            "1/1 [==============================] - 0s 6ms/step - loss: 0.0052 - mae: 0.0619\n",
            "Epoch 541/1200\n",
            "1/1 [==============================] - 0s 6ms/step - loss: 0.0052 - mae: 0.0617\n",
            "Epoch 542/1200\n",
            "1/1 [==============================] - 0s 6ms/step - loss: 0.0051 - mae: 0.0615\n",
            "Epoch 543/1200\n",
            "1/1 [==============================] - 0s 5ms/step - loss: 0.0051 - mae: 0.0613\n",
            "Epoch 544/1200\n",
            "1/1 [==============================] - 0s 11ms/step - loss: 0.0051 - mae: 0.0611\n",
            "Epoch 545/1200\n",
            "1/1 [==============================] - 0s 10ms/step - loss: 0.0050 - mae: 0.0608\n",
            "Epoch 546/1200\n",
            "1/1 [==============================] - 0s 10ms/step - loss: 0.0050 - mae: 0.0606\n",
            "Epoch 547/1200\n",
            "1/1 [==============================] - 0s 12ms/step - loss: 0.0050 - mae: 0.0604\n",
            "Epoch 548/1200\n",
            "1/1 [==============================] - 0s 7ms/step - loss: 0.0049 - mae: 0.0602\n",
            "Epoch 549/1200\n",
            "1/1 [==============================] - 0s 5ms/step - loss: 0.0049 - mae: 0.0600\n",
            "Epoch 550/1200\n",
            "1/1 [==============================] - 0s 6ms/step - loss: 0.0049 - mae: 0.0598\n",
            "Epoch 551/1200\n",
            "1/1 [==============================] - 0s 12ms/step - loss: 0.0048 - mae: 0.0596\n",
            "Epoch 552/1200\n",
            "1/1 [==============================] - 0s 18ms/step - loss: 0.0048 - mae: 0.0594\n",
            "Epoch 553/1200\n",
            "1/1 [==============================] - 0s 14ms/step - loss: 0.0048 - mae: 0.0592\n",
            "Epoch 554/1200\n",
            "1/1 [==============================] - 0s 28ms/step - loss: 0.0047 - mae: 0.0590\n",
            "Epoch 555/1200\n",
            "1/1 [==============================] - 0s 44ms/step - loss: 0.0047 - mae: 0.0588\n",
            "Epoch 556/1200\n",
            "1/1 [==============================] - 0s 16ms/step - loss: 0.0047 - mae: 0.0586\n",
            "Epoch 557/1200\n",
            "1/1 [==============================] - 0s 14ms/step - loss: 0.0046 - mae: 0.0584\n",
            "Epoch 558/1200\n",
            "1/1 [==============================] - 0s 9ms/step - loss: 0.0046 - mae: 0.0582\n",
            "Epoch 559/1200\n",
            "1/1 [==============================] - 0s 24ms/step - loss: 0.0046 - mae: 0.0580\n",
            "Epoch 560/1200\n",
            "1/1 [==============================] - 0s 6ms/step - loss: 0.0045 - mae: 0.0578\n",
            "Epoch 561/1200\n",
            "1/1 [==============================] - 0s 5ms/step - loss: 0.0045 - mae: 0.0576\n",
            "Epoch 562/1200\n",
            "1/1 [==============================] - 0s 7ms/step - loss: 0.0045 - mae: 0.0574\n",
            "Epoch 563/1200\n",
            "1/1 [==============================] - 0s 6ms/step - loss: 0.0044 - mae: 0.0572\n",
            "Epoch 564/1200\n",
            "1/1 [==============================] - 0s 6ms/step - loss: 0.0044 - mae: 0.0571\n",
            "Epoch 565/1200\n",
            "1/1 [==============================] - 0s 6ms/step - loss: 0.0044 - mae: 0.0569\n",
            "Epoch 566/1200\n",
            "1/1 [==============================] - 0s 5ms/step - loss: 0.0044 - mae: 0.0567\n",
            "Epoch 567/1200\n",
            "1/1 [==============================] - 0s 6ms/step - loss: 0.0043 - mae: 0.0565\n",
            "Epoch 568/1200\n",
            "1/1 [==============================] - 0s 5ms/step - loss: 0.0043 - mae: 0.0563\n",
            "Epoch 569/1200\n",
            "1/1 [==============================] - 0s 6ms/step - loss: 0.0043 - mae: 0.0561\n",
            "Epoch 570/1200\n",
            "1/1 [==============================] - 0s 6ms/step - loss: 0.0042 - mae: 0.0559\n",
            "Epoch 571/1200\n",
            "1/1 [==============================] - 0s 6ms/step - loss: 0.0042 - mae: 0.0557\n",
            "Epoch 572/1200\n",
            "1/1 [==============================] - 0s 6ms/step - loss: 0.0042 - mae: 0.0555\n",
            "Epoch 573/1200\n",
            "1/1 [==============================] - 0s 6ms/step - loss: 0.0042 - mae: 0.0553\n",
            "Epoch 574/1200\n",
            "1/1 [==============================] - 0s 6ms/step - loss: 0.0041 - mae: 0.0552\n",
            "Epoch 575/1200\n",
            "1/1 [==============================] - 0s 6ms/step - loss: 0.0041 - mae: 0.0550\n",
            "Epoch 576/1200\n",
            "1/1 [==============================] - 0s 5ms/step - loss: 0.0041 - mae: 0.0548\n",
            "Epoch 577/1200\n",
            "1/1 [==============================] - 0s 6ms/step - loss: 0.0040 - mae: 0.0546\n",
            "Epoch 578/1200\n",
            "1/1 [==============================] - 0s 5ms/step - loss: 0.0040 - mae: 0.0544\n",
            "Epoch 579/1200\n",
            "1/1 [==============================] - 0s 6ms/step - loss: 0.0040 - mae: 0.0542\n",
            "Epoch 580/1200\n",
            "1/1 [==============================] - 0s 5ms/step - loss: 0.0040 - mae: 0.0540\n",
            "Epoch 581/1200\n",
            "1/1 [==============================] - 0s 6ms/step - loss: 0.0039 - mae: 0.0539\n",
            "Epoch 582/1200\n",
            "1/1 [==============================] - 0s 7ms/step - loss: 0.0039 - mae: 0.0537\n",
            "Epoch 583/1200\n",
            "1/1 [==============================] - 0s 7ms/step - loss: 0.0039 - mae: 0.0535\n",
            "Epoch 584/1200\n",
            "1/1 [==============================] - 0s 6ms/step - loss: 0.0039 - mae: 0.0533\n",
            "Epoch 585/1200\n",
            "1/1 [==============================] - 0s 10ms/step - loss: 0.0038 - mae: 0.0531\n",
            "Epoch 586/1200\n",
            "1/1 [==============================] - 0s 6ms/step - loss: 0.0038 - mae: 0.0530\n",
            "Epoch 587/1200\n",
            "1/1 [==============================] - 0s 6ms/step - loss: 0.0038 - mae: 0.0528\n",
            "Epoch 588/1200\n",
            "1/1 [==============================] - 0s 6ms/step - loss: 0.0038 - mae: 0.0526\n",
            "Epoch 589/1200\n",
            "1/1 [==============================] - 0s 6ms/step - loss: 0.0037 - mae: 0.0524\n",
            "Epoch 590/1200\n",
            "1/1 [==============================] - 0s 5ms/step - loss: 0.0037 - mae: 0.0522\n",
            "Epoch 591/1200\n",
            "1/1 [==============================] - 0s 6ms/step - loss: 0.0037 - mae: 0.0521\n",
            "Epoch 592/1200\n",
            "1/1 [==============================] - 0s 6ms/step - loss: 0.0037 - mae: 0.0519\n",
            "Epoch 593/1200\n",
            "1/1 [==============================] - 0s 6ms/step - loss: 0.0036 - mae: 0.0517\n",
            "Epoch 594/1200\n",
            "1/1 [==============================] - 0s 6ms/step - loss: 0.0036 - mae: 0.0515\n",
            "Epoch 595/1200\n",
            "1/1 [==============================] - 0s 6ms/step - loss: 0.0036 - mae: 0.0514\n",
            "Epoch 596/1200\n",
            "1/1 [==============================] - 0s 10ms/step - loss: 0.0036 - mae: 0.0512\n",
            "Epoch 597/1200\n",
            "1/1 [==============================] - 0s 7ms/step - loss: 0.0035 - mae: 0.0510\n",
            "Epoch 598/1200\n",
            "1/1 [==============================] - 0s 6ms/step - loss: 0.0035 - mae: 0.0508\n",
            "Epoch 599/1200\n",
            "1/1 [==============================] - 0s 10ms/step - loss: 0.0035 - mae: 0.0507\n",
            "Epoch 600/1200\n",
            "1/1 [==============================] - 0s 7ms/step - loss: 0.0035 - mae: 0.0505\n",
            "Epoch 601/1200\n",
            "1/1 [==============================] - 0s 6ms/step - loss: 0.0034 - mae: 0.0503\n",
            "Epoch 602/1200\n",
            "1/1 [==============================] - 0s 8ms/step - loss: 0.0034 - mae: 0.0502\n",
            "Epoch 603/1200\n",
            "1/1 [==============================] - 0s 6ms/step - loss: 0.0034 - mae: 0.0500\n",
            "Epoch 604/1200\n",
            "1/1 [==============================] - 0s 7ms/step - loss: 0.0034 - mae: 0.0498\n",
            "Epoch 605/1200\n",
            "1/1 [==============================] - 0s 6ms/step - loss: 0.0033 - mae: 0.0497\n",
            "Epoch 606/1200\n",
            "1/1 [==============================] - 0s 6ms/step - loss: 0.0033 - mae: 0.0495\n",
            "Epoch 607/1200\n",
            "1/1 [==============================] - 0s 5ms/step - loss: 0.0033 - mae: 0.0493\n",
            "Epoch 608/1200\n",
            "1/1 [==============================] - 0s 9ms/step - loss: 0.0033 - mae: 0.0492\n",
            "Epoch 609/1200\n",
            "1/1 [==============================] - 0s 12ms/step - loss: 0.0033 - mae: 0.0490\n",
            "Epoch 610/1200\n",
            "1/1 [==============================] - 0s 11ms/step - loss: 0.0032 - mae: 0.0488\n",
            "Epoch 611/1200\n",
            "1/1 [==============================] - 0s 6ms/step - loss: 0.0032 - mae: 0.0487\n",
            "Epoch 612/1200\n",
            "1/1 [==============================] - 0s 6ms/step - loss: 0.0032 - mae: 0.0485\n",
            "Epoch 613/1200\n",
            "1/1 [==============================] - 0s 5ms/step - loss: 0.0032 - mae: 0.0483\n",
            "Epoch 614/1200\n",
            "1/1 [==============================] - 0s 5ms/step - loss: 0.0031 - mae: 0.0482\n",
            "Epoch 615/1200\n",
            "1/1 [==============================] - 0s 5ms/step - loss: 0.0031 - mae: 0.0480\n",
            "Epoch 616/1200\n",
            "1/1 [==============================] - 0s 5ms/step - loss: 0.0031 - mae: 0.0478\n",
            "Epoch 617/1200\n",
            "1/1 [==============================] - 0s 6ms/step - loss: 0.0031 - mae: 0.0477\n",
            "Epoch 618/1200\n",
            "1/1 [==============================] - 0s 5ms/step - loss: 0.0031 - mae: 0.0475\n",
            "Epoch 619/1200\n",
            "1/1 [==============================] - 0s 5ms/step - loss: 0.0030 - mae: 0.0474\n",
            "Epoch 620/1200\n",
            "1/1 [==============================] - 0s 8ms/step - loss: 0.0030 - mae: 0.0472\n",
            "Epoch 621/1200\n",
            "1/1 [==============================] - 0s 10ms/step - loss: 0.0030 - mae: 0.0470\n",
            "Epoch 622/1200\n",
            "1/1 [==============================] - 0s 6ms/step - loss: 0.0030 - mae: 0.0469\n",
            "Epoch 623/1200\n",
            "1/1 [==============================] - 0s 5ms/step - loss: 0.0030 - mae: 0.0467\n",
            "Epoch 624/1200\n",
            "1/1 [==============================] - 0s 6ms/step - loss: 0.0029 - mae: 0.0466\n",
            "Epoch 625/1200\n",
            "1/1 [==============================] - 0s 5ms/step - loss: 0.0029 - mae: 0.0464\n",
            "Epoch 626/1200\n",
            "1/1 [==============================] - 0s 8ms/step - loss: 0.0029 - mae: 0.0462\n",
            "Epoch 627/1200\n",
            "1/1 [==============================] - 0s 5ms/step - loss: 0.0029 - mae: 0.0461\n",
            "Epoch 628/1200\n",
            "1/1 [==============================] - 0s 5ms/step - loss: 0.0029 - mae: 0.0459\n",
            "Epoch 629/1200\n",
            "1/1 [==============================] - 0s 5ms/step - loss: 0.0028 - mae: 0.0458\n",
            "Epoch 630/1200\n",
            "1/1 [==============================] - 0s 6ms/step - loss: 0.0028 - mae: 0.0456\n",
            "Epoch 631/1200\n",
            "1/1 [==============================] - 0s 5ms/step - loss: 0.0028 - mae: 0.0455\n",
            "Epoch 632/1200\n",
            "1/1 [==============================] - 0s 5ms/step - loss: 0.0028 - mae: 0.0453\n",
            "Epoch 633/1200\n",
            "1/1 [==============================] - 0s 6ms/step - loss: 0.0028 - mae: 0.0452\n",
            "Epoch 634/1200\n",
            "1/1 [==============================] - 0s 8ms/step - loss: 0.0027 - mae: 0.0450\n",
            "Epoch 635/1200\n",
            "1/1 [==============================] - 0s 8ms/step - loss: 0.0027 - mae: 0.0449\n",
            "Epoch 636/1200\n",
            "1/1 [==============================] - 0s 8ms/step - loss: 0.0027 - mae: 0.0447\n",
            "Epoch 637/1200\n",
            "1/1 [==============================] - 0s 6ms/step - loss: 0.0027 - mae: 0.0446\n",
            "Epoch 638/1200\n",
            "1/1 [==============================] - 0s 5ms/step - loss: 0.0027 - mae: 0.0444\n",
            "Epoch 639/1200\n",
            "1/1 [==============================] - 0s 6ms/step - loss: 0.0027 - mae: 0.0443\n",
            "Epoch 640/1200\n",
            "1/1 [==============================] - 0s 5ms/step - loss: 0.0026 - mae: 0.0441\n",
            "Epoch 641/1200\n",
            "1/1 [==============================] - 0s 6ms/step - loss: 0.0026 - mae: 0.0440\n",
            "Epoch 642/1200\n",
            "1/1 [==============================] - 0s 5ms/step - loss: 0.0026 - mae: 0.0438\n",
            "Epoch 643/1200\n",
            "1/1 [==============================] - 0s 5ms/step - loss: 0.0026 - mae: 0.0437\n",
            "Epoch 644/1200\n",
            "1/1 [==============================] - 0s 5ms/step - loss: 0.0026 - mae: 0.0435\n",
            "Epoch 645/1200\n",
            "1/1 [==============================] - 0s 5ms/step - loss: 0.0026 - mae: 0.0434\n",
            "Epoch 646/1200\n",
            "1/1 [==============================] - 0s 5ms/step - loss: 0.0025 - mae: 0.0432\n",
            "Epoch 647/1200\n",
            "1/1 [==============================] - 0s 6ms/step - loss: 0.0025 - mae: 0.0431\n",
            "Epoch 648/1200\n",
            "1/1 [==============================] - 0s 6ms/step - loss: 0.0025 - mae: 0.0429\n",
            "Epoch 649/1200\n",
            "1/1 [==============================] - 0s 8ms/step - loss: 0.0025 - mae: 0.0428\n",
            "Epoch 650/1200\n",
            "1/1 [==============================] - 0s 6ms/step - loss: 0.0025 - mae: 0.0426\n",
            "Epoch 651/1200\n",
            "1/1 [==============================] - 0s 9ms/step - loss: 0.0025 - mae: 0.0425\n",
            "Epoch 652/1200\n",
            "1/1 [==============================] - 0s 8ms/step - loss: 0.0024 - mae: 0.0423\n",
            "Epoch 653/1200\n",
            "1/1 [==============================] - 0s 8ms/step - loss: 0.0024 - mae: 0.0422\n",
            "Epoch 654/1200\n",
            "1/1 [==============================] - 0s 6ms/step - loss: 0.0024 - mae: 0.0421\n",
            "Epoch 655/1200\n",
            "1/1 [==============================] - 0s 10ms/step - loss: 0.0024 - mae: 0.0419\n",
            "Epoch 656/1200\n",
            "1/1 [==============================] - 0s 6ms/step - loss: 0.0024 - mae: 0.0418\n",
            "Epoch 657/1200\n",
            "1/1 [==============================] - 0s 5ms/step - loss: 0.0024 - mae: 0.0416\n",
            "Epoch 658/1200\n",
            "1/1 [==============================] - 0s 6ms/step - loss: 0.0023 - mae: 0.0415\n",
            "Epoch 659/1200\n",
            "1/1 [==============================] - 0s 5ms/step - loss: 0.0023 - mae: 0.0414\n",
            "Epoch 660/1200\n",
            "1/1 [==============================] - 0s 6ms/step - loss: 0.0023 - mae: 0.0412\n",
            "Epoch 661/1200\n",
            "1/1 [==============================] - 0s 8ms/step - loss: 0.0023 - mae: 0.0411\n",
            "Epoch 662/1200\n",
            "1/1 [==============================] - 0s 5ms/step - loss: 0.0023 - mae: 0.0409\n",
            "Epoch 663/1200\n",
            "1/1 [==============================] - 0s 5ms/step - loss: 0.0023 - mae: 0.0408\n",
            "Epoch 664/1200\n",
            "1/1 [==============================] - 0s 8ms/step - loss: 0.0022 - mae: 0.0407\n",
            "Epoch 665/1200\n",
            "1/1 [==============================] - 0s 6ms/step - loss: 0.0022 - mae: 0.0405\n",
            "Epoch 666/1200\n",
            "1/1 [==============================] - 0s 6ms/step - loss: 0.0022 - mae: 0.0404\n",
            "Epoch 667/1200\n",
            "1/1 [==============================] - 0s 6ms/step - loss: 0.0022 - mae: 0.0403\n",
            "Epoch 668/1200\n",
            "1/1 [==============================] - 0s 6ms/step - loss: 0.0022 - mae: 0.0401\n",
            "Epoch 669/1200\n",
            "1/1 [==============================] - 0s 6ms/step - loss: 0.0022 - mae: 0.0400\n",
            "Epoch 670/1200\n",
            "1/1 [==============================] - 0s 6ms/step - loss: 0.0022 - mae: 0.0398\n",
            "Epoch 671/1200\n",
            "1/1 [==============================] - 0s 6ms/step - loss: 0.0021 - mae: 0.0397\n",
            "Epoch 672/1200\n",
            "1/1 [==============================] - 0s 6ms/step - loss: 0.0021 - mae: 0.0396\n",
            "Epoch 673/1200\n",
            "1/1 [==============================] - 0s 6ms/step - loss: 0.0021 - mae: 0.0394\n",
            "Epoch 674/1200\n",
            "1/1 [==============================] - 0s 6ms/step - loss: 0.0021 - mae: 0.0393\n",
            "Epoch 675/1200\n",
            "1/1 [==============================] - 0s 6ms/step - loss: 0.0021 - mae: 0.0392\n",
            "Epoch 676/1200\n",
            "1/1 [==============================] - 0s 6ms/step - loss: 0.0021 - mae: 0.0390\n",
            "Epoch 677/1200\n",
            "1/1 [==============================] - 0s 6ms/step - loss: 0.0021 - mae: 0.0389\n",
            "Epoch 678/1200\n",
            "1/1 [==============================] - 0s 6ms/step - loss: 0.0020 - mae: 0.0388\n",
            "Epoch 679/1200\n",
            "1/1 [==============================] - 0s 6ms/step - loss: 0.0020 - mae: 0.0386\n",
            "Epoch 680/1200\n",
            "1/1 [==============================] - 0s 6ms/step - loss: 0.0020 - mae: 0.0385\n",
            "Epoch 681/1200\n",
            "1/1 [==============================] - 0s 6ms/step - loss: 0.0020 - mae: 0.0384\n",
            "Epoch 682/1200\n",
            "1/1 [==============================] - 0s 44ms/step - loss: 0.0020 - mae: 0.0383\n",
            "Epoch 683/1200\n",
            "1/1 [==============================] - 0s 13ms/step - loss: 0.0020 - mae: 0.0381\n",
            "Epoch 684/1200\n",
            "1/1 [==============================] - 0s 6ms/step - loss: 0.0020 - mae: 0.0380\n",
            "Epoch 685/1200\n",
            "1/1 [==============================] - 0s 5ms/step - loss: 0.0019 - mae: 0.0379\n",
            "Epoch 686/1200\n",
            "1/1 [==============================] - 0s 7ms/step - loss: 0.0019 - mae: 0.0377\n",
            "Epoch 687/1200\n",
            "1/1 [==============================] - 0s 6ms/step - loss: 0.0019 - mae: 0.0376\n",
            "Epoch 688/1200\n",
            "1/1 [==============================] - 0s 6ms/step - loss: 0.0019 - mae: 0.0375\n",
            "Epoch 689/1200\n",
            "1/1 [==============================] - 0s 10ms/step - loss: 0.0019 - mae: 0.0374\n",
            "Epoch 690/1200\n",
            "1/1 [==============================] - 0s 7ms/step - loss: 0.0019 - mae: 0.0372\n",
            "Epoch 691/1200\n",
            "1/1 [==============================] - 0s 6ms/step - loss: 0.0019 - mae: 0.0371\n",
            "Epoch 692/1200\n",
            "1/1 [==============================] - 0s 6ms/step - loss: 0.0019 - mae: 0.0370\n",
            "Epoch 693/1200\n",
            "1/1 [==============================] - 0s 7ms/step - loss: 0.0018 - mae: 0.0369\n",
            "Epoch 694/1200\n",
            "1/1 [==============================] - 0s 7ms/step - loss: 0.0018 - mae: 0.0367\n",
            "Epoch 695/1200\n",
            "1/1 [==============================] - 0s 7ms/step - loss: 0.0018 - mae: 0.0366\n",
            "Epoch 696/1200\n",
            "1/1 [==============================] - 0s 7ms/step - loss: 0.0018 - mae: 0.0365\n",
            "Epoch 697/1200\n",
            "1/1 [==============================] - 0s 7ms/step - loss: 0.0018 - mae: 0.0364\n",
            "Epoch 698/1200\n",
            "1/1 [==============================] - 0s 7ms/step - loss: 0.0018 - mae: 0.0362\n",
            "Epoch 699/1200\n",
            "1/1 [==============================] - 0s 10ms/step - loss: 0.0018 - mae: 0.0361\n",
            "Epoch 700/1200\n",
            "1/1 [==============================] - 0s 11ms/step - loss: 0.0018 - mae: 0.0360\n",
            "Epoch 701/1200\n",
            "1/1 [==============================] - 0s 9ms/step - loss: 0.0017 - mae: 0.0359\n",
            "Epoch 702/1200\n",
            "1/1 [==============================] - 0s 8ms/step - loss: 0.0017 - mae: 0.0358\n",
            "Epoch 703/1200\n",
            "1/1 [==============================] - 0s 8ms/step - loss: 0.0017 - mae: 0.0356\n",
            "Epoch 704/1200\n",
            "1/1 [==============================] - 0s 6ms/step - loss: 0.0017 - mae: 0.0355\n",
            "Epoch 705/1200\n",
            "1/1 [==============================] - 0s 7ms/step - loss: 0.0017 - mae: 0.0354\n",
            "Epoch 706/1200\n",
            "1/1 [==============================] - 0s 7ms/step - loss: 0.0017 - mae: 0.0353\n",
            "Epoch 707/1200\n",
            "1/1 [==============================] - 0s 7ms/step - loss: 0.0017 - mae: 0.0352\n",
            "Epoch 708/1200\n",
            "1/1 [==============================] - 0s 6ms/step - loss: 0.0017 - mae: 0.0350\n",
            "Epoch 709/1200\n",
            "1/1 [==============================] - 0s 7ms/step - loss: 0.0017 - mae: 0.0349\n",
            "Epoch 710/1200\n",
            "1/1 [==============================] - 0s 11ms/step - loss: 0.0016 - mae: 0.0348\n",
            "Epoch 711/1200\n",
            "1/1 [==============================] - 0s 6ms/step - loss: 0.0016 - mae: 0.0347\n",
            "Epoch 712/1200\n",
            "1/1 [==============================] - 0s 6ms/step - loss: 0.0016 - mae: 0.0346\n",
            "Epoch 713/1200\n",
            "1/1 [==============================] - 0s 6ms/step - loss: 0.0016 - mae: 0.0344\n",
            "Epoch 714/1200\n",
            "1/1 [==============================] - 0s 6ms/step - loss: 0.0016 - mae: 0.0343\n",
            "Epoch 715/1200\n",
            "1/1 [==============================] - 0s 7ms/step - loss: 0.0016 - mae: 0.0342\n",
            "Epoch 716/1200\n",
            "1/1 [==============================] - 0s 7ms/step - loss: 0.0016 - mae: 0.0341\n",
            "Epoch 717/1200\n",
            "1/1 [==============================] - 0s 7ms/step - loss: 0.0016 - mae: 0.0340\n",
            "Epoch 718/1200\n",
            "1/1 [==============================] - 0s 7ms/step - loss: 0.0016 - mae: 0.0339\n",
            "Epoch 719/1200\n",
            "1/1 [==============================] - 0s 7ms/step - loss: 0.0015 - mae: 0.0338\n",
            "Epoch 720/1200\n",
            "1/1 [==============================] - 0s 7ms/step - loss: 0.0015 - mae: 0.0336\n",
            "Epoch 721/1200\n",
            "1/1 [==============================] - 0s 6ms/step - loss: 0.0015 - mae: 0.0335\n",
            "Epoch 722/1200\n",
            "1/1 [==============================] - 0s 6ms/step - loss: 0.0015 - mae: 0.0334\n",
            "Epoch 723/1200\n",
            "1/1 [==============================] - 0s 6ms/step - loss: 0.0015 - mae: 0.0333\n",
            "Epoch 724/1200\n",
            "1/1 [==============================] - 0s 7ms/step - loss: 0.0015 - mae: 0.0332\n",
            "Epoch 725/1200\n",
            "1/1 [==============================] - 0s 7ms/step - loss: 0.0015 - mae: 0.0331\n",
            "Epoch 726/1200\n",
            "1/1 [==============================] - 0s 6ms/step - loss: 0.0015 - mae: 0.0330\n",
            "Epoch 727/1200\n",
            "1/1 [==============================] - 0s 6ms/step - loss: 0.0015 - mae: 0.0328\n",
            "Epoch 728/1200\n",
            "1/1 [==============================] - 0s 7ms/step - loss: 0.0015 - mae: 0.0327\n",
            "Epoch 729/1200\n",
            "1/1 [==============================] - 0s 7ms/step - loss: 0.0014 - mae: 0.0326\n",
            "Epoch 730/1200\n",
            "1/1 [==============================] - 0s 7ms/step - loss: 0.0014 - mae: 0.0325\n",
            "Epoch 731/1200\n",
            "1/1 [==============================] - 0s 7ms/step - loss: 0.0014 - mae: 0.0324\n",
            "Epoch 732/1200\n",
            "1/1 [==============================] - 0s 7ms/step - loss: 0.0014 - mae: 0.0323\n",
            "Epoch 733/1200\n",
            "1/1 [==============================] - 0s 7ms/step - loss: 0.0014 - mae: 0.0322\n",
            "Epoch 734/1200\n",
            "1/1 [==============================] - 0s 8ms/step - loss: 0.0014 - mae: 0.0321\n",
            "Epoch 735/1200\n",
            "1/1 [==============================] - 0s 12ms/step - loss: 0.0014 - mae: 0.0320\n",
            "Epoch 736/1200\n",
            "1/1 [==============================] - 0s 6ms/step - loss: 0.0014 - mae: 0.0319\n",
            "Epoch 737/1200\n",
            "1/1 [==============================] - 0s 6ms/step - loss: 0.0014 - mae: 0.0318\n",
            "Epoch 738/1200\n",
            "1/1 [==============================] - 0s 6ms/step - loss: 0.0014 - mae: 0.0316\n",
            "Epoch 739/1200\n",
            "1/1 [==============================] - 0s 7ms/step - loss: 0.0014 - mae: 0.0315\n",
            "Epoch 740/1200\n",
            "1/1 [==============================] - 0s 6ms/step - loss: 0.0013 - mae: 0.0314\n",
            "Epoch 741/1200\n",
            "1/1 [==============================] - 0s 6ms/step - loss: 0.0013 - mae: 0.0313\n",
            "Epoch 742/1200\n",
            "1/1 [==============================] - 0s 6ms/step - loss: 0.0013 - mae: 0.0312\n",
            "Epoch 743/1200\n",
            "1/1 [==============================] - 0s 6ms/step - loss: 0.0013 - mae: 0.0311\n",
            "Epoch 744/1200\n",
            "1/1 [==============================] - 0s 6ms/step - loss: 0.0013 - mae: 0.0310\n",
            "Epoch 745/1200\n",
            "1/1 [==============================] - 0s 6ms/step - loss: 0.0013 - mae: 0.0309\n",
            "Epoch 746/1200\n",
            "1/1 [==============================] - 0s 6ms/step - loss: 0.0013 - mae: 0.0308\n",
            "Epoch 747/1200\n",
            "1/1 [==============================] - 0s 6ms/step - loss: 0.0013 - mae: 0.0307\n",
            "Epoch 748/1200\n",
            "1/1 [==============================] - 0s 6ms/step - loss: 0.0013 - mae: 0.0306\n",
            "Epoch 749/1200\n",
            "1/1 [==============================] - 0s 6ms/step - loss: 0.0013 - mae: 0.0305\n",
            "Epoch 750/1200\n",
            "1/1 [==============================] - 0s 6ms/step - loss: 0.0013 - mae: 0.0304\n",
            "Epoch 751/1200\n",
            "1/1 [==============================] - 0s 6ms/step - loss: 0.0012 - mae: 0.0303\n",
            "Epoch 752/1200\n",
            "1/1 [==============================] - 0s 6ms/step - loss: 0.0012 - mae: 0.0302\n",
            "Epoch 753/1200\n",
            "1/1 [==============================] - 0s 7ms/step - loss: 0.0012 - mae: 0.0301\n",
            "Epoch 754/1200\n",
            "1/1 [==============================] - 0s 7ms/step - loss: 0.0012 - mae: 0.0300\n",
            "Epoch 755/1200\n",
            "1/1 [==============================] - 0s 7ms/step - loss: 0.0012 - mae: 0.0299\n",
            "Epoch 756/1200\n",
            "1/1 [==============================] - 0s 7ms/step - loss: 0.0012 - mae: 0.0298\n",
            "Epoch 757/1200\n",
            "1/1 [==============================] - 0s 9ms/step - loss: 0.0012 - mae: 0.0297\n",
            "Epoch 758/1200\n",
            "1/1 [==============================] - 0s 7ms/step - loss: 0.0012 - mae: 0.0296\n",
            "Epoch 759/1200\n",
            "1/1 [==============================] - 0s 7ms/step - loss: 0.0012 - mae: 0.0295\n",
            "Epoch 760/1200\n",
            "1/1 [==============================] - 0s 7ms/step - loss: 0.0012 - mae: 0.0294\n",
            "Epoch 761/1200\n",
            "1/1 [==============================] - 0s 6ms/step - loss: 0.0012 - mae: 0.0293\n",
            "Epoch 762/1200\n",
            "1/1 [==============================] - 0s 7ms/step - loss: 0.0012 - mae: 0.0292\n",
            "Epoch 763/1200\n",
            "1/1 [==============================] - 0s 7ms/step - loss: 0.0011 - mae: 0.0291\n",
            "Epoch 764/1200\n",
            "1/1 [==============================] - 0s 6ms/step - loss: 0.0011 - mae: 0.0290\n",
            "Epoch 765/1200\n",
            "1/1 [==============================] - 0s 7ms/step - loss: 0.0011 - mae: 0.0289\n",
            "Epoch 766/1200\n",
            "1/1 [==============================] - 0s 6ms/step - loss: 0.0011 - mae: 0.0288\n",
            "Epoch 767/1200\n",
            "1/1 [==============================] - 0s 6ms/step - loss: 0.0011 - mae: 0.0287\n",
            "Epoch 768/1200\n",
            "1/1 [==============================] - 0s 6ms/step - loss: 0.0011 - mae: 0.0286\n",
            "Epoch 769/1200\n",
            "1/1 [==============================] - 0s 6ms/step - loss: 0.0011 - mae: 0.0285\n",
            "Epoch 770/1200\n",
            "1/1 [==============================] - 0s 6ms/step - loss: 0.0011 - mae: 0.0284\n",
            "Epoch 771/1200\n",
            "1/1 [==============================] - 0s 6ms/step - loss: 0.0011 - mae: 0.0283\n",
            "Epoch 772/1200\n",
            "1/1 [==============================] - 0s 6ms/step - loss: 0.0011 - mae: 0.0282\n",
            "Epoch 773/1200\n",
            "1/1 [==============================] - 0s 6ms/step - loss: 0.0011 - mae: 0.0281\n",
            "Epoch 774/1200\n",
            "1/1 [==============================] - 0s 6ms/step - loss: 0.0011 - mae: 0.0280\n",
            "Epoch 775/1200\n",
            "1/1 [==============================] - 0s 7ms/step - loss: 0.0011 - mae: 0.0279\n",
            "Epoch 776/1200\n",
            "1/1 [==============================] - 0s 6ms/step - loss: 0.0011 - mae: 0.0278\n",
            "Epoch 777/1200\n",
            "1/1 [==============================] - 0s 6ms/step - loss: 0.0010 - mae: 0.0277\n",
            "Epoch 778/1200\n",
            "1/1 [==============================] - 0s 7ms/step - loss: 0.0010 - mae: 0.0276\n",
            "Epoch 779/1200\n",
            "1/1 [==============================] - 0s 7ms/step - loss: 0.0010 - mae: 0.0275\n",
            "Epoch 780/1200\n",
            "1/1 [==============================] - 0s 14ms/step - loss: 0.0010 - mae: 0.0275\n",
            "Epoch 781/1200\n",
            "1/1 [==============================] - 0s 6ms/step - loss: 0.0010 - mae: 0.0274\n",
            "Epoch 782/1200\n",
            "1/1 [==============================] - 0s 6ms/step - loss: 0.0010 - mae: 0.0273\n",
            "Epoch 783/1200\n",
            "1/1 [==============================] - 0s 6ms/step - loss: 0.0010 - mae: 0.0272\n",
            "Epoch 784/1200\n",
            "1/1 [==============================] - 0s 6ms/step - loss: 9.9558e-04 - mae: 0.0271\n",
            "Epoch 785/1200\n",
            "1/1 [==============================] - 0s 7ms/step - loss: 9.8887e-04 - mae: 0.0270\n",
            "Epoch 786/1200\n",
            "1/1 [==============================] - 0s 8ms/step - loss: 9.8220e-04 - mae: 0.0269\n",
            "Epoch 787/1200\n",
            "1/1 [==============================] - 0s 9ms/step - loss: 9.7556e-04 - mae: 0.0268\n",
            "Epoch 788/1200\n",
            "1/1 [==============================] - 0s 7ms/step - loss: 9.6897e-04 - mae: 0.0267\n",
            "Epoch 789/1200\n",
            "1/1 [==============================] - 0s 9ms/step - loss: 9.6246e-04 - mae: 0.0266\n",
            "Epoch 790/1200\n",
            "1/1 [==============================] - 0s 8ms/step - loss: 9.5595e-04 - mae: 0.0265\n",
            "Epoch 791/1200\n",
            "1/1 [==============================] - 0s 7ms/step - loss: 9.4949e-04 - mae: 0.0264\n",
            "Epoch 792/1200\n",
            "1/1 [==============================] - 0s 7ms/step - loss: 9.4307e-04 - mae: 0.0264\n",
            "Epoch 793/1200\n",
            "1/1 [==============================] - 0s 7ms/step - loss: 9.3671e-04 - mae: 0.0263\n",
            "Epoch 794/1200\n",
            "1/1 [==============================] - 0s 7ms/step - loss: 9.3039e-04 - mae: 0.0262\n",
            "Epoch 795/1200\n",
            "1/1 [==============================] - 0s 7ms/step - loss: 9.2410e-04 - mae: 0.0261\n",
            "Epoch 796/1200\n",
            "1/1 [==============================] - 0s 7ms/step - loss: 9.1786e-04 - mae: 0.0260\n",
            "Epoch 797/1200\n",
            "1/1 [==============================] - 0s 7ms/step - loss: 9.1168e-04 - mae: 0.0259\n",
            "Epoch 798/1200\n",
            "1/1 [==============================] - 0s 8ms/step - loss: 9.0551e-04 - mae: 0.0258\n",
            "Epoch 799/1200\n",
            "1/1 [==============================] - 0s 7ms/step - loss: 8.9939e-04 - mae: 0.0257\n",
            "Epoch 800/1200\n",
            "1/1 [==============================] - 0s 7ms/step - loss: 8.9335e-04 - mae: 0.0257\n",
            "Epoch 801/1200\n",
            "1/1 [==============================] - 0s 7ms/step - loss: 8.8730e-04 - mae: 0.0256\n",
            "Epoch 802/1200\n",
            "1/1 [==============================] - 0s 7ms/step - loss: 8.8130e-04 - mae: 0.0255\n",
            "Epoch 803/1200\n",
            "1/1 [==============================] - 0s 11ms/step - loss: 8.7536e-04 - mae: 0.0254\n",
            "Epoch 804/1200\n",
            "1/1 [==============================] - 0s 6ms/step - loss: 8.6946e-04 - mae: 0.0253\n",
            "Epoch 805/1200\n",
            "1/1 [==============================] - 0s 6ms/step - loss: 8.6360e-04 - mae: 0.0252\n",
            "Epoch 806/1200\n",
            "1/1 [==============================] - 0s 6ms/step - loss: 8.5775e-04 - mae: 0.0251\n",
            "Epoch 807/1200\n",
            "1/1 [==============================] - 0s 6ms/step - loss: 8.5196e-04 - mae: 0.0251\n",
            "Epoch 808/1200\n",
            "1/1 [==============================] - 0s 6ms/step - loss: 8.4621e-04 - mae: 0.0250\n",
            "Epoch 809/1200\n",
            "1/1 [==============================] - 0s 6ms/step - loss: 8.4049e-04 - mae: 0.0249\n",
            "Epoch 810/1200\n",
            "1/1 [==============================] - 0s 6ms/step - loss: 8.3483e-04 - mae: 0.0248\n",
            "Epoch 811/1200\n",
            "1/1 [==============================] - 0s 6ms/step - loss: 8.2919e-04 - mae: 0.0247\n",
            "Epoch 812/1200\n",
            "1/1 [==============================] - 0s 7ms/step - loss: 8.2360e-04 - mae: 0.0246\n",
            "Epoch 813/1200\n",
            "1/1 [==============================] - 0s 6ms/step - loss: 8.1803e-04 - mae: 0.0245\n",
            "Epoch 814/1200\n",
            "1/1 [==============================] - 0s 6ms/step - loss: 8.1250e-04 - mae: 0.0245\n",
            "Epoch 815/1200\n",
            "1/1 [==============================] - 0s 6ms/step - loss: 8.0703e-04 - mae: 0.0244\n",
            "Epoch 816/1200\n",
            "1/1 [==============================] - 0s 7ms/step - loss: 8.0157e-04 - mae: 0.0243\n",
            "Epoch 817/1200\n",
            "1/1 [==============================] - 0s 7ms/step - loss: 7.9617e-04 - mae: 0.0242\n",
            "Epoch 818/1200\n",
            "1/1 [==============================] - 0s 7ms/step - loss: 7.9081e-04 - mae: 0.0241\n",
            "Epoch 819/1200\n",
            "1/1 [==============================] - 0s 7ms/step - loss: 7.8547e-04 - mae: 0.0241\n",
            "Epoch 820/1200\n",
            "1/1 [==============================] - 0s 7ms/step - loss: 7.8016e-04 - mae: 0.0240\n",
            "Epoch 821/1200\n",
            "1/1 [==============================] - 0s 6ms/step - loss: 7.7488e-04 - mae: 0.0239\n",
            "Epoch 822/1200\n",
            "1/1 [==============================] - 0s 6ms/step - loss: 7.6965e-04 - mae: 0.0238\n",
            "Epoch 823/1200\n",
            "1/1 [==============================] - 0s 7ms/step - loss: 7.6445e-04 - mae: 0.0237\n",
            "Epoch 824/1200\n",
            "1/1 [==============================] - 0s 7ms/step - loss: 7.5930e-04 - mae: 0.0237\n",
            "Epoch 825/1200\n",
            "1/1 [==============================] - 0s 7ms/step - loss: 7.5418e-04 - mae: 0.0236\n",
            "Epoch 826/1200\n",
            "1/1 [==============================] - 0s 7ms/step - loss: 7.4908e-04 - mae: 0.0235\n",
            "Epoch 827/1200\n",
            "1/1 [==============================] - 0s 6ms/step - loss: 7.4402e-04 - mae: 0.0234\n",
            "Epoch 828/1200\n",
            "1/1 [==============================] - 0s 6ms/step - loss: 7.3901e-04 - mae: 0.0233\n",
            "Epoch 829/1200\n",
            "1/1 [==============================] - 0s 6ms/step - loss: 7.3402e-04 - mae: 0.0233\n",
            "Epoch 830/1200\n",
            "1/1 [==============================] - 0s 6ms/step - loss: 7.2908e-04 - mae: 0.0232\n",
            "Epoch 831/1200\n",
            "1/1 [==============================] - 0s 6ms/step - loss: 7.2413e-04 - mae: 0.0231\n",
            "Epoch 832/1200\n",
            "1/1 [==============================] - 0s 6ms/step - loss: 7.1925e-04 - mae: 0.0230\n",
            "Epoch 833/1200\n",
            "1/1 [==============================] - 0s 7ms/step - loss: 7.1440e-04 - mae: 0.0229\n",
            "Epoch 834/1200\n",
            "1/1 [==============================] - 0s 6ms/step - loss: 7.0957e-04 - mae: 0.0229\n",
            "Epoch 835/1200\n",
            "1/1 [==============================] - 0s 7ms/step - loss: 7.0479e-04 - mae: 0.0228\n",
            "Epoch 836/1200\n",
            "1/1 [==============================] - 0s 6ms/step - loss: 7.0003e-04 - mae: 0.0227\n",
            "Epoch 837/1200\n",
            "1/1 [==============================] - 0s 6ms/step - loss: 6.9530e-04 - mae: 0.0226\n",
            "Epoch 838/1200\n",
            "1/1 [==============================] - 0s 6ms/step - loss: 6.9061e-04 - mae: 0.0226\n",
            "Epoch 839/1200\n",
            "1/1 [==============================] - 0s 6ms/step - loss: 6.8595e-04 - mae: 0.0225\n",
            "Epoch 840/1200\n",
            "1/1 [==============================] - 0s 7ms/step - loss: 6.8131e-04 - mae: 0.0224\n",
            "Epoch 841/1200\n",
            "1/1 [==============================] - 0s 6ms/step - loss: 6.7671e-04 - mae: 0.0223\n",
            "Epoch 842/1200\n",
            "1/1 [==============================] - 0s 6ms/step - loss: 6.7215e-04 - mae: 0.0223\n",
            "Epoch 843/1200\n",
            "1/1 [==============================] - 0s 7ms/step - loss: 6.6761e-04 - mae: 0.0222\n",
            "Epoch 844/1200\n",
            "1/1 [==============================] - 0s 7ms/step - loss: 6.6310e-04 - mae: 0.0221\n",
            "Epoch 845/1200\n",
            "1/1 [==============================] - 0s 12ms/step - loss: 6.5864e-04 - mae: 0.0220\n",
            "Epoch 846/1200\n",
            "1/1 [==============================] - 0s 7ms/step - loss: 6.5418e-04 - mae: 0.0220\n",
            "Epoch 847/1200\n",
            "1/1 [==============================] - 0s 7ms/step - loss: 6.4977e-04 - mae: 0.0219\n",
            "Epoch 848/1200\n",
            "1/1 [==============================] - 0s 7ms/step - loss: 6.4537e-04 - mae: 0.0218\n",
            "Epoch 849/1200\n",
            "1/1 [==============================] - 0s 436ms/step - loss: 6.4102e-04 - mae: 0.0217\n",
            "Epoch 850/1200\n",
            "1/1 [==============================] - 0s 59ms/step - loss: 6.3670e-04 - mae: 0.0217\n",
            "Epoch 851/1200\n",
            "1/1 [==============================] - 0s 59ms/step - loss: 6.3241e-04 - mae: 0.0216\n",
            "Epoch 852/1200\n",
            "1/1 [==============================] - 0s 7ms/step - loss: 6.2813e-04 - mae: 0.0215\n",
            "Epoch 853/1200\n",
            "1/1 [==============================] - 0s 9ms/step - loss: 6.2389e-04 - mae: 0.0214\n",
            "Epoch 854/1200\n",
            "1/1 [==============================] - 0s 10ms/step - loss: 6.1966e-04 - mae: 0.0214\n",
            "Epoch 855/1200\n",
            "1/1 [==============================] - 0s 10ms/step - loss: 6.1548e-04 - mae: 0.0213\n",
            "Epoch 856/1200\n",
            "1/1 [==============================] - 0s 9ms/step - loss: 6.1132e-04 - mae: 0.0212\n",
            "Epoch 857/1200\n",
            "1/1 [==============================] - 0s 8ms/step - loss: 6.0721e-04 - mae: 0.0212\n",
            "Epoch 858/1200\n",
            "1/1 [==============================] - 0s 7ms/step - loss: 6.0310e-04 - mae: 0.0211\n",
            "Epoch 859/1200\n",
            "1/1 [==============================] - 0s 11ms/step - loss: 5.9903e-04 - mae: 0.0210\n",
            "Epoch 860/1200\n",
            "1/1 [==============================] - 0s 8ms/step - loss: 5.9500e-04 - mae: 0.0209\n",
            "Epoch 861/1200\n",
            "1/1 [==============================] - 0s 8ms/step - loss: 5.9098e-04 - mae: 0.0209\n",
            "Epoch 862/1200\n",
            "1/1 [==============================] - 0s 10ms/step - loss: 5.8699e-04 - mae: 0.0208\n",
            "Epoch 863/1200\n",
            "1/1 [==============================] - 0s 7ms/step - loss: 5.8302e-04 - mae: 0.0207\n",
            "Epoch 864/1200\n",
            "1/1 [==============================] - 0s 7ms/step - loss: 5.7909e-04 - mae: 0.0207\n",
            "Epoch 865/1200\n",
            "1/1 [==============================] - 0s 8ms/step - loss: 5.7519e-04 - mae: 0.0206\n",
            "Epoch 866/1200\n",
            "1/1 [==============================] - 0s 8ms/step - loss: 5.7130e-04 - mae: 0.0205\n",
            "Epoch 867/1200\n",
            "1/1 [==============================] - 0s 8ms/step - loss: 5.6744e-04 - mae: 0.0204\n",
            "Epoch 868/1200\n",
            "1/1 [==============================] - 0s 9ms/step - loss: 5.6361e-04 - mae: 0.0204\n",
            "Epoch 869/1200\n",
            "1/1 [==============================] - 0s 11ms/step - loss: 5.5980e-04 - mae: 0.0203\n",
            "Epoch 870/1200\n",
            "1/1 [==============================] - 0s 10ms/step - loss: 5.5603e-04 - mae: 0.0202\n",
            "Epoch 871/1200\n",
            "1/1 [==============================] - 0s 8ms/step - loss: 5.5226e-04 - mae: 0.0202\n",
            "Epoch 872/1200\n",
            "1/1 [==============================] - 0s 8ms/step - loss: 5.4855e-04 - mae: 0.0201\n",
            "Epoch 873/1200\n",
            "1/1 [==============================] - 0s 14ms/step - loss: 5.4484e-04 - mae: 0.0200\n",
            "Epoch 874/1200\n",
            "1/1 [==============================] - 0s 8ms/step - loss: 5.4116e-04 - mae: 0.0200\n",
            "Epoch 875/1200\n",
            "1/1 [==============================] - 0s 9ms/step - loss: 5.3752e-04 - mae: 0.0199\n",
            "Epoch 876/1200\n",
            "1/1 [==============================] - 0s 9ms/step - loss: 5.3388e-04 - mae: 0.0198\n",
            "Epoch 877/1200\n",
            "1/1 [==============================] - 0s 8ms/step - loss: 5.3026e-04 - mae: 0.0198\n",
            "Epoch 878/1200\n",
            "1/1 [==============================] - 0s 10ms/step - loss: 5.2670e-04 - mae: 0.0197\n",
            "Epoch 879/1200\n",
            "1/1 [==============================] - 0s 9ms/step - loss: 5.2315e-04 - mae: 0.0196\n",
            "Epoch 880/1200\n",
            "1/1 [==============================] - 0s 8ms/step - loss: 5.1960e-04 - mae: 0.0196\n",
            "Epoch 881/1200\n",
            "1/1 [==============================] - 0s 12ms/step - loss: 5.1610e-04 - mae: 0.0195\n",
            "Epoch 882/1200\n",
            "1/1 [==============================] - 0s 11ms/step - loss: 5.1262e-04 - mae: 0.0194\n",
            "Epoch 883/1200\n",
            "1/1 [==============================] - 0s 9ms/step - loss: 5.0916e-04 - mae: 0.0194\n",
            "Epoch 884/1200\n",
            "1/1 [==============================] - 0s 12ms/step - loss: 5.0572e-04 - mae: 0.0193\n",
            "Epoch 885/1200\n",
            "1/1 [==============================] - 0s 12ms/step - loss: 5.0232e-04 - mae: 0.0192\n",
            "Epoch 886/1200\n",
            "1/1 [==============================] - 0s 9ms/step - loss: 4.9892e-04 - mae: 0.0192\n",
            "Epoch 887/1200\n",
            "1/1 [==============================] - 0s 10ms/step - loss: 4.9555e-04 - mae: 0.0191\n",
            "Epoch 888/1200\n",
            "1/1 [==============================] - 0s 11ms/step - loss: 4.9220e-04 - mae: 0.0190\n",
            "Epoch 889/1200\n",
            "1/1 [==============================] - 0s 8ms/step - loss: 4.8888e-04 - mae: 0.0190\n",
            "Epoch 890/1200\n",
            "1/1 [==============================] - 0s 12ms/step - loss: 4.8557e-04 - mae: 0.0189\n",
            "Epoch 891/1200\n",
            "1/1 [==============================] - 0s 10ms/step - loss: 4.8230e-04 - mae: 0.0188\n",
            "Epoch 892/1200\n",
            "1/1 [==============================] - 0s 12ms/step - loss: 4.7905e-04 - mae: 0.0188\n",
            "Epoch 893/1200\n",
            "1/1 [==============================] - 0s 8ms/step - loss: 4.7582e-04 - mae: 0.0187\n",
            "Epoch 894/1200\n",
            "1/1 [==============================] - 0s 11ms/step - loss: 4.7261e-04 - mae: 0.0187\n",
            "Epoch 895/1200\n",
            "1/1 [==============================] - 0s 13ms/step - loss: 4.6942e-04 - mae: 0.0186\n",
            "Epoch 896/1200\n",
            "1/1 [==============================] - 0s 10ms/step - loss: 4.6625e-04 - mae: 0.0185\n",
            "Epoch 897/1200\n",
            "1/1 [==============================] - 0s 9ms/step - loss: 4.6310e-04 - mae: 0.0185\n",
            "Epoch 898/1200\n",
            "1/1 [==============================] - 0s 9ms/step - loss: 4.5997e-04 - mae: 0.0184\n",
            "Epoch 899/1200\n",
            "1/1 [==============================] - 0s 10ms/step - loss: 4.5686e-04 - mae: 0.0183\n",
            "Epoch 900/1200\n",
            "1/1 [==============================] - 0s 9ms/step - loss: 4.5379e-04 - mae: 0.0183\n",
            "Epoch 901/1200\n",
            "1/1 [==============================] - 0s 9ms/step - loss: 4.5072e-04 - mae: 0.0182\n",
            "Epoch 902/1200\n",
            "1/1 [==============================] - 0s 9ms/step - loss: 4.4768e-04 - mae: 0.0182\n",
            "Epoch 903/1200\n",
            "1/1 [==============================] - 0s 15ms/step - loss: 4.4465e-04 - mae: 0.0181\n",
            "Epoch 904/1200\n",
            "1/1 [==============================] - 0s 8ms/step - loss: 4.4164e-04 - mae: 0.0180\n",
            "Epoch 905/1200\n",
            "1/1 [==============================] - 0s 12ms/step - loss: 4.3866e-04 - mae: 0.0180\n",
            "Epoch 906/1200\n",
            "1/1 [==============================] - 0s 11ms/step - loss: 4.3572e-04 - mae: 0.0179\n",
            "Epoch 907/1200\n",
            "1/1 [==============================] - 0s 11ms/step - loss: 4.3275e-04 - mae: 0.0179\n",
            "Epoch 908/1200\n",
            "1/1 [==============================] - 0s 9ms/step - loss: 4.2985e-04 - mae: 0.0178\n",
            "Epoch 909/1200\n",
            "1/1 [==============================] - 0s 10ms/step - loss: 4.2693e-04 - mae: 0.0177\n",
            "Epoch 910/1200\n",
            "1/1 [==============================] - 0s 9ms/step - loss: 4.2406e-04 - mae: 0.0177\n",
            "Epoch 911/1200\n",
            "1/1 [==============================] - 0s 11ms/step - loss: 4.2119e-04 - mae: 0.0176\n",
            "Epoch 912/1200\n",
            "1/1 [==============================] - 0s 11ms/step - loss: 4.1836e-04 - mae: 0.0176\n",
            "Epoch 913/1200\n",
            "1/1 [==============================] - 0s 8ms/step - loss: 4.1553e-04 - mae: 0.0175\n",
            "Epoch 914/1200\n",
            "1/1 [==============================] - 0s 9ms/step - loss: 4.1272e-04 - mae: 0.0174\n",
            "Epoch 915/1200\n",
            "1/1 [==============================] - 0s 10ms/step - loss: 4.0993e-04 - mae: 0.0174\n",
            "Epoch 916/1200\n",
            "1/1 [==============================] - 0s 10ms/step - loss: 4.0718e-04 - mae: 0.0173\n",
            "Epoch 917/1200\n",
            "1/1 [==============================] - 0s 8ms/step - loss: 4.0442e-04 - mae: 0.0173\n",
            "Epoch 918/1200\n",
            "1/1 [==============================] - 0s 10ms/step - loss: 4.0169e-04 - mae: 0.0172\n",
            "Epoch 919/1200\n",
            "1/1 [==============================] - 0s 9ms/step - loss: 3.9897e-04 - mae: 0.0171\n",
            "Epoch 920/1200\n",
            "1/1 [==============================] - 0s 10ms/step - loss: 3.9628e-04 - mae: 0.0171\n",
            "Epoch 921/1200\n",
            "1/1 [==============================] - 0s 8ms/step - loss: 3.9362e-04 - mae: 0.0170\n",
            "Epoch 922/1200\n",
            "1/1 [==============================] - 0s 7ms/step - loss: 3.9096e-04 - mae: 0.0170\n",
            "Epoch 923/1200\n",
            "1/1 [==============================] - 0s 7ms/step - loss: 3.8832e-04 - mae: 0.0169\n",
            "Epoch 924/1200\n",
            "1/1 [==============================] - 0s 11ms/step - loss: 3.8570e-04 - mae: 0.0169\n",
            "Epoch 925/1200\n",
            "1/1 [==============================] - 0s 8ms/step - loss: 3.8308e-04 - mae: 0.0168\n",
            "Epoch 926/1200\n",
            "1/1 [==============================] - 0s 8ms/step - loss: 3.8052e-04 - mae: 0.0167\n",
            "Epoch 927/1200\n",
            "1/1 [==============================] - 0s 11ms/step - loss: 3.7794e-04 - mae: 0.0167\n",
            "Epoch 928/1200\n",
            "1/1 [==============================] - 0s 8ms/step - loss: 3.7539e-04 - mae: 0.0166\n",
            "Epoch 929/1200\n",
            "1/1 [==============================] - 0s 11ms/step - loss: 3.7285e-04 - mae: 0.0166\n",
            "Epoch 930/1200\n",
            "1/1 [==============================] - 0s 10ms/step - loss: 3.7033e-04 - mae: 0.0165\n",
            "Epoch 931/1200\n",
            "1/1 [==============================] - 0s 9ms/step - loss: 3.6783e-04 - mae: 0.0165\n",
            "Epoch 932/1200\n",
            "1/1 [==============================] - 0s 8ms/step - loss: 3.6534e-04 - mae: 0.0164\n",
            "Epoch 933/1200\n",
            "1/1 [==============================] - 0s 9ms/step - loss: 3.6289e-04 - mae: 0.0164\n",
            "Epoch 934/1200\n",
            "1/1 [==============================] - 0s 11ms/step - loss: 3.6043e-04 - mae: 0.0163\n",
            "Epoch 935/1200\n",
            "1/1 [==============================] - 0s 10ms/step - loss: 3.5800e-04 - mae: 0.0162\n",
            "Epoch 936/1200\n",
            "1/1 [==============================] - 0s 11ms/step - loss: 3.5559e-04 - mae: 0.0162\n",
            "Epoch 937/1200\n",
            "1/1 [==============================] - 0s 10ms/step - loss: 3.5319e-04 - mae: 0.0161\n",
            "Epoch 938/1200\n",
            "1/1 [==============================] - 0s 10ms/step - loss: 3.5079e-04 - mae: 0.0161\n",
            "Epoch 939/1200\n",
            "1/1 [==============================] - 0s 10ms/step - loss: 3.4844e-04 - mae: 0.0160\n",
            "Epoch 940/1200\n",
            "1/1 [==============================] - 0s 9ms/step - loss: 3.4608e-04 - mae: 0.0160\n",
            "Epoch 941/1200\n",
            "1/1 [==============================] - 0s 9ms/step - loss: 3.4374e-04 - mae: 0.0159\n",
            "Epoch 942/1200\n",
            "1/1 [==============================] - 0s 11ms/step - loss: 3.4142e-04 - mae: 0.0159\n",
            "Epoch 943/1200\n",
            "1/1 [==============================] - 0s 11ms/step - loss: 3.3912e-04 - mae: 0.0158\n",
            "Epoch 944/1200\n",
            "1/1 [==============================] - 0s 9ms/step - loss: 3.3683e-04 - mae: 0.0158\n",
            "Epoch 945/1200\n",
            "1/1 [==============================] - 0s 10ms/step - loss: 3.3456e-04 - mae: 0.0157\n",
            "Epoch 946/1200\n",
            "1/1 [==============================] - 0s 12ms/step - loss: 3.3230e-04 - mae: 0.0156\n",
            "Epoch 947/1200\n",
            "1/1 [==============================] - 0s 9ms/step - loss: 3.3006e-04 - mae: 0.0156\n",
            "Epoch 948/1200\n",
            "1/1 [==============================] - 0s 8ms/step - loss: 3.2783e-04 - mae: 0.0155\n",
            "Epoch 949/1200\n",
            "1/1 [==============================] - 0s 9ms/step - loss: 3.2561e-04 - mae: 0.0155\n",
            "Epoch 950/1200\n",
            "1/1 [==============================] - 0s 10ms/step - loss: 3.2342e-04 - mae: 0.0154\n",
            "Epoch 951/1200\n",
            "1/1 [==============================] - 0s 10ms/step - loss: 3.2123e-04 - mae: 0.0154\n",
            "Epoch 952/1200\n",
            "1/1 [==============================] - 0s 13ms/step - loss: 3.1907e-04 - mae: 0.0153\n",
            "Epoch 953/1200\n",
            "1/1 [==============================] - 0s 11ms/step - loss: 3.1691e-04 - mae: 0.0153\n",
            "Epoch 954/1200\n",
            "1/1 [==============================] - 0s 9ms/step - loss: 3.1477e-04 - mae: 0.0152\n",
            "Epoch 955/1200\n",
            "1/1 [==============================] - 0s 12ms/step - loss: 3.1265e-04 - mae: 0.0152\n",
            "Epoch 956/1200\n",
            "1/1 [==============================] - 0s 14ms/step - loss: 3.1052e-04 - mae: 0.0151\n",
            "Epoch 957/1200\n",
            "1/1 [==============================] - 0s 9ms/step - loss: 3.0845e-04 - mae: 0.0151\n",
            "Epoch 958/1200\n",
            "1/1 [==============================] - 0s 7ms/step - loss: 3.0637e-04 - mae: 0.0150\n",
            "Epoch 959/1200\n",
            "1/1 [==============================] - 0s 11ms/step - loss: 3.0428e-04 - mae: 0.0150\n",
            "Epoch 960/1200\n",
            "1/1 [==============================] - 0s 14ms/step - loss: 3.0223e-04 - mae: 0.0149\n",
            "Epoch 961/1200\n",
            "1/1 [==============================] - 0s 8ms/step - loss: 3.0020e-04 - mae: 0.0149\n",
            "Epoch 962/1200\n",
            "1/1 [==============================] - 0s 10ms/step - loss: 2.9818e-04 - mae: 0.0148\n",
            "Epoch 963/1200\n",
            "1/1 [==============================] - 0s 11ms/step - loss: 2.9615e-04 - mae: 0.0148\n",
            "Epoch 964/1200\n",
            "1/1 [==============================] - 0s 15ms/step - loss: 2.9416e-04 - mae: 0.0147\n",
            "Epoch 965/1200\n",
            "1/1 [==============================] - 0s 10ms/step - loss: 2.9217e-04 - mae: 0.0147\n",
            "Epoch 966/1200\n",
            "1/1 [==============================] - 0s 11ms/step - loss: 2.9020e-04 - mae: 0.0146\n",
            "Epoch 967/1200\n",
            "1/1 [==============================] - 0s 10ms/step - loss: 2.8824e-04 - mae: 0.0146\n",
            "Epoch 968/1200\n",
            "1/1 [==============================] - 0s 8ms/step - loss: 2.8630e-04 - mae: 0.0145\n",
            "Epoch 969/1200\n",
            "1/1 [==============================] - 0s 11ms/step - loss: 2.8437e-04 - mae: 0.0145\n",
            "Epoch 970/1200\n",
            "1/1 [==============================] - 0s 7ms/step - loss: 2.8244e-04 - mae: 0.0144\n",
            "Epoch 971/1200\n",
            "1/1 [==============================] - 0s 8ms/step - loss: 2.8054e-04 - mae: 0.0144\n",
            "Epoch 972/1200\n",
            "1/1 [==============================] - 0s 13ms/step - loss: 2.7864e-04 - mae: 0.0143\n",
            "Epoch 973/1200\n",
            "1/1 [==============================] - 0s 9ms/step - loss: 2.7676e-04 - mae: 0.0143\n",
            "Epoch 974/1200\n",
            "1/1 [==============================] - 0s 10ms/step - loss: 2.7490e-04 - mae: 0.0142\n",
            "Epoch 975/1200\n",
            "1/1 [==============================] - 0s 9ms/step - loss: 2.7304e-04 - mae: 0.0142\n",
            "Epoch 976/1200\n",
            "1/1 [==============================] - 0s 12ms/step - loss: 2.7120e-04 - mae: 0.0141\n",
            "Epoch 977/1200\n",
            "1/1 [==============================] - 0s 8ms/step - loss: 2.6936e-04 - mae: 0.0141\n",
            "Epoch 978/1200\n",
            "1/1 [==============================] - 0s 10ms/step - loss: 2.6755e-04 - mae: 0.0140\n",
            "Epoch 979/1200\n",
            "1/1 [==============================] - 0s 10ms/step - loss: 2.6573e-04 - mae: 0.0140\n",
            "Epoch 980/1200\n",
            "1/1 [==============================] - 0s 8ms/step - loss: 2.6394e-04 - mae: 0.0139\n",
            "Epoch 981/1200\n",
            "1/1 [==============================] - 0s 8ms/step - loss: 2.6215e-04 - mae: 0.0139\n",
            "Epoch 982/1200\n",
            "1/1 [==============================] - 0s 9ms/step - loss: 2.6039e-04 - mae: 0.0139\n",
            "Epoch 983/1200\n",
            "1/1 [==============================] - 0s 10ms/step - loss: 2.5864e-04 - mae: 0.0138\n",
            "Epoch 984/1200\n",
            "1/1 [==============================] - 0s 9ms/step - loss: 2.5689e-04 - mae: 0.0138\n",
            "Epoch 985/1200\n",
            "1/1 [==============================] - 0s 8ms/step - loss: 2.5515e-04 - mae: 0.0137\n",
            "Epoch 986/1200\n",
            "1/1 [==============================] - 0s 9ms/step - loss: 2.5344e-04 - mae: 0.0137\n",
            "Epoch 987/1200\n",
            "1/1 [==============================] - 0s 10ms/step - loss: 2.5173e-04 - mae: 0.0136\n",
            "Epoch 988/1200\n",
            "1/1 [==============================] - 0s 9ms/step - loss: 2.5002e-04 - mae: 0.0136\n",
            "Epoch 989/1200\n",
            "1/1 [==============================] - 0s 8ms/step - loss: 2.4833e-04 - mae: 0.0135\n",
            "Epoch 990/1200\n",
            "1/1 [==============================] - 0s 8ms/step - loss: 2.4666e-04 - mae: 0.0135\n",
            "Epoch 991/1200\n",
            "1/1 [==============================] - 0s 8ms/step - loss: 2.4499e-04 - mae: 0.0134\n",
            "Epoch 992/1200\n",
            "1/1 [==============================] - 0s 9ms/step - loss: 2.4334e-04 - mae: 0.0134\n",
            "Epoch 993/1200\n",
            "1/1 [==============================] - 0s 12ms/step - loss: 2.4170e-04 - mae: 0.0133\n",
            "Epoch 994/1200\n",
            "1/1 [==============================] - 0s 8ms/step - loss: 2.4006e-04 - mae: 0.0133\n",
            "Epoch 995/1200\n",
            "1/1 [==============================] - 0s 8ms/step - loss: 2.3844e-04 - mae: 0.0133\n",
            "Epoch 996/1200\n",
            "1/1 [==============================] - 0s 9ms/step - loss: 2.3682e-04 - mae: 0.0132\n",
            "Epoch 997/1200\n",
            "1/1 [==============================] - 0s 8ms/step - loss: 2.3524e-04 - mae: 0.0132\n",
            "Epoch 998/1200\n",
            "1/1 [==============================] - 0s 8ms/step - loss: 2.3364e-04 - mae: 0.0131\n",
            "Epoch 999/1200\n",
            "1/1 [==============================] - 0s 8ms/step - loss: 2.3206e-04 - mae: 0.0131\n",
            "Epoch 1000/1200\n",
            "1/1 [==============================] - 0s 7ms/step - loss: 2.3051e-04 - mae: 0.0130\n",
            "Epoch 1001/1200\n",
            "1/1 [==============================] - 0s 11ms/step - loss: 2.2894e-04 - mae: 0.0130\n",
            "Epoch 1002/1200\n",
            "1/1 [==============================] - 0s 9ms/step - loss: 2.2740e-04 - mae: 0.0129\n",
            "Epoch 1003/1200\n",
            "1/1 [==============================] - 0s 9ms/step - loss: 2.2587e-04 - mae: 0.0129\n",
            "Epoch 1004/1200\n",
            "1/1 [==============================] - 0s 11ms/step - loss: 2.2434e-04 - mae: 0.0129\n",
            "Epoch 1005/1200\n",
            "1/1 [==============================] - 0s 8ms/step - loss: 2.2282e-04 - mae: 0.0128\n",
            "Epoch 1006/1200\n",
            "1/1 [==============================] - 0s 7ms/step - loss: 2.2132e-04 - mae: 0.0128\n",
            "Epoch 1007/1200\n",
            "1/1 [==============================] - 0s 7ms/step - loss: 2.1983e-04 - mae: 0.0127\n",
            "Epoch 1008/1200\n",
            "1/1 [==============================] - 0s 8ms/step - loss: 2.1834e-04 - mae: 0.0127\n",
            "Epoch 1009/1200\n",
            "1/1 [==============================] - 0s 10ms/step - loss: 2.1687e-04 - mae: 0.0126\n",
            "Epoch 1010/1200\n",
            "1/1 [==============================] - 0s 10ms/step - loss: 2.1540e-04 - mae: 0.0126\n",
            "Epoch 1011/1200\n",
            "1/1 [==============================] - 0s 9ms/step - loss: 2.1395e-04 - mae: 0.0126\n",
            "Epoch 1012/1200\n",
            "1/1 [==============================] - 0s 8ms/step - loss: 2.1251e-04 - mae: 0.0125\n",
            "Epoch 1013/1200\n",
            "1/1 [==============================] - 0s 11ms/step - loss: 2.1107e-04 - mae: 0.0125\n",
            "Epoch 1014/1200\n",
            "1/1 [==============================] - 0s 12ms/step - loss: 2.0965e-04 - mae: 0.0124\n",
            "Epoch 1015/1200\n",
            "1/1 [==============================] - 0s 10ms/step - loss: 2.0824e-04 - mae: 0.0124\n",
            "Epoch 1016/1200\n",
            "1/1 [==============================] - 0s 10ms/step - loss: 2.0682e-04 - mae: 0.0123\n",
            "Epoch 1017/1200\n",
            "1/1 [==============================] - 0s 9ms/step - loss: 2.0544e-04 - mae: 0.0123\n",
            "Epoch 1018/1200\n",
            "1/1 [==============================] - 0s 9ms/step - loss: 2.0405e-04 - mae: 0.0123\n",
            "Epoch 1019/1200\n",
            "1/1 [==============================] - 0s 8ms/step - loss: 2.0266e-04 - mae: 0.0122\n",
            "Epoch 1020/1200\n",
            "1/1 [==============================] - 0s 13ms/step - loss: 2.0130e-04 - mae: 0.0122\n",
            "Epoch 1021/1200\n",
            "1/1 [==============================] - 0s 11ms/step - loss: 1.9993e-04 - mae: 0.0121\n",
            "Epoch 1022/1200\n",
            "1/1 [==============================] - 0s 11ms/step - loss: 1.9859e-04 - mae: 0.0121\n",
            "Epoch 1023/1200\n",
            "1/1 [==============================] - 0s 11ms/step - loss: 1.9725e-04 - mae: 0.0121\n",
            "Epoch 1024/1200\n",
            "1/1 [==============================] - 0s 13ms/step - loss: 1.9592e-04 - mae: 0.0120\n",
            "Epoch 1025/1200\n",
            "1/1 [==============================] - 0s 7ms/step - loss: 1.9459e-04 - mae: 0.0120\n",
            "Epoch 1026/1200\n",
            "1/1 [==============================] - 0s 9ms/step - loss: 1.9328e-04 - mae: 0.0119\n",
            "Epoch 1027/1200\n",
            "1/1 [==============================] - 0s 9ms/step - loss: 1.9197e-04 - mae: 0.0119\n",
            "Epoch 1028/1200\n",
            "1/1 [==============================] - 0s 12ms/step - loss: 1.9068e-04 - mae: 0.0119\n",
            "Epoch 1029/1200\n",
            "1/1 [==============================] - 0s 8ms/step - loss: 1.8940e-04 - mae: 0.0118\n",
            "Epoch 1030/1200\n",
            "1/1 [==============================] - 0s 7ms/step - loss: 1.8812e-04 - mae: 0.0118\n",
            "Epoch 1031/1200\n",
            "1/1 [==============================] - 0s 10ms/step - loss: 1.8685e-04 - mae: 0.0117\n",
            "Epoch 1032/1200\n",
            "1/1 [==============================] - 0s 9ms/step - loss: 1.8558e-04 - mae: 0.0117\n",
            "Epoch 1033/1200\n",
            "1/1 [==============================] - 0s 8ms/step - loss: 1.8434e-04 - mae: 0.0117\n",
            "Epoch 1034/1200\n",
            "1/1 [==============================] - 0s 7ms/step - loss: 1.8309e-04 - mae: 0.0116\n",
            "Epoch 1035/1200\n",
            "1/1 [==============================] - 0s 8ms/step - loss: 1.8185e-04 - mae: 0.0116\n",
            "Epoch 1036/1200\n",
            "1/1 [==============================] - 0s 9ms/step - loss: 1.8062e-04 - mae: 0.0115\n",
            "Epoch 1037/1200\n",
            "1/1 [==============================] - 0s 7ms/step - loss: 1.7940e-04 - mae: 0.0115\n",
            "Epoch 1038/1200\n",
            "1/1 [==============================] - 0s 9ms/step - loss: 1.7820e-04 - mae: 0.0115\n",
            "Epoch 1039/1200\n",
            "1/1 [==============================] - 0s 11ms/step - loss: 1.7699e-04 - mae: 0.0114\n",
            "Epoch 1040/1200\n",
            "1/1 [==============================] - 0s 8ms/step - loss: 1.7580e-04 - mae: 0.0114\n",
            "Epoch 1041/1200\n",
            "1/1 [==============================] - 0s 9ms/step - loss: 1.7462e-04 - mae: 0.0113\n",
            "Epoch 1042/1200\n",
            "1/1 [==============================] - 0s 8ms/step - loss: 1.7343e-04 - mae: 0.0113\n",
            "Epoch 1043/1200\n",
            "1/1 [==============================] - 0s 9ms/step - loss: 1.7226e-04 - mae: 0.0113\n",
            "Epoch 1044/1200\n",
            "1/1 [==============================] - 0s 10ms/step - loss: 1.7110e-04 - mae: 0.0112\n",
            "Epoch 1045/1200\n",
            "1/1 [==============================] - 0s 9ms/step - loss: 1.6994e-04 - mae: 0.0112\n",
            "Epoch 1046/1200\n",
            "1/1 [==============================] - 0s 11ms/step - loss: 1.6879e-04 - mae: 0.0112\n",
            "Epoch 1047/1200\n",
            "1/1 [==============================] - 0s 8ms/step - loss: 1.6766e-04 - mae: 0.0111\n",
            "Epoch 1048/1200\n",
            "1/1 [==============================] - 0s 9ms/step - loss: 1.6652e-04 - mae: 0.0111\n",
            "Epoch 1049/1200\n",
            "1/1 [==============================] - 0s 9ms/step - loss: 1.6540e-04 - mae: 0.0110\n",
            "Epoch 1050/1200\n",
            "1/1 [==============================] - 0s 8ms/step - loss: 1.6428e-04 - mae: 0.0110\n",
            "Epoch 1051/1200\n",
            "1/1 [==============================] - 0s 9ms/step - loss: 1.6317e-04 - mae: 0.0110\n",
            "Epoch 1052/1200\n",
            "1/1 [==============================] - 0s 8ms/step - loss: 1.6208e-04 - mae: 0.0109\n",
            "Epoch 1053/1200\n",
            "1/1 [==============================] - 0s 9ms/step - loss: 1.6098e-04 - mae: 0.0109\n",
            "Epoch 1054/1200\n",
            "1/1 [==============================] - 0s 9ms/step - loss: 1.5989e-04 - mae: 0.0109\n",
            "Epoch 1055/1200\n",
            "1/1 [==============================] - 0s 9ms/step - loss: 1.5881e-04 - mae: 0.0108\n",
            "Epoch 1056/1200\n",
            "1/1 [==============================] - 0s 9ms/step - loss: 1.5774e-04 - mae: 0.0108\n",
            "Epoch 1057/1200\n",
            "1/1 [==============================] - 0s 8ms/step - loss: 1.5668e-04 - mae: 0.0107\n",
            "Epoch 1058/1200\n",
            "1/1 [==============================] - 0s 11ms/step - loss: 1.5561e-04 - mae: 0.0107\n",
            "Epoch 1059/1200\n",
            "1/1 [==============================] - 0s 8ms/step - loss: 1.5457e-04 - mae: 0.0107\n",
            "Epoch 1060/1200\n",
            "1/1 [==============================] - 0s 8ms/step - loss: 1.5352e-04 - mae: 0.0106\n",
            "Epoch 1061/1200\n",
            "1/1 [==============================] - 0s 9ms/step - loss: 1.5249e-04 - mae: 0.0106\n",
            "Epoch 1062/1200\n",
            "1/1 [==============================] - 0s 11ms/step - loss: 1.5146e-04 - mae: 0.0106\n",
            "Epoch 1063/1200\n",
            "1/1 [==============================] - 0s 10ms/step - loss: 1.5044e-04 - mae: 0.0105\n",
            "Epoch 1064/1200\n",
            "1/1 [==============================] - 0s 8ms/step - loss: 1.4943e-04 - mae: 0.0105\n",
            "Epoch 1065/1200\n",
            "1/1 [==============================] - 0s 11ms/step - loss: 1.4842e-04 - mae: 0.0105\n",
            "Epoch 1066/1200\n",
            "1/1 [==============================] - 0s 7ms/step - loss: 1.4742e-04 - mae: 0.0104\n",
            "Epoch 1067/1200\n",
            "1/1 [==============================] - 0s 10ms/step - loss: 1.4642e-04 - mae: 0.0104\n",
            "Epoch 1068/1200\n",
            "1/1 [==============================] - 0s 9ms/step - loss: 1.4543e-04 - mae: 0.0104\n",
            "Epoch 1069/1200\n",
            "1/1 [==============================] - 0s 9ms/step - loss: 1.4444e-04 - mae: 0.0103\n",
            "Epoch 1070/1200\n",
            "1/1 [==============================] - 0s 9ms/step - loss: 1.4347e-04 - mae: 0.0103\n",
            "Epoch 1071/1200\n",
            "1/1 [==============================] - 0s 11ms/step - loss: 1.4250e-04 - mae: 0.0102\n",
            "Epoch 1072/1200\n",
            "1/1 [==============================] - 0s 11ms/step - loss: 1.4154e-04 - mae: 0.0102\n",
            "Epoch 1073/1200\n",
            "1/1 [==============================] - 0s 12ms/step - loss: 1.4059e-04 - mae: 0.0102\n",
            "Epoch 1074/1200\n",
            "1/1 [==============================] - 0s 8ms/step - loss: 1.3963e-04 - mae: 0.0101\n",
            "Epoch 1075/1200\n",
            "1/1 [==============================] - 0s 8ms/step - loss: 1.3870e-04 - mae: 0.0101\n",
            "Epoch 1076/1200\n",
            "1/1 [==============================] - 0s 7ms/step - loss: 1.3776e-04 - mae: 0.0101\n",
            "Epoch 1077/1200\n",
            "1/1 [==============================] - 0s 7ms/step - loss: 1.3682e-04 - mae: 0.0100\n",
            "Epoch 1078/1200\n",
            "1/1 [==============================] - 0s 6ms/step - loss: 1.3590e-04 - mae: 0.0100\n",
            "Epoch 1079/1200\n",
            "1/1 [==============================] - 0s 7ms/step - loss: 1.3499e-04 - mae: 0.0100\n",
            "Epoch 1080/1200\n",
            "1/1 [==============================] - 0s 7ms/step - loss: 1.3408e-04 - mae: 0.0099\n",
            "Epoch 1081/1200\n",
            "1/1 [==============================] - 0s 6ms/step - loss: 1.3317e-04 - mae: 0.0099\n",
            "Epoch 1082/1200\n",
            "1/1 [==============================] - 0s 5ms/step - loss: 1.3228e-04 - mae: 0.0099\n",
            "Epoch 1083/1200\n",
            "1/1 [==============================] - 0s 6ms/step - loss: 1.3138e-04 - mae: 0.0098\n",
            "Epoch 1084/1200\n",
            "1/1 [==============================] - 0s 6ms/step - loss: 1.3049e-04 - mae: 0.0098\n",
            "Epoch 1085/1200\n",
            "1/1 [==============================] - 0s 10ms/step - loss: 1.2961e-04 - mae: 0.0098\n",
            "Epoch 1086/1200\n",
            "1/1 [==============================] - 0s 9ms/step - loss: 1.2874e-04 - mae: 0.0097\n",
            "Epoch 1087/1200\n",
            "1/1 [==============================] - 0s 6ms/step - loss: 1.2787e-04 - mae: 0.0097\n",
            "Epoch 1088/1200\n",
            "1/1 [==============================] - 0s 6ms/step - loss: 1.2700e-04 - mae: 0.0097\n",
            "Epoch 1089/1200\n",
            "1/1 [==============================] - 0s 9ms/step - loss: 1.2615e-04 - mae: 0.0096\n",
            "Epoch 1090/1200\n",
            "1/1 [==============================] - 0s 7ms/step - loss: 1.2529e-04 - mae: 0.0096\n",
            "Epoch 1091/1200\n",
            "1/1 [==============================] - 0s 6ms/step - loss: 1.2444e-04 - mae: 0.0096\n",
            "Epoch 1092/1200\n",
            "1/1 [==============================] - 0s 5ms/step - loss: 1.2361e-04 - mae: 0.0095\n",
            "Epoch 1093/1200\n",
            "1/1 [==============================] - 0s 5ms/step - loss: 1.2278e-04 - mae: 0.0095\n",
            "Epoch 1094/1200\n",
            "1/1 [==============================] - 0s 6ms/step - loss: 1.2195e-04 - mae: 0.0095\n",
            "Epoch 1095/1200\n",
            "1/1 [==============================] - 0s 6ms/step - loss: 1.2112e-04 - mae: 0.0094\n",
            "Epoch 1096/1200\n",
            "1/1 [==============================] - 0s 6ms/step - loss: 1.2031e-04 - mae: 0.0094\n",
            "Epoch 1097/1200\n",
            "1/1 [==============================] - 0s 5ms/step - loss: 1.1949e-04 - mae: 0.0094\n",
            "Epoch 1098/1200\n",
            "1/1 [==============================] - 0s 6ms/step - loss: 1.1868e-04 - mae: 0.0094\n",
            "Epoch 1099/1200\n",
            "1/1 [==============================] - 0s 6ms/step - loss: 1.1788e-04 - mae: 0.0093\n",
            "Epoch 1100/1200\n",
            "1/1 [==============================] - 0s 6ms/step - loss: 1.1708e-04 - mae: 0.0093\n",
            "Epoch 1101/1200\n",
            "1/1 [==============================] - 0s 6ms/step - loss: 1.1630e-04 - mae: 0.0093\n",
            "Epoch 1102/1200\n",
            "1/1 [==============================] - 0s 12ms/step - loss: 1.1552e-04 - mae: 0.0092\n",
            "Epoch 1103/1200\n",
            "1/1 [==============================] - 0s 15ms/step - loss: 1.1473e-04 - mae: 0.0092\n",
            "Epoch 1104/1200\n",
            "1/1 [==============================] - 0s 13ms/step - loss: 1.1396e-04 - mae: 0.0092\n",
            "Epoch 1105/1200\n",
            "1/1 [==============================] - 0s 28ms/step - loss: 1.1319e-04 - mae: 0.0091\n",
            "Epoch 1106/1200\n",
            "1/1 [==============================] - 0s 11ms/step - loss: 1.1242e-04 - mae: 0.0091\n",
            "Epoch 1107/1200\n",
            "1/1 [==============================] - 0s 8ms/step - loss: 1.1166e-04 - mae: 0.0091\n",
            "Epoch 1108/1200\n",
            "1/1 [==============================] - 0s 8ms/step - loss: 1.1091e-04 - mae: 0.0090\n",
            "Epoch 1109/1200\n",
            "1/1 [==============================] - 0s 12ms/step - loss: 1.1017e-04 - mae: 0.0090\n",
            "Epoch 1110/1200\n",
            "1/1 [==============================] - 0s 10ms/step - loss: 1.0942e-04 - mae: 0.0090\n",
            "Epoch 1111/1200\n",
            "1/1 [==============================] - 0s 9ms/step - loss: 1.0868e-04 - mae: 0.0089\n",
            "Epoch 1112/1200\n",
            "1/1 [==============================] - 0s 10ms/step - loss: 1.0795e-04 - mae: 0.0089\n",
            "Epoch 1113/1200\n",
            "1/1 [==============================] - 0s 9ms/step - loss: 1.0722e-04 - mae: 0.0089\n",
            "Epoch 1114/1200\n",
            "1/1 [==============================] - 0s 6ms/step - loss: 1.0649e-04 - mae: 0.0089\n",
            "Epoch 1115/1200\n",
            "1/1 [==============================] - 0s 9ms/step - loss: 1.0578e-04 - mae: 0.0088\n",
            "Epoch 1116/1200\n",
            "1/1 [==============================] - 0s 10ms/step - loss: 1.0506e-04 - mae: 0.0088\n",
            "Epoch 1117/1200\n",
            "1/1 [==============================] - 0s 10ms/step - loss: 1.0435e-04 - mae: 0.0088\n",
            "Epoch 1118/1200\n",
            "1/1 [==============================] - 0s 10ms/step - loss: 1.0365e-04 - mae: 0.0087\n",
            "Epoch 1119/1200\n",
            "1/1 [==============================] - 0s 10ms/step - loss: 1.0295e-04 - mae: 0.0087\n",
            "Epoch 1120/1200\n",
            "1/1 [==============================] - 0s 8ms/step - loss: 1.0225e-04 - mae: 0.0087\n",
            "Epoch 1121/1200\n",
            "1/1 [==============================] - 0s 6ms/step - loss: 1.0156e-04 - mae: 0.0087\n",
            "Epoch 1122/1200\n",
            "1/1 [==============================] - 0s 5ms/step - loss: 1.0088e-04 - mae: 0.0086\n",
            "Epoch 1123/1200\n",
            "1/1 [==============================] - 0s 8ms/step - loss: 1.0019e-04 - mae: 0.0086\n",
            "Epoch 1124/1200\n",
            "1/1 [==============================] - 0s 5ms/step - loss: 9.9528e-05 - mae: 0.0086\n",
            "Epoch 1125/1200\n",
            "1/1 [==============================] - 0s 5ms/step - loss: 9.8847e-05 - mae: 0.0085\n",
            "Epoch 1126/1200\n",
            "1/1 [==============================] - 0s 5ms/step - loss: 9.8183e-05 - mae: 0.0085\n",
            "Epoch 1127/1200\n",
            "1/1 [==============================] - 0s 5ms/step - loss: 9.7522e-05 - mae: 0.0085\n",
            "Epoch 1128/1200\n",
            "1/1 [==============================] - 0s 7ms/step - loss: 9.6865e-05 - mae: 0.0084\n",
            "Epoch 1129/1200\n",
            "1/1 [==============================] - 0s 6ms/step - loss: 9.6204e-05 - mae: 0.0084\n",
            "Epoch 1130/1200\n",
            "1/1 [==============================] - 0s 5ms/step - loss: 9.5558e-05 - mae: 0.0084\n",
            "Epoch 1131/1200\n",
            "1/1 [==============================] - 0s 6ms/step - loss: 9.4909e-05 - mae: 0.0084\n",
            "Epoch 1132/1200\n",
            "1/1 [==============================] - 0s 6ms/step - loss: 9.4276e-05 - mae: 0.0083\n",
            "Epoch 1133/1200\n",
            "1/1 [==============================] - 0s 5ms/step - loss: 9.3643e-05 - mae: 0.0083\n",
            "Epoch 1134/1200\n",
            "1/1 [==============================] - 0s 6ms/step - loss: 9.3002e-05 - mae: 0.0083\n",
            "Epoch 1135/1200\n",
            "1/1 [==============================] - 0s 5ms/step - loss: 9.2375e-05 - mae: 0.0082\n",
            "Epoch 1136/1200\n",
            "1/1 [==============================] - 0s 6ms/step - loss: 9.1752e-05 - mae: 0.0082\n",
            "Epoch 1137/1200\n",
            "1/1 [==============================] - 0s 6ms/step - loss: 9.1134e-05 - mae: 0.0082\n",
            "Epoch 1138/1200\n",
            "1/1 [==============================] - 0s 6ms/step - loss: 9.0518e-05 - mae: 0.0082\n",
            "Epoch 1139/1200\n",
            "1/1 [==============================] - 0s 5ms/step - loss: 8.9906e-05 - mae: 0.0081\n",
            "Epoch 1140/1200\n",
            "1/1 [==============================] - 0s 5ms/step - loss: 8.9298e-05 - mae: 0.0081\n",
            "Epoch 1141/1200\n",
            "1/1 [==============================] - 0s 8ms/step - loss: 8.8698e-05 - mae: 0.0081\n",
            "Epoch 1142/1200\n",
            "1/1 [==============================] - 0s 5ms/step - loss: 8.8099e-05 - mae: 0.0081\n",
            "Epoch 1143/1200\n",
            "1/1 [==============================] - 0s 6ms/step - loss: 8.7505e-05 - mae: 0.0080\n",
            "Epoch 1144/1200\n",
            "1/1 [==============================] - 0s 6ms/step - loss: 8.6913e-05 - mae: 0.0080\n",
            "Epoch 1145/1200\n",
            "1/1 [==============================] - 0s 7ms/step - loss: 8.6324e-05 - mae: 0.0080\n",
            "Epoch 1146/1200\n",
            "1/1 [==============================] - 0s 8ms/step - loss: 8.5745e-05 - mae: 0.0079\n",
            "Epoch 1147/1200\n",
            "1/1 [==============================] - 0s 6ms/step - loss: 8.5161e-05 - mae: 0.0079\n",
            "Epoch 1148/1200\n",
            "1/1 [==============================] - 0s 6ms/step - loss: 8.4591e-05 - mae: 0.0079\n",
            "Epoch 1149/1200\n",
            "1/1 [==============================] - 0s 6ms/step - loss: 8.4020e-05 - mae: 0.0079\n",
            "Epoch 1150/1200\n",
            "1/1 [==============================] - 0s 5ms/step - loss: 8.3451e-05 - mae: 0.0078\n",
            "Epoch 1151/1200\n",
            "1/1 [==============================] - 0s 6ms/step - loss: 8.2891e-05 - mae: 0.0078\n",
            "Epoch 1152/1200\n",
            "1/1 [==============================] - 0s 6ms/step - loss: 8.2331e-05 - mae: 0.0078\n",
            "Epoch 1153/1200\n",
            "1/1 [==============================] - 0s 10ms/step - loss: 8.1773e-05 - mae: 0.0078\n",
            "Epoch 1154/1200\n",
            "1/1 [==============================] - 0s 11ms/step - loss: 8.1222e-05 - mae: 0.0077\n",
            "Epoch 1155/1200\n",
            "1/1 [==============================] - 0s 6ms/step - loss: 8.0671e-05 - mae: 0.0077\n",
            "Epoch 1156/1200\n",
            "1/1 [==============================] - 0s 7ms/step - loss: 8.0130e-05 - mae: 0.0077\n",
            "Epoch 1157/1200\n",
            "1/1 [==============================] - 0s 6ms/step - loss: 7.9587e-05 - mae: 0.0077\n",
            "Epoch 1158/1200\n",
            "1/1 [==============================] - 0s 5ms/step - loss: 7.9053e-05 - mae: 0.0076\n",
            "Epoch 1159/1200\n",
            "1/1 [==============================] - 0s 6ms/step - loss: 7.8514e-05 - mae: 0.0076\n",
            "Epoch 1160/1200\n",
            "1/1 [==============================] - 0s 5ms/step - loss: 7.7992e-05 - mae: 0.0076\n",
            "Epoch 1161/1200\n",
            "1/1 [==============================] - 0s 6ms/step - loss: 7.7466e-05 - mae: 0.0076\n",
            "Epoch 1162/1200\n",
            "1/1 [==============================] - 0s 6ms/step - loss: 7.6943e-05 - mae: 0.0075\n",
            "Epoch 1163/1200\n",
            "1/1 [==============================] - 0s 5ms/step - loss: 7.6417e-05 - mae: 0.0075\n",
            "Epoch 1164/1200\n",
            "1/1 [==============================] - 0s 6ms/step - loss: 7.5905e-05 - mae: 0.0075\n",
            "Epoch 1165/1200\n",
            "1/1 [==============================] - 0s 5ms/step - loss: 7.5391e-05 - mae: 0.0075\n",
            "Epoch 1166/1200\n",
            "1/1 [==============================] - 0s 5ms/step - loss: 7.4882e-05 - mae: 0.0074\n",
            "Epoch 1167/1200\n",
            "1/1 [==============================] - 0s 6ms/step - loss: 7.4377e-05 - mae: 0.0074\n",
            "Epoch 1168/1200\n",
            "1/1 [==============================] - 0s 6ms/step - loss: 7.3877e-05 - mae: 0.0074\n",
            "Epoch 1169/1200\n",
            "1/1 [==============================] - 0s 6ms/step - loss: 7.3378e-05 - mae: 0.0074\n",
            "Epoch 1170/1200\n",
            "1/1 [==============================] - 0s 6ms/step - loss: 7.2881e-05 - mae: 0.0073\n",
            "Epoch 1171/1200\n",
            "1/1 [==============================] - 0s 5ms/step - loss: 7.2389e-05 - mae: 0.0073\n",
            "Epoch 1172/1200\n",
            "1/1 [==============================] - 0s 6ms/step - loss: 7.1900e-05 - mae: 0.0073\n",
            "Epoch 1173/1200\n",
            "1/1 [==============================] - 0s 5ms/step - loss: 7.1412e-05 - mae: 0.0073\n",
            "Epoch 1174/1200\n",
            "1/1 [==============================] - 0s 6ms/step - loss: 7.0936e-05 - mae: 0.0072\n",
            "Epoch 1175/1200\n",
            "1/1 [==============================] - 0s 5ms/step - loss: 7.0456e-05 - mae: 0.0072\n",
            "Epoch 1176/1200\n",
            "1/1 [==============================] - 0s 5ms/step - loss: 6.9975e-05 - mae: 0.0072\n",
            "Epoch 1177/1200\n",
            "1/1 [==============================] - 0s 7ms/step - loss: 6.9507e-05 - mae: 0.0072\n",
            "Epoch 1178/1200\n",
            "1/1 [==============================] - 0s 5ms/step - loss: 6.9034e-05 - mae: 0.0071\n",
            "Epoch 1179/1200\n",
            "1/1 [==============================] - 0s 6ms/step - loss: 6.8571e-05 - mae: 0.0071\n",
            "Epoch 1180/1200\n",
            "1/1 [==============================] - 0s 7ms/step - loss: 6.8110e-05 - mae: 0.0071\n",
            "Epoch 1181/1200\n",
            "1/1 [==============================] - 0s 7ms/step - loss: 6.7646e-05 - mae: 0.0071\n",
            "Epoch 1182/1200\n",
            "1/1 [==============================] - 0s 7ms/step - loss: 6.7190e-05 - mae: 0.0070\n",
            "Epoch 1183/1200\n",
            "1/1 [==============================] - 0s 7ms/step - loss: 6.6742e-05 - mae: 0.0070\n",
            "Epoch 1184/1200\n",
            "1/1 [==============================] - 0s 7ms/step - loss: 6.6291e-05 - mae: 0.0070\n",
            "Epoch 1185/1200\n",
            "1/1 [==============================] - 0s 6ms/step - loss: 6.5838e-05 - mae: 0.0070\n",
            "Epoch 1186/1200\n",
            "1/1 [==============================] - 0s 7ms/step - loss: 6.5395e-05 - mae: 0.0069\n",
            "Epoch 1187/1200\n",
            "1/1 [==============================] - 0s 7ms/step - loss: 6.4957e-05 - mae: 0.0069\n",
            "Epoch 1188/1200\n",
            "1/1 [==============================] - 0s 7ms/step - loss: 6.4516e-05 - mae: 0.0069\n",
            "Epoch 1189/1200\n",
            "1/1 [==============================] - 0s 7ms/step - loss: 6.4081e-05 - mae: 0.0069\n",
            "Epoch 1190/1200\n",
            "1/1 [==============================] - 0s 10ms/step - loss: 6.3648e-05 - mae: 0.0068\n",
            "Epoch 1191/1200\n",
            "1/1 [==============================] - 0s 41ms/step - loss: 6.3219e-05 - mae: 0.0068\n",
            "Epoch 1192/1200\n",
            "1/1 [==============================] - 0s 11ms/step - loss: 6.2789e-05 - mae: 0.0068\n",
            "Epoch 1193/1200\n",
            "1/1 [==============================] - 0s 10ms/step - loss: 6.2369e-05 - mae: 0.0068\n",
            "Epoch 1194/1200\n",
            "1/1 [==============================] - 0s 11ms/step - loss: 6.1945e-05 - mae: 0.0068\n",
            "Epoch 1195/1200\n",
            "1/1 [==============================] - 0s 11ms/step - loss: 6.1532e-05 - mae: 0.0067\n",
            "Epoch 1196/1200\n",
            "1/1 [==============================] - 0s 7ms/step - loss: 6.1115e-05 - mae: 0.0067\n",
            "Epoch 1197/1200\n",
            "1/1 [==============================] - 0s 6ms/step - loss: 6.0705e-05 - mae: 0.0067\n",
            "Epoch 1198/1200\n",
            "1/1 [==============================] - 0s 6ms/step - loss: 6.0291e-05 - mae: 0.0067\n",
            "Epoch 1199/1200\n",
            "1/1 [==============================] - 0s 6ms/step - loss: 5.9883e-05 - mae: 0.0066\n",
            "Epoch 1200/1200\n",
            "1/1 [==============================] - 0s 6ms/step - loss: 5.9479e-05 - mae: 0.0066\n"
          ]
        }
      ]
    },
    {
      "cell_type": "markdown",
      "source": [
        "* 충분한 훈련으로 mse, mae가 모두 개선됨"
      ],
      "metadata": {
        "id": "EJkhgb_wencY"
      }
    },
    {
      "cell_type": "code",
      "source": [
        "#epoch별 훈련 손실 및 평가지표 시각화\n",
        "\n",
        "import matplotlib.pyplot as plt\n",
        "\n",
        "#20 epoch까지 Loss 수렴에 대한 시각화\n",
        "plt.plot(history.history['loss'],label='loss')\n",
        "plt.plot(history.history['mae'],label='mae')\n",
        "plt.xlim(-1,20)\n",
        "plt.title('Loss')\n",
        "plt.legend()\n",
        "plt.show()"
      ],
      "metadata": {
        "colab": {
          "base_uri": "https://localhost:8080/",
          "height": 281
        },
        "id": "65Q1dL3beigx",
        "outputId": "34cf1cb5-23ad-4e71-ec48-cf59c80fd681"
      },
      "execution_count": 17,
      "outputs": [
        {
          "output_type": "display_data",
          "data": {
            "text/plain": [
              "<Figure size 432x288 with 1 Axes>"
            ],
            "image/png": "[encoded data removed]"
          },
          "metadata": {
            "needs_background": "light"
          }
        }
      ]
    },
    {
      "cell_type": "markdown",
      "source": [
        "* 10 epoch까지 손실이 급격히 감소, 그 이후로 감소 폭이 둔화\n",
        "\n",
        "* 모델 훈련 초기 단계에는 학습이 매우 빠른 속도로 진행, 일정 epoch 이후에는 느려짐"
      ],
      "metadata": {
        "id": "L-LVQjesfHMF"
      }
    },
    {
      "cell_type": "markdown",
      "source": [
        "### 2-9. 검증"
      ],
      "metadata": {
        "id": "ly8QnnRffQYs"
      }
    },
    {
      "cell_type": "markdown",
      "source": [
        "* 모델이 훈련을 마친 상태의 가중치를 그대로 적용하여 손실과 평가지표를 계산"
      ],
      "metadata": {
        "id": "5oyNDXjrfaTh"
      }
    },
    {
      "cell_type": "code",
      "source": [
        "model.evaluate(x,y) # 별도의 검증 셋이 없으므로 훈련 데이터셋의 x,y 대입"
      ],
      "metadata": {
        "colab": {
          "base_uri": "https://localhost:8080/"
        },
        "id": "x3VhvEBEfSny",
        "outputId": "6f7791f5-cbe3-4f6a-90b3-9e97203eeb3b"
      },
      "execution_count": 18,
      "outputs": [
        {
          "output_type": "stream",
          "name": "stdout",
          "text": [
            "1/1 [==============================] - 0s 202ms/step - loss: 5.9078e-05 - mae: 0.0066\n"
          ]
        },
        {
          "output_type": "execute_result",
          "data": {
            "text/plain": [
              "[5.907838203711435e-05, 0.0065972330048680305]"
            ]
          },
          "metadata": {},
          "execution_count": 18
        }
      ]
    },
    {
      "cell_type": "markdown",
      "source": [
        "* 1200번 epoch를 종료한 상태에서 출력된 모델 훈련 단계에서의 값과 결과가 같음"
      ],
      "metadata": {
        "id": "sjfVr3mvff1e"
      }
    },
    {
      "cell_type": "markdown",
      "source": [
        "### 2-10. 예측"
      ],
      "metadata": {
        "id": "g3oYU-bZfnDd"
      }
    },
    {
      "cell_type": "code",
      "source": [
        "model.predict([10])"
      ],
      "metadata": {
        "colab": {
          "base_uri": "https://localhost:8080/"
        },
        "id": "EsRAubVmfp-8",
        "outputId": "87ac60cc-d637-4963-a3bb-94342e14221c"
      },
      "execution_count": 19,
      "outputs": [
        {
          "output_type": "stream",
          "name": "stdout",
          "text": [
            "1/1 [==============================] - 0s 138ms/step\n"
          ]
        },
        {
          "output_type": "execute_result",
          "data": {
            "text/plain": [
              "array([[32.031883]], dtype=float32)"
            ]
          },
          "metadata": {},
          "execution_count": 19
        }
      ]
    },
    {
      "cell_type": "markdown",
      "source": [
        "* 원래 식에서 x=10일때 y=32이므로 정답과 꽤 근사한 값을 예측함"
      ],
      "metadata": {
        "id": "hKqxp8IvfwEp"
      }
    },
    {
      "cell_type": "markdown",
      "source": [
        "## 03. 심층 신경망으로 이미지 분류"
      ],
      "metadata": {
        "id": "P6pivqt5f2Nb"
      }
    },
    {
      "cell_type": "markdown",
      "source": [
        "### 3-1. 케라스 내장 데이터셋 로드"
      ],
      "metadata": {
        "id": "HGcYlEY-f6Tj"
      }
    },
    {
      "cell_type": "code",
      "source": [
        "import tensorflow as tf\n",
        "\n",
        "mnist = tf.keras.datasets.mnist"
      ],
      "metadata": {
        "id": "bnw0DrOaf9KU"
      },
      "execution_count": 20,
      "outputs": []
    },
    {
      "cell_type": "code",
      "source": [
        "#훈련/검증 set을 구분하여 제공하는 load_data()로 데이터셋 로드\n",
        "(x_train, y_train),(x_test, y_test) = mnist.load_data()"
      ],
      "metadata": {
        "colab": {
          "base_uri": "https://localhost:8080/"
        },
        "id": "UztBXw4NgDRC",
        "outputId": "466d8295-8324-4897-95a1-a924e3fcd094"
      },
      "execution_count": 21,
      "outputs": [
        {
          "output_type": "stream",
          "name": "stdout",
          "text": [
            "Downloading data from https://storage.googleapis.com/tensorflow/tf-keras-datasets/mnist.npz\n",
            "11490434/11490434 [==============================] - 0s 0us/step\n"
          ]
        }
      ]
    },
    {
      "cell_type": "code",
      "source": [
        "print('train set:',x_train.shape,y_train.shape)\n",
        "print('test set:',x_test.shape,y_test.shape)"
      ],
      "metadata": {
        "colab": {
          "base_uri": "https://localhost:8080/"
        },
        "id": "mkh3TlpdgYUM",
        "outputId": "4fd12f20-99b9-4e88-ddc7-18bf97e706bc"
      },
      "execution_count": 22,
      "outputs": [
        {
          "output_type": "stream",
          "name": "stdout",
          "text": [
            "train set: (60000, 28, 28) (60000,)\n",
            "test set: (10000, 28, 28) (10000,)\n"
          ]
        }
      ]
    },
    {
      "cell_type": "markdown",
      "source": [
        "* train set 60000개, test set 10000개 데이터\n",
        "\n",
        "* 입력 데이터 x_train, x_test : mnist 손글씨 이미지 데이터, 배열의 shape은 (데이터셋 크기, 28, 28)\n",
        "\n",
        "* 28, 28은 순서대로 이미지의 세로, 가로 픽셀 크기\n",
        "\n",
        "* 각 입력 데이터에 대응되는 출력 데이터(정답) 또한 각각 60000, 10000개가 1차원 벡터 형태로 정리되어 있음"
      ],
      "metadata": {
        "id": "eo5r4bJLgo5k"
      }
    },
    {
      "cell_type": "code",
      "source": [
        "#train set의 처음 15장 이미지 데이터 시각화\n",
        "import matplotlib.pyplot as plt\n",
        "\n",
        "#canvas 생성\n",
        "fig, axes = plt.subplots(3,5)\n",
        "fig.set_size_inches(8,5)\n",
        "\n",
        "for i in range(15):\n",
        "  ax = axes[i//5,i%5]\n",
        "  # imshow로 이미지 시각화\n",
        "  ax.imshow(x_train[i],cmap='gray')\n",
        "  ax.axis('off')\n",
        "  ax.set_title(str(y_train[i])) # 입력 데이터 상단에 출력 데이터(정답) 함꼐 표시\n",
        "  \n",
        "plt.tight_layout()\n",
        "plt.show()"
      ],
      "metadata": {
        "colab": {
          "base_uri": "https://localhost:8080/",
          "height": 371
        },
        "id": "Z_KD9JlEhDMA",
        "outputId": "0aae0e92-a49b-497d-c228-88cda3ea0e48"
      },
      "execution_count": 25,
      "outputs": [
        {
          "output_type": "display_data",
          "data": {
            "text/plain": [
              "<Figure size 576x360 with 15 Axes>"
            ],
            "image/png": "[encoded data removed]"
          },
          "metadata": {
            "needs_background": "light"
          }
        }
      ]
    },
    {
      "cell_type": "markdown",
      "source": [
        "### 3-2. 데이터 전처리"
      ],
      "metadata": {
        "id": "L_R78YV32u4G"
      }
    },
    {
      "cell_type": "code",
      "source": [
        "#x_train 배열의 데이터 확인\n",
        "x_train[0,10:15,10:15]"
      ],
      "metadata": {
        "colab": {
          "base_uri": "https://localhost:8080/"
        },
        "id": "7IXh4UXG2xJh",
        "outputId": "a15c0c55-cbe2-449f-e3c3-ff8b59c003c0"
      },
      "execution_count": 26,
      "outputs": [
        {
          "output_type": "execute_result",
          "data": {
            "text/plain": [
              "array([[  1, 154, 253,  90,   0],\n",
              "       [  0, 139, 253, 190,   2],\n",
              "       [  0,  11, 190, 253,  70],\n",
              "       [  0,   0,  35, 241, 225],\n",
              "       [  0,   0,   0,  81, 240]], dtype=uint8)"
            ]
          },
          "metadata": {},
          "execution_count": 26
        }
      ]
    },
    {
      "cell_type": "markdown",
      "source": [
        "* x_train은 numpy 배열이며, 배열의 각 원소는 이미지를 구성하는 하나의 픽셀 값과 일대일 매칭됨"
      ],
      "metadata": {
        "id": "_QHUnWCB3oAH"
      }
    },
    {
      "cell_type": "code",
      "source": [
        "#픽셀 값의 최소/최댓값 확인\n",
        "print(f'정규화 전] 최솟값:{x_train.min()}, 최댓값:{x_train.max()}')\n",
        "\n",
        "#데이터 정규화 - 0~1 사이 값을 가지도록\n",
        "x_train = x_train/x_train.max() # 최댓값으로 나눔\n",
        "\n",
        "#정규화 후 최소/최댓값 확인\n",
        "print(f'정규화 후] 최솟값:{x_train.min()}, 최댓값:{x_train.max()}')"
      ],
      "metadata": {
        "colab": {
          "base_uri": "https://localhost:8080/"
        },
        "id": "yGfByLD428cy",
        "outputId": "62aa57c8-d3b8-4d39-ba1d-adab822f8614"
      },
      "execution_count": 27,
      "outputs": [
        {
          "output_type": "stream",
          "name": "stdout",
          "text": [
            "정규화 전] 최솟값:0, 최댓값:255\n",
            "정규화 후] 최솟값:0.0, 최댓값:1.0\n"
          ]
        }
      ]
    },
    {
      "cell_type": "markdown",
      "source": [
        "### 3-3. Flatten 레이어"
      ],
      "metadata": {
        "id": "_inEXPuy3w9r"
      }
    },
    {
      "cell_type": "markdown",
      "source": [
        "* 정규화를 하면 개별 데이터 값의 범위는 축소되지만 원본 배열 형태는 그대로이다.\n",
        "\n",
        "* 샘플 이미지는 (28,28) 형태로 2차원 입력이므로, Dense 레이어에 입력값으로 넣으려면 1차원 배여롤 바꿔줘야 한다."
      ],
      "metadata": {
        "id": "0zfTQa9f49sw"
      }
    },
    {
      "cell_type": "code",
      "source": [
        "#이미지 데이터를 1차원으로 전처리하여 Dense 레이어에 입력\n",
        "print(f'변경 전 shape:{x_train.shape}')\n",
        "print(f'1차원으로 shape 변경 후:{x_train.reshape(60000,-1).shape}')"
      ],
      "metadata": {
        "colab": {
          "base_uri": "https://localhost:8080/"
        },
        "id": "296XODKv47P6",
        "outputId": "f0a957b1-9371-4783-d198-471b46645696"
      },
      "execution_count": 28,
      "outputs": [
        {
          "output_type": "stream",
          "name": "stdout",
          "text": [
            "변경 전 shape:(60000, 28, 28)\n",
            "1차원으로 shape 변경 후:(60000, 784)\n"
          ]
        }
      ]
    },
    {
      "cell_type": "code",
      "source": [
        "#Flatten 레이어 사용\n",
        "print(f'변경 전 shape:{x_train.shape}')\n",
        "print(f'Flatten 적용 후:{tf.keras.layers.Flatten()(x_train).shape}')"
      ],
      "metadata": {
        "colab": {
          "base_uri": "https://localhost:8080/"
        },
        "id": "BgX04qVR5c8H",
        "outputId": "2d55a5fa-bd79-4a34-ad4f-34f3777295dc"
      },
      "execution_count": 29,
      "outputs": [
        {
          "output_type": "stream",
          "name": "stdout",
          "text": [
            "변경 전 shape:(60000, 28, 28)\n",
            "Flatten 적용 후:(60000, 784)\n"
          ]
        }
      ]
    },
    {
      "cell_type": "markdown",
      "source": [
        "### 3-4. 활성화 함수"
      ],
      "metadata": {
        "id": "HFBWYHYp5nYQ"
      }
    },
    {
      "cell_type": "markdown",
      "source": [
        "* 입력을 비선형 출력으로 변환하는 함수\n",
        "\n",
        "* 일반적으로 선형관계를 나타내는 함수에 비선형성을 추가하는 방법으로 표현\n",
        "\n",
        "* 참고 : 비선형성을 추가하지 않고 선형 함수로만 층을 구성하면, 모델을 깊게 구성하더라도 결국 선형함수로 표현됨.\n",
        "\n",
        "* 함수 예시\n",
        "\n",
        "  * Sigmoid : $sigmoid(x)=1/(1+e^{-x})$\n",
        "  \n",
        "  * Hyperbolic Tangent : $tanh(x)=(e^{x}-e^{-x})/(e^{x}+e^{-x})$\n",
        "  \n",
        "  * ReLU : $ReLU(x)=max(x,0)$\n",
        "\n",
        "  * Leaky ReLU : $Leaky ReLU(x)=max(x,0.1x)$"
      ],
      "metadata": {
        "id": "TKQrUt-35p4w"
      }
    },
    {
      "cell_type": "code",
      "source": [
        "#Dense 레이어에 relu 활성화 함수를 적용한 경우\n",
        "tf.keras.layers.Dense(128,activation='relu')"
      ],
      "metadata": {
        "colab": {
          "base_uri": "https://localhost:8080/"
        },
        "id": "s3VHtYRA6e6Z",
        "outputId": "9636b884-fdc1-4734-a28f-7989f28b2672"
      },
      "execution_count": 30,
      "outputs": [
        {
          "output_type": "execute_result",
          "data": {
            "text/plain": [
              "<keras.layers.core.dense.Dense at 0x7f08c2b78d50>"
            ]
          },
          "metadata": {},
          "execution_count": 30
        }
      ]
    },
    {
      "cell_type": "code",
      "source": [
        "#별도의 층으로 적용\n",
        "##Dense 레이어 다음에 Batch Normalization을 적용한 후 활성화 함수를 적용할 때 많이 사용\n",
        "model = tf.keras.Sequential([\n",
        "    tf.keras.layers.Dense(128),\n",
        "    tf.keras.layers.Activation('relu')\n",
        "])"
      ],
      "metadata": {
        "id": "UAolX8-36lYF"
      },
      "execution_count": 31,
      "outputs": []
    },
    {
      "cell_type": "markdown",
      "source": [
        "### 3-5. 입력과 출력"
      ],
      "metadata": {
        "id": "jpoboPRW60im"
      }
    },
    {
      "cell_type": "markdown",
      "source": [
        "* 1번째 레이어 : input_shape 지정\n",
        "\n",
        "* 마지막 레이어 : 출력층, 분류해야 할 클래스 개수와 출력층의 노드 개수가 동일해야 함"
      ],
      "metadata": {
        "id": "Orw6z6LS65Iz"
      }
    },
    {
      "cell_type": "code",
      "source": [
        "model = tf.keras.Sequential([\n",
        "    tf.keras.layers.Flatten(input_shape=(28,28)),\n",
        "    tf.keras.layers.Dense(256,activation='relu'),\n",
        "    tf.keras.layers.Dense(64,activation='relu'),\n",
        "    tf.keras.layers.Dense(32,activation='relu'),\n",
        "    # 노드 = 10개(클래스 0~9)\n",
        "    tf.keras.layers.Dense(10,activation='softmax')\n",
        "])"
      ],
      "metadata": {
        "id": "ceaD_DEP638y"
      },
      "execution_count": 32,
      "outputs": []
    },
    {
      "cell_type": "markdown",
      "source": [
        "* Dense 레이어를 구성하는 노드의 개수를 256 - 64 - 32로 조금씩 줄어들게 구성 -> 784개의 변수에 대한 입력값을 노드 개수를 줄여가면서 최종 출력 클래스 개수인 10개까지 정보를 축약하기 위한 설계\n",
        "\n",
        "* 출력층의 노드가 2개 이상인 경우 sortmax 적용\n",
        "\n",
        "* 이진 분류의 경우 sigmoid 적용(출력 레이어의 클래스를 원-핫 인코딩으로 변환하여 노드가 2개인 경우 softmax 적용)"
      ],
      "metadata": {
        "id": "vkM5r9PE7nEz"
      }
    },
    {
      "cell_type": "code",
      "source": [
        "tf.keras.layers.Dense(1,activation='sigmoid')\n",
        "tf.keras.layers.Dense(10,activation='softmax')"
      ],
      "metadata": {
        "colab": {
          "base_uri": "https://localhost:8080/"
        },
        "id": "AgO2L1k87-FR",
        "outputId": "a3e853e8-a758-4e2b-ee0e-918cfce19267"
      },
      "execution_count": 33,
      "outputs": [
        {
          "output_type": "execute_result",
          "data": {
            "text/plain": [
              "<keras.layers.core.dense.Dense at 0x7f08c2b00fd0>"
            ]
          },
          "metadata": {},
          "execution_count": 33
        }
      ]
    },
    {
      "cell_type": "markdown",
      "source": [
        "### 3-6. 손실함수"
      ],
      "metadata": {
        "id": "fuv8Gg3u8Gmr"
      }
    },
    {
      "cell_type": "markdown",
      "source": [
        "* 모델의 출력층에 따라 다르게 설정\n",
        "\n",
        "<img src = \"https://drive.google.com/uc?id=1QZPWJXEvCTQDgub_rSrNRO78A3ud7wq9\" height = 200 width = 700>\n",
        "\n"
      ],
      "metadata": {
        "id": "LCinBLSO8NXt"
      }
    },
    {
      "cell_type": "code",
      "source": [
        "#이진 분류(출력 노드=1개,sigmoid)\n",
        "model.compile(loss='binary_crossentropy')"
      ],
      "metadata": {
        "id": "e82slRyO83Hb"
      },
      "execution_count": 34,
      "outputs": []
    },
    {
      "cell_type": "code",
      "source": [
        "#y가 원핫 벡터 : [0,0,0,0,0,1,0,0,0,0]\n",
        "model.compile(loss='categorical_crossentropy')\n",
        "#y가 원핫 벡터 X : [5]\n",
        "model.compile(loss='sparse_categorical_crossentropy')"
      ],
      "metadata": {
        "id": "VFKRwVuy9AUx"
      },
      "execution_count": 36,
      "outputs": []
    },
    {
      "cell_type": "markdown",
      "source": [
        "* mnist 데이터 : 출력 데이터가 원핫 벡터가 아니고 0~9 레이블 값을 가지므로 loss function은 'sparse_categorical_crossentropy'이다."
      ],
      "metadata": {
        "id": "LxlUGCa99U1c"
      }
    },
    {
      "cell_type": "markdown",
      "source": [
        "### 3-7. 옵티마이저"
      ],
      "metadata": {
        "id": "VZHdCTBu9h0s"
      }
    },
    {
      "cell_type": "markdown",
      "source": [
        "* 손실을 낮추기 위해 가중치, 학습률 등 신경망의 속성을 변경하는 데 사용하는 최적화 방법\n",
        "\n",
        "* ex. SGD, Adam(일반적), Adagrad, Nadam 등"
      ],
      "metadata": {
        "id": "5HpJCCC49kXM"
      }
    },
    {
      "cell_type": "code",
      "source": [
        "#클래스 인스턴스로 지정\n",
        "adam = tf.keras.optimizers.Adam(lr=0.001)\n",
        "model.compile(optimizer=adam)\n",
        "\n",
        "#문자열로 지정\n",
        "model.compile(optimizer='adam')"
      ],
      "metadata": {
        "colab": {
          "base_uri": "https://localhost:8080/"
        },
        "id": "_PT7-3Qu9xbz",
        "outputId": "8e205d2c-75df-49d3-c542-d6d10b364d67"
      },
      "execution_count": 37,
      "outputs": [
        {
          "output_type": "stream",
          "name": "stderr",
          "text": [
            "/usr/local/lib/python3.7/dist-packages/keras/optimizers/optimizer_v2/adam.py:110: UserWarning: The `lr` argument is deprecated, use `learning_rate` instead.\n",
            "  super(Adam, self).__init__(name, **kwargs)\n"
          ]
        }
      ]
    },
    {
      "cell_type": "markdown",
      "source": [
        "### 3-8. 평가지표(metrics)"
      ],
      "metadata": {
        "id": "Aw2njcHT98qA"
      }
    },
    {
      "cell_type": "markdown",
      "source": [
        "* accuracy를 가장 많이 사용\n",
        "\n",
        "* 모델 컴파일 단계에서 하나 이상의 평가지표를 지정"
      ],
      "metadata": {
        "id": "XaD_m_yw-AP4"
      }
    },
    {
      "cell_type": "code",
      "source": [
        "#클래스 인스턴스로 지정\n",
        "acc = tf.keras.metrics.SparseCategoricalAccuracy()\n",
        "model.compile(optimizer='adam',loss='sparse_categorical_crossentropy',metrics=['acc'])"
      ],
      "metadata": {
        "id": "kjCIVW1q-Ek5"
      },
      "execution_count": 38,
      "outputs": []
    },
    {
      "cell_type": "code",
      "source": [
        "#문자열로 지정\n",
        "model.compile(optimizer='adam',loss='sparse_categorical_crossentropy',metrics=['accuracy'])"
      ],
      "metadata": {
        "id": "4Ku8grl7-Mzy"
      },
      "execution_count": 39,
      "outputs": []
    },
    {
      "cell_type": "markdown",
      "source": [
        "### 3-9. 훈련"
      ],
      "metadata": {
        "id": "S5UryUhi-Vjf"
      }
    },
    {
      "cell_type": "code",
      "source": [
        "model.fit(x_train,y_train,\n",
        "          # 검증 셋 지정\n",
        "          validation_data=(x_test,y_test),\n",
        "          epochs=10)"
      ],
      "metadata": {
        "colab": {
          "base_uri": "https://localhost:8080/"
        },
        "id": "vgGpsG-w-YDN",
        "outputId": "912b437a-1426-4a76-da70-fabce2377ee9"
      },
      "execution_count": 40,
      "outputs": [
        {
          "output_type": "stream",
          "name": "stdout",
          "text": [
            "Epoch 1/10\n",
            "1875/1875 [==============================] - 11s 5ms/step - loss: 0.2344 - accuracy: 0.9295 - val_loss: 16.8979 - val_accuracy: 0.9657\n",
            "Epoch 2/10\n",
            "1875/1875 [==============================] - 10s 5ms/step - loss: 0.0943 - accuracy: 0.9711 - val_loss: 15.2275 - val_accuracy: 0.9732\n",
            "Epoch 3/10\n",
            "1875/1875 [==============================] - 11s 6ms/step - loss: 0.0676 - accuracy: 0.9786 - val_loss: 16.1559 - val_accuracy: 0.9729\n",
            "Epoch 4/10\n",
            "1875/1875 [==============================] - 14s 8ms/step - loss: 0.0481 - accuracy: 0.9844 - val_loss: 17.5177 - val_accuracy: 0.9734\n",
            "Epoch 5/10\n",
            "1875/1875 [==============================] - 9s 5ms/step - loss: 0.0400 - accuracy: 0.9867 - val_loss: 17.6495 - val_accuracy: 0.9738\n",
            "Epoch 6/10\n",
            "1875/1875 [==============================] - 11s 6ms/step - loss: 0.0335 - accuracy: 0.9891 - val_loss: 15.7785 - val_accuracy: 0.9782\n",
            "Epoch 7/10\n",
            "1875/1875 [==============================] - 10s 5ms/step - loss: 0.0270 - accuracy: 0.9914 - val_loss: 17.8026 - val_accuracy: 0.9769\n",
            "Epoch 8/10\n",
            "1875/1875 [==============================] - 10s 5ms/step - loss: 0.0252 - accuracy: 0.9917 - val_loss: 21.1751 - val_accuracy: 0.9752\n",
            "Epoch 9/10\n",
            "1875/1875 [==============================] - 8s 4ms/step - loss: 0.0228 - accuracy: 0.9923 - val_loss: 19.5859 - val_accuracy: 0.9778\n",
            "Epoch 10/10\n",
            "1875/1875 [==============================] - 8s 4ms/step - loss: 0.0176 - accuracy: 0.9945 - val_loss: 24.9523 - val_accuracy: 0.9753\n"
          ]
        },
        {
          "output_type": "execute_result",
          "data": {
            "text/plain": [
              "<keras.callbacks.History at 0x7f08c2ab2c90>"
            ]
          },
          "metadata": {},
          "execution_count": 40
        }
      ]
    },
    {
      "cell_type": "markdown",
      "source": [
        "### 3-10. 평가"
      ],
      "metadata": {
        "id": "y9caxIJp-l4Y"
      }
    },
    {
      "cell_type": "code",
      "source": [
        "test_loss, test_acc = model.evaluate(x_test,y_test) # evaluate() : 컴파일 단계에서 지정한 손실, 정확도 반환\n",
        "print('검증 셋 정확도:',test_acc)"
      ],
      "metadata": {
        "colab": {
          "base_uri": "https://localhost:8080/"
        },
        "id": "pLjKlhFf-oAp",
        "outputId": "5f73f57d-fc36-4fa3-f30b-810cc9050faf"
      },
      "execution_count": 41,
      "outputs": [
        {
          "output_type": "stream",
          "name": "stdout",
          "text": [
            "313/313 [==============================] - 2s 5ms/step - loss: 24.9523 - accuracy: 0.9753\n",
            "검증 셋 정확도: 0.9753000140190125\n"
          ]
        }
      ]
    },
    {
      "cell_type": "markdown",
      "source": [
        "### 3-11. 예측"
      ],
      "metadata": {
        "id": "X19JC_6K-2EG"
      }
    },
    {
      "cell_type": "code",
      "source": [
        "predictions = model.predict(x_test) # predict 변수에 예측 분류 결과를 배열 형태로 저장"
      ],
      "metadata": {
        "colab": {
          "base_uri": "https://localhost:8080/"
        },
        "id": "DIrgbbZB-3gr",
        "outputId": "9535b583-e55f-46dc-ed30-f602654067f1"
      },
      "execution_count": 44,
      "outputs": [
        {
          "output_type": "stream",
          "name": "stdout",
          "text": [
            "313/313 [==============================] - 1s 2ms/step\n"
          ]
        }
      ]
    },
    {
      "cell_type": "code",
      "source": [
        "#첫번째 이미지에 대한 분류 예측 결과 출력 - 10개의 확률값\n",
        "predictions[0]"
      ],
      "metadata": {
        "colab": {
          "base_uri": "https://localhost:8080/"
        },
        "id": "uo4W4wsgAqUV",
        "outputId": "203304d3-e390-434b-aef1-966a3753b2cf"
      },
      "execution_count": 45,
      "outputs": [
        {
          "output_type": "execute_result",
          "data": {
            "text/plain": [
              "array([0.        , 0.        , 0.        , 0.        , 0.        ,\n",
              "       0.        , 0.        , 0.99999994, 0.        , 0.        ],\n",
              "      dtype=float32)"
            ]
          },
          "metadata": {},
          "execution_count": 45
        }
      ]
    },
    {
      "cell_type": "markdown",
      "source": [
        "* 가장 높은 확률값을 가진 클래스가 최종 예측된 클래스"
      ],
      "metadata": {
        "id": "_5DYu_7ZA7-b"
      }
    },
    {
      "cell_type": "code",
      "source": [
        "import numpy as np\n",
        "\n",
        "#0번 index에 대한 예측 클래스 출력\n",
        "print(np.argmax(predictions[0]))\n",
        "\n",
        "#첫 10개 index에 대한 예측 클래스 출력\n",
        "print(np.argmax(predictions[:10],axis=1))"
      ],
      "metadata": {
        "colab": {
          "base_uri": "https://localhost:8080/"
        },
        "id": "_GKNXvncA6gI",
        "outputId": "04089457-218e-40db-96e2-06abe46ac334"
      },
      "execution_count": 46,
      "outputs": [
        {
          "output_type": "stream",
          "name": "stdout",
          "text": [
            "7\n",
            "[7 2 1 0 4 1 4 9 5 9]\n"
          ]
        }
      ]
    },
    {
      "cell_type": "code",
      "source": [
        "#15개 예측 결과 시각화\n",
        "\n",
        "import matplotlib.pyplot as plt\n",
        "def get_one_result(idx):\n",
        "  img, y_true, y_pred, confidence = x_test[idx], y_test[idx], np.argmax(predictions[idx]), 100*np.max(predictions[idx])\n",
        "  return img, y_true, y_pred, confidence\n",
        "\n",
        "fig, axes = plt.subplots(3,5)\n",
        "fig.set_size_inches(12,10)\n",
        "for i in range(15):\n",
        "  ax = axes[i//5,i%5]\n",
        "  img, y_true, y_pred, confidence = get_one_result(i)\n",
        "  ax.imshow(img,cmap='gray')\n",
        "  ax.set_xticks([])\n",
        "  ax.set_yticks([])\n",
        "  ax.set_title(f'True:{y_true}')\n",
        "  ax.set_xlabel(f'Prediction:{y_pred}\\nConfidence:({confidence:.2f}%)')\n",
        "plt.tight_layout()\n",
        "plt.show()"
      ],
      "metadata": {
        "colab": {
          "base_uri": "https://localhost:8080/",
          "height": 598
        },
        "id": "-fozc0SOBN42",
        "outputId": "63909187-a82f-4efb-ee20-96cc41a1089a"
      },
      "execution_count": 47,
      "outputs": [
        {
          "output_type": "display_data",
          "data": {
            "text/plain": [
              "<Figure size 864x720 with 15 Axes>"
            ],
            "image/png": "[encoded data removed]"
          },
          "metadata": {}
        }
      ]
    },
    {
      "cell_type": "markdown",
      "source": [
        "## 04. 모델 세부 설정"
      ],
      "metadata": {
        "id": "6Rd0piwoCONk"
      }
    },
    {
      "cell_type": "code",
      "source": [
        "import tensorflow as tf\n",
        "\n",
        "mnist = tf.keras.datasets.mnist\n",
        "\n",
        "(x_train,y_train),(x_test,y_test) = mnist.load_data()\n",
        "\n",
        "print('train set:',x_train.shape,y_train.shape)\n",
        "print('test set:',x_test.shape,y_test.shape)\n",
        "\n",
        "x_train = x_train/x_train.max()\n",
        "x_test = x_test/x_test.max()"
      ],
      "metadata": {
        "colab": {
          "base_uri": "https://localhost:8080/"
        },
        "id": "TdQE_1I4CQKB",
        "outputId": "1b0d0f13-7d3a-49e1-acc7-e8855bf83904"
      },
      "execution_count": 50,
      "outputs": [
        {
          "output_type": "stream",
          "name": "stdout",
          "text": [
            "train set: (60000, 28, 28) (60000,)\n",
            "test set: (10000, 28, 28) (10000,)\n"
          ]
        }
      ]
    },
    {
      "cell_type": "markdown",
      "source": [
        "### 4-1. 초기값 설정"
      ],
      "metadata": {
        "id": "EAITqeTQCpoG"
      }
    },
    {
      "cell_type": "markdown",
      "source": [
        "* Dense 레이어의 기본 초기화 방법 : Glorot Uniform"
      ],
      "metadata": {
        "id": "uL8p_VhHC5SF"
      }
    },
    {
      "cell_type": "code",
      "source": [
        "dense = tf.keras.layers.Dense(256,activation='relu')\n",
        "dense.get_config()['kernel_initializer']"
      ],
      "metadata": {
        "colab": {
          "base_uri": "https://localhost:8080/"
        },
        "id": "QAskEyzJCsZz",
        "outputId": "8c25afc6-9a54-4aff-a763-c66f6df32d18"
      },
      "execution_count": 51,
      "outputs": [
        {
          "output_type": "execute_result",
          "data": {
            "text/plain": [
              "{'class_name': 'GlorotUniform', 'config': {'seed': None}}"
            ]
          },
          "metadata": {},
          "execution_count": 51
        }
      ]
    },
    {
      "cell_type": "code",
      "source": [
        "#문자열 초기화\n",
        "dense = tf.keras.layers.Dense(256,kernel_initializer='he_normal',activation='relu')\n",
        "print(dense.get_config()['kernel_initializer'])\n",
        "\n",
        "#클래스 인스턴스 초기화\n",
        "he_normal = tf.keras.initializers.HeNormal()\n",
        "dense = tf.keras.layers.Dense(256,kernel_initializer=he_normal,activation='relu')\n",
        "print(dense.get_config()['kernel_initializer'])"
      ],
      "metadata": {
        "colab": {
          "base_uri": "https://localhost:8080/"
        },
        "id": "sxo-9WQeC86p",
        "outputId": "c81b3334-f04a-4369-eab1-c8f641a671eb"
      },
      "execution_count": 52,
      "outputs": [
        {
          "output_type": "stream",
          "name": "stdout",
          "text": [
            "{'class_name': 'HeNormal', 'config': {'seed': None}}\n",
            "{'class_name': 'HeNormal', 'config': {'seed': None}}\n"
          ]
        }
      ]
    },
    {
      "cell_type": "markdown",
      "source": [
        "* 자주 사용되는 초기화 목록\n",
        "\n",
        "  * 'glorot_normal', 'glorot_uniform' : 글로럿 초기화(Xavier 초기화)\n",
        "\n",
        "  * 'lecun_normal', 'lecun_uniform' : Yann Lecun 초기화\n",
        "\n",
        "  * 'he_normal', 'he_uniform' : He 초기화\n",
        "\n",
        "  * 'random_normal', 'random_uniform' : 정규분포, 연속균등분포 초기화"
      ],
      "metadata": {
        "id": "fMZOKC7rDbpe"
      }
    },
    {
      "cell_type": "markdown",
      "source": [
        "### 4-2. 규제(Regularization)"
      ],
      "metadata": {
        "id": "WBjK3JxwDtln"
      }
    },
    {
      "cell_type": "markdown",
      "source": [
        "* 규제를 적용하지 않는 것이 default이므로 별도로 설정해줘야 함"
      ],
      "metadata": {
        "id": "rE-R66WWDxA2"
      }
    },
    {
      "cell_type": "code",
      "source": [
        "#기본값\n",
        "dense = tf.keras.layers.Dense(256,activation='relu')\n",
        "dense.get_config()"
      ],
      "metadata": {
        "colab": {
          "base_uri": "https://localhost:8080/"
        },
        "id": "yKcDxye7D2Dr",
        "outputId": "2a15e8d9-be57-49e0-d234-45c77bbb346f"
      },
      "execution_count": 53,
      "outputs": [
        {
          "output_type": "execute_result",
          "data": {
            "text/plain": [
              "{'name': 'dense_22',\n",
              " 'trainable': True,\n",
              " 'dtype': 'float32',\n",
              " 'units': 256,\n",
              " 'activation': 'relu',\n",
              " 'use_bias': True,\n",
              " 'kernel_initializer': {'class_name': 'GlorotUniform',\n",
              "  'config': {'seed': None}},\n",
              " 'bias_initializer': {'class_name': 'Zeros', 'config': {}},\n",
              " 'kernel_regularizer': None,\n",
              " 'bias_regularizer': None,\n",
              " 'activity_regularizer': None,\n",
              " 'kernel_constraint': None,\n",
              " 'bias_constraint': None}"
            ]
          },
          "metadata": {},
          "execution_count": 53
        }
      ]
    },
    {
      "cell_type": "markdown",
      "source": [
        "* 과대적합 방지를 위해 모델을 구성하는 레이어마다 규제 적용 가능\n",
        "\n",
        "* l1, l2 규제 지원"
      ],
      "metadata": {
        "id": "3Ad91AL-D-Hm"
      }
    },
    {
      "cell_type": "code",
      "source": [
        "#l1 규제 적용\n",
        "dense = tf.keras.layers.Dense(256,kernel_regularizer='l1',activation='relu')\n",
        "print(dense.get_config()['kernel_regularizer'])\n",
        "\n",
        "#클래스 인스턴스 적용, alpha=0.1 변경\n",
        "regularizer = tf.keras.regularizers.l1(l1=0.1)\n",
        "dense = tf.keras.layers.Dense(256,kernel_regularizer=regularizer,activation='relu')\n",
        "print(dense.get_config()['kernel_regularizer'])"
      ],
      "metadata": {
        "colab": {
          "base_uri": "https://localhost:8080/"
        },
        "id": "67KsON9PD9XM",
        "outputId": "c1db669b-f429-472a-e0a3-8a9d1932d0b8"
      },
      "execution_count": 55,
      "outputs": [
        {
          "output_type": "stream",
          "name": "stdout",
          "text": [
            "{'class_name': 'L1', 'config': {'l1': 0.009999999776482582}}\n",
            "{'class_name': 'L1', 'config': {'l1': 0.10000000149011612}}\n"
          ]
        }
      ]
    },
    {
      "cell_type": "markdown",
      "source": [
        "### 4-3. Dropout"
      ],
      "metadata": {
        "id": "PMiBmgo5Ehnv"
      }
    },
    {
      "cell_type": "markdown",
      "source": [
        "* 과대적합 해결에 매우 효과적\n",
        "\n",
        "* 훈련 시 노드 중 일부만 훈련, 예측 시점에서는 모든 노드 활용"
      ],
      "metadata": {
        "id": "fsNSzSQ6EnAg"
      }
    },
    {
      "cell_type": "code",
      "source": [
        "#25%의 node를 dropout\n",
        "tf.keras.layers.Dropout(0.25)"
      ],
      "metadata": {
        "colab": {
          "base_uri": "https://localhost:8080/"
        },
        "id": "D4SU4632Eu4I",
        "outputId": "eb76f4f4-ba86-406c-e72c-dd28d8d1d091"
      },
      "execution_count": 56,
      "outputs": [
        {
          "output_type": "execute_result",
          "data": {
            "text/plain": [
              "<keras.layers.regularization.dropout.Dropout at 0x7f08ca612150>"
            ]
          },
          "metadata": {},
          "execution_count": 56
        }
      ]
    },
    {
      "cell_type": "markdown",
      "source": [
        "### 4-4. 배치 정규화(Batch Normalization)"
      ],
      "metadata": {
        "id": "wk6FxYVFE1sc"
      }
    },
    {
      "cell_type": "markdown",
      "source": [
        "* 각 층에서 활성화 함수를 통과하기 전, 미니 배치의 스케일을 정규화\n",
        "\n",
        "* 보다 안정적인 훈련, 성능 향상\n",
        "\n",
        "* 클래스 인스턴스를 생성하여 추가\n",
        "\n",
        "model_a : Dense 레이어 + ReLU 활성화함수\n",
        "\n",
        "model_b : 배치 정규화 + ReLU 활성화함수\n",
        "\n",
        "둘의 성능을 비교해보자."
      ],
      "metadata": {
        "id": "vW0A8FdtE6zt"
      }
    },
    {
      "cell_type": "code",
      "source": [
        "#Model A : Dense + ReLU\n",
        "model_a = tf.keras.Sequential([\n",
        "    tf.keras.layers.Flatten(input_shape=(28,28)),\n",
        "    tf.keras.layers.Dense(64,activation='relu'),\n",
        "    tf.keras.layers.Dense(32,activation='relu'),\n",
        "    tf.keras.layers.Dense(10,activation='softmax')\n",
        "    ])\n",
        "\n",
        "model_a.summary()"
      ],
      "metadata": {
        "colab": {
          "base_uri": "https://localhost:8080/"
        },
        "id": "-PXB5ygVFDmO",
        "outputId": "9dcc0c59-db29-4a67-8fdb-55b24c681b04"
      },
      "execution_count": 57,
      "outputs": [
        {
          "output_type": "stream",
          "name": "stdout",
          "text": [
            "Model: \"sequential_7\"\n",
            "_________________________________________________________________\n",
            " Layer (type)                Output Shape              Param #   \n",
            "=================================================================\n",
            " flatten_2 (Flatten)         (None, 784)               0         \n",
            "                                                                 \n",
            " dense_27 (Dense)            (None, 64)                50240     \n",
            "                                                                 \n",
            " dense_28 (Dense)            (None, 32)                2080      \n",
            "                                                                 \n",
            " dense_29 (Dense)            (None, 10)                330       \n",
            "                                                                 \n",
            "=================================================================\n",
            "Total params: 52,650\n",
            "Trainable params: 52,650\n",
            "Non-trainable params: 0\n",
            "_________________________________________________________________\n"
          ]
        }
      ]
    },
    {
      "cell_type": "code",
      "source": [
        "#Model B : Dense + BatchNorm + ReLU\n",
        "model_b = tf.keras.Sequential([\n",
        "    tf.keras.layers.Flatten(input_shape=(28,28)),\n",
        "    tf.keras.layers.Dense(64),\n",
        "\n",
        "    # 배치 정규화\n",
        "    tf.keras.layers.BatchNormalization(),\n",
        "    # 배치 정규화 후 활성화 함수 적용\n",
        "    tf.keras.layers.Activation('relu'),\n",
        "\n",
        "    tf.keras.layers.Dense(32),\n",
        "    # 배치 정규화\n",
        "    tf.keras.layers.BatchNormalization(),\n",
        "    # 이후 활성화 함수 적용\n",
        "    tf.keras.layers.Activation('relu'),\n",
        "    \n",
        "    tf.keras.layers.Dense(10,activation='softmax')\n",
        "])\n",
        "\n",
        "model_b.summary()"
      ],
      "metadata": {
        "colab": {
          "base_uri": "https://localhost:8080/"
        },
        "id": "auwCSx-cFs3M",
        "outputId": "3e72690e-389e-4aa1-bfe8-b2140f5855a3"
      },
      "execution_count": 59,
      "outputs": [
        {
          "output_type": "stream",
          "name": "stdout",
          "text": [
            "Model: \"sequential_9\"\n",
            "_________________________________________________________________\n",
            " Layer (type)                Output Shape              Param #   \n",
            "=================================================================\n",
            " flatten_4 (Flatten)         (None, 784)               0         \n",
            "                                                                 \n",
            " dense_33 (Dense)            (None, 64)                50240     \n",
            "                                                                 \n",
            " batch_normalization_2 (Batc  (None, 64)               256       \n",
            " hNormalization)                                                 \n",
            "                                                                 \n",
            " activation_3 (Activation)   (None, 64)                0         \n",
            "                                                                 \n",
            " dense_34 (Dense)            (None, 32)                2080      \n",
            "                                                                 \n",
            " batch_normalization_3 (Batc  (None, 32)               128       \n",
            " hNormalization)                                                 \n",
            "                                                                 \n",
            " activation_4 (Activation)   (None, 32)                0         \n",
            "                                                                 \n",
            " dense_35 (Dense)            (None, 10)                330       \n",
            "                                                                 \n",
            "=================================================================\n",
            "Total params: 53,034\n",
            "Trainable params: 52,842\n",
            "Non-trainable params: 192\n",
            "_________________________________________________________________\n"
          ]
        }
      ]
    },
    {
      "cell_type": "markdown",
      "source": [
        "<img src = \"https://drive.google.com/uc?id=1Qf7pBy4nVcDXCrhcpL2ScG6Qjytqfbqd\" height = 300 width = 400>\n",
        "\n",
        "* 배치 정규화를 했을 때 손실이 이전 대비 안정적이고 빠르게 수렴한다.\n"
      ],
      "metadata": {
        "id": "Q_jBIWDuGvAd"
      }
    },
    {
      "cell_type": "markdown",
      "source": [
        "### 4-5. 활성화 함수"
      ],
      "metadata": {
        "id": "hsK0-XREHFi8"
      }
    },
    {
      "cell_type": "code",
      "source": [
        "#LeakyReLU 기본 설정\n",
        "tf.keras.layers.LeakyReLU()\n",
        "\n",
        "#LeakyReLU alpha = 0.2로 변경\n",
        "tf.keras.layers.LeakyReLU(alpha = 0.2)"
      ],
      "metadata": {
        "colab": {
          "base_uri": "https://localhost:8080/"
        },
        "id": "ntWIQBI_HIWO",
        "outputId": "4797a5cc-7022-4d85-a591-a7adb31ad7c5"
      },
      "execution_count": 60,
      "outputs": [
        {
          "output_type": "execute_result",
          "data": {
            "text/plain": [
              "<keras.layers.activation.leaky_relu.LeakyReLU at 0x7f08c0130c90>"
            ]
          },
          "metadata": {},
          "execution_count": 60
        }
      ]
    },
    {
      "cell_type": "code",
      "source": [
        "#Model C : Dense + BatchNorm + LeakyReLU(0.2)\n",
        "model_c = tf.keras.Sequential([\n",
        "    tf.keras.layers.Flatten(input_shape=(28,28)),\n",
        "    tf.keras.layers.Dense(64),\n",
        "    # 배치 정규화\n",
        "    tf.keras.layers.BatchNormalization(),\n",
        "    # LeakyReLU alpha = 0.2\n",
        "    tf.keras.layers.LeakyReLU(alpha = 0.2),\n",
        "\n",
        "    tf.keras.layers.Dense(32),\n",
        "    # 배치 정규화\n",
        "    tf.keras.layers.LeakyReLU(alpha=0.2),\n",
        "    # LeakyReLU alpha = 0.2\n",
        "    tf.keras.layers.LeakyReLU(alpha=0.2),\n",
        "    tf.keras.layers.Dense(10,activation='softmax')\n",
        "])\n",
        "\n",
        "model_c.summary()"
      ],
      "metadata": {
        "colab": {
          "base_uri": "https://localhost:8080/"
        },
        "id": "i73lGTIrHR2I",
        "outputId": "17c3945b-a4de-488a-eded-2fdef21276a9"
      },
      "execution_count": 61,
      "outputs": [
        {
          "output_type": "stream",
          "name": "stdout",
          "text": [
            "Model: \"sequential_10\"\n",
            "_________________________________________________________________\n",
            " Layer (type)                Output Shape              Param #   \n",
            "=================================================================\n",
            " flatten_5 (Flatten)         (None, 784)               0         \n",
            "                                                                 \n",
            " dense_36 (Dense)            (None, 64)                50240     \n",
            "                                                                 \n",
            " batch_normalization_4 (Batc  (None, 64)               256       \n",
            " hNormalization)                                                 \n",
            "                                                                 \n",
            " leaky_re_lu_2 (LeakyReLU)   (None, 64)                0         \n",
            "                                                                 \n",
            " dense_37 (Dense)            (None, 32)                2080      \n",
            "                                                                 \n",
            " leaky_re_lu_3 (LeakyReLU)   (None, 32)                0         \n",
            "                                                                 \n",
            " leaky_re_lu_4 (LeakyReLU)   (None, 32)                0         \n",
            "                                                                 \n",
            " dense_38 (Dense)            (None, 10)                330       \n",
            "                                                                 \n",
            "=================================================================\n",
            "Total params: 52,906\n",
            "Trainable params: 52,778\n",
            "Non-trainable params: 128\n",
            "_________________________________________________________________\n"
          ]
        }
      ]
    },
    {
      "cell_type": "markdown",
      "source": [
        "model a, b, c를 더해서 동일한 조건으로 10번의 epoch 동안 훈련한 후 수렴 속도를 확인해보자."
      ],
      "metadata": {
        "id": "PN6Xnnu9H-qh"
      }
    },
    {
      "cell_type": "code",
      "source": [
        "model_a.compile(optimizer='adam',loss='sparse_categorical_crossentropy',metrics=['accuracy'])\n",
        "model_b.compile(optimizer='adam',loss='sparse_categorical_crossentropy',metrics=['accuracy'])\n",
        "model_c.compile(optimizer='adam',loss='sparse_categorical_crossentropy',metrics=['accuracy'])\n",
        "\n",
        "#A : Dense+ReLU\n",
        "history_a = model_a.fit(x_train,y_train,validation_data=(x_test,y_test),epochs=10)\n",
        "\n",
        "#B : Dense+BatchNorm+ReLU\n",
        "history_b = model_b.fit(x_train,y_train,validation_data=(x_test,y_test),epochs=10)\n",
        "\n",
        "#C : Dense+BatchNorm+LeakyReLU(0.2)\n",
        "history_c = model_c.fit(x_train,y_train,validation_data=(x_test,y_test),epochs=10)"
      ],
      "metadata": {
        "colab": {
          "base_uri": "https://localhost:8080/"
        },
        "id": "nHAqqdJ7IE-c",
        "outputId": "8815112e-4850-49cb-d78b-5ccc080ec50a"
      },
      "execution_count": 63,
      "outputs": [
        {
          "output_type": "stream",
          "name": "stdout",
          "text": [
            "Epoch 1/10\n",
            "1875/1875 [==============================] - 8s 4ms/step - loss: 0.3028 - accuracy: 0.9108 - val_loss: 0.1808 - val_accuracy: 0.9451\n",
            "Epoch 2/10\n",
            "1875/1875 [==============================] - 8s 4ms/step - loss: 0.1390 - accuracy: 0.9577 - val_loss: 0.1226 - val_accuracy: 0.9630\n",
            "Epoch 3/10\n",
            "1875/1875 [==============================] - 10s 5ms/step - loss: 0.1032 - accuracy: 0.9686 - val_loss: 0.1082 - val_accuracy: 0.9673\n",
            "Epoch 4/10\n",
            "1875/1875 [==============================] - 11s 6ms/step - loss: 0.0841 - accuracy: 0.9735 - val_loss: 0.0999 - val_accuracy: 0.9693\n",
            "Epoch 5/10\n",
            "1875/1875 [==============================] - 11s 6ms/step - loss: 0.0680 - accuracy: 0.9788 - val_loss: 0.1058 - val_accuracy: 0.9677\n",
            "Epoch 6/10\n",
            "1875/1875 [==============================] - 9s 5ms/step - loss: 0.0601 - accuracy: 0.9809 - val_loss: 0.0855 - val_accuracy: 0.9725\n",
            "Epoch 7/10\n",
            "1875/1875 [==============================] - 9s 5ms/step - loss: 0.0502 - accuracy: 0.9842 - val_loss: 0.0964 - val_accuracy: 0.9724\n",
            "Epoch 8/10\n",
            "1875/1875 [==============================] - 8s 4ms/step - loss: 0.0428 - accuracy: 0.9866 - val_loss: 0.0983 - val_accuracy: 0.9702\n",
            "Epoch 9/10\n",
            "1875/1875 [==============================] - 8s 4ms/step - loss: 0.0378 - accuracy: 0.9883 - val_loss: 0.1079 - val_accuracy: 0.9712\n",
            "Epoch 10/10\n",
            "1875/1875 [==============================] - 11s 6ms/step - loss: 0.0347 - accuracy: 0.9888 - val_loss: 0.0989 - val_accuracy: 0.9717\n",
            "Epoch 1/10\n",
            "1875/1875 [==============================] - 13s 6ms/step - loss: 0.3091 - accuracy: 0.9137 - val_loss: 0.1329 - val_accuracy: 0.9593\n",
            "Epoch 2/10\n",
            "1875/1875 [==============================] - 10s 5ms/step - loss: 0.1423 - accuracy: 0.9566 - val_loss: 0.1008 - val_accuracy: 0.9665\n",
            "Epoch 3/10\n",
            "1875/1875 [==============================] - 9s 5ms/step - loss: 0.1117 - accuracy: 0.9658 - val_loss: 0.0945 - val_accuracy: 0.9701\n",
            "Epoch 4/10\n",
            "1875/1875 [==============================] - 11s 6ms/step - loss: 0.0920 - accuracy: 0.9713 - val_loss: 0.0855 - val_accuracy: 0.9723\n",
            "Epoch 5/10\n",
            "1875/1875 [==============================] - 8s 4ms/step - loss: 0.0814 - accuracy: 0.9737 - val_loss: 0.0858 - val_accuracy: 0.9731\n",
            "Epoch 6/10\n",
            "1875/1875 [==============================] - 7s 3ms/step - loss: 0.0723 - accuracy: 0.9768 - val_loss: 0.0792 - val_accuracy: 0.9757\n",
            "Epoch 7/10\n",
            "1875/1875 [==============================] - 9s 5ms/step - loss: 0.0671 - accuracy: 0.9789 - val_loss: 0.0808 - val_accuracy: 0.9756\n",
            "Epoch 8/10\n",
            "1875/1875 [==============================] - 10s 5ms/step - loss: 0.0605 - accuracy: 0.9799 - val_loss: 0.0727 - val_accuracy: 0.9779\n",
            "Epoch 9/10\n",
            "1875/1875 [==============================] - 9s 5ms/step - loss: 0.0564 - accuracy: 0.9820 - val_loss: 0.0778 - val_accuracy: 0.9757\n",
            "Epoch 10/10\n",
            "1875/1875 [==============================] - 8s 4ms/step - loss: 0.0505 - accuracy: 0.9835 - val_loss: 0.0775 - val_accuracy: 0.9771\n",
            "Epoch 1/10\n",
            "1875/1875 [==============================] - 9s 4ms/step - loss: 0.3018 - accuracy: 0.9104 - val_loss: 0.1520 - val_accuracy: 0.9560\n",
            "Epoch 2/10\n",
            "1875/1875 [==============================] - 7s 4ms/step - loss: 0.1634 - accuracy: 0.9503 - val_loss: 0.1180 - val_accuracy: 0.9628\n",
            "Epoch 3/10\n",
            "1875/1875 [==============================] - 7s 4ms/step - loss: 0.1284 - accuracy: 0.9602 - val_loss: 0.1051 - val_accuracy: 0.9669\n",
            "Epoch 4/10\n",
            "1875/1875 [==============================] - 7s 4ms/step - loss: 0.1069 - accuracy: 0.9672 - val_loss: 0.0927 - val_accuracy: 0.9717\n",
            "Epoch 5/10\n",
            "1875/1875 [==============================] - 6s 3ms/step - loss: 0.0937 - accuracy: 0.9703 - val_loss: 0.0860 - val_accuracy: 0.9712\n",
            "Epoch 6/10\n",
            "1875/1875 [==============================] - 7s 4ms/step - loss: 0.0831 - accuracy: 0.9730 - val_loss: 0.0843 - val_accuracy: 0.9737\n",
            "Epoch 7/10\n",
            "1875/1875 [==============================] - 7s 4ms/step - loss: 0.0773 - accuracy: 0.9751 - val_loss: 0.0858 - val_accuracy: 0.9737\n",
            "Epoch 8/10\n",
            "1875/1875 [==============================] - 7s 4ms/step - loss: 0.0710 - accuracy: 0.9775 - val_loss: 0.0839 - val_accuracy: 0.9740\n",
            "Epoch 9/10\n",
            "1875/1875 [==============================] - 7s 4ms/step - loss: 0.0672 - accuracy: 0.9778 - val_loss: 0.0895 - val_accuracy: 0.9727\n",
            "Epoch 10/10\n",
            "1875/1875 [==============================] - 7s 3ms/step - loss: 0.0616 - accuracy: 0.9799 - val_loss: 0.0810 - val_accuracy: 0.9756\n"
          ]
        }
      ]
    },
    {
      "cell_type": "code",
      "source": [
        "import matplotlib.pyplot as plt\n",
        "import numpy as np\n",
        "\n",
        "plt.figure(figsize=(12,9))\n",
        "plt.plot(np.arange(1,11),history_a.history['val_loss'],color='navy',linestyle=':')\n",
        "plt.plot(np.arange(1,11),history_b.history['val_loss'],color='tomato',linestyle='-.')\n",
        "plt.plot(np.arange(1,11),history_c.history['val_loss'],color='green',linestyle='-')\n",
        "\n",
        "plt.title('Losses',fontsize=20)\n",
        "plt.xlabel('epochs')\n",
        "plt.ylabel('Losses')\n",
        "plt.legend(['ReLU','BatchNorm+ReLU','BatchNorm+LeakyReLU'],fontsize=12)\n",
        "plt.show()"
      ],
      "metadata": {
        "colab": {
          "base_uri": "https://localhost:8080/",
          "height": 572
        },
        "id": "UXp90ytLIvy9",
        "outputId": "fa26d3fa-c359-46a7-d266-0d7852d7a8d5"
      },
      "execution_count": 64,
      "outputs": [
        {
          "output_type": "display_data",
          "data": {
            "text/plain": [
              "<Figure size 864x648 with 1 Axes>"
            ],
            "image/png": "[encoded data removed]"
          },
          "metadata": {
            "needs_background": "light"
          }
        }
      ]
    },
    {
      "cell_type": "markdown",
      "source": [
        "mnist 데이터셋에서는 모델별로 차이가 크지는 않다. 하지만 좀 더 복잡한 데이터셋에서는 차이가 날 수 있다."
      ],
      "metadata": {
        "id": "98q6beGpJTxb"
      }
    }
  ]
}